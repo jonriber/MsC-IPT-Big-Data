{
 "cells": [
  {
   "cell_type": "markdown",
   "metadata": {},
   "source": [
    "<div style=\"border: 1px solid black\">\n",
    "<b><center><font size=\"4\">Data Science Toolkit</font></center></b>\n",
    "\n",
    "<b><center><font size=\"2\">Docker</font></center></b>\n",
    "\n",
    "<b><center><font size=\"1\">3 - Create your own Docker Images</font></center></b>\n",
    "</div>"
   ]
  },
  {
   "cell_type": "markdown",
   "metadata": {},
   "source": [
    "**Developed by**: [Ricardo Campos](https://www.di.ubi.pt/~rcampos)<br>\n",
    "**email:**  ricardo.campos@ubi.pt<br>\n",
    "**Affiliation:** *Assistant Professor* @ [University of Beira Interior](http://www.ubi.pt);\n",
    "*Researcher* @ [LIAAD](https://www.inesctec.pt/en/centres/liaad)-[INESC TEC](https://www.inesctec.pt/en)\n",
    "\n",
    "<hr>\n",
    "\n",
    "<p><a href=\"3-CreateYourImage.ipynb\" title=\"Download Notebook\" download><img src=\"https://www.di.ubi.pt/~rcampos/assets/img_tutorials/download.jpg\" align = \"left\" width=\"50\" height=\"50\" alt=\"Download Notebook\"></a></p>\n",
    "<p>&nbsp;</p>\n",
    "<p>&nbsp;</p>\n",
    "\n",
    "<hr>"
   ]
  },
  {
   "cell_type": "markdown",
   "metadata": {
    "toc": true
   },
   "source": [
    "<h1>Table of Contents<span class=\"tocSkip\"></span></h1>\n",
    "<div class=\"toc\"><ul class=\"toc-item\"><li><span><a href=\"#A-Quick-Overview\" data-toc-modified-id=\"A-Quick-Overview-1\"><span class=\"toc-item-num\">1&nbsp;&nbsp;</span>A Quick Overview</a></span></li><li><span><a href=\"#Step-1:-Create-a-Docker-File\" data-toc-modified-id=\"Step-1:-Create-a-Docker-File-2\"><span class=\"toc-item-num\">2&nbsp;&nbsp;</span>Step 1: Create a Docker File</a></span><ul class=\"toc-item\"><li><span><a href=\"#.dockerignore\" data-toc-modified-id=\".dockerignore-2.1\"><span class=\"toc-item-num\">2.1&nbsp;&nbsp;</span>.dockerignore</a></span></li><li><span><a href=\"#dockerfile\" data-toc-modified-id=\"dockerfile-2.2\"><span class=\"toc-item-num\">2.2&nbsp;&nbsp;</span>dockerfile</a></span></li></ul></li><li><span><a href=\"#Step-2:-Build-Image\" data-toc-modified-id=\"Step-2:-Build-Image-3\"><span class=\"toc-item-num\">3&nbsp;&nbsp;</span>Step 2: Build Image</a></span></li><li><span><a href=\"#Step-3:-Run-a-Docker-Image\" data-toc-modified-id=\"Step-3:-Run-a-Docker-Image-4\"><span class=\"toc-item-num\">4&nbsp;&nbsp;</span>Step 3: Run a Docker Image</a></span></li><li><span><a href=\"#Step-4:-Pushing-a-Docker-image-to-Docker-repository\" data-toc-modified-id=\"Step-4:-Pushing-a-Docker-image-to-Docker-repository-5\"><span class=\"toc-item-num\">5&nbsp;&nbsp;</span>Step 4: Pushing a Docker image to Docker repository</a></span><ul class=\"toc-item\"><li><span><a href=\"#Login\" data-toc-modified-id=\"Login-5.1\"><span class=\"toc-item-num\">5.1&nbsp;&nbsp;</span>Login</a></span></li><li><span><a href=\"#Retag\" data-toc-modified-id=\"Retag-5.2\"><span class=\"toc-item-num\">5.2&nbsp;&nbsp;</span>Retag</a></span></li><li><span><a href=\"#Push\" data-toc-modified-id=\"Push-5.3\"><span class=\"toc-item-num\">5.3&nbsp;&nbsp;</span>Push</a></span></li></ul></li><li><span><a href=\"#Step-5:-Pull-the-image-from-Docker\" data-toc-modified-id=\"Step-5:-Pull-the-image-from-Docker-6\"><span class=\"toc-item-num\">6&nbsp;&nbsp;</span>Step 5: Pull the image from Docker</a></span></li><li><span><a href=\"#What-do-to-upon-the-release-of-new-versions?\" data-toc-modified-id=\"What-do-to-upon-the-release-of-new-versions?-7\"><span class=\"toc-item-num\">7&nbsp;&nbsp;</span>What do to upon the release of new versions?</a></span></li></ul></div>"
   ]
  },
  {
   "cell_type": "markdown",
   "metadata": {},
   "source": [
    "<hr>"
   ]
  },
  {
   "cell_type": "markdown",
   "metadata": {},
   "source": [
    "# Creating Images in Docker"
   ]
  },
  {
   "cell_type": "markdown",
   "metadata": {},
   "source": [
    "<div class=\"alert alert-success alertsuccess\" style=\"margin-top: 20px\">\n",
    "\n",
    "## Objetivos de aprendizagem  <a class=\"tocSkip\">\n",
    "    \n",
    "No final deste notebook o aluno deverá ter uma noção clara dos procedimentos necessários à criação de uma imagem docker.\n",
    "\n",
    "\n",
    "## Learning Objectives  <a class=\"tocSkip\">\n",
    "       \n",
    "When concluding this notebook, the student should know the required steps to self-create a docker image. </div>"
   ]
  },
  {
   "cell_type": "markdown",
   "metadata": {},
   "source": [
    "<div class=\"alert alert-success alertsuccess\" style=\"margin-top: 20px\">\n",
    "\n",
    "## Sumário  <a class=\"tocSkip\">\n",
    "### Criação de imagens em Docker <a class=\"tocSkip\">\n",
    "\n",
    "Introdução dos alunos ao processo de criação de imagens em docker\n",
    "- Passo 1: criação do dockerfile;\n",
    "- Passo 2: criação da imagem;\n",
    "- Passo 3: execução da imagem;\n",
    "- Passo 4: upload da imagem para um repositório;\n",
    "- Passo 5: download da imagem.\n",
    "    \n",
    "## Class Summary  <a class=\"tocSkip\">\n",
    "### Creating Docker Images <a class=\"tocSkip\">\n",
    "Introduction of students to the process of creating images in docker\n",
    "- Step 1: create the dockerfile;\n",
    "- Step 2: create an image;\n",
    "- Step 3: run the image created;\n",
    "- Step 4: upload the image to a repository;\n",
    "- Step 5: download the image.\n",
    "\n",
    "</div>"
   ]
  },
  {
   "cell_type": "markdown",
   "metadata": {},
   "source": [
    "<hr>"
   ]
  },
  {
   "cell_type": "markdown",
   "metadata": {},
   "source": [
    "## A Quick Overview"
   ]
  },
  {
   "cell_type": "markdown",
   "metadata": {},
   "source": [
    "Checkout this video:"
   ]
  },
  {
   "cell_type": "code",
   "execution_count": null,
   "metadata": {},
   "outputs": [],
   "source": [
    "from IPython.display import HTML\n",
    "HTML('<div align=\"center\"><iframe width=\"560\" height=\"315\" src=\"https://www.youtube.com/embed/2lU9zdrs9bM\" frameborder=\"0\" allow=\"accelerometer; autoplay; encrypted-media; gyroscope; picture-in-picture\" allowfullscreen></iframe></div>')"
   ]
  },
  {
   "cell_type": "markdown",
   "metadata": {},
   "source": [
    "In a nutshell, we have to create a docker file that we will use to build a docker image which we will then run in a docker container."
   ]
  },
  {
   "cell_type": "markdown",
   "metadata": {},
   "source": [
    "<img src=\"https://www.di.ubi.pt/~rcampos/assets/img_tutorials/DataScience/Docker35.jpg\" width=\"600\" height=\"600\" align=\"center\"/>"
   ]
  },
  {
   "cell_type": "markdown",
   "metadata": {},
   "source": [
    "<center>Source: https://medium.com/fintechexplained/running-python-in-docker-container-58cda726d574</center>"
   ]
  },
  {
   "cell_type": "markdown",
   "metadata": {},
   "source": [
    "There are essentially 5 steps:\n",
    "- Step 1: Create a docker file\n",
    "- Step 2: Build the docker file into an image\n",
    "- Step 3: Run the docker image in a container\n",
    "- Step 4: Push a docker image to docker repository\n",
    "- Step 5: Pull the image"
   ]
  },
  {
   "cell_type": "markdown",
   "metadata": {},
   "source": [
    "## Step 1: Create a Docker File"
   ]
  },
  {
   "cell_type": "markdown",
   "metadata": {},
   "source": [
    "Text extracted from: https://codefresh.io/docker-tutorial/not-ignore-dockerignore-2/; https://medium.com/@alexjsanchez/jupyter-lab-on-docker-with-windows-368a24e18d0; https://towardsdatascience.com/slimming-down-your-docker-images-275f0ca9337e; and https://stackify.com/docker-build-a-beginners-guide-to-building-docker-images/"
   ]
  },
  {
   "cell_type": "markdown",
   "metadata": {},
   "source": [
    "In order to create a new Docker image, the Docker server needs access to the files, you want to create the Docker image from. By default the client will take all files (and folders) in current working directory and use them as the build context."
   ]
  },
  {
   "cell_type": "markdown",
   "metadata": {},
   "source": [
    "Thus, the first thing to do (in your docker machine) is to change the working directory to the one you want to build the image from. In this example, we assume the following path `/h/Backup/Research/Programming/JupyterNotebooks/Python/KeywordExtractors`:"
   ]
  },
  {
   "cell_type": "markdown",
   "metadata": {},
   "source": [
    "```\n",
    "cd /h/Backup/Research/Programming/JupyterNotebooks/Python/KeywordExtractors \n",
    "```"
   ]
  },
  {
   "cell_type": "markdown",
   "metadata": {},
   "source": [
    "The Docker client packs all build context files into a tar archive and uploads this archive to the Docker server. While the default behavior sounds good in theory, in practice you must be aware of its implications. The rule of thumb is not adding files to the build context, if you do not need them in your Docker image. The Docker context should be minimal and secret-free."
   ]
  },
  {
   "cell_type": "markdown",
   "metadata": {},
   "source": [
    "Why not adding all the files (we don't need) that are under the `KeywordExtractors` folder?"
   ]
  },
  {
   "cell_type": "markdown",
   "metadata": {},
   "source": [
    "There are many reasons for not doing this. Actually, every time you run the docker build command (to build your image - more on this below), the Docker client creates a new build context archive and sends it to the Docker server."
   ]
  },
  {
   "cell_type": "markdown",
   "metadata": {},
   "source": [
    "You may think that you will only execute `docker build` command a single time to construct your image. Yet this is usually not the case, as you usually need to fine-tune the instructions. So, you are always paying this “tax”: the time it takes to create an archive, storage and network traffic and latency time, whenever you run the `docker build` command."
   ]
  },
  {
   "cell_type": "markdown",
   "metadata": {},
   "source": [
    "Other reasons include the:\n",
    "- `Docker image size`: computers today are fast, networks are also pretty fast (hopefully) and storage is cheap, yet it turns out evident that it is more quicker to download a small image than a large one;\n",
    "- `Unintended secrets exposure`: not controlling your build context, can also lead to an unintended exposure of your code,"
   ]
  },
  {
   "cell_type": "markdown",
   "metadata": {},
   "source": [
    "Based on this, it is of the utmost importance to have a `.dockerignore` file under the docker build context folder (in this case `KeywordExtractors`). We will refer to this as follows."
   ]
  },
  {
   "cell_type": "markdown",
   "metadata": {},
   "source": [
    "Under that folder you should have two files:\n",
    "- .dockerignore\n",
    "- dockerfile"
   ]
  },
  {
   "cell_type": "markdown",
   "metadata": {},
   "source": [
    "### .dockerignore"
   ]
  },
  {
   "cell_type": "markdown",
   "metadata": {},
   "source": [
    "Now that you know why you need to control the docker build context, we can see how this is done. The .dockerignore file is similar to gitignore file, used by  the git tool. similarly to .gitignore file, it allows you to specify a pattern for files and folders that should be ignored by the Docker client when generating a build context. "
   ]
  },
  {
   "cell_type": "markdown",
   "metadata": {},
   "source": [
    "Using this file, you can specify ignore rules and exceptions from these rules for files and folder, that won’t be included in the build context and thus won’t be packed into an archive and uploaded to the Docker server. The following shows how to exclude the file `run-keep-on-anaconda.ipynb` which exists under the docker build context folder:"
   ]
  },
  {
   "cell_type": "markdown",
   "metadata": {},
   "source": [
    "```\n",
    "run-keep-on-anaconda.ipynb\n",
    "```"
   ]
  },
  {
   "cell_type": "markdown",
   "metadata": {},
   "source": [
    "Use .dockerignore in every project, where you are building Docker images. It will make your Docker images small, fast and secure."
   ]
  },
  {
   "cell_type": "markdown",
   "metadata": {},
   "source": [
    "In the following, we refer to the `dockerfile` which should also be under the docker build context folder (in this example `KeywordExtractors`)"
   ]
  },
  {
   "cell_type": "markdown",
   "metadata": {},
   "source": [
    "### dockerfile"
   ]
  },
  {
   "cell_type": "markdown",
   "metadata": {},
   "source": [
    "- `FROM` — specifies the base (parent) image.\n",
    "- `LABEL` —provides metadata. Good place to include maintainer info.\n",
    "- `ENV` — sets a persistent environment variable.\n",
    "- `RUN` —runs a command and creates an image layer. Used to install packages into containers.\n",
    "- `COPY` — copies files and directories to the container.\n",
    "- `ADD` — copies files and directories to the container. Can upack local .tar files.\n",
    "- `CMD` — provides a command and arguments for an executing container. Parameters can be overridden. There can be only one CMD.\n",
    "- `WORKDIR` — sets the working directory for the instructions that follow.\n",
    "- `ARG` — defines a variable to pass to Docker at build-time.\n",
    "- `ENTRYPOINT` — provides command and arguments for an executing container. Arguments persist.\n",
    "- `EXPOSE` — exposes a port.\n",
    "- `VOLUME` — creates a directory mount point to access and store persistent data."
   ]
  },
  {
   "cell_type": "markdown",
   "metadata": {},
   "source": [
    "The following exemplifies a `dockerfile`. Please note that the numbers and the hyphen (e.g., `1 - `) are not part of the dockerfile (we are using them just to comment the code in this notebook)."
   ]
  },
  {
   "cell_type": "markdown",
   "metadata": {},
   "source": [
    "```\n",
    " 1 - FROM jupyter/datascience-notebook\n",
    " 2 - EXPOSE 8888\n",
    " 3 - CMD [\"jupyter\", \"lab\", \"--ip='0.0.0.0'\", \"--port=8888\", \"--no-browser\", \"--allow-root\"]\n",
    " 4 - RUN git clone https://github.com/usnistgov/trec_eval && cd /home/jovyan/trec_eval && make\n",
    " 5 - ENV PATH /home/jovyan/trec_eval:$PATH\n",
    " 6 - RUN mkdir -p /home/jovyan/data/Datasets\n",
    " 7 - ADD notebooks4docker /home/jovyan\n",
    " 8 - ADD data/Datasets /home/jovyan/data/Datasets\n",
    " 9 - RUN pip install git+https://github.com/LIAAD/yake\n",
    "10 - RUN pip install git+https://github.com/LIAAD/keep\n",
    "11 - RUN pip install git+https://github.com/boudinfl/pke\n",
    "12 - RUN python -m spacy download en\n",
    "13 - RUN python -m spacy download es\n",
    "14 - RUN python -m spacy download fr\n",
    "15 - RUN python -m spacy download pt\n",
    "16 - RUN python -m spacy download de\n",
    "17 - RUN python -m spacy download it\n",
    "18 - RUN python -m spacy download nl\n",
    "19 - RUN python -m spacy download el\n",
    "20 - RUN python -m nltk.downloader stopwords\n",
    "21 - RUN python -m nltk.downloader universal_tagset\n",
    "```"
   ]
  },
  {
   "cell_type": "markdown",
   "metadata": {},
   "source": [
    "The Dockerfile is just a text file which contains a list of instructions for Docker on exactly what you want your image to look like. This image is usually built by executing Docker instructions, which add layers on top of existing image or OS distribution. OS distribution is the initial image and every added layer creates a new image. Within a Dockerfile we specify the base image we want to use by declaring `FROM {image name}`."
   ]
  },
  {
   "cell_type": "markdown",
   "metadata": {},
   "source": [
    "In this case, we are using the Docker Hub image Minimal Jupyter Notebook Stack: [jupyter/minimal-notebook](https://jupyter-docker-stacks.readthedocs.io/en/latest/using/selecting.html#jupyter-minimal-notebook), but we can use whatever image we want to (for instance, `FROM microsoft/iis` is the Microsfot IIS Server image)."
   ]
  },
  {
   "cell_type": "markdown",
   "metadata": {},
   "source": [
    "In the second line we `expose` port 8888. You expose ports using the `EXPOSE` keyword in the Dockerfile. Exposing ports informs Docker which port the container is listening on at runtime. "
   ]
  },
  {
   "cell_type": "markdown",
   "metadata": {},
   "source": [
    "`CMD` (line 3) is the default command to be run by the entrypoint (that is, it specifies what command to run when starting the container, e.g., `CMD python /app/app.py` will begin by running the app python file). The following gives a glimpse on the CMD command we are using:"
   ]
  },
  {
   "cell_type": "markdown",
   "metadata": {},
   "source": [
    "- \"jupyter-lab\" => booting command of jupyter-lab\n",
    "- \"--ip=0.0.0.0\" => no ip limitation\n",
    "- \"--port=8888\" => same as port number written in EXPOSE COMMAND\n",
    "- ”--no-browser” => not start web browser. On container there is no browser.\n",
    "- \"--allow-root\" => allow root user\n",
    "- \"--NotebookApp.token=''\" => allow start without token"
   ]
  },
  {
   "cell_type": "markdown",
   "metadata": {},
   "source": [
    "The `RUN` instruction (used in line 4) will execute any commands in a new layer on top of the current image and commit the results. The resulting committed image will be used for the next step in the Dockerfile. In the example of line 4 we have three instructions being executed (concatened by `&&`). The first is a git clone, the second is a change directory, and the last one is the make command, which will compile the c trec_eval code."
   ]
  },
  {
   "cell_type": "markdown",
   "metadata": {},
   "source": [
    "The `ENV` statement (line 5) allows you to specify environmental variables within the container you are running. These can be great for a handful of variables, but this command does slow down your build process. In our example `ENV PATH /home/jovyan/trec_eval:$PATH`, we add the path `/home/jovyan/trec_eval` to the path environment variables."
   ]
  },
  {
   "cell_type": "markdown",
   "metadata": {},
   "source": [
    "On line 6, we use the `RUN mkdir -p` command to create a folder under the `/home/jovyan` folder."
   ]
  },
  {
   "cell_type": "markdown",
   "metadata": {},
   "source": [
    "From lines 7 to 8, we add files or folders existing in the docker build context to the image iself through the `ADD` command. For instance `ADD notebooks4docker /home/jovyan` adds the all the files existing within the `notebooks4docker` folder into the folder `/home/jovyan`, the same way `ADD data/Datasets /home/jovyan/data/Datasets` adds the all the files existing within the `data/Datasets` folder into the folder `/home/jovyan/data/Datasets`."
   ]
  },
  {
   "cell_type": "markdown",
   "metadata": {},
   "source": [
    "From line 10 to 11, we resort (once again) to the RUN command as a means to pip install some packages (e.g., RUN pip install git+https://github.com/LIAAD/yake). Likewise, we will use the RUN command in the command lines to download some spacy models by invoking the python command."
   ]
  },
  {
   "cell_type": "markdown",
   "metadata": {},
   "source": [
    "In case of getting a timeout error for any of the installations made by pip, consider adding the following command `--default-timeout=900` (e.g., `RUN python --default-timeout=900 -m spacy download en`)."
   ]
  },
  {
   "cell_type": "markdown",
   "metadata": {},
   "source": [
    "## Step 2: Build Image"
   ]
  },
  {
   "cell_type": "markdown",
   "metadata": {},
   "source": [
    "With Dockerfile written, you can build the image. When you have many images, it becomes difficult to know which image is what. Docker provides a way to tag your images with friendly names of your choosing (e.g., `liaad/keep`). This is known as tagging. In this example, `LIAAD` refers to the account dockerhub name for which you want to pull the `keep` image. This is usually your personal dockerhub account, but it can also be an account which has given your personal dockerhub account (e.g.,  rncampos) permissions to pull images."
   ]
  },
  {
   "cell_type": "markdown",
   "metadata": {},
   "source": [
    "Also note the `.` (dot) at the end of the line. You need to specify the directory where docker build should be looking for a Dockerfile. Therefore `.` tells docker build to look for the file in the current directory"
   ]
  },
  {
   "cell_type": "markdown",
   "metadata": {},
   "source": [
    "```python\n",
    "docker build -t liaad/keep .\n",
    "```"
   ]
  },
  {
   "cell_type": "markdown",
   "metadata": {},
   "source": [
    "We can see the image we just built using the command docker images. Under the `tag` column you will find `latest` which is the default tag when none is provided upon the building process."
   ]
  },
  {
   "cell_type": "markdown",
   "metadata": {},
   "source": [
    "```\n",
    "docker images\n",
    "```"
   ]
  },
  {
   "cell_type": "markdown",
   "metadata": {},
   "source": [
    "<img src=\"https://www.di.ubi.pt/~rcampos/assets/img_tutorials/DataScience/DockerTag2.jpg\" width=\"600\" height=\"600\" align=\"center\"/>"
   ]
  },
  {
   "cell_type": "markdown",
   "metadata": {},
   "source": [
    "You can also list the contents of the image. For instance, `docker run liaad/keep ls -la /` will list the contents in the root, while the following will list the contents within the folder `/home/jovyan`."
   ]
  },
  {
   "cell_type": "markdown",
   "metadata": {},
   "source": [
    "```\n",
    "docker run liaad/keep ls -la /home/jovyan\n",
    "```"
   ]
  },
  {
   "cell_type": "markdown",
   "metadata": {},
   "source": [
    "<img src=\"https://www.di.ubi.pt/~rcampos/assets/img_tutorials/DataScience/DockerTag3.jpg\" width=\"600\" height=\"600\" align=\"center\"/>"
   ]
  },
  {
   "cell_type": "markdown",
   "metadata": {},
   "source": [
    "## Step 3: Run a Docker Image"
   ]
  },
  {
   "cell_type": "markdown",
   "metadata": {},
   "source": [
    "Now that you image was built you can run as many containers as you want from it, but you’ll probably only need one for each project you’re working on. You can see a Docker container as an instance of a Docker image. When you create a Docker container, you’re adding a writable layer on top of the Docker image. "
   ]
  },
  {
   "cell_type": "markdown",
   "metadata": {},
   "source": [
    "<img src=\"https://www.di.ubi.pt/~rcampos/assets/img_tutorials/DataScience/Container.jpg\" width=\"600\" height=\"600\" align=\"center\"/>"
   ]
  },
  {
   "cell_type": "markdown",
   "metadata": {},
   "source": [
    "<center>Source: https://stackify.com/docker-build-a-beginners-guide-to-building-docker-images/</center>"
   ]
  },
  {
   "cell_type": "markdown",
   "metadata": {},
   "source": [
    "We can specify a lot of configurations to our container in the run command, but here’s the most basic one you’ll need to get your container running:"
   ]
  },
  {
   "cell_type": "markdown",
   "metadata": {},
   "source": [
    "```python\n",
    "docker run -p 9999:8888 --user root liaad/keep\n",
    "```"
   ]
  },
  {
   "cell_type": "markdown",
   "metadata": {},
   "source": [
    "The command is pretty simple. We supplied `-p` argument to specify what port on the host machine to map the port the app is listening on in the container. Now you can access your app from your browser on https://localhost:9999 or http://192.168.99.100:9999/, that is: `http://<DOCKER-MACHINE-IP>:port`"
   ]
  },
  {
   "cell_type": "markdown",
   "metadata": {},
   "source": [
    "Don't forget to supply the token (which you can find in the command line of your docker)."
   ]
  },
  {
   "cell_type": "markdown",
   "metadata": {},
   "source": [
    "## Step 4: Pushing a Docker image to Docker repository"
   ]
  },
  {
   "cell_type": "markdown",
   "metadata": {},
   "source": [
    "The Docker image you built still resides on your local machine. This means you can’t run it on any other machine outside your own—not even in production! To make the Docker image available for use elsewhere, you need to push it to a Docker registry."
   ]
  },
  {
   "cell_type": "markdown",
   "metadata": {},
   "source": [
    "A Docker registry is where Docker images live. One of the popular Docker registries is Docker Hub. You’ll need an account to push Docker images to Docker Hub, and you can create one [here](https://hub.docker.com/). For instance, my personal account is `rncampos`."
   ]
  },
  {
   "cell_type": "markdown",
   "metadata": {},
   "source": [
    "### Login"
   ]
  },
  {
   "cell_type": "markdown",
   "metadata": {},
   "source": [
    "With your Docker Hub credentials ready, log in with your username and password. Here you might be asking: `rncampos` or `liaad`? The first of course. `rncampos` is your effective dockerhub user account (that has been just created before). `liaad` is just a dockerhub user account where the user `rncampos` has permissions to pull images."
   ]
  },
  {
   "cell_type": "markdown",
   "metadata": {},
   "source": [
    "```\n",
    "docker login\n",
    "```"
   ]
  },
  {
   "cell_type": "markdown",
   "metadata": {},
   "source": [
    "### Retag"
   ]
  },
  {
   "cell_type": "markdown",
   "metadata": {},
   "source": [
    "Run the following command to check out your image. "
   ]
  },
  {
   "cell_type": "markdown",
   "metadata": {},
   "source": [
    "```\n",
    "docker images\n",
    "```"
   ]
  },
  {
   "cell_type": "markdown",
   "metadata": {},
   "source": [
    "<img src=\"https://www.di.ubi.pt/~rcampos/assets/img_tutorials/DataScience/DockerTag2.jpg\" width=\"600\" height=\"600\" align=\"center\"/>"
   ]
  },
  {
   "cell_type": "markdown",
   "metadata": {},
   "source": [
    "Now retag the image with a version number."
   ]
  },
  {
   "cell_type": "markdown",
   "metadata": {},
   "source": [
    "```\n",
    "docker tag your_local_username/imagename your_dockerhub_username/imagename:v1\n",
    "e.g., docker tag liaad/keep liaad/keep:v1\n",
    "```"
   ]
  },
  {
   "cell_type": "markdown",
   "metadata": {},
   "source": [
    "Run again the command `docker images` and observe that in addition `latest`, we now have an addition tag (under the `tag` column) which is known as `v1`:"
   ]
  },
  {
   "cell_type": "markdown",
   "metadata": {},
   "source": [
    "<img src=\"https://www.di.ubi.pt/~rcampos/assets/img_tutorials/DataScience/DockerTag4.jpg\" width=\"600\" height=\"600\" align=\"center\"/>"
   ]
  },
  {
   "cell_type": "markdown",
   "metadata": {},
   "source": [
    "### Push"
   ]
  },
  {
   "cell_type": "markdown",
   "metadata": {},
   "source": [
    "Next step is to push both images to dockerhub account `liaad`. \n",
    "<br>\n",
    "Why pushing both images? Well, doing this is a good practice to make sure that we keep the history of our images, and still, have an image that the users know its the latest stable one. "
   ]
  },
  {
   "cell_type": "markdown",
   "metadata": {},
   "source": [
    "Run the following command:"
   ]
  },
  {
   "cell_type": "markdown",
   "metadata": {},
   "source": [
    "```\n",
    "docker push yourdockerhubusername/imagename:tag\n",
    "```"
   ]
  },
  {
   "cell_type": "markdown",
   "metadata": {},
   "source": [
    "i.e.,"
   ]
  },
  {
   "cell_type": "markdown",
   "metadata": {},
   "source": [
    "```\n",
    "docker push liaad/keep:latest\n",
    "docker push liaad/keep:v1\n",
    "```"
   ]
  },
  {
   "cell_type": "markdown",
   "metadata": {},
   "source": [
    "or"
   ]
  },
  {
   "cell_type": "markdown",
   "metadata": {},
   "source": [
    "```\n",
    "docker push liaad/keep\n",
    "```"
   ]
  },
  {
   "cell_type": "markdown",
   "metadata": {},
   "source": [
    "which will produce the same results."
   ]
  },
  {
   "cell_type": "markdown",
   "metadata": {},
   "source": [
    "## Step 5: Pull the image from Docker"
   ]
  },
  {
   "cell_type": "markdown",
   "metadata": {},
   "source": [
    "You can now pull your image from dockerhub to test if everything works. But, before, don't forget to remove your local image from docker (in our case that would represent removing `liaad/keep:latest` as well as `liaad/keep:v1`. "
   ]
  },
  {
   "cell_type": "markdown",
   "metadata": {},
   "source": [
    "```\n",
    "docker rmi liaad/keep\n",
    "docker rmi liaad/keep:v1\n",
    "```"
   ]
  },
  {
   "cell_type": "markdown",
   "metadata": {},
   "source": [
    "If you get an error, while removing one of these images, it will probably means that some of these images might have an already existing container, which should be removed first (`docker rm -f containerID`)."
   ]
  },
  {
   "cell_type": "markdown",
   "metadata": {},
   "source": [
    "Pushing the latest (stable) version of the image is as simple as:"
   ]
  },
  {
   "cell_type": "markdown",
   "metadata": {},
   "source": [
    "``` \n",
    "docker pull liaad/keep\n",
    "```"
   ]
  },
  {
   "cell_type": "markdown",
   "metadata": {},
   "source": [
    "Instead, if you want to pull a specific version proceed as follows:"
   ]
  },
  {
   "cell_type": "markdown",
   "metadata": {},
   "source": [
    "```\n",
    "docker pull liaad/keep:v1\n",
    "```"
   ]
  },
  {
   "cell_type": "markdown",
   "metadata": {},
   "source": [
    "## What do to upon the release of new versions?"
   ]
  },
  {
   "cell_type": "markdown",
   "metadata": {},
   "source": [
    "Imagine a scenario where a new version of keep is built. As a rule-of-thumb a new version will produce (if nothing is specified) a latest tag. Next, you should re-tag it as v2. This means you will end up with two versions (as in Section 4.2). Following, you should push both to dockerhub."
   ]
  },
  {
   "cell_type": "markdown",
   "metadata": {},
   "source": [
    "Keep in mind that any image already existing on dockerhub with the same tag than the ones being updated will be replaced. This means that, the previous latest (corresponding to v1) will be replaced by the latest version (now corresponding to v2). Likewise, we will still have access to v1 and to v2 (meanwhile pushed)."
   ]
  }
 ],
 "metadata": {
  "kernelspec": {
   "display_name": "Python 3 (ipykernel)",
   "language": "python",
   "name": "python3"
  },
  "language_info": {
   "codemirror_mode": {
    "name": "ipython",
    "version": 3
   },
   "file_extension": ".py",
   "mimetype": "text/x-python",
   "name": "python",
   "nbconvert_exporter": "python",
   "pygments_lexer": "ipython3",
   "version": "3.9.7"
  },
  "toc": {
   "base_numbering": 1,
   "nav_menu": {},
   "number_sections": true,
   "sideBar": true,
   "skip_h1_title": true,
   "title_cell": "Table of Contents",
   "title_sidebar": "Contents",
   "toc_cell": true,
   "toc_position": {
    "height": "calc(100% - 180px)",
    "left": "10px",
    "top": "150px",
    "width": "165px"
   },
   "toc_section_display": true,
   "toc_window_display": true
  }
 },
 "nbformat": 4,
 "nbformat_minor": 2
}
