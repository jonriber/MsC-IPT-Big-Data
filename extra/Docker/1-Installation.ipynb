{
 "cells": [
  {
   "cell_type": "markdown",
   "metadata": {},
   "source": [
    "<div style=\"border: 1px solid black\">\n",
    "<b><center><font size=\"4\">Data Science Toolkit</font></center></b>\n",
    "\n",
    "<b><center><font size=\"2\">Docker</font></center></b>\n",
    "\n",
    "<b><center><font size=\"1\">1 - Introduction to Docker</font></center></b>\n",
    "</div>"
   ]
  },
  {
   "cell_type": "markdown",
   "metadata": {},
   "source": [
    "**Developed by**: [Ricardo Campos](https://www.di.ubi.pt/~rcampos)<br>\n",
    "**email:**  ricardo.campos@ubi.pt<br>\n",
    "**Affiliation:** *Assistant Professor* @ [University of Beira Interior](http://www.ubi.pt);\n",
    "*Researcher* @ [LIAAD](https://www.inesctec.pt/en/centres/liaad)-[INESC TEC](https://www.inesctec.pt/en)\n",
    "\n",
    "<hr>\n",
    "\n",
    "<p><a href=\"1-Installation.ipynb\" title=\"Download Notebook\" download><img src=\"https://www.di.ubi.pt/~rcampos/assets/img_tutorials/download.jpg\" align = \"left\" width=\"50\" height=\"50\" alt=\"Download Notebook\"></a></p>\n",
    "<p>&nbsp;</p>\n",
    "<p>&nbsp;</p>\n",
    "\n",
    "<hr>"
   ]
  },
  {
   "cell_type": "markdown",
   "metadata": {
    "toc": true
   },
   "source": [
    "<h1>Table of Contents<span class=\"tocSkip\"></span></h1>\n",
    "<div class=\"toc\"><ul class=\"toc-item\"><li><span><a href=\"#Introduction\" data-toc-modified-id=\"Introduction-1\"><span class=\"toc-item-num\">1&nbsp;&nbsp;</span>Introduction</a></span></li><li><span><a href=\"#Virtual-Machines\" data-toc-modified-id=\"Virtual-Machines-2\"><span class=\"toc-item-num\">2&nbsp;&nbsp;</span>Virtual Machines</a></span></li><li><span><a href=\"#Containers\" data-toc-modified-id=\"Containers-3\"><span class=\"toc-item-num\">3&nbsp;&nbsp;</span>Containers</a></span></li><li><span><a href=\"#Docker\" data-toc-modified-id=\"Docker-4\"><span class=\"toc-item-num\">4&nbsp;&nbsp;</span>Docker</a></span></li><li><span><a href=\"#Docker-Playground\" data-toc-modified-id=\"Docker-Playground-5\"><span class=\"toc-item-num\">5&nbsp;&nbsp;</span>Docker Playground</a></span></li><li><span><a href=\"#Installing-Docker\" data-toc-modified-id=\"Installing-Docker-6\"><span class=\"toc-item-num\">6&nbsp;&nbsp;</span>Installing Docker</a></span><ul class=\"toc-item\"><li><span><a href=\"#Windows\" data-toc-modified-id=\"Windows-6.1\"><span class=\"toc-item-num\">6.1&nbsp;&nbsp;</span>Windows</a></span><ul class=\"toc-item\"><li><span><a href=\"#Docker-Desktop-for-Windows\" data-toc-modified-id=\"Docker-Desktop-for-Windows-6.1.1\"><span class=\"toc-item-num\">6.1.1&nbsp;&nbsp;</span>Docker Desktop for Windows</a></span></li><li><span><a href=\"#Taking-Back-Memory-From-Vmmem/WSL\" data-toc-modified-id=\"Taking-Back-Memory-From-Vmmem/WSL-6.1.2\"><span class=\"toc-item-num\">6.1.2&nbsp;&nbsp;</span>Taking Back Memory From Vmmem/WSL</a></span></li><li><span><a href=\"#Shrink-your-WSL2-virtual-disk-on-Windows-home\" data-toc-modified-id=\"Shrink-your-WSL2-virtual-disk-on-Windows-home-6.1.3\"><span class=\"toc-item-num\">6.1.3&nbsp;&nbsp;</span>Shrink your WSL2 virtual disk on Windows home</a></span></li><li><span><a href=\"#Move-the-WSL-Linux-subsystem-to-another-disk\" data-toc-modified-id=\"Move-the-WSL-Linux-subsystem-to-another-disk-6.1.4\"><span class=\"toc-item-num\">6.1.4&nbsp;&nbsp;</span>Move the WSL Linux subsystem to another disk</a></span><ul class=\"toc-item\"><li><span><a href=\"#Option-1:-Edit-Regedit-(mais-rápida)\" data-toc-modified-id=\"Option-1:-Edit-Regedit-(mais-rápida)-6.1.4.1\"><span class=\"toc-item-num\">6.1.4.1&nbsp;&nbsp;</span>Option 1: Edit Regedit (mais rápida)</a></span></li><li><span><a href=\"#Option-2:-Create-tar-file\" data-toc-modified-id=\"Option-2:-Create-tar-file-6.1.4.2\"><span class=\"toc-item-num\">6.1.4.2&nbsp;&nbsp;</span>Option 2: Create tar file</a></span></li></ul></li></ul></li></ul></li></ul></div>"
   ]
  },
  {
   "cell_type": "markdown",
   "metadata": {},
   "source": [
    "# Docker"
   ]
  },
  {
   "cell_type": "markdown",
   "metadata": {},
   "source": [
    "<div class=\"alert alert-success alertsuccess\" style=\"margin-top: 20px\">\n",
    "\n",
    "## Objetivos de aprendizagem  <a class=\"tocSkip\">\n",
    "    \n",
    "No final deste notebook o aluno deverá ter uma noção clara das diferenças entre máquinas virtuais e contentores, saber interagir com o docker playground e dominar a instalação do docker.\n",
    "\n",
    "\n",
    "## Learning Objectives  <a class=\"tocSkip\">\n",
    "       \n",
    "When concluding this notebook, the student should know the main differences between virtual machines and containers, be familiar with docker playground and master the process of installing docker. </div>"
   ]
  },
  {
   "cell_type": "markdown",
   "metadata": {},
   "source": [
    "<div class=\"alert alert-success alertsuccess\" style=\"margin-top: 20px\">\n",
    "\n",
    "## Sumário  <a class=\"tocSkip\">\n",
    "### Introdução ao Docker <a class=\"tocSkip\">\n",
    "\n",
    "Introdução dos alunos às diferenças entre máquinas virtuais e contentores.\n",
    "Iniciação ao docker playground.\n",
    "Instalação do docker.\n",
    "    \n",
    "## Class Summary  <a class=\"tocSkip\">\n",
    "### Introduction to Docker <a class=\"tocSkip\">\n",
    "Introducing students to the differences between virtual machines and containers.\n",
    "Getting started with Docker Playground.\n",
    "Docker installation.\n",
    "\n",
    "</div>"
   ]
  },
  {
   "cell_type": "markdown",
   "metadata": {},
   "source": [
    "## Introduction"
   ]
  },
  {
   "cell_type": "markdown",
   "metadata": {},
   "source": [
    "<hr>"
   ]
  },
  {
   "cell_type": "markdown",
   "metadata": {},
   "source": [
    "Text Extracted from: [dataquest](https://www.dataquest.io/blog/docker-data-science/)"
   ]
  },
  {
   "cell_type": "markdown",
   "metadata": {},
   "source": [
    "Configuring a data science environment can be a pain. Dealing with inconsistent package versions, having to dive through obscure error messages, and having to wait hours for packages to compile can be frustrating. This makes it hard to get started with data science in the first place, and is a completely arbitrary barrier to entry.\n",
    "\n",
    "The past few years have seen the rise of technologies that help with this by creating isolated environments. We’ll be exploring one in particular, Docker. Docker makes it fast and easy to create new data science environments, and use tools such as Jupyter notebooks to explore your data.\n",
    "\n",
    "With Docker, we can download an image file that contains a set of packages and data science tools. We can then boot up a data science environment using this image within seconds, without the need to manually install packages or wait around. This environment is called a Docker container. Containers eliminate configuration problems – when you start a Docker container, it has a known good state, and all the packages work properly.\n",
    "\n",
    "In addition to lowering the barriers to getting started with data science, Docker also makes it possible to quickly create isolated environments with different Python and package versions without having to wait for packages to install in virtual environments.\n",
    "\n",
    "In this post, we’ll cover the basics of Docker, how to install it, and how to leverage Docker containers to quickly get started with data science on your own machine using a docker data science container."
   ]
  },
  {
   "cell_type": "markdown",
   "metadata": {},
   "source": [
    "## Virtual Machines"
   ]
  },
  {
   "cell_type": "markdown",
   "metadata": {},
   "source": [
    "Software that creates virtual machines has existed for decades. Virtual machines allow you to emulate other computing environments on your computer. For example, you could run Linux in a virtual machine, even if your computer runs Windows. This would let you use Linux without having to actually install it on your machine – it would be running virtually, so you would be able to access it from within Windows. Virtual machines use images to boot up – you have to start a virtual machine with an image that corresponds to the operating system you want to use. If you want to use Linux, you’d use an image that contains all of the necessary files to create a Linux environment."
   ]
  },
  {
   "cell_type": "markdown",
   "metadata": {},
   "source": [
    "## Containers"
   ]
  },
  {
   "cell_type": "markdown",
   "metadata": {},
   "source": [
    "Although virtual machines enable Linux development to take place on Windows, for example, they have some downsides. Virtual machines take a long time to boot up, they require significant system resources, and it’s hard to create a virtual machine from an image, install some packages, and then create another image. Linux containers solve this problem by enabling multiple isolated environments to run on a single machine. Think of containers as a faster, easier way to get started with virtual machines.\n",
    "\n",
    "Unfortunately, containers are a bit tricky to use, and it’s not easy to manage and distribute container images. We want these features so we can quickly download and start data science environments with specific package and tool configurations. For instance, you might want to be able to quickly start a container that has Jupyter notebook, spark, and pandas already installed."
   ]
  },
  {
   "cell_type": "markdown",
   "metadata": {},
   "source": [
    "## Docker"
   ]
  },
  {
   "cell_type": "markdown",
   "metadata": {},
   "source": [
    "Docker containers are a layer over Linux containers that makes them easier to manage and distribute. Docker makes it easy to download images that correspond to a specific set of packages, and start them quickly. Docker is cross-platform, and works on Mac, Windows, and Linux.\n",
    "\n",
    "The primary advantages of Docker over virtual environments are:\n",
    "- Ability to <b>quickly get started</b>. You don’t need to wait for packages to install when you just want to jump in and start doing analysis.\n",
    "- Known <b>good configuration</b>. Many times, Python packages will require system packages and configuration to be setup. This can cause mysterious errors. With Docker, the packages are already setup and ready to go.\n",
    "- <b>Consistently cross platform</b>.\n",
    "- Ability to <b>checkpoint and restore</b>. You can install packages into a Docker image, then create a new image of that checkpoint. This will give you the ability to quickly undo changes or rollback configurations.\n",
    "\n",
    "Running a Docker image creates a Docker container. For our purposes, we will run an Hadoop/Spark/Jupyter  notebook inside this container, and use both a terminal and a web browser to work with our data."
   ]
  },
  {
   "cell_type": "markdown",
   "metadata": {},
   "source": [
    "<img src=\"https://www.di.ubi.pt/~rcampos/assets/img_tutorials/DataScience/docker.jpg\" width=\"600\" height=\"600\" align=\"center\"/>"
   ]
  },
  {
   "cell_type": "markdown",
   "metadata": {},
   "source": [
    "Some interesting articles about docker:"
   ]
  },
  {
   "cell_type": "markdown",
   "metadata": {},
   "source": [
    "- [Docker: A high-level introduction](https://stackabuse.com/docker-a-high-level-introduction/)"
   ]
  },
  {
   "cell_type": "markdown",
   "metadata": {},
   "source": [
    "## Docker Playground"
   ]
  },
  {
   "cell_type": "markdown",
   "metadata": {},
   "source": [
    "Play with Docker is an interactive playground that allows you to run Docker without any downloads or installation. To play with it, begin by creating on docker hub [here](https://hub.docker.com/)."
   ]
  },
  {
   "cell_type": "markdown",
   "metadata": {},
   "source": [
    "Next, log into https://labs.play-with-docker.com/ to access your PWD (Play with Docker) terminal and click on `start`. While inside the terminal create a new instance as shown below:"
   ]
  },
  {
   "cell_type": "markdown",
   "metadata": {},
   "source": [
    "<img src=\"https://www.di.ubi.pt/~rcampos/assets/img_tutorials/DataScience/DockerPlayground.jpg\" width=\"600\" height=\"600\" align=\"center\"/>"
   ]
  },
  {
   "cell_type": "markdown",
   "metadata": {},
   "source": [
    "Next step is to download the `nginx` web server. If you want to paste the following command on the playground use the `shift - insert`:"
   ]
  },
  {
   "cell_type": "markdown",
   "metadata": {},
   "source": [
    "```docker pull nginx```"
   ]
  },
  {
   "cell_type": "markdown",
   "metadata": {},
   "source": [
    "and to run it on PWD. More details about this comand will be given in the next notebook."
   ]
  },
  {
   "cell_type": "markdown",
   "metadata": {},
   "source": [
    "```docker run -d -p 5000:80 --name webserver nginx```"
   ]
  },
  {
   "cell_type": "markdown",
   "metadata": {},
   "source": [
    "You can now click on the recently created 5000 port (see the green box) to open the nginx start webpage which is hosted on this PWD system."
   ]
  },
  {
   "cell_type": "markdown",
   "metadata": {},
   "source": [
    "<img src=\"https://www.di.ubi.pt/~rcampos/assets/img_tutorials/DataScience/DockerPlayground1.jpg\" width=\"600\" height=\"600\" align=\"center\"/>"
   ]
  },
  {
   "cell_type": "markdown",
   "metadata": {},
   "source": [
    "If you want to follow a tutorial on your own (we are not going to do it here in the class) type the following command in your PWD terminal: "
   ]
  },
  {
   "cell_type": "markdown",
   "metadata": {},
   "source": [
    "```docker run -dp 80:80 docker/getting-started:pwd```"
   ]
  },
  {
   "cell_type": "markdown",
   "metadata": {},
   "source": [
    "Wait for it to start the container and click the port 80 badge."
   ]
  },
  {
   "cell_type": "markdown",
   "metadata": {},
   "source": [
    "Now that you know what docker is, let's try to install a desktop version on your PC."
   ]
  },
  {
   "cell_type": "markdown",
   "metadata": {},
   "source": [
    "## Installing Docker"
   ]
  },
  {
   "cell_type": "markdown",
   "metadata": {},
   "source": [
    "The first step is installing Docker. There’s a graphical installer for Windows and Mac that makes this easy. Here are the instructions for each OS:\n",
    "\n",
    "- Windows: Docker Desktop for Windows is available [here](https://hub.docker.com/editions/community/docker-ce-desktop-windows/); \n",
    "- Mac: Docker for Mac will launch only if all of these requirements are [met](https://docs.docker.com/docker-for-mac/install/#what-to-know-before-you-install). If you have this, then proceed to download [here](https://docs.docker.com/docker-for-mac/install/#download-docker-for-mac) and click on Get Docker for Mac (Stable).\n",
    "- Linux: Proceed to download [here](https://docs.docker.com/engine/installation/#server)"
   ]
  },
  {
   "cell_type": "markdown",
   "metadata": {},
   "source": [
    "### Windows"
   ]
  },
  {
   "cell_type": "markdown",
   "metadata": {},
   "source": [
    "#### Docker Desktop for Windows"
   ]
  },
  {
   "cell_type": "markdown",
   "metadata": {},
   "source": [
    "Docker Desktop for Windows requires `Microsoft Windows 10 Professional or Enterprise 64-bit`, or `Windows 10 Home 64-bit with WSL 2` (Windows Subsystem Linux):\n",
    "- 64 bit processor; \n",
    "- 4GB system RAM;\n",
    "- virtualization-must-be-enabled."
   ]
  },
  {
   "cell_type": "markdown",
   "metadata": {},
   "source": [
    "Para verificar se a virtualização está ativa vá ao gestor de tarefas (CTRL-ALT-DEL) e clique no separador [performance](https://docs.docker.com/docker-for-windows/troubleshoot/#virtualization-must-be-enabled):"
   ]
  },
  {
   "cell_type": "markdown",
   "metadata": {},
   "source": [
    "<img src=\"https://www.di.ubi.pt/~rcampos/assets/img_tutorials/DataScience/Virtualization.jpg\" width=\"600\" height=\"600\" align=\"center\"/>"
   ]
  },
  {
   "cell_type": "markdown",
   "metadata": {},
   "source": [
    "Se não tiver a virtualização ativa verifique se a consegue ativar. Para isso deverá entrar na [BIOS](https://support.bluestacks.com/hc/pt-br/articles/115003174386-Como-posso-habilitar-a-virtualiza%C3%A7%C3%A3o-VT-no-meu-PC#%E2%80%9C10%E2%80%9D) e ativar a [virtualização](https://support.bluestacks.com/hc/pt-br/articles/115003174386-Como-posso-habilitar-a-virtualiza%C3%A7%C3%A3o-VT-no-meu-PC#3)."
   ]
  },
  {
   "cell_type": "markdown",
   "metadata": {},
   "source": [
    "Adicionalmente deverá ter as seguintes funcionalidades do Windows ativas:"
   ]
  },
  {
   "cell_type": "markdown",
   "metadata": {},
   "source": [
    "<u>Microsoft Windows 10 Professional or Enterprise 64-bit</u>"
   ]
  },
  {
   "cell_type": "markdown",
   "metadata": {},
   "source": [
    "- [Hyper-v](https://docs.docker.com/docker-for-windows/troubleshoot/#virtualization)"
   ]
  },
  {
   "cell_type": "markdown",
   "metadata": {},
   "source": [
    "<u>Windows 10 Home 64-bit with WSL 2</u>"
   ]
  },
  {
   "cell_type": "markdown",
   "metadata": {},
   "source": [
    "- [Platforma de Máquina Virtual](https://docs.docker.com/docker-for-windows/troubleshoot/#virtualization)\n",
    "- [Subsistema de Windows para Linux](https://docs.docker.com/docker-for-windows/troubleshoot/#virtualization)"
   ]
  },
  {
   "cell_type": "markdown",
   "metadata": {},
   "source": [
    "<img src=\"https://www.di.ubi.pt/~rcampos/assets/img_tutorials/DataScience/WindowsFeatures.jpg\" width=\"600\" height=\"600\" align=\"center\"/>"
   ]
  },
  {
   "cell_type": "markdown",
   "metadata": {},
   "source": [
    "Para verificar que tudo se encontra a funcionar na perfeição clique no icon \"Docker Desktop\". Posteriormente abra a linha de comandos e escreva `docker --version` ou `docker version`. Pode também correr um container: `docker run -d -p 80:80 docker/getting-started`. Note que se tiver o IIS a funcionar na porta 80 deverá correr o seguinte comando (ao invés do anterior): `docker run -d -p 81:80 docker/getting-started`. Um tutorial para iniciantes encontra-se [disponível](https://docs.docker.com/get-started/)."
   ]
  },
  {
   "cell_type": "markdown",
   "metadata": {},
   "source": [
    "#### Taking Back Memory From Vmmem/WSL"
   ]
  },
  {
   "cell_type": "markdown",
   "metadata": {},
   "source": [
    "O funcionamento do Docker no Windows Home pressupõe a existência do WSL (Windows Subsystem Linux) o qual permite correr um ambiente Linux diretamente no Windows sem a sobrecarga de uma máquina virtual. O WSL corre através de um processo denominado `vmmem` (faça CTRL-ALT-DEL, gestor de tarefas para ver quanta memória está a consumir). Em alguns casos o `vmmem` acaba por controlar todos os recursos da máquina (CPU e Memória) para si (impedindo um correto funcionamento da máquina). Se tal acontecer deverá estabelecer valores máximo da sua utilização."
   ]
  },
  {
   "cell_type": "markdown",
   "metadata": {},
   "source": [
    "Para isso e na linha de comandos comece por para o serviço: `wsl --shutdown`"
   ]
  },
  {
   "cell_type": "markdown",
   "metadata": {},
   "source": [
    "De seguida crie um ficheiro `.wslconfig` na diretoria `c:/users/campo`, onde `campo` é o nome do utilizador. Pode fazê-lo diretamente na linha de comandos com recurso ao seguinte comando: `notepad \"c:/users/campo/.wslconfig\"`."
   ]
  },
  {
   "cell_type": "markdown",
   "metadata": {},
   "source": [
    "No notepad escreva o seguinte (pode ajustar os valores)."
   ]
  },
  {
   "cell_type": "markdown",
   "metadata": {},
   "source": [
    "```\n",
    "[wsl2]\n",
    "memory=3GB   # Limits VM memory in WSL 2 up to 3GB\n",
    "processors=4 # Makes the WSL 2 VM use two virtual processors\n",
    "```"
   ]
  },
  {
   "cell_type": "markdown",
   "metadata": {},
   "source": [
    "Faça agora um restart do docker:"
   ]
  },
  {
   "cell_type": "markdown",
   "metadata": {},
   "source": [
    "<img src=\"https://www.di.ubi.pt/~rcampos/assets/img_tutorials/DataScience/Docker34.jpg\" width=\"600\" height=\"600\" align=\"center\"/>"
   ]
  },
  {
   "cell_type": "markdown",
   "metadata": {},
   "source": [
    "Mais informações sobre este processo [aqui](https://blog.simonpeterdebbarma.com/2020-04-memory-and-wsl/) e [aqui](https://medium.com/@lewwybogus/how-to-stop-wsl2-from-hogging-all-your-ram-with-docker-d7846b9c5b37)."
   ]
  },
  {
   "cell_type": "markdown",
   "metadata": {},
   "source": [
    "#### Shrink your WSL2 virtual disk on Windows home"
   ]
  },
  {
   "cell_type": "markdown",
   "metadata": {},
   "source": [
    "No cmd ou prompt do anaconda (onde campo é o nome do utilizador):\n",
    "```python\n",
    "wsl --shutdown\n",
    "diskpart (isto vai abrir outra janela)\n",
    "select vdisk file=C:\\Users\\campo\\AppData\\Local\\Docker\\wsl\\data\\ext4.vhdx\n",
    "compact vdisk\n",
    "```"
   ]
  },
  {
   "cell_type": "markdown",
   "metadata": {},
   "source": [
    "#### Move the WSL Linux subsystem to another disk"
   ]
  },
  {
   "cell_type": "markdown",
   "metadata": {},
   "source": [
    "O Windows 10 vem com WSL2, tornando possível usar o Docker integrado às distribuições Linux que rodam no Windows 10."
   ]
  },
  {
   "cell_type": "markdown",
   "metadata": {},
   "source": [
    "Na linha de comandos do dos ou do anaconda execute o seguinte comando para listar as distros que o WSL tem na sua máquina:"
   ]
  },
  {
   "cell_type": "markdown",
   "metadata": {},
   "source": [
    "```python\n",
    "wsl --list -v\n",
    "```"
   ]
  },
  {
   "cell_type": "markdown",
   "metadata": {},
   "source": [
    "<img src=\"https://www.di.ubi.pt/~rcampos/assets/img_tutorials/DataScience/Docker36.jpg\" width=\"600\" height=\"600\" align=\"center\"/>"
   ]
  },
  {
   "cell_type": "markdown",
   "metadata": {},
   "source": [
    "`docker-desktop` diz respeito à aplicação do docker propriamente dita. `docker-desktop-data` é onde o docker guarda as imagens e os dados usados pelo Docker, em particular num ficheiro `*.vhdx`, no caminho `%LOCALAPPDATA%\\Docker\\wsl\\data` (e.g., `C:\\Users\\campo\\AppData\\Local\\Docker\\wsl\\data`) onde `campo` é o nome do utilizador."
   ]
  },
  {
   "cell_type": "markdown",
   "metadata": {},
   "source": [
    "Uma utilização intensiva do docker pode levar as imagens a ficar com um volume gigantesco na ordem dos muitos gbs impedindo o bom funcionamento da sua drive c e em última instância do seu pc.\n",
    "\n",
    "Uma alternativa seria configurar o Docker para salvar as imagens noutro lugar. Mas com Docker usando WSL2 não funciona mudar as configurações do Docker, é necessário mover a distro usada pelo Docker no WSL2. Nas seções seguintes listam-se duas possíveis opções para este procedimento."
   ]
  },
  {
   "cell_type": "markdown",
   "metadata": {},
   "source": [
    "##### Option 1: Edit Regedit (mais rápida)"
   ]
  },
  {
   "cell_type": "markdown",
   "metadata": {},
   "source": [
    "Baseado em: https://www.msftnext.com/how-to-move-the-wsl-linux-subsystem-to-another-disk-or-partition/"
   ]
  },
  {
   "cell_type": "markdown",
   "metadata": {},
   "source": [
    "Para começar pare o `docker-desktop` clicando em cima do icon. De seguida, na linha de comandos (do dos ou anaconda) pare todas as distros WSL em execução com o comando:"
   ]
  },
  {
   "cell_type": "markdown",
   "metadata": {},
   "source": [
    "```python\n",
    "wsl --shutdown\n",
    "```"
   ]
  },
  {
   "cell_type": "markdown",
   "metadata": {},
   "source": [
    "De seguida desloque-se à pasta `%LOCALAPPDATA%\\Docker\\wsl\\data` (e.g., `C:\\Users\\campo\\AppData\\Local\\Docker\\wsl\\data`) onde `campo` é o nome do utilizador, e faça \"cut\" do ficheiro aí presente (`ext4.vhdx`). \"Cole\" esse ficheiro na pasta onde pretende que ele passe a ficar (por exemplo num disco externo: `I:\\Ricardo\\docker`)."
   ]
  },
  {
   "cell_type": "markdown",
   "metadata": {},
   "source": [
    "Na pesquisa do windows escreva `regedit`. Navegue até `HKEY_CURRENT_USER\\Software\\Microsoft\\Windows\\CurrentVersion\\Lxss\\{UUID}`. Note que terá acesso a dois {UUID}. Procure aquele que na `DistributionName` tem como valor o `docker-desktop-data`. Repare que o `BasePath` aponta para o caminho acima referido `%LOCALAPPDATA%\\Docker\\wsl\\data (e.g., C:\\Users\\campo\\AppData\\Local\\Docker\\wsl\\data)`. Faça botão direito do rato para editar o caminho para o novo folder, e.g., `\\\\?\\I:\\Ricardo\\docker`. De seguida reinicie o docker-desktop."
   ]
  },
  {
   "cell_type": "markdown",
   "metadata": {},
   "source": [
    "##### Option 2: Create tar file"
   ]
  },
  {
   "cell_type": "markdown",
   "metadata": {},
   "source": [
    "https://igorjacauna.com.br/windows/wsl2-move-docker-data/"
   ]
  },
  {
   "cell_type": "markdown",
   "metadata": {},
   "source": [
    "Nesta opção é necessário exportar para um arquivo `.tar` a distro utilizada pelo Docker e depois importar para outro diretório."
   ]
  },
  {
   "cell_type": "markdown",
   "metadata": {},
   "source": [
    "Para começar pare o `docker-desktop` clicando em cima do icon. De seguida, na linha de comandos (do dos ou anaconda) pare todas as distros WSL em execução com o comando:"
   ]
  },
  {
   "cell_type": "markdown",
   "metadata": {},
   "source": [
    "```python\n",
    "wsl --shutdown\n",
    "```"
   ]
  },
  {
   "cell_type": "markdown",
   "metadata": {},
   "source": [
    "O próximo passo implica exportar a distro para um ficheiro `tar`. Uma vez que o ficheiro pode ocupar muito espaço (mesmo compactado), convém escolher um espaço em disco (ou num disco externo) que tenha espaço suficiente. Para exportar a distro para tar (**pode demorar um tempo considerável +30m**):"
   ]
  },
  {
   "cell_type": "markdown",
   "metadata": {},
   "source": [
    "```python\n",
    "wsl --export docker-desktop-data \"docker-desktop-data.tar\"\n",
    "```"
   ]
  },
  {
   "cell_type": "markdown",
   "metadata": {},
   "source": [
    "Depois de exportar, desativamos a distro:"
   ]
  },
  {
   "cell_type": "markdown",
   "metadata": {},
   "source": [
    "```python\n",
    "wsl --unregister docker-desktop-data\n",
    "```"
   ]
  },
  {
   "cell_type": "markdown",
   "metadata": {},
   "source": [
    "De seguida crie uma pasta onde pretende que o docker desktop fique alojado (no meu caso `I:\\Ricardo\\docker`) e execute o seguinte comando `wsl --import <DistributionName> <Folder-To-Install> <Tar-FileName>`, ou seja:"
   ]
  },
  {
   "cell_type": "markdown",
   "metadata": {},
   "source": [
    "```python\n",
    "wsl --import docker-desktop-data \"I:\\Ricardo\\docker\" \"docker-desktop-data.tar\" --version 2\n",
    "```"
   ]
  },
  {
   "cell_type": "markdown",
   "metadata": {},
   "source": [
    "**Note que a importação vai demorar dependendo do tamanho do tar um tempo conisderável +30)**. Pode ir verificando se o tamanho do ficheiro acima do ficheiro tar (um indicado que a instalação estará perto de concluir). Outra hipótese é noutra janela da linha de comandos executar novamente o comando. Se à frente de `docker-desktop-data` aparecer `Installing` tal significa que deverá continuar a aguardar. O processo estará concluído quando aparecer `stopped`:"
   ]
  },
  {
   "cell_type": "markdown",
   "metadata": {},
   "source": [
    "```python\n",
    "wsl -l -v\n",
    "```"
   ]
  },
  {
   "cell_type": "markdown",
   "metadata": {},
   "source": [
    "Depois de importar pode excluir o ficheiro `docker-desktop-data.tar`"
   ]
  },
  {
   "cell_type": "markdown",
   "metadata": {},
   "source": [
    "<img src=\"https://www.di.ubi.pt/~rcampos/assets/img_tutorials/DataScience/Docker37.jpg\" width=\"600\" height=\"600\" align=\"center\"/>"
   ]
  },
  {
   "cell_type": "markdown",
   "metadata": {},
   "source": [
    "De seguida basta reiniciar o `docker-desktop`."
   ]
  }
 ],
 "metadata": {
  "kernelspec": {
   "display_name": "Python 3 (ipykernel)",
   "language": "python",
   "name": "python3"
  },
  "language_info": {
   "codemirror_mode": {
    "name": "ipython",
    "version": 3
   },
   "file_extension": ".py",
   "mimetype": "text/x-python",
   "name": "python",
   "nbconvert_exporter": "python",
   "pygments_lexer": "ipython3",
   "version": "3.9.7"
  },
  "toc": {
   "base_numbering": 1,
   "nav_menu": {},
   "number_sections": true,
   "sideBar": true,
   "skip_h1_title": true,
   "title_cell": "Table of Contents",
   "title_sidebar": "Contents",
   "toc_cell": true,
   "toc_position": {
    "height": "calc(100% - 180px)",
    "left": "10px",
    "top": "150px",
    "width": "270.4px"
   },
   "toc_section_display": true,
   "toc_window_display": true
  }
 },
 "nbformat": 4,
 "nbformat_minor": 2
}
