{
 "cells": [
  {
   "cell_type": "markdown",
   "metadata": {},
   "source": [
    "<div style=\"border: 1px solid black\">\n",
    "<b><center><font size=\"4\">Big Data</font></center></b>\n",
    "\n",
    "<b><center><font size=\"3\">Big Data Strategies</font></center></b>\n",
    "\n",
    "<b><center><font size=\"2\">3 - Databases</font></center></b>\n",
    "</div>"
   ]
  },
  {
   "cell_type": "markdown",
   "metadata": {},
   "source": [
    "**Notebook Developed by**: [Ricardo Campos](https://www.di.ubi.pt/~rcampos)<br>\n",
    "**email:**  ricardo.campos@ubi.pt<br>\n",
    "**Affiliation:** *Assistant Professor* @ [University of Beira Interior](http://www.ubi.pt);\n",
    "*Researcher* @ [LIAAD](https://www.inesctec.pt/en/centres/liaad)-[INESC TEC](https://www.inesctec.pt/en)\n",
    "\n",
    "<hr>\n",
    "\n",
    "<p><a href=\"3-Databases.ipynb\" title=\"Download Notebook\" download><img src=\"https://www.di.ubi.pt/~rcampos/assets/img_tutorials/download.jpg\" align = \"left\" width=\"50\" height=\"50\" alt=\"Download Notebook\"></a></p>\n",
    "<p>&nbsp;</p>\n",
    "<p>&nbsp;</p>\n",
    "\n",
    "<hr>"
   ]
  },
  {
   "cell_type": "markdown",
   "metadata": {
    "toc": true
   },
   "source": [
    "<h1>Table of Contents<span class=\"tocSkip\"></span></h1>\n",
    "<div class=\"toc\"><ul class=\"toc-item\"><li><span><a href=\"#SQLite-Databases\" data-toc-modified-id=\"SQLite-Databases-1\"><span class=\"toc-item-num\">1&nbsp;&nbsp;</span>SQLite Databases</a></span></li></ul></div>"
   ]
  },
  {
   "cell_type": "markdown",
   "metadata": {},
   "source": [
    "# Databases <a class=\"tocSkip\">"
   ]
  },
  {
   "cell_type": "markdown",
   "metadata": {},
   "source": [
    "<div class=\"alert alert-success alertsuccess\" style=\"margin-top: 20px\">\n",
    "\n",
    "## Objetivos de aprendizagem  <a class=\"tocSkip\">\n",
    "    \n",
    "No final deste notebook o aluno deverá saber usar bases de dados como forma de lidar com ficheiros de elevadas dimensões.\n",
    "\n",
    "\n",
    "## Learning Objectives  <a class=\"tocSkip\">\n",
    "       \n",
    "When concluding this notebook, the student should know how to use databases as a means to handle big data files.</div>"
   ]
  },
  {
   "cell_type": "markdown",
   "metadata": {},
   "source": [
    "<div class=\"alert alert-success alertsuccess\" style=\"margin-top: 20px\">\n",
    "\n",
    "## Sumário  <a class=\"tocSkip\">\n",
    "### Bases de Dados<a class=\"tocSkip\">\n",
    "\n",
    "Introdução dos alunos à utilização de bases de dados SQLite para o processamento de elevados volumes de dados\n",
    "    \n",
    "## Class Summary  <a class=\"tocSkip\">\n",
    "### Databases <a class=\"tocSkip\">\n",
    "Introducing students to SQLite databases to handle big data files\n",
    "    \n",
    "</div>"
   ]
  },
  {
   "cell_type": "markdown",
   "metadata": {},
   "source": [
    "## SQLite Databases"
   ]
  },
  {
   "cell_type": "markdown",
   "metadata": {},
   "source": [
    "Parte desta seção teve por base o seguinte artigo: https://towardsdatascience.com/loading-large-datasets-in-pandas-11bdddd36f7b"
   ]
  },
  {
   "cell_type": "markdown",
   "metadata": {},
   "source": [
    "Conforme discutido anteriormente, o carregamento de ficheiros com um elevado volume de dados traz significativos desafios relacionados com o consumo de memória RAM. Na box seguinte importamos o ficheiro `yellow_tripdata_2016-03.csv` (https://www.kaggle.com/datasets/bharath150/taxi-data?select=yellow_tripdata_2016-03.csv) e com ele a reserva/uso de uma significativa quantidade de memória RAM. "
   ]
  },
  {
   "cell_type": "code",
   "execution_count": null,
   "metadata": {},
   "outputs": [],
   "source": [
    "import pandas as pd\n",
    "\n",
    "taxi = pd.read_csv('data/yellow_tripdata_2016-03.csv')\n",
    "#taxi = pd.read_csv('f:\\O meu disco\\data\\BigData\\yellow_taxi_data\\yellow_tripdata_2016-03.csv')"
   ]
  },
  {
   "cell_type": "markdown",
   "metadata": {},
   "source": [
    "A obtenção de dados a partir do dataframe é bastante rápida, mas o facto de termos importado e de mantermos o dataframe em memória impacta necessariamente os recursos da máquina, podendo em última instância gerar um \"Out of memory error\"."
   ]
  },
  {
   "cell_type": "code",
   "execution_count": null,
   "metadata": {},
   "outputs": [],
   "source": [
    "taxi[(taxi['passenger_count']<5) & (taxi['trip_distance'] > 10)]"
   ]
  },
  {
   "cell_type": "markdown",
   "metadata": {},
   "source": [
    "Note que a importação do ficheiro .csv para memória encontra-se atualmente com um impacto próximo dos 2.5GB."
   ]
  },
  {
   "attachments": {
    "imagem.png": {
     "image/png": "[encoded data removed]"
    }
   },
   "cell_type": "markdown",
   "metadata": {},
   "source": [
    "![imagem.png](attachment:imagem.png)"
   ]
  },
  {
   "cell_type": "markdown",
   "metadata": {},
   "source": [
    "Uma alternativa passa por recorrer ao uso de bases de dados relacionais. Nesta seção discutimos o uso do sqlite e a sua relação com dataframes. Antes de prosseguir faça um restart kernel para \"zerar\" a utilização de memória do seu notebook. \n",
    "\n",
    "O `sqlite` é uma base de dados relacional que corre localmente no seu PC (ao invés de correr num servidor remoto). Ao invés da maioria das bases de dados relacionais, o `sqlite` não tem \"server process\" separado. Cada base de dados é guardada em disco num único ficheiro com extensão dbw e o `SQLite` lê e escreve diretamente nesse ficheiro. Por norma o ficheiro fica localizado na área de trabalho do jupyter notebook de execução."
   ]
  },
  {
   "cell_type": "markdown",
   "metadata": {},
   "source": [
    "Primeiro começamos por importar a biblioteca slqlite3."
   ]
  },
  {
   "cell_type": "code",
   "execution_count": null,
   "metadata": {},
   "outputs": [],
   "source": [
    "import sqlite3 as sql\n",
    "import pandas as pd"
   ]
  },
  {
   "cell_type": "markdown",
   "metadata": {},
   "source": [
    "Posteriormente criamos e estabelecemos comunicação a uma base de dados nova."
   ]
  },
  {
   "cell_type": "code",
   "execution_count": null,
   "metadata": {},
   "outputs": [],
   "source": [
    "#conn = sql.connect('data/taxi.db')\n",
    "conn = sql.connect('f:/O meu disco/data/BigData/yellow_taxi_data/data/taxi.db')"
   ]
  },
  {
   "cell_type": "markdown",
   "metadata": {},
   "source": [
    "A passagem do dataframe para a base de dados pode ser feita com recurso ao seguinte código:\n",
    "```\n",
    "taxi.to_sql('taxi', conn)\n",
    "```"
   ]
  },
  {
   "cell_type": "markdown",
   "metadata": {},
   "source": [
    "A passagem do dataframe como um todo pode no entanto levar à geração de um `out of memory error`. Para evitar esse tipo de problemas podemos recorrer a chunks. O código abaixo exemplifica a leitura de chunks a partir do ficheiro csv e a sua passagem para a base de dados. Cada chunk corresponde a 50k linhas. No código é também possível observar a criação da tabela \"taxi\"."
   ]
  },
  {
   "cell_type": "code",
   "execution_count": null,
   "metadata": {
    "code_folding": []
   },
   "outputs": [],
   "source": [
    "chunk_size=50000\n",
    "batch_no=1\n",
    "#for chunk in pd.read_csv('data/yellow_tripdata_2016-03.csv',chunksize=chunk_size,iterator=True):\n",
    "for chunk in pd.read_csv('f:\\O meu disco\\data\\BigData\\yellow_taxi_data\\yellow_tripdata_2016-03.csv',chunksize=chunk_size,iterator=True):\n",
    "    chunk.to_sql('taxi',conn, if_exists='append')\n",
    "    batch_no+=1\n",
    "    print('index: {}'.format(batch_no))"
   ]
  },
  {
   "cell_type": "markdown",
   "metadata": {},
   "source": [
    "Posteriormente, podemos recorrer a código SQL para ler os dados a partir da base de dados. Naturalmente o ficheiro da base de dados encontra-se guardado no disco e o jupyter notebook acabará por importar apenas o resultado da query, levando a uma menor ocupação da memória RAM."
   ]
  },
  {
   "cell_type": "code",
   "execution_count": null,
   "metadata": {},
   "outputs": [],
   "source": [
    "import pandas as pd\n",
    "taxi = pd.read_sql('SELECT * FROM taxi WHERE passenger_count <5 AND trip_distance > 10', conn)\n",
    "taxi.head()"
   ]
  },
  {
   "attachments": {
    "imagem.png": {
     "image/png": "[encoded data removed]"
    }
   },
   "cell_type": "markdown",
   "metadata": {},
   "source": [
    "![imagem.png](attachment:imagem.png)"
   ]
  },
  {
   "cell_type": "markdown",
   "metadata": {},
   "source": [
    "Se pretender ver as últimas 5 linhas pode efetuar um `tail`"
   ]
  },
  {
   "cell_type": "code",
   "execution_count": null,
   "metadata": {},
   "outputs": [],
   "source": [
    "taxi.tail()"
   ]
  }
 ],
 "metadata": {
  "kernelspec": {
   "display_name": "Python 3 (ipykernel)",
   "language": "python",
   "name": "python3"
  },
  "language_info": {
   "codemirror_mode": {
    "name": "ipython",
    "version": 3
   },
   "file_extension": ".py",
   "mimetype": "text/x-python",
   "name": "python",
   "nbconvert_exporter": "python",
   "pygments_lexer": "ipython3",
   "version": "3.11.7"
  },
  "toc": {
   "base_numbering": 1,
   "nav_menu": {},
   "number_sections": true,
   "sideBar": true,
   "skip_h1_title": false,
   "title_cell": "Table of Contents",
   "title_sidebar": "Contents",
   "toc_cell": true,
   "toc_position": {
    "height": "calc(100% - 180px)",
    "left": "10px",
    "top": "150px",
    "width": "256px"
   },
   "toc_section_display": true,
   "toc_window_display": true
  }
 },
 "nbformat": 4,
 "nbformat_minor": 4
}
