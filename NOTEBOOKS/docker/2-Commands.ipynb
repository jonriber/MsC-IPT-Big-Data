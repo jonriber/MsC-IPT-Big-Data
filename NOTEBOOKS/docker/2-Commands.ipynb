{
 "cells": [
  {
   "cell_type": "markdown",
   "metadata": {},
   "source": [
    "<div style=\"border: 1px solid black\">\n",
    "<b><center><font size=\"4\">Data Science Toolkit</font></center></b>\n",
    "\n",
    "<b><center><font size=\"2\">Docker</font></center></b>\n",
    "\n",
    "<b><center><font size=\"1\">2 - Docker Commands</font></center></b>\n",
    "</div>"
   ]
  },
  {
   "cell_type": "markdown",
   "metadata": {},
   "source": [
    "**Developed by**: [Ricardo Campos](https://www.di.ubi.pt/~rcampos)<br>\n",
    "**email:**  ricardo.campos@ubi.pt<br>\n",
    "**Affiliation:** *Assistant Professor* @ [University of Beira Interior](http://www.ubi.pt);\n",
    "*Researcher* @ [LIAAD](https://www.inesctec.pt/en/centres/liaad)-[INESC TEC](https://www.inesctec.pt/en)\n",
    "\n",
    "<hr>\n",
    "\n",
    "<p><a href=\"2-Commands.ipynb\" title=\"Download Notebook\" download><img src=\"https://www.di.ubi.pt/~rcampos/assets/img_tutorials/download.jpg\" align = \"left\" width=\"50\" height=\"50\" alt=\"Download Notebook\"></a></p>\n",
    "<p>&nbsp;</p>\n",
    "<p>&nbsp;</p>\n",
    "\n",
    "<hr>"
   ]
  },
  {
   "cell_type": "markdown",
   "metadata": {
    "toc": true
   },
   "source": [
    "<h1>Table of Contents<span class=\"tocSkip\"></span></h1>\n",
    "<div class=\"toc\"><ul class=\"toc-item\"><li><span><a href=\"#Docker-Commands\" data-toc-modified-id=\"Docker-Commands-1\"><span class=\"toc-item-num\">1&nbsp;&nbsp;</span>Docker Commands</a></span><ul class=\"toc-item\"><li><span><a href=\"#Stop/Remove-Container\" data-toc-modified-id=\"Stop/Remove-Container-1.1\"><span class=\"toc-item-num\">1.1&nbsp;&nbsp;</span>Stop/Remove Container</a></span></li><li><span><a href=\"#Stop/Remove-images\" data-toc-modified-id=\"Stop/Remove-images-1.2\"><span class=\"toc-item-num\">1.2&nbsp;&nbsp;</span>Stop/Remove images</a></span></li><li><span><a href=\"#dangling\" data-toc-modified-id=\"dangling-1.3\"><span class=\"toc-item-num\">1.3&nbsp;&nbsp;</span>dangling</a></span></li><li><span><a href=\"#Exit/Restart-container\" data-toc-modified-id=\"Exit/Restart-container-1.4\"><span class=\"toc-item-num\">1.4&nbsp;&nbsp;</span>Exit/Restart container</a></span></li><li><span><a href=\"#Restart-Container\" data-toc-modified-id=\"Restart-Container-1.5\"><span class=\"toc-item-num\">1.5&nbsp;&nbsp;</span>Restart Container</a></span></li></ul></li><li><span><a href=\"#Download-an-image\" data-toc-modified-id=\"Download-an-image-2\"><span class=\"toc-item-num\">2&nbsp;&nbsp;</span>Download an image</a></span></li><li><span><a href=\"#Run-an-Image\" data-toc-modified-id=\"Run-an-Image-3\"><span class=\"toc-item-num\">3&nbsp;&nbsp;</span>Run an Image</a></span><ul class=\"toc-item\"><li><span><a href=\"#List-Files\" data-toc-modified-id=\"List-Files-3.1\"><span class=\"toc-item-num\">3.1&nbsp;&nbsp;</span>List Files</a></span></li><li><span><a href=\"#Create-Container\" data-toc-modified-id=\"Create-Container-3.2\"><span class=\"toc-item-num\">3.2&nbsp;&nbsp;</span>Create Container</a></span></li><li><span><a href=\"#Bash-Shell\" data-toc-modified-id=\"Bash-Shell-3.3\"><span class=\"toc-item-num\">3.3&nbsp;&nbsp;</span>Bash Shell</a></span></li></ul></li><li><span><a href=\"#Inspect-Size\" data-toc-modified-id=\"Inspect-Size-4\"><span class=\"toc-item-num\">4&nbsp;&nbsp;</span>Inspect Size</a></span></li><li><span><a href=\"#Transfer-Files-from-Windows2Docker\" data-toc-modified-id=\"Transfer-Files-from-Windows2Docker-5\"><span class=\"toc-item-num\">5&nbsp;&nbsp;</span>Transfer Files from Windows2Docker</a></span><ul class=\"toc-item\"><li><span><a href=\"#Alternative-1:-Copy-into-a-Container\" data-toc-modified-id=\"Alternative-1:-Copy-into-a-Container-5.1\"><span class=\"toc-item-num\">5.1&nbsp;&nbsp;</span>Alternative 1: Copy into a Container</a></span></li><li><span><a href=\"#Alternative-2:-Mount-a-Volume\" data-toc-modified-id=\"Alternative-2:-Mount-a-Volume-5.2\"><span class=\"toc-item-num\">5.2&nbsp;&nbsp;</span>Alternative 2: Mount a Volume</a></span></li></ul></li><li><span><a href=\"#Run-an-Image-(Jupyter-Notebook)\" data-toc-modified-id=\"Run-an-Image-(Jupyter-Notebook)-6\"><span class=\"toc-item-num\">6&nbsp;&nbsp;</span>Run an Image (Jupyter Notebook)</a></span><ul class=\"toc-item\"><li><span><a href=\"#How-to-re-launch-Jupyter-Notebook-in-the-future?\" data-toc-modified-id=\"How-to-re-launch-Jupyter-Notebook-in-the-future?-6.1\"><span class=\"toc-item-num\">6.1&nbsp;&nbsp;</span>How to re-launch Jupyter Notebook in the future?</a></span></li><li><span><a href=\"#What-if-I-didn't-define-a-password-and-have-forgoten-the-token?\" data-toc-modified-id=\"What-if-I-didn't-define-a-password-and-have-forgoten-the-token?-6.2\"><span class=\"toc-item-num\">6.2&nbsp;&nbsp;</span>What if I didn't define a password and have forgoten the token?</a></span></li></ul></li></ul></div>"
   ]
  },
  {
   "cell_type": "markdown",
   "metadata": {},
   "source": [
    "# Commands in Docker"
   ]
  },
  {
   "cell_type": "markdown",
   "metadata": {},
   "source": [
    "<div class=\"alert alert-success alertsuccess\" style=\"margin-top: 20px\">\n",
    "\n",
    "## Objetivos de aprendizagem  <a class=\"tocSkip\">\n",
    "    \n",
    "No final deste notebook o aluno deverá ter conhecimento dos principais comandos docker, saber criar e gerir contentores e imagens.\n",
    "\n",
    "\n",
    "## Learning Objectives  <a class=\"tocSkip\">\n",
    "       \n",
    "When concluding this notebook, the student should be familiar with the main commands of docker, know how to create and manage containers and images. </div>"
   ]
  },
  {
   "cell_type": "markdown",
   "metadata": {},
   "source": [
    "<div class=\"alert alert-success alertsuccess\" style=\"margin-top: 20px\">\n",
    "\n",
    "## Sumário  <a class=\"tocSkip\">\n",
    "### Comandos Docker <a class=\"tocSkip\">\n",
    "\n",
    "Introdução dos alunos ao docker desktop e aos comandos que permitem criar e gerir contentores e imagens.\n",
    "    \n",
    "## Class Summary  <a class=\"tocSkip\">\n",
    "### Docker Commands <a class=\"tocSkip\">\n",
    "Introducing students to docker desktop and to the commands that allow one to create and manage containers and images.\n",
    "\n",
    "</div>"
   ]
  },
  {
   "cell_type": "markdown",
   "metadata": {},
   "source": [
    "## Docker Commands\n",
    "The base commands for the Docker CLI (Command Line Interface)"
   ]
  },
  {
   "cell_type": "markdown",
   "metadata": {
    "collapsed": true
   },
   "source": [
    "``` \n",
    "docker (lists all docker commands)\n",
    "docker version (prints docker version)\n",
    "docker info (prints several information)\n",
    "docker diff ContainerID (Inspect changes to files or directories on a container’s filesystem)\n",
    "docker images (lists installed images)\n",
    "docker ps (lists which containers are running)\n",
    "docker ps -a (lists finished containers)\n",
    "docker run (runs a new container)\n",
    "docker network ls (to check the networks created)\n",
    "exit (logout do docker)\n",
    "``` "
   ]
  },
  {
   "cell_type": "markdown",
   "metadata": {},
   "source": [
    "### Stop/Remove Container"
   ]
  },
  {
   "cell_type": "markdown",
   "metadata": {},
   "source": [
    "Stop and remove one container."
   ]
  },
  {
   "cell_type": "markdown",
   "metadata": {},
   "source": [
    "``` \n",
    "docker stop idcontainer (stops a container identified by the idcontainer)\n",
    "docker rm -f idcontainer (removes a container identified by the idcontainer)\n",
    "``` "
   ]
  },
  {
   "cell_type": "markdown",
   "metadata": {},
   "source": [
    "Stop and remove all the containers (only works on Docker Toolbox or Windows PowerShell)"
   ]
  },
  {
   "cell_type": "markdown",
   "metadata": {},
   "source": [
    "```\n",
    "docker stop $(docker ps -a -q) (stops all the containers)\n",
    "docker rm $(docker ps -a -q) (removes all the containers)\n",
    "```"
   ]
  },
  {
   "cell_type": "markdown",
   "metadata": {},
   "source": [
    "### Stop/Remove images"
   ]
  },
  {
   "cell_type": "markdown",
   "metadata": {},
   "source": [
    "Remove one image (note: removing an image is only possible if no containers of it are running. Thus if the image has some containers running, these shoulf be first stopped and removed with the previous commands)."
   ]
  },
  {
   "cell_type": "markdown",
   "metadata": {
    "collapsed": true
   },
   "source": [
    "``` \n",
    "docker rmi id (removes an image, where id is either the imageid or the image name)\n",
    "``` "
   ]
  },
  {
   "cell_type": "markdown",
   "metadata": {},
   "source": [
    "Remove all the images (only works on Docker Toolbox or Windows PowerShell)"
   ]
  },
  {
   "cell_type": "markdown",
   "metadata": {},
   "source": [
    "``` \n",
    "docker stop $(docker images -q) (stops all the images)\n",
    "docker rm $(docker images -q) (removes all the images)\n",
    "``` "
   ]
  },
  {
   "cell_type": "markdown",
   "metadata": {},
   "source": [
    "### dangling"
   ]
  },
  {
   "cell_type": "markdown",
   "metadata": {},
   "source": [
    "Sometimes when something went wrong upon the creation of some image, we get a <none> image without any name that can aid us in the process of removing them. To do so, execute the following code (only works on Docker Toolbox or Windows PowerShell):"
   ]
  },
  {
   "cell_type": "markdown",
   "metadata": {},
   "source": [
    "To list pending images: `docker image ls -f dangling=true`"
   ]
  },
  {
   "cell_type": "markdown",
   "metadata": {},
   "source": [
    "To remove pending images (only works on Docker Toolbox or Windows PowerShell): `docker image rm $(docker image ls -f dangling=true -q)`."
   ]
  },
  {
   "cell_type": "markdown",
   "metadata": {},
   "source": [
    "To remove directly from cmd: `docker image prune -a`."
   ]
  },
  {
   "cell_type": "markdown",
   "metadata": {},
   "source": [
    "To remove the build cache, we can use the following command: `docker builder prune`."
   ]
  },
  {
   "cell_type": "markdown",
   "metadata": {},
   "source": [
    "Cleaning Everything at Once. The prune subcommand is available at the Docker’s system-level so it reclaims all the unused disk space at once: `docker system prune`. This will remove:"
   ]
  },
  {
   "cell_type": "markdown",
   "metadata": {},
   "source": [
    "- all stopped containers\n",
    "- all networks not used by at least one container\n",
    "- all dangling images\n",
    "- all dangling build cache"
   ]
  },
  {
   "cell_type": "markdown",
   "metadata": {},
   "source": [
    "### Exit/Restart container"
   ]
  },
  {
   "cell_type": "markdown",
   "metadata": {
    "collapsed": true
   },
   "source": [
    "``` \n",
    "exit (exits docker)\n",
    "``` "
   ]
  },
  {
   "cell_type": "markdown",
   "metadata": {},
   "source": [
    "### Restart Container"
   ]
  },
  {
   "cell_type": "markdown",
   "metadata": {},
   "source": [
    "If you plan to start a container after exit (from the point that you left it) use the following commands. Using docker run, instead of these commands will create a all new container."
   ]
  },
  {
   "cell_type": "markdown",
   "metadata": {},
   "source": [
    "``` \n",
    "docker start ContainerId(start one stopped container. To know the ContainerID: check docker ps -a.)\n",
    "docker attach ContainerId (attach to a running container)\n",
    "``` "
   ]
  },
  {
   "cell_type": "markdown",
   "metadata": {},
   "source": [
    "More commands [here](https://docs.docker.com/engine/reference/commandline/docker/)"
   ]
  },
  {
   "cell_type": "markdown",
   "metadata": {},
   "source": [
    "## Download an image\n",
    "[Docker hub](https://hub.docker.com/explore/) has plenty of images.\n",
    "In the following we will download a webserver"
   ]
  },
  {
   "cell_type": "markdown",
   "metadata": {
    "collapsed": true
   },
   "source": [
    "``` \n",
    "docker pull nginx\n",
    "```"
   ]
  },
  {
   "cell_type": "markdown",
   "metadata": {},
   "source": [
    "## Run an Image"
   ]
  },
  {
   "cell_type": "markdown",
   "metadata": {},
   "source": [
    "### List Files"
   ]
  },
  {
   "cell_type": "markdown",
   "metadata": {},
   "source": [
    "We can run a container and immediately remove it (`--rm`) after its execution. In the following, we show how to check the structure file of the image:"
   ]
  },
  {
   "cell_type": "markdown",
   "metadata": {},
   "source": [
    "``` \n",
    "docker run --rm nginx ls -la /\n",
    "``` "
   ]
  },
  {
   "cell_type": "markdown",
   "metadata": {},
   "source": [
    "You can also look for all the files that exist within the `/usr/share/nginx/html` folder:"
   ]
  },
  {
   "cell_type": "markdown",
   "metadata": {},
   "source": [
    "``` \n",
    "docker run --rm nginx ls -la /usr/share/nginx/html\n",
    "``` "
   ]
  },
  {
   "cell_type": "markdown",
   "metadata": {},
   "source": [
    "### Create Container "
   ]
  },
  {
   "cell_type": "markdown",
   "metadata": {},
   "source": [
    "- docker run, is the command\n",
    "\n",
    "- -d, runs the container in detached mode, as a background process. Otherwise, we would just be watching an empty Nginx prompt and wouldn't be able to use this terminal until we killed Nginx.\n",
    "\n",
    "- -p 5000:80, sets the ports so that we can access the server from our machine. (host:container) means that you are exposing container 80 (Nginx container is listening on port 80 by default) to port 5000 on the host system. Docker uses a : to split the host's path from the container path, and the host path always comes first.\n",
    "\n",
    "- --name webserver, gives the name webserver to the container so we can refer to it more easily.\n",
    "\n",
    "- nginx, specifies that the container should be built from the nginx image"
   ]
  },
  {
   "cell_type": "markdown",
   "metadata": {
    "collapsed": true
   },
   "source": [
    "``` \n",
    "docker run -d -p 5000:80 --name webserver nginx\n",
    "``` "
   ]
  },
  {
   "cell_type": "markdown",
   "metadata": {},
   "source": [
    "Go to your browser and type in the following: `http://localhost:5000`. In case you are working with docker toolbox: type in docker-machine ip to obtain your IP Address: `http://192.168.99.100:5000`."
   ]
  },
  {
   "cell_type": "markdown",
   "metadata": {},
   "source": [
    "### Bash Shell"
   ]
  },
  {
   "cell_type": "markdown",
   "metadata": {},
   "source": [
    "Finally, we can enter into the shell of the container and browse through its folders. Once we are done we type \"exit\" and the container will be removed due to the `--rm` option:"
   ]
  },
  {
   "cell_type": "markdown",
   "metadata": {},
   "source": [
    "```\n",
    "docker run --rm -it --entrypoint /bin/sh nginx\n",
    "```"
   ]
  },
  {
   "cell_type": "markdown",
   "metadata": {},
   "source": [
    "Alternatively, we can enter into a shell of an existing container (such as webserver). To this regard we will use the `exec` command:"
   ]
  },
  {
   "cell_type": "markdown",
   "metadata": {},
   "source": [
    "```\n",
    "docker exec -ti webserver /bin/sh\n",
    "```"
   ]
  },
  {
   "cell_type": "markdown",
   "metadata": {},
   "source": [
    "## Inspect Size"
   ]
  },
  {
   "cell_type": "markdown",
   "metadata": {},
   "source": [
    "- `docker container ls -s`: ver o tamanho de um contentor que está a correr\n",
    "- `docker image ls`: ver o tamanho das imagens\n",
    "- `docker image history my_image:my_tag`: tamanho das imagens intermédias que fazem a nossa imagem (e.g., `docker image history nginx:latest`)\n",
    "- `docker image inspect my_image:my_tag`: detalha as informações acerca da nossa imagem (e.g., `docker image inspect nginx:latest`"
   ]
  },
  {
   "cell_type": "markdown",
   "metadata": {},
   "source": [
    "Outros comandos como  `docker system df` facultam informação acerca do seguinte:"
   ]
  },
  {
   "cell_type": "markdown",
   "metadata": {},
   "source": [
    "- Images: The size of the images that have been pulled from a registry and the ones built locally.\n",
    "- Containers: The disk space used by the containers running on the system, meaning the space of each containers’ read-write layer.\n",
    "- Local Volumes: Storage persisted on the host but outside of a container’s filesystem.\n",
    "- Build Cache: the cache generated by the image build process (only if using BuildKit, available from Docker 18.09)."
   ]
  },
  {
   "cell_type": "markdown",
   "metadata": {},
   "source": [
    "## Transfer Files from Windows2Docker"
   ]
  },
  {
   "cell_type": "markdown",
   "metadata": {},
   "source": [
    "### Alternative 1: Copy into a Container"
   ]
  },
  {
   "cell_type": "markdown",
   "metadata": {},
   "source": [
    "Use docker `cp` command in Windows CMD to copy local files (i.e., from Windows) into a container. Files can be copied from whatever folder you want to. The following example copies file index.html from your local folder into the webserver container (more specifically to the /usr/share/nginx/html folder)"
   ]
  },
  {
   "cell_type": "markdown",
   "metadata": {},
   "source": [
    "If you don't have an index.html file you can simulate one. Open notepad and paste the code below. Save as index.html (make sure you do not save it as index.txt)."
   ]
  },
  {
   "cell_type": "markdown",
   "metadata": {},
   "source": [
    "``` \n",
    "<html><body><h1>Hello World</h1></body></html>\n",
    "``` "
   ]
  },
  {
   "cell_type": "markdown",
   "metadata": {},
   "source": [
    "On CMD Windows use the following to copy index.html from your local folder to the www nginx folder."
   ]
  },
  {
   "cell_type": "markdown",
   "metadata": {},
   "source": [
    "``` \n",
    "docker cp index.html webserver:/usr/share/nginx/html\n",
    "``` "
   ]
  },
  {
   "cell_type": "markdown",
   "metadata": {},
   "source": [
    "Go to your browser and type in the following:"
   ]
  },
  {
   "cell_type": "markdown",
   "metadata": {},
   "source": [
    "`http://localhost:5000`"
   ]
  },
  {
   "cell_type": "markdown",
   "metadata": {},
   "source": [
    "Press F5 to get ride of the old index.html"
   ]
  },
  {
   "cell_type": "markdown",
   "metadata": {},
   "source": [
    "Next step is to stop the container and to remove it:"
   ]
  },
  {
   "cell_type": "markdown",
   "metadata": {},
   "source": [
    "``` \n",
    "docker stop webserver\n",
    "docker rm -f webserver\n",
    "``` "
   ]
  },
  {
   "cell_type": "markdown",
   "metadata": {},
   "source": [
    "### Alternative 2: Mount a Volume"
   ]
  },
  {
   "cell_type": "markdown",
   "metadata": {},
   "source": [
    "Mounting a volume is a really nice feature of Docker. Instead of transferring our data into the container, we can make a folder on our local machine visible inside the container by mounting a volume."
   ]
  },
  {
   "cell_type": "markdown",
   "metadata": {},
   "source": [
    "We do this with the `-v` switch on the docker run command, specifying the local folder we want to mount, and the location in which it should appear on the container. Note: the folder public_html will be created automatically if it doesn't exist). Then copy a file `index.html` with the following content `<html><body><h1>Hello World</h1></body></html>` inside the folder."
   ]
  },
  {
   "cell_type": "markdown",
   "metadata": {},
   "source": [
    "`docker run -d -p 5000:80 --name webserver -v /h/public_html:/usr/share/nginx/html nginx`"
   ]
  },
  {
   "cell_type": "markdown",
   "metadata": {},
   "source": [
    "- docker run, is the command\n",
    "\n",
    "- -d, runs the container in detached mode, as a background process. Otherwise, we would just be watching an empty Nginx prompt and wouldn't be able to use this terminal until we killed Nginx.\n",
    "\n",
    "- -p 5000:80, sets the ports so that we can access the server from our machine. (host:container) means that you are exposing container 80 (Nginx container is listening on port 80 by default) to port 5000 on the host system. Docker uses a : to split the host's path from the container path, and the host path always comes first.\n",
    "\n",
    "- --name webserver, gives the name webserver to the container so we can refer to it more easily.\n",
    "\n",
    "- -v /h/public_html:/usr/share/nginx/html sets up a bindmount volume that links the /usr/share/nginx/html directory from inside the Nginx container to the /h/public_html directory on the host machine. Docker uses a : to split the host's path from the container path, and the host path always comes first.\n",
    "\n",
    "- nginx, specifies that the container should be built from the nginx image"
   ]
  },
  {
   "cell_type": "markdown",
   "metadata": {},
   "source": [
    "`http://localhost:5000`"
   ]
  },
  {
   "cell_type": "markdown",
   "metadata": {},
   "source": [
    "## Run an Image (Jupyter Notebook)"
   ]
  },
  {
   "cell_type": "markdown",
   "metadata": {},
   "source": [
    "Some images will give you the chance to launch jupyter notebook. We illustrate this by running `Spark` image (which has naturally been downloaded before) mounted on top of a BigData folder that exists on the desktop."
   ]
  },
  {
   "cell_type": "markdown",
   "metadata": {},
   "source": [
    "<img src=\"https://www.di.ubi.pt/~rcampos/assets/img_tutorials/DataScience/Docker4.jpg\" width=\"600\" height=\"600\" align=\"center\"/>"
   ]
  },
  {
   "cell_type": "markdown",
   "metadata": {},
   "source": [
    "To access the jupyter notebook one should type in the following address on the browser: http://localhost:8890"
   ]
  },
  {
   "cell_type": "markdown",
   "metadata": {},
   "source": [
    "Once this is done, you will be shown the following image:"
   ]
  },
  {
   "cell_type": "markdown",
   "metadata": {},
   "source": [
    "<img src=\"https://www.di.ubi.pt/~rcampos/assets/img_tutorials/DataScience/jupyter4.jpg\" width=\"600\" height=\"600\" align=\"center\"/>"
   ]
  },
  {
   "cell_type": "markdown",
   "metadata": {},
   "source": [
    "Now do one of two things:\n",
    "- past the token in the browser (red box in the above figure)\n",
    "- or setup a password (see in the figure - setup password). Enough to say that this is way more safe (as you might run the chances of forgetting the token in the future)."
   ]
  },
  {
   "cell_type": "markdown",
   "metadata": {},
   "source": [
    "### How to re-launch Jupyter Notebook in the future?"
   ]
  },
  {
   "cell_type": "markdown",
   "metadata": {},
   "source": [
    "If in the future, you might what to play again with the same instance of Spark. In docker do the following:\n",
    "- `docker start Spark`\n",
    "- `docker attach Spark`"
   ]
  },
  {
   "cell_type": "markdown",
   "metadata": {},
   "source": [
    "- <u>docker desktop</u>: http://localhost:8890"
   ]
  },
  {
   "cell_type": "markdown",
   "metadata": {},
   "source": [
    "### What if I didn't define a password and have forgoten the token?"
   ]
  },
  {
   "cell_type": "markdown",
   "metadata": {},
   "source": [
    "In that case, you can execute the following command on docker before doing docker start or attach. "
   ]
  },
  {
   "cell_type": "markdown",
   "metadata": {},
   "source": [
    "`\n",
    "docker exec -it <docker_container_name> jupyter notebook list\n",
    "`"
   ]
  },
  {
   "cell_type": "markdown",
   "metadata": {},
   "source": [
    "where the `<docker_container_name>` is the name of the container or the id."
   ]
  }
 ],
 "metadata": {
  "kernelspec": {
   "display_name": "Python 3 (ipykernel)",
   "language": "python",
   "name": "python3"
  },
  "language_info": {
   "codemirror_mode": {
    "name": "ipython",
    "version": 3
   },
   "file_extension": ".py",
   "mimetype": "text/x-python",
   "name": "python",
   "nbconvert_exporter": "python",
   "pygments_lexer": "ipython3",
   "version": "3.9.7"
  },
  "toc": {
   "base_numbering": 1,
   "nav_menu": {},
   "number_sections": true,
   "sideBar": true,
   "skip_h1_title": true,
   "title_cell": "Table of Contents",
   "title_sidebar": "Contents",
   "toc_cell": true,
   "toc_position": {
    "height": "calc(100% - 180px)",
    "left": "10px",
    "top": "150px",
    "width": "281.6px"
   },
   "toc_section_display": true,
   "toc_window_display": true
  }
 },
 "nbformat": 4,
 "nbformat_minor": 2
}
