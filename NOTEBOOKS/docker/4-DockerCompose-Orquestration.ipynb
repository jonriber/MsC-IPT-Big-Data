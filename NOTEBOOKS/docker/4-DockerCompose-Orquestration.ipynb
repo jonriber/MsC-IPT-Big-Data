{
 "cells": [
  {
   "cell_type": "markdown",
   "metadata": {},
   "source": [
    "<div style=\"border: 1px solid black\">\n",
    "<b><center><font size=\"4\">Data Science Toolkit</font></center></b>\n",
    "\n",
    "<b><center><font size=\"2\">Docker</font></center></b>\n",
    "\n",
    "<b><center><font size=\"1\">4 - Docker Orquestration</font></center></b>\n",
    "</div>"
   ]
  },
  {
   "cell_type": "markdown",
   "metadata": {},
   "source": [
    "**Developed by**: [Ricardo Campos](https://www.di.ubi.pt/~rcampos)<br>\n",
    "**email:**  ricardo.campos@ubi.pt<br>\n",
    "**Affiliation:** *Assistant Professor* @ [University of Beira Interior](http://www.ubi.pt);\n",
    "*Researcher* @ [LIAAD](https://www.inesctec.pt/en/centres/liaad)-[INESC TEC](https://www.inesctec.pt/en)\n",
    "\n",
    "<hr>\n",
    "\n",
    "<p><a href=\"4-DockerCompose-Orquestration.ipynb\" title=\"Download Notebook\" download><img src=\"https://www.di.ubi.pt/~rcampos/assets/img_tutorials/download.jpg\" align = \"left\" width=\"50\" height=\"50\" alt=\"Download Notebook\"></a></p>\n",
    "<p>&nbsp;</p>\n",
    "<p>&nbsp;</p>\n",
    "\n",
    "<hr>"
   ]
  },
  {
   "cell_type": "markdown",
   "metadata": {
    "toc": true
   },
   "source": [
    "<h1>Table of Contents<span class=\"tocSkip\"></span></h1>\n",
    "<div class=\"toc\"><ul class=\"toc-item\"><li><span><a href=\"#Docker-Compose-Orquestration\" data-toc-modified-id=\"Docker-Compose-Orquestration-1\"><span class=\"toc-item-num\">1&nbsp;&nbsp;</span>Docker Compose Orquestration</a></span></li><li><span><a href=\"#What-is-Docker-Compose\" data-toc-modified-id=\"What-is-Docker-Compose-2\"><span class=\"toc-item-num\">2&nbsp;&nbsp;</span>What is Docker Compose</a></span></li><li><span><a href=\"#Docker-Compose-File-(.yaml)\" data-toc-modified-id=\"Docker-Compose-File-(.yaml)-3\"><span class=\"toc-item-num\">3&nbsp;&nbsp;</span>Docker Compose File (.yaml)</a></span></li><li><span><a href=\"#Run\" data-toc-modified-id=\"Run-4\"><span class=\"toc-item-num\">4&nbsp;&nbsp;</span>Run</a></span></li></ul></div>"
   ]
  },
  {
   "cell_type": "markdown",
   "metadata": {},
   "source": [
    "<hr>"
   ]
  },
  {
   "cell_type": "markdown",
   "metadata": {},
   "source": [
    "## Docker Compose Orquestration"
   ]
  },
  {
   "cell_type": "markdown",
   "metadata": {},
   "source": [
    "<div class=\"alert alert-success alertsuccess\" style=\"margin-top: 20px\">\n",
    "\n",
    "## Objetivos de aprendizagem  <a class=\"tocSkip\">\n",
    "    \n",
    "No final deste notebook o aluno deverá ter conhecimentos básicos sobre orquestração em docker.\n",
    "\n",
    "\n",
    "## Learning Objectives  <a class=\"tocSkip\">\n",
    "       \n",
    "When concluding this notebook, the student should have basic concepts of docker orquestration. </div>"
   ]
  },
  {
   "cell_type": "markdown",
   "metadata": {},
   "source": [
    "<div class=\"alert alert-success alertsuccess\" style=\"margin-top: 20px\">\n",
    "\n",
    "## Sumário  <a class=\"tocSkip\">\n",
    "### Orquestração em Docker <a class=\"tocSkip\">\n",
    "\n",
    "Introdução dos alunos à orquestração em docker.\n",
    "- Conceito de orquestração;\n",
    "- Criação de um ficheiro de orquestração;\n",
    "- Execução de um ficheiro de orquestração.\n",
    "    \n",
    "## Class Summary  <a class=\"tocSkip\">\n",
    "### Docker Orquestration <a class=\"tocSkip\">\n",
    "Introduction to docker orquestration.\n",
    "- Notions of orquestration;\n",
    "- Creating a docker orquestration file;\n",
    "- Running a docker orquestration file.\n",
    "\n",
    "</div>"
   ]
  },
  {
   "cell_type": "markdown",
   "metadata": {},
   "source": [
    "<hr>"
   ]
  },
  {
   "cell_type": "markdown",
   "metadata": {},
   "source": [
    "## What is Docker Compose"
   ]
  },
  {
   "cell_type": "markdown",
   "metadata": {},
   "source": [
    "Compose is a tool for defining and running multi-container Docker applications as a single service. With Compose, you use a YAML file to configure your application’s services. Then, with a single command, you create and start all the services from your configuration."
   ]
  },
  {
   "cell_type": "markdown",
   "metadata": {},
   "source": [
    "<img src=\"https://www.di.ubi.pt/~rcampos/assets/img_tutorials/DataScience/DockerCompose.jpg\" width=\"300\" height=\"300\" align=\"center\"/>"
   ]
  },
  {
   "cell_type": "markdown",
   "metadata": {},
   "source": [
    "For example, suppose you had an application which required ElasticSearch and Kibana (a free and open user interface that lets you visualize your Elasticsearch data), you could create one file which would start both the containers as a service without the need to start each one separately."
   ]
  },
  {
   "cell_type": "markdown",
   "metadata": {},
   "source": [
    "Using Compose is basically a three-step process:\n",
    "- Define your app’s environment with a Docker compose file so it can be reproduced anywhere.\n",
    "- Define the services that make up your app in `docker-compose.yml` so they can be run together in an isolated environment.\n",
    "- Run `docker-compose up` and Compose starts and runs your entire app.\n",
    "- You can also run `docker-compose up -d` which will run in dettacted mode."
   ]
  },
  {
   "cell_type": "markdown",
   "metadata": {},
   "source": [
    "`docker-compose up --build --detach` builds the images if the images do not exist and starts the containers in detached mode."
   ]
  },
  {
   "cell_type": "markdown",
   "metadata": {},
   "source": [
    "Now suppose the system needs to re-build an image which makes use of a python package that has suffered an update. It happens that upon building Docker will likely make use of a cached version. To re-build it from the scratch you should use the following commands:"
   ]
  },
  {
   "cell_type": "markdown",
   "metadata": {},
   "source": [
    "```python\n",
    "docker-compose build --no-cache\n",
    "docker-compose up -detach\n",
    "```"
   ]
  },
  {
   "cell_type": "markdown",
   "metadata": {},
   "source": [
    "## Docker Compose File (.yaml)"
   ]
  },
  {
   "cell_type": "markdown",
   "metadata": {},
   "source": [
    "Based on: https://quoeamaster.medium.com/deploying-elasticsearch-and-kibana-with-docker-86a4ac78d851"
   ]
  },
  {
   "cell_type": "markdown",
   "metadata": {},
   "source": [
    "Begin by creating a folder (e.g., `H:\\Backup\\Research\\Programming\\CodePython\\MyDocker\\ElasticSearch`) which will hold both the `docker-compose.yml` and the `data` folder (which you should also create by hand)."
   ]
  },
  {
   "cell_type": "markdown",
   "metadata": {},
   "source": [
    "All Docker Compose files are YAML (Ain’t Markup Language) files. In the following we show how to download and run ElasticSearch and Kibana with a single command. Now let’s go ahead and create our first Docker Compose file (`docker-compose.yml`). Save it under the given folder (e.g., `H:\\Backup\\Research\\Programming\\CodePython\\MyDocker\\ElasticSearch`). Note que os nomes das imagens e dos containers deverão ser minúsculas."
   ]
  },
  {
   "cell_type": "markdown",
   "metadata": {},
   "source": [
    "```\n",
    "version: \"3.8\"\n",
    "services:\n",
    "  \n",
    "  elastic_search:\n",
    "    image: docker.elastic.co/elasticsearch/elasticsearch:7.16.1\n",
    "    container_name: elastic_search\n",
    "    restart: always\n",
    "    environment:\n",
    "      - discovery.type=single-node\n",
    "      - \"ES_JAVA_OPTS=-Xms512m -Xmx512m\"\n",
    "    ulimits:\n",
    "      memlock:\n",
    "        soft: -1\n",
    "        hard: -1\n",
    "    volumes:\n",
    "      - es_data:/usr/share/elasticsearch/data\n",
    "    ports:\n",
    "      - \"9200:9200\"\n",
    "    networks:\n",
    "      - es-network\n",
    "  \n",
    "  kibana:\n",
    "    image: docker.elastic.co/kibana/kibana:7.16.1\n",
    "    container_name: kibana\n",
    "    restart: always\n",
    "    ports:\n",
    "      - \"5601:5601\"\n",
    "    networks:\n",
    "      - es-network\n",
    "    environment:\n",
    "      ELASTICSEARCH_URL: http://elastic_search:9200\n",
    "      ELASTICSEARCH_HOSTS: http://elastic_search:9200\n",
    "    depends_on:\n",
    "      - elastic_search\n",
    "\n",
    "volumes:\n",
    "  es_data:\n",
    "    driver: local\n",
    "    driver_opts:\n",
    "      type: 'none'\n",
    "      o: 'bind'\n",
    "      device: 'h:\\Backup\\Research\\Programming\\CodePython\\MyDocker\\ElasticSearch\\data'\n",
    "\n",
    "networks:\n",
    "  es-network:\n",
    "    driver: bridge\n",
    "```"
   ]
  },
  {
   "cell_type": "markdown",
   "metadata": {},
   "source": [
    "Let’s take a close look at the various details of this file:"
   ]
  },
  {
   "cell_type": "markdown",
   "metadata": {},
   "source": [
    "- Apart from specifying the images, we are mapping the ports of the containers to the ports on the host machine. Elasticsearch runs on port 9200 and Kibana on port 5601 so we are mapping both these ports to the corresponding ports on the host machine.\n",
    "- A `single-node Elasticsearch cluster` is created.\n",
    "- Finally, we mount the folder `/usr/share/elasticsearch/data` where elastic search data is stored to the local volume `es_data`. More precisaly data will be kept in the folder: `h:\\Backup\\Research\\Programming\\JupyterNotebooks\\Python\\Docker\\ElasticSearch\\data`. In case you are using docker toolbox specify the following path instead: `/c/Users/campo/Desktop/ElasticSearch/data`."
   ]
  },
  {
   "cell_type": "markdown",
   "metadata": {},
   "source": [
    "You can also add `PYTHONUNBUFFERED=1` environment variable to each service of the docker-compose whenever you are using a service that should print log messages to the console (such as with Flask APIs)."
   ]
  },
  {
   "cell_type": "markdown",
   "metadata": {},
   "source": [
    "```python\n",
    "environment:\n",
    "      - PYTHONUNBUFFERED=1\n",
    "```"
   ]
  },
  {
   "cell_type": "markdown",
   "metadata": {},
   "source": [
    "## Run"
   ]
  },
  {
   "cell_type": "markdown",
   "metadata": {},
   "source": [
    "Thus, the first thing to do (in your docker machine) is to change the working directory to the one where you have the `yaml` file. In this example, we assume the following path:"
   ]
  },
  {
   "cell_type": "markdown",
   "metadata": {},
   "source": [
    "```\n",
    "h:\n",
    "cd H:\\Backup\\Research\\Programming\\CodePython\\MyDocker\\ElasticSearch\n",
    "```"
   ]
  },
  {
   "cell_type": "markdown",
   "metadata": {},
   "source": [
    "Next, try to start our setup with the above settings by running the following command under the folder where you have your docker compose file:"
   ]
  },
  {
   "cell_type": "markdown",
   "metadata": {},
   "source": [
    "```python\n",
    "docker-compose up --build --detach\n",
    "```"
   ]
  },
  {
   "cell_type": "markdown",
   "metadata": {},
   "source": [
    "This will start pulling the images from docker registry and create the containers. This may take a while depending on whether you already have the images on your machine or not and also depending on your internet speed."
   ]
  },
  {
   "cell_type": "markdown",
   "metadata": {},
   "source": [
    "After that you can log on elastic search as follows:"
   ]
  },
  {
   "cell_type": "markdown",
   "metadata": {},
   "source": [
    "<u>docker desktop</u>:\n",
    "\n",
    "`ElasticSearch`: http://localhost:9200/\n",
    "\n",
    "`kibana`: http://localhost:5601"
   ]
  }
 ],
 "metadata": {
  "kernelspec": {
   "display_name": "Python 3 (ipykernel)",
   "language": "python",
   "name": "python3"
  },
  "language_info": {
   "codemirror_mode": {
    "name": "ipython",
    "version": 3
   },
   "file_extension": ".py",
   "mimetype": "text/x-python",
   "name": "python",
   "nbconvert_exporter": "python",
   "pygments_lexer": "ipython3",
   "version": "3.9.7"
  },
  "toc": {
   "base_numbering": 1,
   "nav_menu": {},
   "number_sections": true,
   "sideBar": true,
   "skip_h1_title": true,
   "title_cell": "Table of Contents",
   "title_sidebar": "Contents",
   "toc_cell": true,
   "toc_position": {
    "height": "calc(100% - 180px)",
    "left": "10px",
    "top": "150px",
    "width": "165px"
   },
   "toc_section_display": true,
   "toc_window_display": true
  }
 },
 "nbformat": 4,
 "nbformat_minor": 2
}
