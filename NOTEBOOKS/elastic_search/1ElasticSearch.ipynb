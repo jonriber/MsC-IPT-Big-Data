{
 "cells": [
  {
   "cell_type": "markdown",
   "metadata": {
    "slideshow": {
     "slide_type": "skip"
    }
   },
   "source": [
    "<div style=\"border: 1px solid black\">\n",
    "<b><center><font size=\"4\">Information Retrieval</font></center></b>\n",
    "\n",
    "<b><center><font size=\"3\">Framewords</font></center></b>\n",
    "\n",
    "<b><center><font size=\"2\">1 - Elastic Search</font></center></b>\n",
    "</div>"
   ]
  },
  {
   "cell_type": "markdown",
   "metadata": {
    "slideshow": {
     "slide_type": "skip"
    }
   },
   "source": [
    "**Notebook Developed by**: [Ricardo Campos](http://www.ccc.ipt.pt/~ricardo)<br>\n",
    "**email:**  ricardo.campos@ubi.pt<br>\n",
    "**Affiliation:** *Assistant Professor* @ [University of Beira Interior](http://www.ubi.pt);\n",
    "*Researcher* @ [LIAAD](https://www.inesctec.pt/en/centres/liaad)-[INESC TEC](https://www.inesctec.pt/en)\n",
    "\n",
    "<hr>\n",
    "\n",
    "<p><a href=\"1ElasticSearch.ipynb\" title=\"Download Notebook\" download><img src=\"https://www.di.ubi.pt/~rcampos/assets/img_tutorials/download.jpg\" align = \"left\" width=\"50\" height=\"50\" alt=\"Download Notebook\"></a></p>\n",
    "<p>&nbsp;</p>\n",
    "<p>&nbsp;</p>\n",
    "\n",
    "<hr>"
   ]
  },
  {
   "cell_type": "markdown",
   "metadata": {
    "toc": true
   },
   "source": [
    "<h1>Table of Contents<span class=\"tocSkip\"></span></h1>\n",
    "<div class=\"toc\"><ul class=\"toc-item\"><li><span><a href=\"#Elastic-Search\" data-toc-modified-id=\"Elastic-Search-1\"><span class=\"toc-item-num\">1&nbsp;&nbsp;</span>Elastic Search</a></span><ul class=\"toc-item\"><li><span><a href=\"#What-is-noSQL-JSon?\" data-toc-modified-id=\"What-is-noSQL-JSon?-1.1\"><span class=\"toc-item-num\">1.1&nbsp;&nbsp;</span>What is noSQL JSon?</a></span></li><li><span><a href=\"#What-are-indexes,-types,-ids-and-fields?\" data-toc-modified-id=\"What-are-indexes,-types,-ids-and-fields?-1.2\"><span class=\"toc-item-num\">1.2&nbsp;&nbsp;</span>What are indexes, types, ids and fields?</a></span></li><li><span><a href=\"#What-are-Inverted-Indexes?\" data-toc-modified-id=\"What-are-Inverted-Indexes?-1.3\"><span class=\"toc-item-num\">1.3&nbsp;&nbsp;</span>What are Inverted Indexes?</a></span></li></ul></li><li><span><a href=\"#Installation\" data-toc-modified-id=\"Installation-2\"><span class=\"toc-item-num\">2&nbsp;&nbsp;</span>Installation</a></span><ul class=\"toc-item\"><li><span><a href=\"#Docker\" data-toc-modified-id=\"Docker-2.1\"><span class=\"toc-item-num\">2.1&nbsp;&nbsp;</span>Docker</a></span><ul class=\"toc-item\"><li><span><a href=\"#Installing-Docker\" data-toc-modified-id=\"Installing-Docker-2.1.1\"><span class=\"toc-item-num\">2.1.1&nbsp;&nbsp;</span>Installing Docker</a></span></li><li><span><a href=\"#ElasticSearch\" data-toc-modified-id=\"ElasticSearch-2.1.2\"><span class=\"toc-item-num\">2.1.2&nbsp;&nbsp;</span>ElasticSearch</a></span></li></ul></li><li><span><a href=\"#Windows\" data-toc-modified-id=\"Windows-2.2\"><span class=\"toc-item-num\">2.2&nbsp;&nbsp;</span>Windows</a></span><ul class=\"toc-item\"><li><span><a href=\"#Download-JDK\" data-toc-modified-id=\"Download-JDK-2.2.1\"><span class=\"toc-item-num\">2.2.1&nbsp;&nbsp;</span>Download JDK</a></span></li><li><span><a href=\"#Download-ElasticSearch\" data-toc-modified-id=\"Download-ElasticSearch-2.2.2\"><span class=\"toc-item-num\">2.2.2&nbsp;&nbsp;</span>Download ElasticSearch</a></span><ul class=\"toc-item\"><li><span><a href=\"#zip\" data-toc-modified-id=\"zip-2.2.2.1\"><span class=\"toc-item-num\">2.2.2.1&nbsp;&nbsp;</span>zip</a></span></li><li><span><a href=\"#msi\" data-toc-modified-id=\"msi-2.2.2.2\"><span class=\"toc-item-num\">2.2.2.2&nbsp;&nbsp;</span>msi</a></span></li></ul></li><li><span><a href=\"#Local-Access\" data-toc-modified-id=\"Local-Access-2.2.3\"><span class=\"toc-item-num\">2.2.3&nbsp;&nbsp;</span>Local Access</a></span></li><li><span><a href=\"#Web-Server-Access\" data-toc-modified-id=\"Web-Server-Access-2.2.4\"><span class=\"toc-item-num\">2.2.4&nbsp;&nbsp;</span>Web Server Access</a></span></li></ul></li></ul></li><li><span><a href=\"#Play-with-ElasticSearch-on-Python\" data-toc-modified-id=\"Play-with-ElasticSearch-on-Python-3\"><span class=\"toc-item-num\">3&nbsp;&nbsp;</span>Play with ElasticSearch on Python</a></span><ul class=\"toc-item\"><li><span><a href=\"#Connect-to-ElasticSearch\" data-toc-modified-id=\"Connect-to-ElasticSearch-3.1\"><span class=\"toc-item-num\">3.1&nbsp;&nbsp;</span>Connect to ElasticSearch</a></span></li><li><span><a href=\"#Indexing\" data-toc-modified-id=\"Indexing-3.2\"><span class=\"toc-item-num\">3.2&nbsp;&nbsp;</span>Indexing</a></span></li><li><span><a href=\"#Get-Document-by-ID\" data-toc-modified-id=\"Get-Document-by-ID-3.3\"><span class=\"toc-item-num\">3.3&nbsp;&nbsp;</span>Get Document by ID</a></span></li><li><span><a href=\"#Delete-Document-by-ID\" data-toc-modified-id=\"Delete-Document-by-ID-3.4\"><span class=\"toc-item-num\">3.4&nbsp;&nbsp;</span>Delete Document by ID</a></span></li><li><span><a href=\"#Searching-an-ElasticSearch-Cluster\" data-toc-modified-id=\"Searching-an-ElasticSearch-Cluster-3.5\"><span class=\"toc-item-num\">3.5&nbsp;&nbsp;</span>Searching an ElasticSearch Cluster</a></span><ul class=\"toc-item\"><li><span><a href=\"#match\" data-toc-modified-id=\"match-3.5.1\"><span class=\"toc-item-num\">3.5.1&nbsp;&nbsp;</span>match</a></span></li><li><span><a href=\"#match_phrase\" data-toc-modified-id=\"match_phrase-3.5.2\"><span class=\"toc-item-num\">3.5.2&nbsp;&nbsp;</span>match_phrase</a></span></li></ul></li><li><span><a href=\"#Delete-an-Index\" data-toc-modified-id=\"Delete-an-Index-3.6\"><span class=\"toc-item-num\">3.6&nbsp;&nbsp;</span>Delete an Index</a></span></li></ul></li><li><span><a href=\"#Kibana\" data-toc-modified-id=\"Kibana-4\"><span class=\"toc-item-num\">4&nbsp;&nbsp;</span>Kibana</a></span></li><li><span><a href=\"#Quizes\" data-toc-modified-id=\"Quizes-5\"><span class=\"toc-item-num\">5&nbsp;&nbsp;</span>Quizes</a></span><ul class=\"toc-item\"><li><span><a href=\"#Big-Bang-Theory\" data-toc-modified-id=\"Big-Bang-Theory-5.1\"><span class=\"toc-item-num\">5.1&nbsp;&nbsp;</span>Big Bang Theory</a></span></li><li><span><a href=\"#Publico\" data-toc-modified-id=\"Publico-5.2\"><span class=\"toc-item-num\">5.2&nbsp;&nbsp;</span>Publico</a></span></li></ul></li></ul></div>"
   ]
  },
  {
   "cell_type": "markdown",
   "metadata": {},
   "source": [
    "<div class=\"alert alert-success alertsuccess\" style=\"margin-top: 20px\">\n",
    "\n",
    "## Objetivos de aprendizagem  <a class=\"tocSkip\">\n",
    "    \n",
    "No final deste notebook o aluno deverá saber trabalhar com sistemas de bases de dados nosql ElasticSearch com vista à indexação de dados e à recuperação de informação.\n",
    "\n",
    "\n",
    "## Learning Objectives  <a class=\"tocSkip\">\n",
    "       \n",
    "When concluding this notebook, the student should know how to operate with nosql databases such as ElasticSearch to index and retrieve textual data. </div>"
   ]
  },
  {
   "cell_type": "markdown",
   "metadata": {},
   "source": [
    "<div class=\"alert alert-success alertsuccess\" style=\"margin-top: 20px\">\n",
    "\n",
    "## Sumário  <a class=\"tocSkip\">\n",
    "### Frameworks de indexação e recuperação de informação <a class=\"tocSkip\">\n",
    "\n",
    "Introdução dos alunos ao Elastic Search.\n",
    "- Instalação\n",
    "- Indexação\n",
    "- Recuperação de informação\n",
    "- Uso do Kibana para acesso à informação indexada\n",
    "- Casos práticos de indexação e recuperação de informação (big bang theory; jornal público)\n",
    "    \n",
    "## Class Summary  <a class=\"tocSkip\">\n",
    "### Indexing and retrieval frameworks <a class=\"tocSkip\">\n",
    "Introduction to Elastic Search.\n",
    "- Installation\n",
    "- Indexing\n",
    "- Information retrieval\n",
    "- Use of Kibana to access indexed information\n",
    "- Practical cases of indexing and information retrieval (big bang theory; jornal público)\n",
    "\n",
    "</div>"
   ]
  },
  {
   "cell_type": "markdown",
   "metadata": {},
   "source": [
    "## Elastic Search"
   ]
  },
  {
   "cell_type": "markdown",
   "metadata": {},
   "source": [
    "Elastic Search é um motor de busca (search engine - indexing and searching tool) open-source, que corre num ambiente de clusters (onde cada cluster é constituído por um ou mais servidores - também designados por nós). Para indexar os documentos, o Elastic Search recorre ao Apache Lucene, um motor de busca desenvolvido em Java. Tal como o Lucene o Elastic Search foi desenvolvido em Java e corre em cima da JVM (que necessita de estar instalada no seu PC)."
   ]
  },
  {
   "cell_type": "markdown",
   "metadata": {},
   "source": [
    "Pode correr o Elastic Search localmente ou consumi-lo como um serviço através da Amazon Web Services (AWS) or Google Cloud Platform (GCP). Adicionalmente pode instalá-lo localmente na sua máquina ou corrê-lo no Docker. Mais informações sobre as duas opções na seção da instalação."
   ]
  },
  {
   "cell_type": "markdown",
   "metadata": {},
   "source": [
    "O ElasticSearch é um sistema orientado a documentos que guarda os dados (não estruturados) num formato JSon o que faz desta também uma base de dados NoSQL. Ao contrário de outras bases de dados NoSQL, o ElasticSearch disponibiliza também características de um motor de busca ao permitir que todos os seus documentos sejam indexados e pesquisados através de uma query."
   ]
  },
  {
   "cell_type": "markdown",
   "metadata": {},
   "source": [
    "O ElasticSearch trabalha fundamentalmente via requests HTTP e JSon. Por isso, qualquer linguagem ou ferramenta que permita fazer requests HTTP pode trabalhar com o ElasticSearch. Ainda assim, a grande maioria das linguagens disponibiliza bibliotecas específicas que facilitam o trabalho com o ElasticSearch."
   ]
  },
  {
   "cell_type": "markdown",
   "metadata": {},
   "source": [
    "Por outro lado, interfaces gráficas como o [Kibana](https://www.elastic.co/pt/kibana) permitem interagir com os índices e explorá-los sem necessidade de recorrer a código."
   ]
  },
  {
   "cell_type": "markdown",
   "metadata": {},
   "source": [
    "### What is noSQL JSon?"
   ]
  },
  {
   "cell_type": "markdown",
   "metadata": {},
   "source": [
    "Tradicionalmente, os Sistemas de Gestão de Bases de Dados Relacionais (SGBD) recorrem ao uso de tabelas para guardar a informação. Alguns exemplos de SGBD são a Oracle, MySql, SqlServer, etc. Os dados guardados em qualquer um destes SGBDs são colocados em várias tabelas habitualmente relacionadas por via de campos comuns às tabelas."
   ]
  },
  {
   "cell_type": "markdown",
   "metadata": {},
   "source": [
    "Este processo de `join` das tabelas é relativamente dispendioso uma vez que é necessário percorrer todos os registos da tabela para encontrar os campos comuns. Claro que é possível recorrer a índices por forma a aumentar a performance."
   ]
  },
  {
   "cell_type": "markdown",
   "metadata": {},
   "source": [
    "Ao invés de efetuar `joins`, uma base de dados JSon trata de colocar campos uns dentro dos outros (habitualmente com recurso a dicionários). O código abaixo regista informação acerca de um produto, incluindo as suas vendas (e respetiva quantidade vendida)."
   ]
  },
  {
   "cell_type": "markdown",
   "metadata": {},
   "source": [
    "```python\n",
    "{\n",
    "\"id\": 978020137962,\n",
    "\"product\": \"led lightbulbs 10w 6 pack\",\n",
    "\"transactions\": [{\"trans\": \"sale\",\"quantity\": 100}]\n",
    "}\n",
    "```"
   ]
  },
  {
   "cell_type": "markdown",
   "metadata": {},
   "source": [
    "### What are indexes, types, ids and fields?"
   ]
  },
  {
   "cell_type": "markdown",
   "metadata": {},
   "source": [
    "Para melhor entender o Elastic Search necessitamos entender o que significam `indexes`, `documents`, `types`, `ids` e `fields`. Um cluster ElasticSearch pode conter múltiplos índices (o equivalente a bases de dados). Cada index por sua vez pode conter múltiplos tipos (o equivalente a tabelas). Estes tipos suportam múltiplos documentos (o equivalente a um registo da tabela) e cada documento tem múltiplos campos (o equivalente às colunas de uma tabela)."
   ]
  },
  {
   "cell_type": "markdown",
   "metadata": {},
   "source": [
    "- `index` - índice - equivalente a uma base de dados\n",
    "- `documents` - os documentos são os elementos pesquisáveis. Podem ser mais do que simples texto - qualquer estrutura JSon funciona. Cada documento tem um único ID e um tipo.\n",
    "- `types` - tipo do documento - equivalente a uma tabela:\n",
    "- `Id` - Id do documento - equivalente a um registo (uma linha) da tabela\n",
    "- `fields` - cada documento pode ter múltiplos campos - equivalente às colunas de uma tabela."
   ]
  },
  {
   "cell_type": "markdown",
   "metadata": {},
   "source": [
    "### What are Inverted Indexes?"
   ]
  },
  {
   "cell_type": "markdown",
   "metadata": {},
   "source": [
    "`Document 1`: \"Space: The final frontier. These are the voyages...\"\n",
    "\n",
    "`Document 2`: \"He’s bad, he’s number one. He’s the space cowboy with the laser gun!\""
   ]
  },
  {
   "cell_type": "markdown",
   "metadata": {},
   "source": [
    "<b>Inverted Index</b>\n",
    "\n",
    "space: 1, 2\n",
    "\n",
    "the: 1, 2\n",
    "\n",
    "final: 1\n",
    "\n",
    "frontier: 1\n",
    "\n",
    "he: 2\n",
    "\n",
    "bad: 2\n",
    "\n",
    "..."
   ]
  },
  {
   "cell_type": "markdown",
   "metadata": {},
   "source": [
    "## Installation"
   ]
  },
  {
   "cell_type": "markdown",
   "metadata": {},
   "source": [
    "### Docker"
   ]
  },
  {
   "cell_type": "markdown",
   "metadata": {},
   "source": [
    "#### Installing Docker"
   ]
  },
  {
   "cell_type": "markdown",
   "metadata": {},
   "source": [
    "A forma mais simples de ter o elastic search na sua máquina é através do Docker. Se ainda não tem o Docker comece por instalá-lo. Um breve tutorial encontra-se disponível [aqui](https://www.di.ubi.pt/~rcampos/DataScience/1Toolkit/2Docker)."
   ]
  },
  {
   "cell_type": "markdown",
   "metadata": {},
   "source": [
    "#### ElasticSearch "
   ]
  },
  {
   "cell_type": "markdown",
   "metadata": {},
   "source": [
    "Comece por criar um folder (e.g., `H:\\Backup\\Research\\Programming\\CodePython\\MyDocker\\ElasticSearch`) onde o ficheiro `docker-compose.yml` e o folder `data` (que deverá criar agora) deveram ficar.\n"
   ]
  },
  {
   "cell_type": "markdown",
   "metadata": {},
   "source": [
    "Para instalar o ElasticSearch vamos recorrer a `docker compose` para dessa forma também instalarmos ao mesmo tempo o `kibana`. Com vista a esse objetivo comece por criar o seu primeiro ficheiro docker compose (`docker-compose.yml`) e guarde-o no folder `H:\\Backup\\Research\\Programming\\CodePython\\MyDocker\\ElasticSearch`."
   ]
  },
  {
   "cell_type": "markdown",
   "metadata": {},
   "source": [
    "```python\n",
    "version: \"3.8\"\n",
    "services:\n",
    "  \n",
    "  elastic_search:\n",
    "    image: docker.elastic.co/elasticsearch/elasticsearch:7.16.1\n",
    "    container_name: elastic_search\n",
    "    restart: always\n",
    "    environment:\n",
    "      - discovery.type=single-node\n",
    "      - \"ES_JAVA_OPTS=-Xms512m -Xmx512m\"\n",
    "    ulimits:\n",
    "      memlock:\n",
    "        soft: -1\n",
    "        hard: -1\n",
    "    volumes:\n",
    "      - es_data:/usr/share/elasticsearch/data\n",
    "    ports:\n",
    "      - \"9200:9200\"\n",
    "    networks:\n",
    "      - es-network\n",
    "  \n",
    "  kibana:\n",
    "    image: docker.elastic.co/kibana/kibana:7.16.1\n",
    "    container_name: kibana\n",
    "    restart: always\n",
    "    ports:\n",
    "      - \"5601:5601\"\n",
    "    networks:\n",
    "      - es-network\n",
    "    environment:\n",
    "      ELASTICSEARCH_URL: http://elastic_search:9200\n",
    "      ELASTICSEARCH_HOSTS: http://elastic_search:9200\n",
    "    depends_on:\n",
    "      - elastic_search\n",
    "\n",
    "volumes:\n",
    "  es_data:\n",
    "    driver: local\n",
    "    driver_opts:\n",
    "      type: 'none'\n",
    "      o: 'bind'\n",
    "      device: 'h:\\Backup\\Research\\Programming\\CodePython\\MyDocker\\ElasticSearch\\data'\n",
    "\n",
    "networks:\n",
    "  es-network:\n",
    "    driver: bridge\n",
    "```"
   ]
  },
  {
   "cell_type": "markdown",
   "metadata": {},
   "source": [
    "Vamos olhar para os detalhes do ficheiro anterior:"
   ]
  },
  {
   "cell_type": "markdown",
   "metadata": {},
   "source": [
    "- Apart from specifying the images, we are mapping the ports of the containers to the ports on the host machine. Elasticsearch runs on port 9200 and Kibana on port 5601 so we are mapping both these ports to the corresponding ports on the host machine.\n",
    "- `restart` deve estar sempre definida a `always` por forma que o sistema reinicie sempre o container a cada novo reinicio do docker (e independentemente da forma como é terminado) e garantido também que qualquer alteração no volume local seja refletida no docker.\n",
    "- A `single-node Elasticsearch cluster` is created.\n",
    "- Finally, we mount the folder `/usr/share/elasticsearch/data` where elastic search data is stored to the local volume `es_data`. More precisaly data will be kept in the folder: `h:\\Backup\\Research\\Programming\\CodePython\\MyDocker\\ElasticSearch\\data`. In case you are using docker toolbox specify the following path instead: `/c/Users/campo/Desktop/ElasticSearch/data`."
   ]
  },
  {
   "cell_type": "markdown",
   "metadata": {},
   "source": [
    "Na linha de comandos movimente-se para o folder onde guardou o seu ficheiro `docker-compose.yml`:"
   ]
  },
  {
   "cell_type": "markdown",
   "metadata": {},
   "source": [
    "```python\n",
    "h:\n",
    "cd h:\\Backup\\Research\\Programming\\CodePython\\MyDocker\\ElasticSearch\n",
    "```"
   ]
  },
  {
   "cell_type": "markdown",
   "metadata": {},
   "source": [
    "De seguida execute o seguinte comando:"
   ]
  },
  {
   "cell_type": "markdown",
   "metadata": {},
   "source": [
    "`docker-compose up` ou `docker-compose up --build --detach` (neste caso o elastic search e o kibana ficam a correr em background)."
   ]
  },
  {
   "cell_type": "markdown",
   "metadata": {},
   "source": [
    "This will start pulling the images from docker registry and create the containers. This may take a while depending on whether you already have the images on your machine or not and also depending on your internet speed. After the images have been pulled, you'll start seeing container logs which will take a few more seconds."
   ]
  },
  {
   "cell_type": "markdown",
   "metadata": {},
   "source": [
    "No final, basta colocar no browser o seguinte endereço:"
   ]
  },
  {
   "cell_type": "markdown",
   "metadata": {},
   "source": [
    "<u>docker desktop</u>:\n",
    "\n",
    "`ElasticSearch`: http://localhost:9200/ ou `curl localhost:9200` a partir da linha de comandos.\n",
    "\n",
    "`kibana`: http://localhost:5601"
   ]
  },
  {
   "cell_type": "markdown",
   "metadata": {},
   "source": [
    "<u>docker toolbox:</u>"
   ]
  },
  {
   "cell_type": "markdown",
   "metadata": {},
   "source": [
    "`ElasticSearch`: http://192.168.99.100:9200/\n",
    "\n",
    "`kibana`: http://192.168.99.100:5601"
   ]
  },
  {
   "cell_type": "markdown",
   "metadata": {},
   "source": [
    "<hr>"
   ]
  },
  {
   "cell_type": "markdown",
   "metadata": {},
   "source": [
    "### Windows"
   ]
  },
  {
   "cell_type": "markdown",
   "metadata": {},
   "source": [
    "#### Download JDK"
   ]
  },
  {
   "cell_type": "markdown",
   "metadata": {},
   "source": [
    "Garanta que tem o [JDK](https://www.oracle.com/technetwork/java/javase/downloads/index.html) instalado. Posteriormente não se esqueça de definir as [variáveis de ambiente](https://www.thewindowsclub.com/set-java_home-in-windows-10)."
   ]
  },
  {
   "cell_type": "markdown",
   "metadata": {},
   "source": [
    "#### Download ElasticSearch"
   ]
  },
  {
   "cell_type": "markdown",
   "metadata": {},
   "source": [
    "##### zip"
   ]
  },
  {
   "cell_type": "markdown",
   "metadata": {},
   "source": [
    "Historicamente o ElasticSearch foi sempre instalado com recurso a um [.zip](https://www.elastic.co/pt/downloads/elasticsearch). Uma vez feito o download proceda à descompactação dos ficheiros para uma pasta à sua escolha. De seguida entre na diretoria `bin` e execute o ficheiro `elasticsearch.bat` no Windows."
   ]
  },
  {
   "cell_type": "markdown",
   "metadata": {},
   "source": [
    "Se pretender que o ElasticSearch seja iniciado automaticamente sempre que o windows iniciar abra a linha de comandos. Na diretoria `bin` do `ElasticSearch` execute o comando que lhe vai permitir iniciar o ElasticSearch como um serviço: `elasticsearch-service.bat install`"
   ]
  },
  {
   "cell_type": "markdown",
   "metadata": {},
   "source": [
    "Na eventualidade de receber a mensagem `could not find java in java_home or bundled at elasticsearch` abra o ficheiro `elasticsearch-service.bat` que poderá encontrar em `bin` e a seguir à linha que inicia com `@echo` acrescente a seguinte linha: `SET JAVA_HOME=C:\\Program Files\\Java\\jdk-12.0.2\\`, onde `C:\\Program Files\\Java\\jdk-12.0.2\\` é naturalmente o path de instalação do seu JDK."
   ]
  },
  {
   "cell_type": "markdown",
   "metadata": {},
   "source": [
    "Posteriormente execute o comando `elasticsearch-service.bat manager` para definir que o ElasticSearch deve ser iniciado automaticamente com o Windows. Alternativamente pode recorrer (também na linha de comandos) ao `services.msc`."
   ]
  },
  {
   "cell_type": "markdown",
   "metadata": {},
   "source": [
    "Os comandos `elasticsearch-service.bat start` e `elasticsearch-service.bat stop` permitem iniciar e parar o ElasticSearch."
   ]
  },
  {
   "cell_type": "markdown",
   "metadata": {},
   "source": [
    "##### msi"
   ]
  },
  {
   "cell_type": "markdown",
   "metadata": {},
   "source": [
    "Uma alternativa à instalação via zip passa pelo recurso a um [msi](https://www.elastic.co/guide/en/elasticsearch/reference/current/windows.html#download-msi). Durante o processo de instalação ative a opção `Start the service when windows starts (Automatic)` se pretende que o ElasticSearch seja iniciado automaticamente sempre que o windows iniciar. Abra a linha de comandos e execute `services.msc` se pretender alterar posteriormente o modo de iniciação do ElasticSearch."
   ]
  },
  {
   "cell_type": "markdown",
   "metadata": {},
   "source": [
    "#### Local Access"
   ]
  },
  {
   "cell_type": "markdown",
   "metadata": {},
   "source": [
    "O cluster do Elastic Search encontra-se disponível (localmente) a partir do seguinte endereço: [http://localhost:9200/](http://localhost:9200/)."
   ]
  },
  {
   "cell_type": "markdown",
   "metadata": {},
   "source": [
    "#### Web Server Access"
   ]
  },
  {
   "cell_type": "markdown",
   "metadata": {},
   "source": [
    "Vamos supor agora que queremos alojar o ElasticSearch num servidor web (e.g., IIS) que temos disponível, permitindo desta forma que outras pessoas acedam à base de dados. Imagine que tem uma máquina cujo default web site no IIS responde ao endereço `tm-websuiteapps.ipt.pt`. O objetivo aqui é criar um novo website dedicado ao ElasticSearch e que passe a responder ao endereço `tm-websuiteapps.ipt.pt:5000`."
   ]
  },
  {
   "cell_type": "markdown",
   "metadata": {},
   "source": [
    "Com vista a esse objetivo deverá seguir um conjunto de procedimentos:"
   ]
  },
  {
   "cell_type": "markdown",
   "metadata": {},
   "source": [
    "Primeiro, comece por verificar (no procurar do Windows) se já tem instalado o `Microsoft Web Platform Installer`. Se não tiver instalado proceda ao seu download [aqui](https://www.microsoft.com/web/downloads/platform.aspx)."
   ]
  },
  {
   "cell_type": "markdown",
   "metadata": {},
   "source": [
    "Uma vez instalado, abra o programa e efetue uma pesquisa por `arr` de `Application Request Routing`. O objetivo deste software é poder redirecionar as requisições que chegam ao endereço `tm-websuiteapps.ipt.pt:5000` diretamente para o endereço `localhost:9200`. Proceda à sua instalação. Se encontrar dificuldades de instalação a partir do `Microsoft Web Platform Installer` proceda à instalação a partir deste [link](https://www.iis.net/downloads/microsoft/application-request-routing)."
   ]
  },
  {
   "cell_type": "markdown",
   "metadata": {},
   "source": [
    "Já no IIS, crie um novo website (botão direito do rato em cima de sites - adicionar web site). No nome do website especique `ElasticSearch`. No caminho físico indique o caminho de instalação do elasticsearch (e.g. C:\\Program Files (x86)\\elasticsearch-7.4.0-windows-x86_64\\elasticsearch-7.4.0) - ainda que qualquer outro path possa ser indicado. Por fim, especifique a porta `5000`."
   ]
  },
  {
   "cell_type": "markdown",
   "metadata": {},
   "source": [
    "<img src=\"https://www.di.ubi.pt/~rcampos/assets/img_tutorials/InformationRetrieval/ElasticSearch.jpg\" width=\"400\" height=\"400\" align=\"center\"/>"
   ]
  },
  {
   "cell_type": "markdown",
   "metadata": {},
   "source": [
    "Dê agora um clique no website `ElasticSearch` e posteriormente um clique em `URL Rewrite`."
   ]
  },
  {
   "cell_type": "markdown",
   "metadata": {},
   "source": [
    "<img src=\"https://www.di.ubi.pt/~rcampos/assets/img_tutorials/InformationRetrieval/ElasticSearch1.jpg\" width=\"400\" height=\"400\" align=\"center\"/>"
   ]
  },
  {
   "cell_type": "markdown",
   "metadata": {},
   "source": [
    "De seguida, na zona das `Acções` dê um clique em `Add Rules` e `Reverse Proxy`"
   ]
  },
  {
   "cell_type": "markdown",
   "metadata": {},
   "source": [
    "<img src=\"https://www.di.ubi.pt/~rcampos/assets/img_tutorials/InformationRetrieval/ElasticSearch2.jpg\" width=\"400\" height=\"400\" align=\"center\"/>"
   ]
  },
  {
   "cell_type": "markdown",
   "metadata": {},
   "source": [
    "De seguida indique o endereço para onde os requests dirigidos ao `tm-websuiteapps.ipt.pt:5000` deverão ser direcionados (no caso para o endereço onde o servidor do ElasticSearch se encontra a correr: `127.0.0.1:9200`)."
   ]
  },
  {
   "cell_type": "markdown",
   "metadata": {},
   "source": [
    "<img src=\"https://www.di.ubi.pt/~rcampos/assets/img_tutorials/InformationRetrieval/ElasticSearch3.jpg\" width=\"400\" height=\"400\" align=\"center\"/>"
   ]
  },
  {
   "cell_type": "markdown",
   "metadata": {},
   "source": [
    "De seguida, com o botão direito do rato em cima do website ElasticSearch, selecione Gerir Website - Definições Avançadas e nos limites, aumente o `limite de tempo de ligação` para 1000 segundos."
   ]
  },
  {
   "cell_type": "markdown",
   "metadata": {},
   "source": [
    "Por fim, inclua o seguinte código no ficheiro `web.config` que poderá agora encontrar dentro do path especificado na primeira figura (ou seja o path que ficou associado ao ElasticSearch). Inclua este código a seguir a `</rewrite>`"
   ]
  },
  {
   "cell_type": "markdown",
   "metadata": {},
   "source": [
    "```\n",
    "\t\t<httpProtocol>\n",
    "\t\t\t<customHeaders>\n",
    "\t\t\t\t<add name=\"Access-Control-Allow-Origin\" value=\"*\" />\n",
    "\t\t\t\t<add name=\"Access-Control-Allow-Headers\" value=\"Content-Type\" />\n",
    "\t\t\t\t<add name=\"Access-Control-Allow-Methods\" value=\"GET, POST, PUT, DELETE, OPTIONS\" />\n",
    "\t\t\t</customHeaders>\n",
    "\t\t</httpProtocol>\n",
    "```"
   ]
  },
  {
   "cell_type": "markdown",
   "metadata": {},
   "source": [
    "No seu browser pode agora colocar o endereço [http://tm-websuiteapps.ipt.pt:5000/](http://tm-websuiteapps.ipt.pt:5000/)."
   ]
  },
  {
   "cell_type": "markdown",
   "metadata": {},
   "source": [
    "## Play with ElasticSearch on Python"
   ]
  },
  {
   "cell_type": "markdown",
   "metadata": {},
   "source": [
    "Para interagir com o Elastic Search, vamos recorrer ao cliente oficial do Python, o `elasticsearch-py`. Para o instalar execute o seguinte código. Note que terá de usar especificamente a versão 7.17 para manter a compatibilidade com as imagens do elasticsearch e kibana instaladas através do docker compose."
   ]
  },
  {
   "cell_type": "code",
   "execution_count": null,
   "metadata": {},
   "outputs": [],
   "source": [
    "!pip install elasticsearch==7.17.0"
   ]
  },
  {
   "cell_type": "markdown",
   "metadata": {},
   "source": [
    "### Connect to ElasticSearch"
   ]
  },
  {
   "cell_type": "markdown",
   "metadata": {},
   "source": [
    "Primeiro que tudo conecte-se ao cluster do Elastic Search o qual está acessível aqui: http://localhost:9200/\n"
   ]
  },
  {
   "cell_type": "code",
   "execution_count": null,
   "metadata": {},
   "outputs": [],
   "source": [
    "from elasticsearch import Elasticsearch\n",
    "host = 'localhost'\n",
    "#host=\"host.docker.internal\"\n",
    "port = 9200\n",
    "\n",
    "#docker toolbox\n",
    "#host = '192.168.99.100'\n",
    "#port = 9200\n",
    "\n",
    "es = Elasticsearch([{'host': host, 'port': port}])\n",
    "#es = Elasticsearch()"
   ]
  },
  {
   "cell_type": "markdown",
   "metadata": {},
   "source": [
    "### Indexing"
   ]
  },
  {
   "cell_type": "markdown",
   "metadata": {},
   "source": [
    "O código seguinte cria um dicionário que regista informação acerca de um empregado."
   ]
  },
  {
   "cell_type": "code",
   "execution_count": null,
   "metadata": {},
   "outputs": [],
   "source": [
    "e1={\n",
    "    \"first_name\":\"nitin\",\n",
    "    \"last_name\":\"panwar\",\n",
    "    \"age\": 27,\n",
    "    \"about\": \"Love to play cricket\",\n",
    "    \"interests\": ['sports','music'],\n",
    "}\n",
    "\n",
    "e1\n"
   ]
  },
  {
   "cell_type": "markdown",
   "metadata": {},
   "source": [
    "O código seguinte permite adicionar a informação anterior ao índice `megacorp`. O campo `doc_type` dá nome ao tipo de dados que pretendemos guardar (o equivalente a uma tabela). Cada tipo (i.e., cada tabela) poderá guardar uma linha de informação a qual ficará indexada através do campos `id`. No exemplo abaixo, o tipo (ou seja a tabela) `employee` guarda informação acerca de um empregado em concreto (no caso um dicionário com vários campos, ou seja, colunas). Ao invés de informação relativa a empregados poderíamos ter usado o motor de busca para indexar documentos."
   ]
  },
  {
   "cell_type": "code",
   "execution_count": null,
   "metadata": {},
   "outputs": [],
   "source": [
    "#Now let's store this document in Elasticsearch \n",
    "res = es.index(index='megacorp',doc_type='employee',id=1,document=e1)\n",
    "res"
   ]
  },
  {
   "cell_type": "markdown",
   "metadata": {},
   "source": [
    "Vamos de seguida criar mais uns quantos dicionários para posterior adição ao ElasticSearch."
   ]
  },
  {
   "cell_type": "code",
   "execution_count": null,
   "metadata": {},
   "outputs": [],
   "source": [
    "# Let's insert some more documents\n",
    "e2={\n",
    "    \"first_name\" :  \"Jane\",\n",
    "    \"last_name\" :   \"Smith\",\n",
    "    \"age\" :         32,\n",
    "    \"about\" :       \"I like to collect rock albums\",\n",
    "    \"interests\":  [ \"music\" ]\n",
    "}\n",
    "e3={\n",
    "    \"first_name\" :  \"Douglas\",\n",
    "    \"last_name\" :   \"Fir\",\n",
    "    \"age\" :         35,\n",
    "    \"about\":        \"I like to build cabinets\",\n",
    "    \"interests\":  [ \"forestry\" ]\n",
    "}\n",
    "e4={\n",
    "    \"first_name\":\"asd\",\n",
    "    \"last_name\":\"pafdfd\",\n",
    "    \"age\": 27,\n",
    "    \"about\": \"Love to play football\",\n",
    "    \"interests\": ['sports','music'],\n",
    "}"
   ]
  },
  {
   "cell_type": "code",
   "execution_count": null,
   "metadata": {},
   "outputs": [],
   "source": [
    "res=es.index(index='megacorp',doc_type='employee',id=2,document=e2)\n",
    "print(res)\n",
    "res=es.index(index='megacorp',doc_type='employee',id=3,document=e3)\n",
    "print(res)\n",
    "res=es.index(index='megacorp',doc_type='employee',id=4,document=e4)\n",
    "print(res)"
   ]
  },
  {
   "cell_type": "markdown",
   "metadata": {},
   "source": [
    "Uma vez executado o código passamos a conter dados no cluster do Elastic Search. Para ver os índices que constam do cluster copie o seguinte código para o seu browser:"
   ]
  },
  {
   "cell_type": "markdown",
   "metadata": {},
   "source": [
    "`http://localhost:9200/_cat/indices?v` ou `http://192.168.99.100:9200/_cat/indices?v`  (no caso da instalação local)"
   ]
  },
  {
   "cell_type": "markdown",
   "metadata": {},
   "source": [
    "Pode obter também os `mappings` para um índice específico. Cole o seguinte URL no browser para ter acesso aos tipos dos índices (no caso, do índice `megacorp`). Observe que para o índice `megacorp` e para o tipo `employee` vai obter cinco tipos de fields: um para cada campo anteriormente definido (first_name, last_name, age, about, interests)."
   ]
  },
  {
   "cell_type": "markdown",
   "metadata": {},
   "source": [
    "`http://localhost:9200/megacorp/_mapping` ou `http://192.168.99.100:9200/megacorp/_mapping` (no caso da instalação local)"
   ]
  },
  {
   "cell_type": "markdown",
   "metadata": {},
   "source": [
    "Ao invés de copiar o link para o browser pode obter os respetivos conteúdos a partir do seguinte código:"
   ]
  },
  {
   "cell_type": "code",
   "execution_count": null,
   "metadata": {},
   "outputs": [],
   "source": [
    "import requests\n",
    "host = 'localhost'\n",
    "port = 9200\n",
    "\n",
    "#docker toolbox\n",
    "#host = '192.168.99.100'\n",
    "#port = 9200\n",
    "\n",
    "r = requests.get(f'http://{host}:{port}/megacorp/_mapping')\n",
    "contentJSON = r.json()\n",
    "contentJSON"
   ]
  },
  {
   "cell_type": "markdown",
   "metadata": {},
   "source": [
    "### Get Document by ID"
   ]
  },
  {
   "cell_type": "markdown",
   "metadata": {},
   "source": [
    "ElasticSearch é um poderoso motor de busca. Antes de recorrermos às suas capacidades de `searching` vamos inquirir a base de dados, obtendo um documento específico do cluster através da especificação do seu `id`."
   ]
  },
  {
   "cell_type": "code",
   "execution_count": null,
   "metadata": {},
   "outputs": [],
   "source": [
    "res=es.get(index='megacorp',doc_type='employee',id=3)\n",
    "print(res)"
   ]
  },
  {
   "cell_type": "code",
   "execution_count": null,
   "metadata": {},
   "outputs": [],
   "source": [
    "print(res[\"_source\"])"
   ]
  },
  {
   "cell_type": "markdown",
   "metadata": {},
   "source": [
    "O ElasticSearch tem uma série de APIs que são usados de acordo com o seguinte padrão: `/{index}/{type}/{id}`. Para obter os dados do primeiro empregado recorra ao seguinte código (poderá obviamente copiar o endereço para o seu browser):"
   ]
  },
  {
   "cell_type": "code",
   "execution_count": null,
   "metadata": {},
   "outputs": [],
   "source": [
    "import requests\n",
    "host = 'localhost'\n",
    "port = 9200\n",
    "\n",
    "#docker toolbox\n",
    "#host = '192.168.99.100'\n",
    "#port = 9200\n",
    "\n",
    "url = f\"http://{host}:{port}/megacorp/employee/1\"\n",
    "r = requests.get(url)\n",
    "r.json()"
   ]
  },
  {
   "cell_type": "markdown",
   "metadata": {},
   "source": [
    "### Delete Document by ID"
   ]
  },
  {
   "cell_type": "markdown",
   "metadata": {},
   "source": [
    "Para eliminar um documento recorra à operação `delete`."
   ]
  },
  {
   "cell_type": "code",
   "execution_count": null,
   "metadata": {},
   "outputs": [],
   "source": [
    "res=es.delete(index='megacorp',doc_type='employee',id=3)\n",
    "print(res['result'])"
   ]
  },
  {
   "cell_type": "markdown",
   "metadata": {},
   "source": [
    "### Searching an ElasticSearch Cluster"
   ]
  },
  {
   "cell_type": "markdown",
   "metadata": {},
   "source": [
    "#### match"
   ]
  },
  {
   "cell_type": "markdown",
   "metadata": {},
   "source": [
    "O campo `match` obriga à existência de uma correspondência (que não necessita de ser exata) entre os campos de pesquisa. O exemplo abaixo devolve todos os documentos onde o campo `first_name` contenha o termo `nitin`."
   ]
  },
  {
   "cell_type": "code",
   "execution_count": null,
   "metadata": {},
   "outputs": [],
   "source": [
    "res= es.search(index='megacorp',doc_type='employee', query={\n",
    "            'match':{\n",
    "                \"first_name\":\"nitin\"\n",
    "            }\n",
    "        }\n",
    "    )\n",
    "\n",
    "print(f\"Got {res['hits']['total']['value']} Result:\")\n",
    "print(\"\\n\")\n",
    "\n",
    "for hit in res['hits']['hits']:\n",
    "    print(f\"{hit['_source']}\")\n",
    "    print(\"\\n\")"
   ]
  },
  {
   "cell_type": "markdown",
   "metadata": {},
   "source": [
    "O código seguinte exemplifica a pesquisa da palavra `play cricket` no campo `about`. A devolução dos dois documentos e respetivo score mostra que não é necessário haver uma correspondência exata entre os termos de pesquisa e os termos existentes na base de dados. De fato `Love to play football` apenas inclui um dos termos de pesquisa, no caso o termo `play`."
   ]
  },
  {
   "cell_type": "code",
   "execution_count": null,
   "metadata": {},
   "outputs": [],
   "source": [
    "res= es.search(index='megacorp',doc_type='employee', query={\n",
    "            'match':{\n",
    "                \"about\":\"play cricket\"\n",
    "            }\n",
    "        })\n",
    "\n",
    "print(f\"Got {res['hits']['total']['value']} Result:\")\n",
    "print(\"\\n\")\n",
    "\n",
    "for hit in res['hits']['hits']:\n",
    "    print(f\"{hit['_source']['about']}\")\n",
    "    print(hit['_score'])\n",
    "    print(\"\\n\")"
   ]
  },
  {
   "cell_type": "markdown",
   "metadata": {},
   "source": [
    "#### match_phrase"
   ]
  },
  {
   "cell_type": "markdown",
   "metadata": {},
   "source": [
    "O campo `match_phrase` obriga à existência de uma correspondência exata, pelo que, e pegando no exemplo anterior, apenas um único documento será devolvido."
   ]
  },
  {
   "cell_type": "code",
   "execution_count": null,
   "metadata": {},
   "outputs": [],
   "source": [
    "res= es.search(index='megacorp',doc_type='employee', query = {\n",
    "            'match_phrase':{\n",
    "                \"about\":\"play cricket\"\n",
    "            }\n",
    "        })\n",
    "\n",
    "print(f\"Got {res['hits']['total']['value']} Result:\")\n",
    "print(\"\\n\")\n",
    "\n",
    "for hit in res['hits']['hits']:\n",
    "    print(f\"{hit['_source']['about']}\")\n",
    "    print(hit['_score'])\n",
    "    print(\"\\n\")"
   ]
  },
  {
   "cell_type": "markdown",
   "metadata": {},
   "source": [
    "### Delete an Index"
   ]
  },
  {
   "cell_type": "markdown",
   "metadata": {},
   "source": [
    "Para eliminar um índice recorra ao seguinte código (não execute porque ainda vai precisar desta base de dados):"
   ]
  },
  {
   "cell_type": "markdown",
   "metadata": {},
   "source": [
    "```python\n",
    "es.indices.delete(index='megacorp', ignore=[400, 404])\n",
    "```"
   ]
  },
  {
   "cell_type": "markdown",
   "metadata": {},
   "source": [
    "## Kibana"
   ]
  },
  {
   "cell_type": "markdown",
   "metadata": {},
   "source": [
    "Para ter acesso aos dados no Kibana (http://localhost:5601) comece por ir à área de management e clique em `Stack Management`."
   ]
  },
  {
   "cell_type": "markdown",
   "metadata": {},
   "source": [
    "<img src=\"https://www.di.ubi.pt/~rcampos/assets/img_tutorials/InformationRetrieval/Kibana1.jpg\" width=\"400\" height=\"400\" align=\"center\"/>"
   ]
  },
  {
   "cell_type": "markdown",
   "metadata": {},
   "source": [
    "Para ter acesso aos índices já criados e existentes no Elastic Search clique em `index management`:"
   ]
  },
  {
   "cell_type": "markdown",
   "metadata": {},
   "source": [
    "<img src=\"https://www.di.ubi.pt/~rcampos/assets/img_tutorials/InformationRetrieval/Kibana2.jpg\" width=\"400\" height=\"400\" align=\"center\"/>"
   ]
  },
  {
   "cell_type": "markdown",
   "metadata": {},
   "source": [
    "Para termos acessos aos dados comece por criar um índice. Para isso clique em \"Index Patterns\" que poderá encontrar no lado esquerdo (por baixo de Kibana). De seguida clique no botão azul \"Create Index Pattern\" e especifique o index \"megacorp\"."
   ]
  },
  {
   "cell_type": "markdown",
   "metadata": {},
   "source": [
    "Finalmente clicamos em `Discover`:"
   ]
  },
  {
   "cell_type": "markdown",
   "metadata": {},
   "source": [
    "<img src=\"https://www.di.ubi.pt/~rcampos/assets/img_tutorials/InformationRetrieval/Kibana4.jpg\" width=\"400\" height=\"400\" align=\"center\"/>"
   ]
  },
  {
   "cell_type": "markdown",
   "metadata": {},
   "source": [
    "<img src=\"https://www.di.ubi.pt/~rcampos/assets/img_tutorials/InformationRetrieval/Kibana5.jpg\" width=\"400\" height=\"400\" align=\"center\"/>"
   ]
  },
  {
   "cell_type": "markdown",
   "metadata": {},
   "source": [
    "<hr>"
   ]
  },
  {
   "cell_type": "markdown",
   "metadata": {},
   "source": [
    "## Quizes"
   ]
  },
  {
   "cell_type": "markdown",
   "metadata": {},
   "source": [
    "### Big Bang Theory"
   ]
  },
  {
   "cell_type": "markdown",
   "metadata": {},
   "source": [
    "Neste quiz pretende-se indexar informação relativa à série `Big Bang Theory`, nomeadamente:\n",
    "- id\n",
    "- season\n",
    "- episode\n",
    "- name\n",
    "- summary"
   ]
  },
  {
   "cell_type": "markdown",
   "metadata": {},
   "source": [
    "Com vista a esse objetivo recorremos à API da [Tvmaze](https://www.tvmaze.com/api), em particular à seguinte api: `http://api.tvmaze.com/singlesearch/shows?q=big-bang-theory&embed=episodes`."
   ]
  },
  {
   "cell_type": "code",
   "execution_count": null,
   "metadata": {},
   "outputs": [],
   "source": [
    "import requests\n",
    "r = requests.get('http://api.tvmaze.com/singlesearch/shows?q=big+bang+theory&embed=episodes')"
   ]
  },
  {
   "cell_type": "markdown",
   "metadata": {},
   "source": [
    "O código seguinte permite obter o número total de episódios da série:"
   ]
  },
  {
   "cell_type": "code",
   "execution_count": null,
   "metadata": {},
   "outputs": [],
   "source": [
    "contentsJSon = r.json()\n",
    "len(contentsJSon[\"_embedded\"][\"episodes\"])"
   ]
  },
  {
   "cell_type": "markdown",
   "metadata": {},
   "source": [
    "Para vermos informações do primeiro episódio:"
   ]
  },
  {
   "cell_type": "code",
   "execution_count": null,
   "metadata": {},
   "outputs": [],
   "source": [
    "contentsJSon = r.json()\n",
    "contentsJSon[\"_embedded\"][\"episodes\"][0]"
   ]
  },
  {
   "cell_type": "markdown",
   "metadata": {},
   "source": [
    "Execute o seguinte código para criar uma lista de dicionários, onde cada objeto representa um documento a indexar. Note que o campo `summary` contem código HTML (recorreremos por isso ao package `re` para remover esse código)."
   ]
  },
  {
   "cell_type": "code",
   "execution_count": null,
   "metadata": {},
   "outputs": [],
   "source": [
    "import re\n",
    "ldocs = []\n",
    "for jo in contentsJSon[\"_embedded\"][\"episodes\"][0:200]:\n",
    "    d = {}\n",
    "    d['id'] = jo['id']\n",
    "    d['season'] = jo['season']\n",
    "    d['episode'] = jo['number']\n",
    "    d['name'] = jo['name']\n",
    "    d[\"summary\"] = re.sub('<[^<]+?>', '', jo['summary'])\n",
    "    ldocs.append(d)"
   ]
  },
  {
   "cell_type": "markdown",
   "metadata": {},
   "source": [
    "A lista `ldocs` contém agora 200 documentos que deverão ser indexados e posteriormente pesquisados através do Elastic Search."
   ]
  },
  {
   "cell_type": "code",
   "execution_count": null,
   "metadata": {},
   "outputs": [],
   "source": [
    "ldocs"
   ]
  },
  {
   "cell_type": "markdown",
   "metadata": {},
   "source": [
    "O código seguinte permite estabelecer uma conexão com o ElasticSearch."
   ]
  },
  {
   "cell_type": "code",
   "execution_count": null,
   "metadata": {},
   "outputs": [],
   "source": [
    "from elasticsearch import Elasticsearch\n",
    "es = Elasticsearch([{'host': 'localhost', 'port': 9200}])\n",
    "#es = Elasticsearch()"
   ]
  },
  {
   "cell_type": "markdown",
   "metadata": {},
   "source": [
    "O código seguinte permite adicionar a lista anteriormente criada ao índice `tvshows` com o tipo `bigbang`. Observe que vamos iterar sobre cada um dos 200 documentos. O método `dumps` permite converter o objeto Python num formato JSon string. Note também que o campo de indexação é o `id`."
   ]
  },
  {
   "cell_type": "code",
   "execution_count": null,
   "metadata": {},
   "outputs": [],
   "source": [
    "import json \n",
    "#iterate through documents indexing them\n",
    "for doc in ldocs:\n",
    "    es.index(index='tvshows', doc_type='bigbang', id=doc[\"id\"], body=json.dumps(doc))"
   ]
  },
  {
   "cell_type": "markdown",
   "metadata": {},
   "source": [
    "O código seguinte permite-nos inquirir a base de dados, obtendo um documento específico do cluster através da especificação do seu `id`."
   ]
  },
  {
   "cell_type": "code",
   "execution_count": null,
   "metadata": {},
   "outputs": [],
   "source": [
    "es.get(index='tvshows', doc_type='bigbang', id=2915)"
   ]
  },
  {
   "cell_type": "markdown",
   "metadata": {},
   "source": [
    "O código seguinte permite fazer uma pesquisa por termo. No exemplo abaixo pesquisamos o termo `rivalry` no campo `summary`."
   ]
  },
  {
   "cell_type": "code",
   "execution_count": null,
   "metadata": {},
   "outputs": [],
   "source": [
    "res = es.search(index=\"tvshows\", doc_type='bigbang', body={\"query\": {\"match\": {'summary':'Penny'}}})\n",
    "print(\"\\n\")\n",
    "\n",
    "print(f\"Got {res['hits']['total']['value']} Result:\")\n",
    "for hit in res['hits']['hits']:\n",
    "    print(f\"{hit['_source']}\")\n",
    "    print(\"\\n\")"
   ]
  },
  {
   "cell_type": "markdown",
   "metadata": {},
   "source": [
    "O código seguinte permite eliminar o índice `tvshows`."
   ]
  },
  {
   "cell_type": "code",
   "execution_count": null,
   "metadata": {},
   "outputs": [],
   "source": [
    "es.indices.delete(index='tvshows', ignore=[400, 404])"
   ]
  },
  {
   "cell_type": "markdown",
   "metadata": {},
   "source": [
    "<hr>"
   ]
  },
  {
   "cell_type": "markdown",
   "metadata": {},
   "source": [
    "### Publico"
   ]
  },
  {
   "cell_type": "markdown",
   "metadata": {},
   "source": [
    "No próximo exercício pretende-se fazer uso de um dataset [TLS-Covid19](https://github.com/LIAAD/tls-covid19) que guarda os key moments de um determinado conjunto de tópicos coberto pelo Jornal Público no seu [liveblog](https://www.publico.pt/coronavirus-ao-minuto) dedicado à pandemia."
   ]
  },
  {
   "cell_type": "markdown",
   "metadata": {},
   "source": [
    "O código seguinte começa por carregar em memória o ficheiro json."
   ]
  },
  {
   "cell_type": "code",
   "execution_count": null,
   "metadata": {},
   "outputs": [],
   "source": [
    "import json\n",
    "with open(\"data/publico_km.json\", \"r\",encoding=\"utf8\") as readfile:\n",
    "    KeyMoments = json.load(readfile)\n",
    "\n",
    "print(KeyMoments[:1])"
   ]
  },
  {
   "cell_type": "markdown",
   "metadata": {},
   "source": [
    "De seguida estabelece-se ligação ao ElasticSearch."
   ]
  },
  {
   "cell_type": "code",
   "execution_count": null,
   "metadata": {},
   "outputs": [],
   "source": [
    "from elasticsearch import Elasticsearch\n",
    "es = Elasticsearch([{'host': 'localhost', 'port': 9200}])\n",
    "#es = Elasticsearch()"
   ]
  },
  {
   "cell_type": "markdown",
   "metadata": {},
   "source": [
    "O código seguinte permite adicionar a lista de KeyMoments ao índice `publico_covid_ir` com o tipo `publico_km`. Observe que vamos iterar sobre cada um dos mais de 11k documentos. O método `dumps` permite converter o objeto Python num formato JSon string. Note também que o campo de indexação é o `id`."
   ]
  },
  {
   "cell_type": "code",
   "execution_count": null,
   "metadata": {},
   "outputs": [],
   "source": [
    "import json \n",
    "#iterate through documents indexing them\n",
    "for i in range(len(KeyMoments)):\n",
    "    es.index(index='publico_covid_ir', doc_type='publico_km', id=i, body=json.dumps(KeyMoments[i]))"
   ]
  },
  {
   "cell_type": "markdown",
   "metadata": {},
   "source": [
    "De seguida obtemos os resultados relativos ao id 1:"
   ]
  },
  {
   "cell_type": "code",
   "execution_count": null,
   "metadata": {},
   "outputs": [],
   "source": [
    "es.get(index='publico_covid_ir', doc_type='publico_km', id=1)"
   ]
  },
  {
   "cell_type": "markdown",
   "metadata": {},
   "source": [
    "Finalmente obtemos todos os resultados relativos ao tópico `estado de emergência`."
   ]
  },
  {
   "cell_type": "code",
   "execution_count": null,
   "metadata": {},
   "outputs": [],
   "source": [
    "res = es.search(index=\"publico_covid_ir\", doc_type='publico_km', body={\"query\": {\"match\": {'topic':'estado de emergência'}}})\n",
    "\n",
    "print(f\"Got {res['hits']['total']['value']} Result:\")\n",
    "for hit in res['hits']['hits']:\n",
    "    print(f\"{hit['_source']}\")\n",
    "    print(\"\\n\")"
   ]
  },
  {
   "cell_type": "code",
   "execution_count": null,
   "metadata": {},
   "outputs": [],
   "source": [
    "es.indices.delete(index='publico_covid_ir', ignore=[400, 404])"
   ]
  }
 ],
 "metadata": {
  "kernelspec": {
   "display_name": "Python 3 (ipykernel)",
   "language": "python",
   "name": "python3"
  },
  "language_info": {
   "codemirror_mode": {
    "name": "ipython",
    "version": 3
   },
   "file_extension": ".py",
   "mimetype": "text/x-python",
   "name": "python",
   "nbconvert_exporter": "python",
   "pygments_lexer": "ipython3",
   "version": "3.9.7"
  },
  "toc": {
   "base_numbering": 1,
   "nav_menu": {},
   "number_sections": true,
   "sideBar": true,
   "skip_h1_title": true,
   "title_cell": "Table of Contents",
   "title_sidebar": "Contents",
   "toc_cell": true,
   "toc_position": {
    "height": "calc(100% - 180px)",
    "left": "10px",
    "top": "150px",
    "width": "279.967px"
   },
   "toc_section_display": true,
   "toc_window_display": true
  }
 },
 "nbformat": 4,
 "nbformat_minor": 2
}
