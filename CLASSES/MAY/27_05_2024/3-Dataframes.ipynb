{
 "cells": [
  {
   "cell_type": "markdown",
   "metadata": {},
   "source": [
    "<div style=\"border: 1px solid black\">\n",
    "<b><center><font size=\"4\">Big Data</font></center></b>\n",
    "\n",
    "<b><center><font size=\"3\">Spark</font></center></b>\n",
    "\n",
    "<b><center><font size=\"2\">3 - Dataframes</font></center></b>\n",
    "</div>"
   ]
  },
  {
   "cell_type": "markdown",
   "metadata": {},
   "source": [
    "**Notebook Developed by**: [Ricardo Campos](https://www.di.ubi.pt/~rcampos)<br>\n",
    "**email:**  ricardo.campos@ubi.pt<br>\n",
    "**Affiliation:** *Assistant Professor* @ [University of Beira Interior](http://www.ubi.pt);\n",
    "*Researcher* @ [LIAAD](https://www.inesctec.pt/en/centres/liaad)-[INESC TEC](https://www.inesctec.pt/en)\n",
    "\n",
    "<hr>\n",
    "<p><a href=\"3-Dataframes.ipynb\" title=\"Download Notebook\" download><img src=\"https://www.di.ubi.pt/~rcampos/assets/img_tutorials/download.jpg\" align = \"left\" width=\"50\" height=\"50\" alt=\"Download Notebook\"></a></p>\n",
    "<p>&nbsp;</p>\n",
    "<p>&nbsp;</p>\n",
    "\n",
    "<hr>"
   ]
  },
  {
   "cell_type": "markdown",
   "metadata": {
    "editable": true,
    "slideshow": {
     "slide_type": ""
    },
    "tags": [],
    "toc": true
   },
   "source": [
    "<h1>Table of Contents<span class=\"tocSkip\"></span></h1>\n",
    "<div class=\"toc\"><ul class=\"toc-item\"><li><span><a href=\"#Instructions\" data-toc-modified-id=\"Instructions-1\"><span class=\"toc-item-num\">1&nbsp;&nbsp;</span>Instructions</a></span><ul class=\"toc-item\"><li><span><a href=\"#Windows\" data-toc-modified-id=\"Windows-1.1\"><span class=\"toc-item-num\">1.1&nbsp;&nbsp;</span>Windows</a></span></li><li><span><a href=\"#Google-Colab\" data-toc-modified-id=\"Google-Colab-1.2\"><span class=\"toc-item-num\">1.2&nbsp;&nbsp;</span>Google Colab</a></span></li></ul></li><li><span><a href=\"#Setup-the-SparkSession\" data-toc-modified-id=\"Setup-the-SparkSession-2\"><span class=\"toc-item-num\">2&nbsp;&nbsp;</span>Setup the SparkSession</a></span></li><li><span><a href=\"#Create-DataFrame\" data-toc-modified-id=\"Create-DataFrame-3\"><span class=\"toc-item-num\">3&nbsp;&nbsp;</span>Create DataFrame</a></span><ul class=\"toc-item\"><li><span><a href=\"#From-Files\" data-toc-modified-id=\"From-Files-3.1\"><span class=\"toc-item-num\">3.1&nbsp;&nbsp;</span>From Files</a></span><ul class=\"toc-item\"><li><span><a href=\"#CSV\" data-toc-modified-id=\"CSV-3.1.1\"><span class=\"toc-item-num\">3.1.1&nbsp;&nbsp;</span>CSV</a></span></li><li><span><a href=\"#JSON\" data-toc-modified-id=\"JSON-3.1.2\"><span class=\"toc-item-num\">3.1.2&nbsp;&nbsp;</span>JSON</a></span></li><li><span><a href=\"#TextFile\" data-toc-modified-id=\"TextFile-3.1.3\"><span class=\"toc-item-num\">3.1.3&nbsp;&nbsp;</span>TextFile</a></span></li></ul></li><li><span><a href=\"#From-RDDs\" data-toc-modified-id=\"From-RDDs-3.2\"><span class=\"toc-item-num\">3.2&nbsp;&nbsp;</span>From RDDs</a></span></li><li><span><a href=\"#Pandas\" data-toc-modified-id=\"Pandas-3.3\"><span class=\"toc-item-num\">3.3&nbsp;&nbsp;</span>Pandas</a></span></li><li><span><a href=\"#Schema\" data-toc-modified-id=\"Schema-3.4\"><span class=\"toc-item-num\">3.4&nbsp;&nbsp;</span>Schema</a></span></li></ul></li><li><span><a href=\"#USStockPrices\" data-toc-modified-id=\"USStockPrices-4\"><span class=\"toc-item-num\">4&nbsp;&nbsp;</span>USStockPrices</a></span><ul class=\"toc-item\"><li><span><a href=\"#Inspect-Methods\" data-toc-modified-id=\"Inspect-Methods-4.1\"><span class=\"toc-item-num\">4.1&nbsp;&nbsp;</span>Inspect Methods</a></span><ul class=\"toc-item\"><li><span><a href=\"#PrintSchema\" data-toc-modified-id=\"PrintSchema-4.1.1\"><span class=\"toc-item-num\">4.1.1&nbsp;&nbsp;</span>PrintSchema</a></span></li><li><span><a href=\"#dtypes\" data-toc-modified-id=\"dtypes-4.1.2\"><span class=\"toc-item-num\">4.1.2&nbsp;&nbsp;</span>dtypes</a></span></li><li><span><a href=\"#columns\" data-toc-modified-id=\"columns-4.1.3\"><span class=\"toc-item-num\">4.1.3&nbsp;&nbsp;</span>columns</a></span></li><li><span><a href=\"#Count\" data-toc-modified-id=\"Count-4.1.4\"><span class=\"toc-item-num\">4.1.4&nbsp;&nbsp;</span>Count</a></span></li><li><span><a href=\"#stats:-describe\" data-toc-modified-id=\"stats:-describe-4.1.5\"><span class=\"toc-item-num\">4.1.5&nbsp;&nbsp;</span>stats: describe</a></span></li><li><span><a href=\"#Take\" data-toc-modified-id=\"Take-4.1.6\"><span class=\"toc-item-num\">4.1.6&nbsp;&nbsp;</span>Take</a></span></li><li><span><a href=\"#Show\" data-toc-modified-id=\"Show-4.1.7\"><span class=\"toc-item-num\">4.1.7&nbsp;&nbsp;</span>Show</a></span></li><li><span><a href=\"#First\" data-toc-modified-id=\"First-4.1.8\"><span class=\"toc-item-num\">4.1.8&nbsp;&nbsp;</span>First</a></span></li><li><span><a href=\"#Distinct\" data-toc-modified-id=\"Distinct-4.1.9\"><span class=\"toc-item-num\">4.1.9&nbsp;&nbsp;</span>Distinct</a></span></li></ul></li><li><span><a href=\"#Operation-Methods\" data-toc-modified-id=\"Operation-Methods-4.2\"><span class=\"toc-item-num\">4.2&nbsp;&nbsp;</span>Operation Methods</a></span><ul class=\"toc-item\"><li><span><a href=\"#Columns-Manipulation\" data-toc-modified-id=\"Columns-Manipulation-4.2.1\"><span class=\"toc-item-num\">4.2.1&nbsp;&nbsp;</span>Columns Manipulation</a></span><ul class=\"toc-item\"><li><span><a href=\"#Add-Column\" data-toc-modified-id=\"Add-Column-4.2.1.1\"><span class=\"toc-item-num\">4.2.1.1&nbsp;&nbsp;</span>Add Column</a></span></li><li><span><a href=\"#Update-Column\" data-toc-modified-id=\"Update-Column-4.2.1.2\"><span class=\"toc-item-num\">4.2.1.2&nbsp;&nbsp;</span>Update Column</a></span></li><li><span><a href=\"#Delete-Column\" data-toc-modified-id=\"Delete-Column-4.2.1.3\"><span class=\"toc-item-num\">4.2.1.3&nbsp;&nbsp;</span>Delete Column</a></span></li></ul></li><li><span><a href=\"#Querying-Data\" data-toc-modified-id=\"Querying-Data-4.2.2\"><span class=\"toc-item-num\">4.2.2&nbsp;&nbsp;</span>Querying Data</a></span><ul class=\"toc-item\"><li><span><a href=\"#Select\" data-toc-modified-id=\"Select-4.2.2.1\"><span class=\"toc-item-num\">4.2.2.1&nbsp;&nbsp;</span>Select</a></span></li><li><span><a href=\"#Filter\" data-toc-modified-id=\"Filter-4.2.2.2\"><span class=\"toc-item-num\">4.2.2.2&nbsp;&nbsp;</span>Filter</a></span></li><li><span><a href=\"#GroupBy\" data-toc-modified-id=\"GroupBy-4.2.2.3\"><span class=\"toc-item-num\">4.2.2.3&nbsp;&nbsp;</span>GroupBy</a></span></li></ul></li><li><span><a href=\"#OrderBy\" data-toc-modified-id=\"OrderBy-4.2.3\"><span class=\"toc-item-num\">4.2.3&nbsp;&nbsp;</span>OrderBy</a></span></li><li><span><a href=\"#Functions\" data-toc-modified-id=\"Functions-4.2.4\"><span class=\"toc-item-num\">4.2.4&nbsp;&nbsp;</span>Functions</a></span></li></ul></li><li><span><a href=\"#Save-Data-to-File\" data-toc-modified-id=\"Save-Data-to-File-4.3\"><span class=\"toc-item-num\">4.3&nbsp;&nbsp;</span>Save Data to File</a></span></li><li><span><a href=\"#Spark-SQL\" data-toc-modified-id=\"Spark-SQL-4.4\"><span class=\"toc-item-num\">4.4&nbsp;&nbsp;</span>Spark SQL</a></span></li></ul></li><li><span><a href=\"#Twitter-(Quiz)\" data-toc-modified-id=\"Twitter-(Quiz)-5\"><span class=\"toc-item-num\">5&nbsp;&nbsp;</span>Twitter (Quiz)</a></span><ul class=\"toc-item\"><li><span><a href=\"#Load-Dataset\" data-toc-modified-id=\"Load-Dataset-5.1\"><span class=\"toc-item-num\">5.1&nbsp;&nbsp;</span>Load Dataset</a></span></li><li><span><a href=\"#Determine-the-total-number-of-tweets\" data-toc-modified-id=\"Determine-the-total-number-of-tweets-5.2\"><span class=\"toc-item-num\">5.2&nbsp;&nbsp;</span>Determine the total number of tweets</a></span></li><li><span><a href=\"#Print-the-Schema\" data-toc-modified-id=\"Print-the-Schema-5.3\"><span class=\"toc-item-num\">5.3&nbsp;&nbsp;</span>Print the Schema</a></span></li><li><span><a href=\"#List-the-Columns-of-the-Dataset\" data-toc-modified-id=\"List-the-Columns-of-the-Dataset-5.4\"><span class=\"toc-item-num\">5.4&nbsp;&nbsp;</span>List the Columns of the Dataset</a></span></li><li><span><a href=\"#Create-New-Dataframe\" data-toc-modified-id=\"Create-New-Dataframe-5.5\"><span class=\"toc-item-num\">5.5&nbsp;&nbsp;</span>Create New Dataframe</a></span></li><li><span><a href=\"#Total-Number-of-Users\" data-toc-modified-id=\"Total-Number-of-Users-5.6\"><span class=\"toc-item-num\">5.6&nbsp;&nbsp;</span>Total Number of Users</a></span></li><li><span><a href=\"#Top-10-users-who-post-the-most\" data-toc-modified-id=\"Top-10-users-who-post-the-most-5.7\"><span class=\"toc-item-num\">5.7&nbsp;&nbsp;</span>Top-10 users who post the most</a></span></li><li><span><a href=\"#Users-with-the-largest-Tweets\" data-toc-modified-id=\"Users-with-the-largest-Tweets-5.8\"><span class=\"toc-item-num\">5.8&nbsp;&nbsp;</span>Users with the largest Tweets</a></span></li><li><span><a href=\"#Name-of-User-with-the-largest-Tweet\" data-toc-modified-id=\"Name-of-User-with-the-largest-Tweet-5.9\"><span class=\"toc-item-num\">5.9&nbsp;&nbsp;</span>Name of User with the largest Tweet</a></span></li><li><span><a href=\"#Tweets'-origin\" data-toc-modified-id=\"Tweets'-origin-5.10\"><span class=\"toc-item-num\">5.10&nbsp;&nbsp;</span>Tweets' origin</a></span></li><li><span><a href=\"#About-time\" data-toc-modified-id=\"About-time-5.11\"><span class=\"toc-item-num\">5.11&nbsp;&nbsp;</span>About time</a></span></li><li><span><a href=\"#Most-popular-mentioned-users\" data-toc-modified-id=\"Most-popular-mentioned-users-5.12\"><span class=\"toc-item-num\">5.12&nbsp;&nbsp;</span>Most popular mentioned users</a></span></li><li><span><a href=\"#Most-popular-hashtags\" data-toc-modified-id=\"Most-popular-hashtags-5.13\"><span class=\"toc-item-num\">5.13&nbsp;&nbsp;</span>Most popular hashtags</a></span></li><li><span><a href=\"#Presence-of-the-candidates-in-the-Tweets\" data-toc-modified-id=\"Presence-of-the-candidates-in-the-Tweets-5.14\"><span class=\"toc-item-num\">5.14&nbsp;&nbsp;</span>Presence of the candidates in the Tweets</a></span></li></ul></li></ul></div>"
   ]
  },
  {
   "cell_type": "markdown",
   "metadata": {},
   "source": [
    "# Spark Dataframes"
   ]
  },
  {
   "cell_type": "markdown",
   "metadata": {},
   "source": [
    "<div class=\"alert alert-success alertsuccess\" style=\"margin-top: 20px\">\n",
    "\n",
    "## Objetivos de aprendizagem  <a class=\"tocSkip\">\n",
    "    \n",
    "No final deste notebook o aluno deverá saber usar Spark em dataframes.\n",
    "\n",
    "\n",
    "## Learning Objectives  <a class=\"tocSkip\">\n",
    "       \n",
    "When concluding this notebook, the student should know how to use Spark to process dataframes.</div>"
   ]
  },
  {
   "cell_type": "markdown",
   "metadata": {},
   "source": [
    "<div class=\"alert alert-success alertsuccess\" style=\"margin-top: 20px\">\n",
    "\n",
    "## Sumário  <a class=\"tocSkip\">\n",
    "### Introdução a Spark dataframes<a class=\"tocSkip\">\n",
    "\n",
    "Introdução dos alunos a Spark dataframes\n",
    "   \n",
    "## Class Summary  <a class=\"tocSkip\">\n",
    "### Introduction to Spark dataframes <a class=\"tocSkip\">\n",
    "Introducing students to Spark dataframes\n",
    "\n",
    "</div>"
   ]
  },
  {
   "cell_type": "code",
   "execution_count": null,
   "metadata": {},
   "outputs": [],
   "source": [
    "from IPython.display import IFrame\n",
    "IFrame(\"https://s3.amazonaws.com/assets.datacamp.com/blog_assets/PySpark_SQL_Cheat_Sheet_Python.pdf\", width=800, height=600)"
   ]
  },
  {
   "cell_type": "markdown",
   "metadata": {},
   "source": [
    "This notebook was partially based on this article:https://towardsdatascience.com/beginners-guide-to-pyspark-bbe3b553b79f"
   ]
  },
  {
   "cell_type": "markdown",
   "metadata": {},
   "source": [
    "## Instructions"
   ]
  },
  {
   "cell_type": "markdown",
   "metadata": {},
   "source": [
    "Se ainda  não o fez, comece por fazer download da pasta [data](https://www.di.ubi.pt/~rcampos/assets/files_tutorials/BigData/data.zip). De seguida extraia o conteúdo dessa pasta para uma pasta com o nome `data`. "
   ]
  },
  {
   "cell_type": "markdown",
   "metadata": {},
   "source": [
    "Adicionalmente faremos uso de dois outros ficheiros:\n",
    "- o ficheiro `stocks_price_final.csv` disponibilizado na página do kaggle: [USStockPrices](https://www.kaggle.com/datasets/dinnymathew/usstockprices), which gathers  NASDAQ and NYSE stocks with their market cap, sectors, etc from Jan 2019 to July 2020. Assim, proceda ao download do ficheiro e coloque-o dentro da pasta `data\\USStockPrices` que deverá criar no seu computador.\n",
    "- o ficheiro `cache-0-json.gz` disponibilizado na página do Internet Archive: [twitter](https://web.archive.org/web/20180417213757/https://ckannet-storage.commondatastorage.googleapis.com/2015-07-09T02:10:43.036Z/cache-0-json.gz) é um sub-set composto por 1M de tweets (de um total de 170M) coletados durante a campanha para as eleições dos EUA em 2012. O ficheiro ocupa 400MB comprimido e 3GB quando descomprimido. Assim, proceda ao download do ficheiro e coloque-o dentro da pasta `data\\twitter` que deverá criar no seu computador."
   ]
  },
  {
   "cell_type": "markdown",
   "metadata": {},
   "source": [
    "### Windows"
   ]
  },
  {
   "cell_type": "markdown",
   "metadata": {},
   "source": [
    "A execução deste notebook pressupõe a existência da pasta `data`  (e dos seus conteúdos) junto do seu notebook. Necessita também de ter o docker e o pyspark a funcionar de acordo com o explicado no notebook `1 - Introduction`."
   ]
  },
  {
   "cell_type": "markdown",
   "metadata": {},
   "source": [
    "### Google Colab"
   ]
  },
  {
   "cell_type": "markdown",
   "metadata": {},
   "source": [
    "Se ainda não o fez, entre agora no [Google Drive](https://drive.google.com/drive/my-drive) e crie a pasta `\\Colab Notebooks\\data\\BigData\\`. De seguida, copie os conteúdos da pasta `data` existentes no seu pc para dentro da pasta `\\Colab Notebooks\\data\\BigData\\`."
   ]
  },
  {
   "cell_type": "markdown",
   "metadata": {},
   "source": [
    "No Google Colab, execute o seguinte comando:"
   ]
  },
  {
   "cell_type": "code",
   "execution_count": null,
   "metadata": {},
   "outputs": [],
   "source": [
    "from google.colab import drive\n",
    "drive.mount('/content/drive', force_remount=True)"
   ]
  },
  {
   "cell_type": "markdown",
   "metadata": {},
   "source": [
    "To run pyspark on a local machine we need Java and other software. So instead of the heavy installation procedure, we use Google Colaboratory:"
   ]
  },
  {
   "cell_type": "code",
   "execution_count": null,
   "metadata": {},
   "outputs": [],
   "source": [
    "!pip install pyspark"
   ]
  },
  {
   "cell_type": "markdown",
   "metadata": {},
   "source": [
    "## Setup the SparkSession"
   ]
  },
  {
   "cell_type": "markdown",
   "metadata": {},
   "source": [
    "DataFrames can be created by a SparkSession object. The SparkSession does for DataFrames what the SparkContext does for RDDs: gives us an entry point to all of the functionality."
   ]
  },
  {
   "cell_type": "code",
   "execution_count": 1,
   "metadata": {},
   "outputs": [],
   "source": [
    "#import pyspark\n",
    "from pyspark.sql import SparkSession\n",
    "spark = SparkSession.builder.master(\"local[*]\").config(\"spark.driver.cores\", 1).appName(\"test\").getOrCreate()"
   ]
  },
  {
   "cell_type": "markdown",
   "metadata": {},
   "source": [
    "## Create DataFrame"
   ]
  },
  {
   "cell_type": "markdown",
   "metadata": {},
   "source": [
    "### From Files"
   ]
  },
  {
   "cell_type": "markdown",
   "metadata": {},
   "source": [
    "#### CSV"
   ]
  },
  {
   "cell_type": "markdown",
   "metadata": {},
   "source": [
    "Em Spark, um DataFrame é uma coleção distribuída de dados, organizados de forma tabular. No exemplo seguinte procuramos criar um DataFrame a partir de um ficheiro csv. O ficheiro `retailCompany.csv` reúne informação das compras realizadas por um conjunto de clientes numa determinada empresa durante o período de um mês (mais de 500k linhas). Para lá do montante despendido, o ficheiro contém, entre outras, informação sobre a idade, género e o estado civil."
   ]
  },
  {
   "cell_type": "code",
   "execution_count": 2,
   "metadata": {},
   "outputs": [],
   "source": [
    "filename = \"data/retailCompany.csv\"\n",
    "#filename = '/content/drive/My Drive/Colab Notebooks/data/BigData/retailCompany.csv' #Google Colab"
   ]
  },
  {
   "cell_type": "code",
   "execution_count": 3,
   "metadata": {},
   "outputs": [
    {
     "name": "stdout",
     "output_type": "stream",
     "text": [
      "+-------+----------+------+-----+----------+-------------+--------------------------+--------------+------------------+------------------+------------------+--------+\n",
      "|User_ID|Product_ID|Gender|  Age|Occupation|City_Category|Stay_In_Current_City_Years|Marital_Status|Product_Category_1|Product_Category_2|Product_Category_3|Purchase|\n",
      "+-------+----------+------+-----+----------+-------------+--------------------------+--------------+------------------+------------------+------------------+--------+\n",
      "|1000001| P00069042|     F| 0-17|        10|            A|                         2|             0|                 3|              NULL|              NULL|    8370|\n",
      "|1000001| P00248942|     F| 0-17|        10|            A|                         2|             0|                 1|                 6|                14|   15200|\n",
      "|1000001| P00087842|     F| 0-17|        10|            A|                         2|             0|                12|              NULL|              NULL|    1422|\n",
      "|1000001| P00085442|     F| 0-17|        10|            A|                         2|             0|                12|                14|              NULL|    1057|\n",
      "|1000002| P00285442|     M|  55+|        16|            C|                        4+|             0|                 8|              NULL|              NULL|    7969|\n",
      "|1000003| P00193542|     M|26-35|        15|            A|                         3|             0|                 1|                 2|              NULL|   15227|\n",
      "|1000004| P00184942|     M|46-50|         7|            B|                         2|             1|                 1|                 8|                17|   19215|\n",
      "|1000004| P00346142|     M|46-50|         7|            B|                         2|             1|                 1|                15|              NULL|   15854|\n",
      "|1000004|  P0097242|     M|46-50|         7|            B|                         2|             1|                 1|                16|              NULL|   15686|\n",
      "|1000005| P00274942|     M|26-35|        20|            A|                         1|             1|                 8|              NULL|              NULL|    7871|\n",
      "|1000005| P00251242|     M|26-35|        20|            A|                         1|             1|                 5|                11|              NULL|    5254|\n",
      "|1000005| P00014542|     M|26-35|        20|            A|                         1|             1|                 8|              NULL|              NULL|    3957|\n",
      "|1000005| P00031342|     M|26-35|        20|            A|                         1|             1|                 8|              NULL|              NULL|    6073|\n",
      "|1000005| P00145042|     M|26-35|        20|            A|                         1|             1|                 1|                 2|                 5|   15665|\n",
      "|1000006| P00231342|     F|51-55|         9|            A|                         1|             0|                 5|                 8|                14|    5378|\n",
      "|1000006| P00190242|     F|51-55|         9|            A|                         1|             0|                 4|                 5|              NULL|    2079|\n",
      "|1000006|  P0096642|     F|51-55|         9|            A|                         1|             0|                 2|                 3|                 4|   13055|\n",
      "|1000006| P00058442|     F|51-55|         9|            A|                         1|             0|                 5|                14|              NULL|    8851|\n",
      "|1000007| P00036842|     M|36-45|         1|            B|                         1|             1|                 1|                14|                16|   11788|\n",
      "|1000008| P00249542|     M|26-35|        12|            C|                        4+|             1|                 1|                 5|                15|   19614|\n",
      "+-------+----------+------+-----+----------+-------------+--------------------------+--------------+------------------+------------------+------------------+--------+\n",
      "only showing top 20 rows\n",
      "\n"
     ]
    }
   ],
   "source": [
    "df = spark.read.csv(filename, header=True, inferSchema=True)\n",
    "df.show()"
   ]
  },
  {
   "cell_type": "markdown",
   "metadata": {},
   "source": [
    "#### JSON"
   ]
  },
  {
   "cell_type": "markdown",
   "metadata": {},
   "source": [
    "Uma das formas de criar um spark DataFrame é através da leitura de um ficheiro json. Para exemplificar o processo vamos recorrer ao ficheiro `estudantes.json`, que reúne informações de 10k estudantes."
   ]
  },
  {
   "cell_type": "code",
   "execution_count": 4,
   "metadata": {},
   "outputs": [],
   "source": [
    "filename = \"data/estudantes.json\"\n",
    "#filename = '/content/drive/My Drive/Colab Notebooks/data/BigData/estudantes.json' #Google Colab"
   ]
  },
  {
   "cell_type": "code",
   "execution_count": 5,
   "metadata": {},
   "outputs": [
    {
     "name": "stdout",
     "output_type": "stream",
     "text": [
      "+--------------------+---+--------------------+-----+--------+-----------------+\n",
      "|                 _id|age|               email|grade|    name|          surname|\n",
      "+--------------------+---+--------------------+-----+--------+-----------------+\n",
      "|33a624e7-e6f1-40b...| 23|Valeria.Sebastian...| 7.56| Valeria| Sebastian Garcia|\n",
      "|2cd47675-43f3-415...| 23|Sanchez.Abascal@g...| 8.16|    Emma|  Sanchez Abascal|\n",
      "|594ea4e7-75e3-456...| 20|Sarabia.Lopez@gma...| 8.22| Agustin|    Sarabia Lopez|\n",
      "|3b521244-d2d4-40b...| 25|MartinaySebastian...| 7.67| Martina|Corominas Sarabia|\n",
      "|e6f52130-362f-4a5...| 19|DavidyValeria@gma...| 7.45|   David|   Miranda Grande|\n",
      "|cee04454-f6ea-48b...| 20|Lopez.Bernal@outl...| 7.35|    Laia|     Lopez Bernal|\n",
      "|6e5b75cd-0d5f-41f...| 22|MarcosySantiago@h...|  6.8|  Marcos|     Garcia Aznar|\n",
      "|47435195-80b1-473...| 18|Judith.Garcia@gma...|  9.1|  Judith|      Garcia Cruz|\n",
      "|fbdf66dc-49da-467...| 21| IkerySara@gmail.com| 7.77|    Iker|    Seco Coronado|\n",
      "|0df69140-84ac-47d...| 22|Lopez.Sastre@hotm...|  7.9|   Pablo|     Lopez Sastre|\n",
      "|dbd1026a-b18f-450...| 19|Marcos1997@gmail.com|  7.8|  Marcos|  Sarabia Gisbert|\n",
      "|ee2568cb-93f8-44c...| 24|  Oriol1992@yahoo.es| 7.39|   Oriol|   Blanes Miranda|\n",
      "|2f5239a1-05c0-454...| 18|Marcos.Cuenca@yah...|  9.8|  Marcos|     Cuenca Lopez|\n",
      "|40191301-f2b6-4aa...| 23|Sandra.Sastre@gma...|  8.3|  Sandra| Sastre Corominas|\n",
      "|eac69540-3a1d-4a3...| 22|LuciayTomas@outlo...| 8.69|   Lucia|      Agudo Lopez|\n",
      "|1f58ebe4-9fc5-429...| 29|MarcosyMario@gmai...|  8.8|  Marcos|   Garcia Sanchez|\n",
      "|54d4a8d3-4cc1-4dc...| 24|EmmayJose@hotmail.es| 9.25|    Emma|     Cruz Antunez|\n",
      "|33f54c17-2a1b-421...| 21|Santander.Pascual...| 5.79|   Pedro|Santander Pascual|\n",
      "|971deb27-156d-4cd...| 21|Aznar.Pascual@idx...|  8.6|Santiago|    Aznar Pascual|\n",
      "|cb1244e2-63cf-4a7...| 20|Juan.Parada@gmail...|  8.3|    Juan|   Parada Pascual|\n",
      "+--------------------+---+--------------------+-----+--------+-----------------+\n",
      "only showing top 20 rows\n",
      "\n"
     ]
    }
   ],
   "source": [
    "df = spark.read.json(filename)\n",
    "df.show()"
   ]
  },
  {
   "cell_type": "markdown",
   "metadata": {},
   "source": [
    "Enquanto o JSON que carregamos tinha uma estrutura linear, a grande maioria destes ficheiros segue uma estrutura encadeada. Este é o caso do JSON seguinte, um JSON de Tweets. Clique [aqui](https://gist.github.com/hrp/900964) para ter acesso à estrutura JSON de um tweet. Observe que na linha 79 dessa página web vai encontrar por exemplo a referência ao \"user.location\"."
   ]
  },
  {
   "cell_type": "code",
   "execution_count": 6,
   "metadata": {},
   "outputs": [],
   "source": [
    "filename = \"data/15m-sample.json\"\n",
    "#filename = '/content/drive/My Drive/Colab Notebooks/data/BigData/15m-sample.json' #Google Colab"
   ]
  },
  {
   "cell_type": "code",
   "execution_count": 7,
   "metadata": {},
   "outputs": [
    {
     "name": "stdout",
     "output_type": "stream",
     "text": [
      "root\n",
      " |-- \\nactivities: struct (nullable = true)\n",
      " |    |-- favoriters: array (nullable = true)\n",
      " |    |    |-- element: string (containsNull = true)\n",
      " |    |-- favoriters_count: string (nullable = true)\n",
      " |    |-- repliers: array (nullable = true)\n",
      " |    |    |-- element: string (containsNull = true)\n",
      " |    |-- repliers_count: string (nullable = true)\n",
      " |    |-- retweeters: array (nullable = true)\n",
      " |    |    |-- element: string (containsNull = true)\n",
      " |    |-- retweeters_count: string (nullable = true)\n",
      " |-- \\ncoordinates: string (nullable = true)\n",
      " |-- \\ncreated_at: string (nullable = true)\n",
      " |-- \\nfavorited: boolean (nullable = true)\n",
      " |-- \\ngeo: string (nullable = true)\n",
      " |-- \\nid: long (nullable = true)\n",
      " |-- \\nid_str: string (nullable = true)\n",
      " |-- \\nin_reply_to_screen_name: string (nullable = true)\n",
      " |-- \\nin_reply_to_status_id: string (nullable = true)\n",
      " |-- \\nin_reply_to_status_id_str: string (nullable = true)\n",
      " |-- \\nin_reply_to_user_id_str: string (nullable = true)\n",
      " |-- \\nplace: string (nullable = true)\n",
      " |-- \\npossibly_sensitive: boolean (nullable = true)\n",
      " |-- \\nretweet_count: long (nullable = true)\n",
      " |-- \\nretweeted: boolean (nullable = true)\n",
      " |-- \\nsource: string (nullable = true)\n",
      " |-- \\ntruncated: boolean (nullable = true)\n",
      " |-- \\nuser: struct (nullable = true)\n",
      " |    |-- \\ndefault_profile: boolean (nullable = true)\n",
      " |    |-- \\ndefault_profile_image: boolean (nullable = true)\n",
      " |    |-- \\nfavourites_count: long (nullable = true)\n",
      " |    |-- \\nid_str: string (nullable = true)\n",
      " |    |-- \\nprofile_background_image_url: string (nullable = true)\n",
      " |    |-- \\nprofile_image_url: string (nullable = true)\n",
      " |    |-- \\nprofile_link_color: string (nullable = true)\n",
      " |    |-- \\nprotected: boolean (nullable = true)\n",
      " |    |-- \\nscreen_name: string (nullable = true)\n",
      " |    |-- \\nurl: string (nullable = true)\n",
      " |    |-- contributors_enabled: boolean (nullable = true)\n",
      " |    |-- created_at: string (nullable = true)\n",
      " |    |-- default_\\nprofile_image: boolean (nullable = true)\n",
      " |    |-- default_profile: boolean (nullable = true)\n",
      " |    |-- default_profile_\\nimage: boolean (nullable = true)\n",
      " |    |-- default_profile_image: boolean (nullable = true)\n",
      " |    |-- description: string (nullable = true)\n",
      " |    |-- favourites_\\ncount: long (nullable = true)\n",
      " |    |-- favourites_count: long (nullable = true)\n",
      " |    |-- follow_request_sent: string (nullable = true)\n",
      " |    |-- followers_count: long (nullable = true)\n",
      " |    |-- following: string (nullable = true)\n",
      " |    |-- friends_count: long (nullable = true)\n",
      " |    |-- geo_enabled: boolean (nullable = true)\n",
      " |    |-- id: long (nullable = true)\n",
      " |    |-- id_\\nstr: string (nullable = true)\n",
      " |    |-- id_str: string (nullable = true)\n",
      " |    |-- is_translator: boolean (nullable = true)\n",
      " |    |-- lang: string (nullable = true)\n",
      " |    |-- listed_count: long (nullable = true)\n",
      " |    |-- location: string (nullable = true)\n",
      " |    |-- name: string (nullable = true)\n",
      " |    |-- notifications: string (nullable = true)\n",
      " |    |-- profile_\\nbackground_image_url: string (nullable = true)\n",
      " |    |-- profile_\\nimage_url: string (nullable = true)\n",
      " |    |-- profile_\\nlink_color: string (nullable = true)\n",
      " |    |-- profile_background_\\nimage_url: string (nullable = true)\n",
      " |    |-- profile_background_color: string (nullable = true)\n",
      " |    |-- profile_background_image_\\nurl: string (nullable = true)\n",
      " |    |-- profile_background_image_\\nurl_https: string (nullable = true)\n",
      " |    |-- profile_background_image_url: string (nullable = true)\n",
      " |    |-- profile_background_image_url_https: string (nullable = true)\n",
      " |    |-- profile_background_tile: boolean (nullable = true)\n",
      " |    |-- profile_image_\\nurl: string (nullable = true)\n",
      " |    |-- profile_image_url: string (nullable = true)\n",
      " |    |-- profile_image_url_https: string (nullable = true)\n",
      " |    |-- profile_link_\\ncolor: string (nullable = true)\n",
      " |    |-- profile_link_color: string (nullable = true)\n",
      " |    |-- profile_sidebar_border_color: string (nullable = true)\n",
      " |    |-- profile_sidebar_fill_color: string (nullable = true)\n",
      " |    |-- profile_text_color: string (nullable = true)\n",
      " |    |-- profile_use_background_image: boolean (nullable = true)\n",
      " |    |-- protected: boolean (nullable = true)\n",
      " |    |-- screen_\\nname: string (nullable = true)\n",
      " |    |-- screen_name: string (nullable = true)\n",
      " |    |-- show_all_inline_media: boolean (nullable = true)\n",
      " |    |-- statuses_count: long (nullable = true)\n",
      " |    |-- time_zone: string (nullable = true)\n",
      " |    |-- url: string (nullable = true)\n",
      " |    |-- utc_offset: long (nullable = true)\n",
      " |    |-- verified: boolean (nullable = true)\n",
      " |-- activities: struct (nullable = true)\n",
      " |    |-- \\nfavoriters: array (nullable = true)\n",
      " |    |    |-- element: string (containsNull = true)\n",
      " |    |-- \\nfavoriters_count: string (nullable = true)\n",
      " |    |-- \\nrepliers: array (nullable = true)\n",
      " |    |    |-- element: string (containsNull = true)\n",
      " |    |-- \\nrepliers_count: string (nullable = true)\n",
      " |    |-- \\nretweeters: array (nullable = true)\n",
      " |    |    |-- element: string (containsNull = true)\n",
      " |    |-- \\nretweeters_count: string (nullable = true)\n",
      " |    |-- favoriters: array (nullable = true)\n",
      " |    |    |-- element: string (containsNull = true)\n",
      " |    |-- favoriters_\\ncount: string (nullable = true)\n",
      " |    |-- favoriters_count: string (nullable = true)\n",
      " |    |-- repliers: array (nullable = true)\n",
      " |    |    |-- element: string (containsNull = true)\n",
      " |    |-- repliers_\\ncount: string (nullable = true)\n",
      " |    |-- repliers_count: string (nullable = true)\n",
      " |    |-- retweeters: array (nullable = true)\n",
      " |    |    |-- element: string (containsNull = true)\n",
      " |    |-- retweeters_\\ncount: string (nullable = true)\n",
      " |    |-- retweeters_count: string (nullable = true)\n",
      " |-- contributors: string (nullable = true)\n",
      " |-- coordinates: struct (nullable = true)\n",
      " |    |-- coordinates: array (nullable = true)\n",
      " |    |    |-- element: double (containsNull = true)\n",
      " |    |-- type: string (nullable = true)\n",
      " |-- created_\\nat: string (nullable = true)\n",
      " |-- created_at: string (nullable = true)\n",
      " |-- entities: struct (nullable = true)\n",
      " |    |-- hashtags: array (nullable = true)\n",
      " |    |    |-- element: struct (containsNull = true)\n",
      " |    |    |    |-- \\nindices: array (nullable = true)\n",
      " |    |    |    |    |-- element: long (containsNull = true)\n",
      " |    |    |    |-- indices: array (nullable = true)\n",
      " |    |    |    |    |-- element: long (containsNull = true)\n",
      " |    |    |    |-- text: string (nullable = true)\n",
      " |    |-- media: array (nullable = true)\n",
      " |    |    |-- element: struct (containsNull = true)\n",
      " |    |    |    |-- display_url: string (nullable = true)\n",
      " |    |    |    |-- expanded_url: string (nullable = true)\n",
      " |    |    |    |-- id: long (nullable = true)\n",
      " |    |    |    |-- id_str: string (nullable = true)\n",
      " |    |    |    |-- indices: array (nullable = true)\n",
      " |    |    |    |    |-- element: long (containsNull = true)\n",
      " |    |    |    |-- media_url: string (nullable = true)\n",
      " |    |    |    |-- media_url_https: string (nullable = true)\n",
      " |    |    |    |-- sizes: struct (nullable = true)\n",
      " |    |    |    |    |-- \\nmedium: struct (nullable = true)\n",
      " |    |    |    |    |    |-- h: long (nullable = true)\n",
      " |    |    |    |    |    |-- resize: string (nullable = true)\n",
      " |    |    |    |    |    |-- w: long (nullable = true)\n",
      " |    |    |    |    |-- large: struct (nullable = true)\n",
      " |    |    |    |    |    |-- h: long (nullable = true)\n",
      " |    |    |    |    |    |-- resize: string (nullable = true)\n",
      " |    |    |    |    |    |-- w: long (nullable = true)\n",
      " |    |    |    |    |-- medium: struct (nullable = true)\n",
      " |    |    |    |    |    |-- h: long (nullable = true)\n",
      " |    |    |    |    |    |-- resize: string (nullable = true)\n",
      " |    |    |    |    |    |-- w: long (nullable = true)\n",
      " |    |    |    |    |-- small: struct (nullable = true)\n",
      " |    |    |    |    |    |-- h: long (nullable = true)\n",
      " |    |    |    |    |    |-- resize: string (nullable = true)\n",
      " |    |    |    |    |    |-- w: long (nullable = true)\n",
      " |    |    |    |    |-- thumb: struct (nullable = true)\n",
      " |    |    |    |    |    |-- h: long (nullable = true)\n",
      " |    |    |    |    |    |-- resize: string (nullable = true)\n",
      " |    |    |    |    |    |-- w: long (nullable = true)\n",
      " |    |    |    |-- type: string (nullable = true)\n",
      " |    |    |    |-- url: string (nullable = true)\n",
      " |    |-- urls: array (nullable = true)\n",
      " |    |    |-- element: struct (containsNull = true)\n",
      " |    |    |    |-- display_url: string (nullable = true)\n",
      " |    |    |    |-- expanded_url: string (nullable = true)\n",
      " |    |    |    |-- indices: array (nullable = true)\n",
      " |    |    |    |    |-- element: long (containsNull = true)\n",
      " |    |    |    |-- url: string (nullable = true)\n",
      " |    |-- user_mentions: array (nullable = true)\n",
      " |    |    |-- element: struct (containsNull = true)\n",
      " |    |    |    |-- \\nid: long (nullable = true)\n",
      " |    |    |    |-- \\nindices: array (nullable = true)\n",
      " |    |    |    |    |-- element: long (containsNull = true)\n",
      " |    |    |    |-- \\nname: string (nullable = true)\n",
      " |    |    |    |-- \\nscreen_name: string (nullable = true)\n",
      " |    |    |    |-- id: long (nullable = true)\n",
      " |    |    |    |-- id_str: string (nullable = true)\n",
      " |    |    |    |-- indices: array (nullable = true)\n",
      " |    |    |    |    |-- element: long (containsNull = true)\n",
      " |    |    |    |-- name: string (nullable = true)\n",
      " |    |    |    |-- screen_name: string (nullable = true)\n",
      " |-- favorited: boolean (nullable = true)\n",
      " |-- geo: struct (nullable = true)\n",
      " |    |-- coordinates: array (nullable = true)\n",
      " |    |    |-- element: double (containsNull = true)\n",
      " |    |-- type: string (nullable = true)\n",
      " |-- id: long (nullable = true)\n",
      " |-- id_\\nstr: string (nullable = true)\n",
      " |-- id_str: string (nullable = true)\n",
      " |-- in_\\nreply_to_screen_name: string (nullable = true)\n",
      " |-- in_\\nreply_to_status_id: long (nullable = true)\n",
      " |-- in_\\nreply_to_status_id_str: string (nullable = true)\n",
      " |-- in_\\nreply_to_user_id_str: string (nullable = true)\n",
      " |-- in_reply_\\nto_screen_name: string (nullable = true)\n",
      " |-- in_reply_\\nto_status_id: string (nullable = true)\n",
      " |-- in_reply_\\nto_status_id_str: string (nullable = true)\n",
      " |-- in_reply_\\nto_user_id: string (nullable = true)\n",
      " |-- in_reply_\\nto_user_id_str: string (nullable = true)\n",
      " |-- in_reply_to_\\nscreen_name: string (nullable = true)\n",
      " |-- in_reply_to_\\nstatus_id: long (nullable = true)\n",
      " |-- in_reply_to_\\nstatus_id_str: string (nullable = true)\n",
      " |-- in_reply_to_\\nuser_id_str: string (nullable = true)\n",
      " |-- in_reply_to_screen_\\nname: string (nullable = true)\n",
      " |-- in_reply_to_screen_name: string (nullable = true)\n",
      " |-- in_reply_to_status_\\nid: string (nullable = true)\n",
      " |-- in_reply_to_status_\\nid_str: string (nullable = true)\n",
      " |-- in_reply_to_status_id: long (nullable = true)\n",
      " |-- in_reply_to_status_id_\\nstr: string (nullable = true)\n",
      " |-- in_reply_to_status_id_str: string (nullable = true)\n",
      " |-- in_reply_to_user_\\nid_str: string (nullable = true)\n",
      " |-- in_reply_to_user_id: long (nullable = true)\n",
      " |-- in_reply_to_user_id_\\nstr: string (nullable = true)\n",
      " |-- in_reply_to_user_id_str: string (nullable = true)\n",
      " |-- place: struct (nullable = true)\n",
      " |    |-- \\nname: string (nullable = true)\n",
      " |    |-- bounding_box: struct (nullable = true)\n",
      " |    |    |-- coordinates: array (nullable = true)\n",
      " |    |    |    |-- element: array (containsNull = true)\n",
      " |    |    |    |    |-- element: array (containsNull = true)\n",
      " |    |    |    |    |    |-- element: double (containsNull = true)\n",
      " |    |    |-- type: string (nullable = true)\n",
      " |    |-- country: string (nullable = true)\n",
      " |    |-- country_code: string (nullable = true)\n",
      " |    |-- full_name: string (nullable = true)\n",
      " |    |-- id: string (nullable = true)\n",
      " |    |-- name: string (nullable = true)\n",
      " |    |-- place_type: string (nullable = true)\n",
      " |    |-- url: string (nullable = true)\n",
      " |-- possibly_\\nsensitive: boolean (nullable = true)\n",
      " |-- possibly_sensitive: boolean (nullable = true)\n",
      " |-- retweet_\\ncount: long (nullable = true)\n",
      " |-- retweet_count: string (nullable = true)\n",
      " |-- retweeted: boolean (nullable = true)\n",
      " |-- retweeted_status: struct (nullable = true)\n",
      " |    |-- \\nactivities: struct (nullable = true)\n",
      " |    |    |-- favoriters: array (nullable = true)\n",
      " |    |    |    |-- element: long (containsNull = true)\n",
      " |    |    |-- favoriters_count: string (nullable = true)\n",
      " |    |    |-- repliers: array (nullable = true)\n",
      " |    |    |    |-- element: long (containsNull = true)\n",
      " |    |    |-- repliers_count: string (nullable = true)\n",
      " |    |    |-- retweeters: array (nullable = true)\n",
      " |    |    |    |-- element: long (containsNull = true)\n",
      " |    |    |-- retweeters_count: string (nullable = true)\n",
      " |    |-- \\ncontributors: string (nullable = true)\n",
      " |    |-- \\ncoordinates: string (nullable = true)\n",
      " |    |-- \\ncreated_at: string (nullable = true)\n",
      " |    |-- \\nentities: struct (nullable = true)\n",
      " |    |    |-- hashtags: array (nullable = true)\n",
      " |    |    |    |-- element: struct (containsNull = true)\n",
      " |    |    |    |    |-- indices: array (nullable = true)\n",
      " |    |    |    |    |    |-- element: long (containsNull = true)\n",
      " |    |    |    |    |-- text: string (nullable = true)\n",
      " |    |    |-- urls: array (nullable = true)\n",
      " |    |    |    |-- element: struct (containsNull = true)\n",
      " |    |    |    |    |-- display_url: string (nullable = true)\n",
      " |    |    |    |    |-- expanded_url: string (nullable = true)\n",
      " |    |    |    |    |-- indices: array (nullable = true)\n",
      " |    |    |    |    |    |-- element: long (containsNull = true)\n",
      " |    |    |    |    |-- url: string (nullable = true)\n",
      " |    |    |-- user_mentions: array (nullable = true)\n",
      " |    |    |    |-- element: struct (containsNull = true)\n",
      " |    |    |    |    |-- id: long (nullable = true)\n",
      " |    |    |    |    |-- id_str: string (nullable = true)\n",
      " |    |    |    |    |-- indices: array (nullable = true)\n",
      " |    |    |    |    |    |-- element: long (containsNull = true)\n",
      " |    |    |    |    |-- name: string (nullable = true)\n",
      " |    |    |    |    |-- screen_name: string (nullable = true)\n",
      " |    |-- \\nfavorited: boolean (nullable = true)\n",
      " |    |-- \\ngeo: string (nullable = true)\n",
      " |    |-- \\nid: long (nullable = true)\n",
      " |    |-- \\nid_str: string (nullable = true)\n",
      " |    |-- \\nin_reply_to_screen_name: string (nullable = true)\n",
      " |    |-- \\nin_reply_to_status_id: string (nullable = true)\n",
      " |    |-- \\nin_reply_to_status_id_str: string (nullable = true)\n",
      " |    |-- \\nin_reply_to_user_id: string (nullable = true)\n",
      " |    |-- \\nin_reply_to_user_id_str: string (nullable = true)\n",
      " |    |-- \\nplace: string (nullable = true)\n",
      " |    |-- \\npossibly_sensitive: boolean (nullable = true)\n",
      " |    |-- \\nretweet_count: long (nullable = true)\n",
      " |    |-- \\nretweeted: boolean (nullable = true)\n",
      " |    |-- \\nsource: string (nullable = true)\n",
      " |    |-- \\ntext: string (nullable = true)\n",
      " |    |-- \\ntruncated: boolean (nullable = true)\n",
      " |    |-- \\nuser: struct (nullable = true)\n",
      " |    |    |-- \\nprofile_link_color: string (nullable = true)\n",
      " |    |    |-- \\nprotected: boolean (nullable = true)\n",
      " |    |    |-- contributors_enabled: boolean (nullable = true)\n",
      " |    |    |-- created_at: string (nullable = true)\n",
      " |    |    |-- default_profile: boolean (nullable = true)\n",
      " |    |    |-- default_profile_image: boolean (nullable = true)\n",
      " |    |    |-- description: string (nullable = true)\n",
      " |    |    |-- favourites_count: long (nullable = true)\n",
      " |    |    |-- follow_request_sent: string (nullable = true)\n",
      " |    |    |-- followers_count: long (nullable = true)\n",
      " |    |    |-- following: string (nullable = true)\n",
      " |    |    |-- friends_count: long (nullable = true)\n",
      " |    |    |-- geo_enabled: boolean (nullable = true)\n",
      " |    |    |-- id: long (nullable = true)\n",
      " |    |    |-- id_\\nstr: string (nullable = true)\n",
      " |    |    |-- id_str: string (nullable = true)\n",
      " |    |    |-- is_translator: boolean (nullable = true)\n",
      " |    |    |-- lang: string (nullable = true)\n",
      " |    |    |-- listed_count: long (nullable = true)\n",
      " |    |    |-- location: string (nullable = true)\n",
      " |    |    |-- name: string (nullable = true)\n",
      " |    |    |-- notifications: string (nullable = true)\n",
      " |    |    |-- profile_\\nlink_color: string (nullable = true)\n",
      " |    |    |-- profile_background_\\nimage_url: string (nullable = true)\n",
      " |    |    |-- profile_background_color: string (nullable = true)\n",
      " |    |    |-- profile_background_image_url: string (nullable = true)\n",
      " |    |    |-- profile_background_image_url_https: string (nullable = true)\n",
      " |    |    |-- profile_background_tile: boolean (nullable = true)\n",
      " |    |    |-- profile_image_url: string (nullable = true)\n",
      " |    |    |-- profile_image_url_https: string (nullable = true)\n",
      " |    |    |-- profile_link_color: string (nullable = true)\n",
      " |    |    |-- profile_sidebar_border_color: string (nullable = true)\n",
      " |    |    |-- profile_sidebar_fill_color: string (nullable = true)\n",
      " |    |    |-- profile_text_color: string (nullable = true)\n",
      " |    |    |-- profile_use_background_image: boolean (nullable = true)\n",
      " |    |    |-- protected: boolean (nullable = true)\n",
      " |    |    |-- screen_name: string (nullable = true)\n",
      " |    |    |-- show_all_inline_media: boolean (nullable = true)\n",
      " |    |    |-- statuses_count: long (nullable = true)\n",
      " |    |    |-- time_zone: string (nullable = true)\n",
      " |    |    |-- url: string (nullable = true)\n",
      " |    |    |-- utc_offset: long (nullable = true)\n",
      " |    |    |-- verified: boolean (nullable = true)\n",
      " |    |-- activities: struct (nullable = true)\n",
      " |    |    |-- \\nfavoriters: array (nullable = true)\n",
      " |    |    |    |-- element: long (containsNull = true)\n",
      " |    |    |-- \\nfavoriters_count: string (nullable = true)\n",
      " |    |    |-- \\nrepliers_count: string (nullable = true)\n",
      " |    |    |-- \\nretweeters: array (nullable = true)\n",
      " |    |    |    |-- element: long (containsNull = true)\n",
      " |    |    |-- \\nretweeters_count: string (nullable = true)\n",
      " |    |    |-- favoriters: array (nullable = true)\n",
      " |    |    |    |-- element: long (containsNull = true)\n",
      " |    |    |-- favoriters_\\ncount: string (nullable = true)\n",
      " |    |    |-- favoriters_count: string (nullable = true)\n",
      " |    |    |-- repliers: array (nullable = true)\n",
      " |    |    |    |-- element: long (containsNull = true)\n",
      " |    |    |-- repliers_\\ncount: string (nullable = true)\n",
      " |    |    |-- repliers_count: string (nullable = true)\n",
      " |    |    |-- retweeters: array (nullable = true)\n",
      " |    |    |    |-- element: long (containsNull = true)\n",
      " |    |    |-- retweeters_\\ncount: string (nullable = true)\n",
      " |    |    |-- retweeters_count: string (nullable = true)\n",
      " |    |-- contributors: string (nullable = true)\n",
      " |    |-- coordinates: struct (nullable = true)\n",
      " |    |    |-- coordinates: array (nullable = true)\n",
      " |    |    |    |-- element: double (containsNull = true)\n",
      " |    |    |-- type: string (nullable = true)\n",
      " |    |-- created_\\nat: string (nullable = true)\n",
      " |    |-- created_at: string (nullable = true)\n",
      " |    |-- entities: struct (nullable = true)\n",
      " |    |    |-- \\nhashtags: array (nullable = true)\n",
      " |    |    |    |-- element: struct (containsNull = true)\n",
      " |    |    |    |    |-- indices: array (nullable = true)\n",
      " |    |    |    |    |    |-- element: long (containsNull = true)\n",
      " |    |    |    |    |-- text: string (nullable = true)\n",
      " |    |    |-- \\nurls: array (nullable = true)\n",
      " |    |    |    |-- element: struct (containsNull = true)\n",
      " |    |    |    |    |-- display_url: string (nullable = true)\n",
      " |    |    |    |    |-- expanded_url: string (nullable = true)\n",
      " |    |    |    |    |-- indices: array (nullable = true)\n",
      " |    |    |    |    |    |-- element: long (containsNull = true)\n",
      " |    |    |    |    |-- url: string (nullable = true)\n",
      " |    |    |-- \\nuser_mentions: array (nullable = true)\n",
      " |    |    |    |-- element: struct (containsNull = true)\n",
      " |    |    |    |    |-- id: long (nullable = true)\n",
      " |    |    |    |    |-- id_str: string (nullable = true)\n",
      " |    |    |    |    |-- indices: array (nullable = true)\n",
      " |    |    |    |    |    |-- element: long (containsNull = true)\n",
      " |    |    |    |    |-- name: string (nullable = true)\n",
      " |    |    |    |    |-- screen_name: string (nullable = true)\n",
      " |    |    |-- hashtags: array (nullable = true)\n",
      " |    |    |    |-- element: struct (containsNull = true)\n",
      " |    |    |    |    |-- \\nindices: array (nullable = true)\n",
      " |    |    |    |    |    |-- element: long (containsNull = true)\n",
      " |    |    |    |    |-- \\ntext: string (nullable = true)\n",
      " |    |    |    |    |-- indices: array (nullable = true)\n",
      " |    |    |    |    |    |-- element: long (containsNull = true)\n",
      " |    |    |    |    |-- text: string (nullable = true)\n",
      " |    |    |-- media: array (nullable = true)\n",
      " |    |    |    |-- element: struct (containsNull = true)\n",
      " |    |    |    |    |-- \\nindices: array (nullable = true)\n",
      " |    |    |    |    |    |-- element: long (containsNull = true)\n",
      " |    |    |    |    |-- display_url: string (nullable = true)\n",
      " |    |    |    |    |-- expanded_url: string (nullable = true)\n",
      " |    |    |    |    |-- id: long (nullable = true)\n",
      " |    |    |    |    |-- id_str: string (nullable = true)\n",
      " |    |    |    |    |-- indices: array (nullable = true)\n",
      " |    |    |    |    |    |-- element: long (containsNull = true)\n",
      " |    |    |    |    |-- media_url: string (nullable = true)\n",
      " |    |    |    |    |-- media_url_https: string (nullable = true)\n",
      " |    |    |    |    |-- sizes: struct (nullable = true)\n",
      " |    |    |    |    |    |-- \\nsmall: struct (nullable = true)\n",
      " |    |    |    |    |    |    |-- h: long (nullable = true)\n",
      " |    |    |    |    |    |    |-- resize: string (nullable = true)\n",
      " |    |    |    |    |    |    |-- w: long (nullable = true)\n",
      " |    |    |    |    |    |-- \\nthumb: struct (nullable = true)\n",
      " |    |    |    |    |    |    |-- h: long (nullable = true)\n",
      " |    |    |    |    |    |    |-- resize: string (nullable = true)\n",
      " |    |    |    |    |    |    |-- w: long (nullable = true)\n",
      " |    |    |    |    |    |-- large: struct (nullable = true)\n",
      " |    |    |    |    |    |    |-- \\nresize: string (nullable = true)\n",
      " |    |    |    |    |    |    |-- \\nw: long (nullable = true)\n",
      " |    |    |    |    |    |    |-- h: long (nullable = true)\n",
      " |    |    |    |    |    |    |-- resize: string (nullable = true)\n",
      " |    |    |    |    |    |    |-- w: long (nullable = true)\n",
      " |    |    |    |    |    |-- medium: struct (nullable = true)\n",
      " |    |    |    |    |    |    |-- \\nh: long (nullable = true)\n",
      " |    |    |    |    |    |    |-- \\nresize: string (nullable = true)\n",
      " |    |    |    |    |    |    |-- h: long (nullable = true)\n",
      " |    |    |    |    |    |    |-- resize: string (nullable = true)\n",
      " |    |    |    |    |    |    |-- w: long (nullable = true)\n",
      " |    |    |    |    |    |-- small: struct (nullable = true)\n",
      " |    |    |    |    |    |    |-- \\nh: long (nullable = true)\n",
      " |    |    |    |    |    |    |-- \\nresize: string (nullable = true)\n",
      " |    |    |    |    |    |    |-- h: long (nullable = true)\n",
      " |    |    |    |    |    |    |-- resize: string (nullable = true)\n",
      " |    |    |    |    |    |    |-- w: long (nullable = true)\n",
      " |    |    |    |    |    |-- thumb: struct (nullable = true)\n",
      " |    |    |    |    |    |    |-- h: long (nullable = true)\n",
      " |    |    |    |    |    |    |-- resize: string (nullable = true)\n",
      " |    |    |    |    |    |    |-- w: long (nullable = true)\n",
      " |    |    |    |    |-- type: string (nullable = true)\n",
      " |    |    |    |    |-- url: string (nullable = true)\n",
      " |    |    |-- urls: array (nullable = true)\n",
      " |    |    |    |-- element: struct (containsNull = true)\n",
      " |    |    |    |    |-- \\ndisplay_url: string (nullable = true)\n",
      " |    |    |    |    |-- \\nexpanded_url: string (nullable = true)\n",
      " |    |    |    |    |-- \\nindices: array (nullable = true)\n",
      " |    |    |    |    |    |-- element: long (containsNull = true)\n",
      " |    |    |    |    |-- \\nurl: string (nullable = true)\n",
      " |    |    |    |    |-- display_\\nurl: string (nullable = true)\n",
      " |    |    |    |    |-- display_url: string (nullable = true)\n",
      " |    |    |    |    |-- expanded_\\nurl: string (nullable = true)\n",
      " |    |    |    |    |-- expanded_url: string (nullable = true)\n",
      " |    |    |    |    |-- indices: array (nullable = true)\n",
      " |    |    |    |    |    |-- element: long (containsNull = true)\n",
      " |    |    |    |    |-- url: string (nullable = true)\n",
      " |    |    |-- user_\\nmentions: array (nullable = true)\n",
      " |    |    |    |-- element: struct (containsNull = true)\n",
      " |    |    |    |    |-- id: long (nullable = true)\n",
      " |    |    |    |    |-- id_str: string (nullable = true)\n",
      " |    |    |    |    |-- indices: array (nullable = true)\n",
      " |    |    |    |    |    |-- element: long (containsNull = true)\n",
      " |    |    |    |    |-- name: string (nullable = true)\n",
      " |    |    |    |    |-- screen_name: string (nullable = true)\n",
      " |    |    |-- user_mentions: array (nullable = true)\n",
      " |    |    |    |-- element: struct (containsNull = true)\n",
      " |    |    |    |    |-- \\nid: long (nullable = true)\n",
      " |    |    |    |    |-- \\nid_str: string (nullable = true)\n",
      " |    |    |    |    |-- \\nindices: array (nullable = true)\n",
      " |    |    |    |    |    |-- element: long (containsNull = true)\n",
      " |    |    |    |    |-- \\nname: string (nullable = true)\n",
      " |    |    |    |    |-- \\nscreen_name: string (nullable = true)\n",
      " |    |    |    |    |-- id: long (nullable = true)\n",
      " |    |    |    |    |-- id_\\nstr: string (nullable = true)\n",
      " |    |    |    |    |-- id_str: string (nullable = true)\n",
      " |    |    |    |    |-- indices: array (nullable = true)\n",
      " |    |    |    |    |    |-- element: long (containsNull = true)\n",
      " |    |    |    |    |-- name: string (nullable = true)\n",
      " |    |    |    |    |-- screen_\\nname: string (nullable = true)\n",
      " |    |    |    |    |-- screen_name: string (nullable = true)\n",
      " |    |-- favorited: boolean (nullable = true)\n",
      " |    |-- geo: struct (nullable = true)\n",
      " |    |    |-- coordinates: array (nullable = true)\n",
      " |    |    |    |-- element: double (containsNull = true)\n",
      " |    |    |-- type: string (nullable = true)\n",
      " |    |-- id: long (nullable = true)\n",
      " |    |-- id_\\nstr: string (nullable = true)\n",
      " |    |-- id_str: string (nullable = true)\n",
      " |    |-- in_\\nreply_to_screen_name: string (nullable = true)\n",
      " |    |-- in_\\nreply_to_status_id: string (nullable = true)\n",
      " |    |-- in_\\nreply_to_status_id_str: string (nullable = true)\n",
      " |    |-- in_\\nreply_to_user_id: long (nullable = true)\n",
      " |    |-- in_\\nreply_to_user_id_str: string (nullable = true)\n",
      " |    |-- in_reply_\\nto_screen_name: string (nullable = true)\n",
      " |    |-- in_reply_\\nto_status_id: string (nullable = true)\n",
      " |    |-- in_reply_\\nto_status_id_str: string (nullable = true)\n",
      " |    |-- in_reply_\\nto_user_id: string (nullable = true)\n",
      " |    |-- in_reply_\\nto_user_id_str: string (nullable = true)\n",
      " |    |-- in_reply_to_\\nscreen_name: string (nullable = true)\n",
      " |    |-- in_reply_to_\\nstatus_id: string (nullable = true)\n",
      " |    |-- in_reply_to_\\nstatus_id_str: string (nullable = true)\n",
      " |    |-- in_reply_to_\\nuser_id: string (nullable = true)\n",
      " |    |-- in_reply_to_\\nuser_id_str: string (nullable = true)\n",
      " |    |-- in_reply_to_screen_\\nname: string (nullable = true)\n",
      " |    |-- in_reply_to_screen_name: string (nullable = true)\n",
      " |    |-- in_reply_to_status_\\nid: long (nullable = true)\n",
      " |    |-- in_reply_to_status_\\nid_str: string (nullable = true)\n",
      " |    |-- in_reply_to_status_id: long (nullable = true)\n",
      " |    |-- in_reply_to_status_id_\\nstr: string (nullable = true)\n",
      " |    |-- in_reply_to_status_id_str: string (nullable = true)\n",
      " |    |-- in_reply_to_user_\\nid: string (nullable = true)\n",
      " |    |-- in_reply_to_user_\\nid_str: string (nullable = true)\n",
      " |    |-- in_reply_to_user_id: long (nullable = true)\n",
      " |    |-- in_reply_to_user_id_\\nstr: string (nullable = true)\n",
      " |    |-- in_reply_to_user_id_str: string (nullable = true)\n",
      " |    |-- place: struct (nullable = true)\n",
      " |    |    |-- \\ncountry_code: string (nullable = true)\n",
      " |    |    |-- bounding_box: struct (nullable = true)\n",
      " |    |    |    |-- coordinates: array (nullable = true)\n",
      " |    |    |    |    |-- element: array (containsNull = true)\n",
      " |    |    |    |    |    |-- element: array (containsNull = true)\n",
      " |    |    |    |    |    |    |-- element: double (containsNull = true)\n",
      " |    |    |    |-- type: string (nullable = true)\n",
      " |    |    |-- country: string (nullable = true)\n",
      " |    |    |-- country_code: string (nullable = true)\n",
      " |    |    |-- full_\\nname: string (nullable = true)\n",
      " |    |    |-- full_name: string (nullable = true)\n",
      " |    |    |-- id: string (nullable = true)\n",
      " |    |    |-- name: string (nullable = true)\n",
      " |    |    |-- place_type: string (nullable = true)\n",
      " |    |    |-- url: string (nullable = true)\n",
      " |    |-- possibly_\\nsensitive: boolean (nullable = true)\n",
      " |    |-- possibly_sensitive: boolean (nullable = true)\n",
      " |    |-- retweet_\\ncount: string (nullable = true)\n",
      " |    |-- retweet_count: string (nullable = true)\n",
      " |    |-- retweeted: boolean (nullable = true)\n",
      " |    |-- source: string (nullable = true)\n",
      " |    |-- text: string (nullable = true)\n",
      " |    |-- truncated: boolean (nullable = true)\n",
      " |    |-- user: struct (nullable = true)\n",
      " |    |    |-- \\ncontributors_enabled: boolean (nullable = true)\n",
      " |    |    |-- \\ncreated_at: string (nullable = true)\n",
      " |    |    |-- \\ndefault_profile: boolean (nullable = true)\n",
      " |    |    |-- \\ndefault_profile_image: boolean (nullable = true)\n",
      " |    |    |-- \\ndescription: string (nullable = true)\n",
      " |    |    |-- \\nfavourites_count: long (nullable = true)\n",
      " |    |    |-- \\nfollow_request_sent: string (nullable = true)\n",
      " |    |    |-- \\nfollowers_count: long (nullable = true)\n",
      " |    |    |-- \\nfollowing: string (nullable = true)\n",
      " |    |    |-- \\nfriends_count: long (nullable = true)\n",
      " |    |    |-- \\ngeo_enabled: boolean (nullable = true)\n",
      " |    |    |-- \\nid: long (nullable = true)\n",
      " |    |    |-- \\nid_str: string (nullable = true)\n",
      " |    |    |-- \\nis_translator: boolean (nullable = true)\n",
      " |    |    |-- \\nlang: string (nullable = true)\n",
      " |    |    |-- \\nlisted_count: long (nullable = true)\n",
      " |    |    |-- \\nlocation: string (nullable = true)\n",
      " |    |    |-- \\nname: string (nullable = true)\n",
      " |    |    |-- \\nnotifications: string (nullable = true)\n",
      " |    |    |-- \\nprofile_background_color: string (nullable = true)\n",
      " |    |    |-- \\nprofile_background_image_url: string (nullable = true)\n",
      " |    |    |-- \\nprofile_background_image_url_https: string (nullable = true)\n",
      " |    |    |-- \\nprofile_background_tile: boolean (nullable = true)\n",
      " |    |    |-- \\nprofile_image_url: string (nullable = true)\n",
      " |    |    |-- \\nprofile_image_url_https: string (nullable = true)\n",
      " |    |    |-- \\nprofile_link_color: string (nullable = true)\n",
      " |    |    |-- \\nprofile_sidebar_border_color: string (nullable = true)\n",
      " |    |    |-- \\nprofile_sidebar_fill_color: string (nullable = true)\n",
      " |    |    |-- \\nprofile_text_color: string (nullable = true)\n",
      " |    |    |-- \\nprofile_use_background_image: boolean (nullable = true)\n",
      " |    |    |-- \\nprotected: boolean (nullable = true)\n",
      " |    |    |-- \\nscreen_name: string (nullable = true)\n",
      " |    |    |-- \\nshow_all_inline_media: boolean (nullable = true)\n",
      " |    |    |-- \\nstatuses_count: long (nullable = true)\n",
      " |    |    |-- \\ntime_zone: string (nullable = true)\n",
      " |    |    |-- \\nurl: string (nullable = true)\n",
      " |    |    |-- \\nutc_offset: long (nullable = true)\n",
      " |    |    |-- \\nverified: boolean (nullable = true)\n",
      " |    |    |-- contributors_\\nenabled: boolean (nullable = true)\n",
      " |    |    |-- contributors_enabled: boolean (nullable = true)\n",
      " |    |    |-- created_\\nat: string (nullable = true)\n",
      " |    |    |-- created_at: string (nullable = true)\n",
      " |    |    |-- default_\\nprofile: boolean (nullable = true)\n",
      " |    |    |-- default_\\nprofile_image: boolean (nullable = true)\n",
      " |    |    |-- default_profile: boolean (nullable = true)\n",
      " |    |    |-- default_profile_\\nimage: boolean (nullable = true)\n",
      " |    |    |-- default_profile_image: boolean (nullable = true)\n",
      " |    |    |-- description: string (nullable = true)\n",
      " |    |    |-- favourites_\\ncount: long (nullable = true)\n",
      " |    |    |-- favourites_count: long (nullable = true)\n",
      " |    |    |-- follow_\\nrequest_sent: string (nullable = true)\n",
      " |    |    |-- follow_request_\\nsent: string (nullable = true)\n",
      " |    |    |-- follow_request_sent: string (nullable = true)\n",
      " |    |    |-- followers_\\ncount: long (nullable = true)\n",
      " |    |    |-- followers_count: long (nullable = true)\n",
      " |    |    |-- following: string (nullable = true)\n",
      " |    |    |-- friends_\\ncount: long (nullable = true)\n",
      " |    |    |-- friends_count: long (nullable = true)\n",
      " |    |    |-- geo_\\nenabled: boolean (nullable = true)\n",
      " |    |    |-- geo_enabled: boolean (nullable = true)\n",
      " |    |    |-- id: long (nullable = true)\n",
      " |    |    |-- id_\\nstr: string (nullable = true)\n",
      " |    |    |-- id_str: string (nullable = true)\n",
      " |    |    |-- is_\\ntranslator: boolean (nullable = true)\n",
      " |    |    |-- is_translator: boolean (nullable = true)\n",
      " |    |    |-- lang: string (nullable = true)\n",
      " |    |    |-- listed_\\ncount: long (nullable = true)\n",
      " |    |    |-- listed_count: long (nullable = true)\n",
      " |    |    |-- location: string (nullable = true)\n",
      " |    |    |-- name: string (nullable = true)\n",
      " |    |    |-- notifications: string (nullable = true)\n",
      " |    |    |-- profile_\\nbackground_color: string (nullable = true)\n",
      " |    |    |-- profile_\\nbackground_image_url: string (nullable = true)\n",
      " |    |    |-- profile_\\nbackground_image_url_https: string (nullable = true)\n",
      " |    |    |-- profile_\\nbackground_tile: boolean (nullable = true)\n",
      " |    |    |-- profile_\\nimage_url: string (nullable = true)\n",
      " |    |    |-- profile_\\nimage_url_https: string (nullable = true)\n",
      " |    |    |-- profile_\\nlink_color: string (nullable = true)\n",
      " |    |    |-- profile_\\nsidebar_border_color: string (nullable = true)\n",
      " |    |    |-- profile_\\nsidebar_fill_color: string (nullable = true)\n",
      " |    |    |-- profile_\\ntext_color: string (nullable = true)\n",
      " |    |    |-- profile_\\nuse_background_image: boolean (nullable = true)\n",
      " |    |    |-- profile_background_\\ncolor: string (nullable = true)\n",
      " |    |    |-- profile_background_\\nimage_url: string (nullable = true)\n",
      " |    |    |-- profile_background_\\nimage_url_https: string (nullable = true)\n",
      " |    |    |-- profile_background_\\ntile: boolean (nullable = true)\n",
      " |    |    |-- profile_background_color: string (nullable = true)\n",
      " |    |    |-- profile_background_image_\\nurl: string (nullable = true)\n",
      " |    |    |-- profile_background_image_\\nurl_https: string (nullable = true)\n",
      " |    |    |-- profile_background_image_url: string (nullable = true)\n",
      " |    |    |-- profile_background_image_url_\\nhttps: string (nullable = true)\n",
      " |    |    |-- profile_background_image_url_https: string (nullable = true)\n",
      " |    |    |-- profile_background_tile: boolean (nullable = true)\n",
      " |    |    |-- profile_image_\\nurl: string (nullable = true)\n",
      " |    |    |-- profile_image_\\nurl_https: string (nullable = true)\n",
      " |    |    |-- profile_image_url: string (nullable = true)\n",
      " |    |    |-- profile_image_url_\\nhttps: string (nullable = true)\n",
      " |    |    |-- profile_image_url_https: string (nullable = true)\n",
      " |    |    |-- profile_link_\\ncolor: string (nullable = true)\n",
      " |    |    |-- profile_link_color: string (nullable = true)\n",
      " |    |    |-- profile_sidebar_\\nborder_color: string (nullable = true)\n",
      " |    |    |-- profile_sidebar_\\nfill_color: string (nullable = true)\n",
      " |    |    |-- profile_sidebar_border_\\ncolor: string (nullable = true)\n",
      " |    |    |-- profile_sidebar_border_color: string (nullable = true)\n",
      " |    |    |-- profile_sidebar_fill_\\ncolor: string (nullable = true)\n",
      " |    |    |-- profile_sidebar_fill_color: string (nullable = true)\n",
      " |    |    |-- profile_text_\\ncolor: string (nullable = true)\n",
      " |    |    |-- profile_text_color: string (nullable = true)\n",
      " |    |    |-- profile_use_\\nbackground_image: boolean (nullable = true)\n",
      " |    |    |-- profile_use_background_\\nimage: boolean (nullable = true)\n",
      " |    |    |-- profile_use_background_image: boolean (nullable = true)\n",
      " |    |    |-- protected: boolean (nullable = true)\n",
      " |    |    |-- screen_\\nname: string (nullable = true)\n",
      " |    |    |-- screen_name: string (nullable = true)\n",
      " |    |    |-- show_\\nall_inline_media: boolean (nullable = true)\n",
      " |    |    |-- show_all_\\ninline_media: boolean (nullable = true)\n",
      " |    |    |-- show_all_inline_\\nmedia: boolean (nullable = true)\n",
      " |    |    |-- show_all_inline_media: boolean (nullable = true)\n",
      " |    |    |-- statuses_\\ncount: long (nullable = true)\n",
      " |    |    |-- statuses_count: long (nullable = true)\n",
      " |    |    |-- time_\\nzone: string (nullable = true)\n",
      " |    |    |-- time_zone: string (nullable = true)\n",
      " |    |    |-- url: string (nullable = true)\n",
      " |    |    |-- utc_\\noffset: long (nullable = true)\n",
      " |    |    |-- utc_offset: long (nullable = true)\n",
      " |    |    |-- verified: boolean (nullable = true)\n",
      " |-- source: string (nullable = true)\n",
      " |-- text: string (nullable = true)\n",
      " |-- truncated: boolean (nullable = true)\n",
      " |-- user: struct (nullable = true)\n",
      " |    |-- \\ncontributors_enabled: boolean (nullable = true)\n",
      " |    |-- \\ncreated_at: string (nullable = true)\n",
      " |    |-- \\ndefault_profile: boolean (nullable = true)\n",
      " |    |-- \\ndefault_profile_image: boolean (nullable = true)\n",
      " |    |-- \\ndescription: string (nullable = true)\n",
      " |    |-- \\nfavourites_count: long (nullable = true)\n",
      " |    |-- \\nfollow_request_sent: string (nullable = true)\n",
      " |    |-- \\nfollowers_count: long (nullable = true)\n",
      " |    |-- \\nfollowing: string (nullable = true)\n",
      " |    |-- \\nfriends_count: long (nullable = true)\n",
      " |    |-- \\ngeo_enabled: boolean (nullable = true)\n",
      " |    |-- \\nid: long (nullable = true)\n",
      " |    |-- \\nid_str: string (nullable = true)\n",
      " |    |-- \\nis_translator: boolean (nullable = true)\n",
      " |    |-- \\nlang: string (nullable = true)\n",
      " |    |-- \\nlisted_count: long (nullable = true)\n",
      " |    |-- \\nlocation: string (nullable = true)\n",
      " |    |-- \\nname: string (nullable = true)\n",
      " |    |-- \\nnotifications: string (nullable = true)\n",
      " |    |-- \\nprofile_background_color: string (nullable = true)\n",
      " |    |-- \\nprofile_background_image_url: string (nullable = true)\n",
      " |    |-- \\nprofile_background_image_url_https: string (nullable = true)\n",
      " |    |-- \\nprofile_background_tile: boolean (nullable = true)\n",
      " |    |-- \\nprofile_image_url: string (nullable = true)\n",
      " |    |-- \\nprofile_image_url_https: string (nullable = true)\n",
      " |    |-- \\nprofile_link_color: string (nullable = true)\n",
      " |    |-- \\nprofile_sidebar_border_color: string (nullable = true)\n",
      " |    |-- \\nprofile_sidebar_fill_color: string (nullable = true)\n",
      " |    |-- \\nprofile_text_color: string (nullable = true)\n",
      " |    |-- \\nprofile_use_background_image: boolean (nullable = true)\n",
      " |    |-- \\nprotected: boolean (nullable = true)\n",
      " |    |-- \\nscreen_name: string (nullable = true)\n",
      " |    |-- \\nshow_all_inline_media: boolean (nullable = true)\n",
      " |    |-- \\nstatuses_count: long (nullable = true)\n",
      " |    |-- \\ntime_zone: string (nullable = true)\n",
      " |    |-- \\nurl: string (nullable = true)\n",
      " |    |-- \\nutc_offset: long (nullable = true)\n",
      " |    |-- \\nverified: boolean (nullable = true)\n",
      " |    |-- contributors_\\nenabled: boolean (nullable = true)\n",
      " |    |-- contributors_enabled: boolean (nullable = true)\n",
      " |    |-- created_\\nat: string (nullable = true)\n",
      " |    |-- created_at: string (nullable = true)\n",
      " |    |-- default_\\nprofile: boolean (nullable = true)\n",
      " |    |-- default_\\nprofile_image: boolean (nullable = true)\n",
      " |    |-- default_profile: boolean (nullable = true)\n",
      " |    |-- default_profile_\\nimage: boolean (nullable = true)\n",
      " |    |-- default_profile_image: boolean (nullable = true)\n",
      " |    |-- description: string (nullable = true)\n",
      " |    |-- favourites_\\ncount: long (nullable = true)\n",
      " |    |-- favourites_count: long (nullable = true)\n",
      " |    |-- follow_\\nrequest_sent: string (nullable = true)\n",
      " |    |-- follow_request_\\nsent: string (nullable = true)\n",
      " |    |-- follow_request_sent: string (nullable = true)\n",
      " |    |-- followers_\\ncount: long (nullable = true)\n",
      " |    |-- followers_count: long (nullable = true)\n",
      " |    |-- following: string (nullable = true)\n",
      " |    |-- friends_\\ncount: long (nullable = true)\n",
      " |    |-- friends_count: long (nullable = true)\n",
      " |    |-- geo_\\nenabled: boolean (nullable = true)\n",
      " |    |-- geo_enabled: boolean (nullable = true)\n",
      " |    |-- id: long (nullable = true)\n",
      " |    |-- id_\\nstr: string (nullable = true)\n",
      " |    |-- id_str: string (nullable = true)\n",
      " |    |-- is_\\ntranslator: boolean (nullable = true)\n",
      " |    |-- is_translator: boolean (nullable = true)\n",
      " |    |-- lang: string (nullable = true)\n",
      " |    |-- listed_\\ncount: long (nullable = true)\n",
      " |    |-- listed_count: long (nullable = true)\n",
      " |    |-- location: string (nullable = true)\n",
      " |    |-- name: string (nullable = true)\n",
      " |    |-- notifications: string (nullable = true)\n",
      " |    |-- profile_\\nbackground_color: string (nullable = true)\n",
      " |    |-- profile_\\nbackground_image_url: string (nullable = true)\n",
      " |    |-- profile_\\nbackground_image_url_https: string (nullable = true)\n",
      " |    |-- profile_\\nbackground_tile: boolean (nullable = true)\n",
      " |    |-- profile_\\nimage_url: string (nullable = true)\n",
      " |    |-- profile_\\nimage_url_https: string (nullable = true)\n",
      " |    |-- profile_\\nlink_color: string (nullable = true)\n",
      " |    |-- profile_\\nsidebar_border_color: string (nullable = true)\n",
      " |    |-- profile_\\nsidebar_fill_color: string (nullable = true)\n",
      " |    |-- profile_\\ntext_color: string (nullable = true)\n",
      " |    |-- profile_\\nuse_background_image: boolean (nullable = true)\n",
      " |    |-- profile_background_\\ncolor: string (nullable = true)\n",
      " |    |-- profile_background_\\nimage_url: string (nullable = true)\n",
      " |    |-- profile_background_\\nimage_url_https: string (nullable = true)\n",
      " |    |-- profile_background_\\ntile: boolean (nullable = true)\n",
      " |    |-- profile_background_color: string (nullable = true)\n",
      " |    |-- profile_background_image_\\nurl: string (nullable = true)\n",
      " |    |-- profile_background_image_\\nurl_https: string (nullable = true)\n",
      " |    |-- profile_background_image_url: string (nullable = true)\n",
      " |    |-- profile_background_image_url_\\nhttps: string (nullable = true)\n",
      " |    |-- profile_background_image_url_https: string (nullable = true)\n",
      " |    |-- profile_background_tile: boolean (nullable = true)\n",
      " |    |-- profile_image_\\nurl: string (nullable = true)\n",
      " |    |-- profile_image_\\nurl_https: string (nullable = true)\n",
      " |    |-- profile_image_url: string (nullable = true)\n",
      " |    |-- profile_image_url_\\nhttps: string (nullable = true)\n",
      " |    |-- profile_image_url_https: string (nullable = true)\n",
      " |    |-- profile_link_\\ncolor: string (nullable = true)\n",
      " |    |-- profile_link_color: string (nullable = true)\n",
      " |    |-- profile_sidebar_\\nborder_color: string (nullable = true)\n",
      " |    |-- profile_sidebar_\\nfill_color: string (nullable = true)\n",
      " |    |-- profile_sidebar_border_\\ncolor: string (nullable = true)\n",
      " |    |-- profile_sidebar_border_color: string (nullable = true)\n",
      " |    |-- profile_sidebar_fill_\\ncolor: string (nullable = true)\n",
      " |    |-- profile_sidebar_fill_color: string (nullable = true)\n",
      " |    |-- profile_text_\\ncolor: string (nullable = true)\n",
      " |    |-- profile_text_color: string (nullable = true)\n",
      " |    |-- profile_use_\\nbackground_image: boolean (nullable = true)\n",
      " |    |-- profile_use_background_\\nimage: boolean (nullable = true)\n",
      " |    |-- profile_use_background_image: boolean (nullable = true)\n",
      " |    |-- protected: boolean (nullable = true)\n",
      " |    |-- screen_\\nname: string (nullable = true)\n",
      " |    |-- screen_name: string (nullable = true)\n",
      " |    |-- show_\\nall_inline_media: boolean (nullable = true)\n",
      " |    |-- show_all_\\ninline_media: boolean (nullable = true)\n",
      " |    |-- show_all_inline_\\nmedia: boolean (nullable = true)\n",
      " |    |-- show_all_inline_media: boolean (nullable = true)\n",
      " |    |-- statuses_\\ncount: long (nullable = true)\n",
      " |    |-- statuses_count: long (nullable = true)\n",
      " |    |-- time_\\nzone: string (nullable = true)\n",
      " |    |-- time_zone: string (nullable = true)\n",
      " |    |-- url: string (nullable = true)\n",
      " |    |-- utc_\\noffset: long (nullable = true)\n",
      " |    |-- utc_offset: long (nullable = true)\n",
      " |    |-- verified: boolean (nullable = true)\n",
      "\n"
     ]
    }
   ],
   "source": [
    "df = spark.read.json(filename)\n",
    "df.printSchema()"
   ]
  },
  {
   "cell_type": "markdown",
   "metadata": {},
   "source": [
    "Nesse sentido, o acesso aos elementos encadeados é feito com recurso a \".\". Veja-se o exemplo seguinte para o elemento \"user\"."
   ]
  },
  {
   "cell_type": "code",
   "execution_count": 8,
   "metadata": {},
   "outputs": [
    {
     "name": "stdout",
     "output_type": "stream",
     "text": [
      "+--------------------+--------------------+------------------+--------------------+\n",
      "|          created_at|                text|              name|            location|\n",
      "+--------------------+--------------------+------------------+--------------------+\n",
      "|Mon Oct 10 14:46:...|Occupy wall Stree...|Jacqueline Wouters|         Netherlands|\n",
      "|Mon Oct 10 16:16:...|Parce que si on c...|    Acampada Paris|               Paris|\n",
      "|Mon Oct 10 15:42:...|RT @acampadasol: ...|       GasBarullas|                NULL|\n",
      "|Mon Oct 10 14:05:...|RT @ciudadanoNick...|   Alberto Antonio|              España|\n",
      "|Mon Oct 10 16:07:...|RT @democraciarea...|            tOnYtO|Xalapa, Veracruz,...|\n",
      "|Mon Oct 10 16:43:...|RT @democraciarea...|            Manolo|          Sant Joan |\n",
      "|Mon Oct 10 11:17:...|RT @drymty: @Cumb...|   Las Cumbres Mty|  Cumbres, Monterrey|\n",
      "|Mon Oct 10 12:54:...|RT @madari59: #15...|    Kati Fernández|                    |\n",
      "|Tue Oct 11 05:46:...|\"#15oct Video: Ka...|      rosa ciurana|           Barcelona|\n",
      "|Tue Oct 11 05:29:...|action in #OCCUPY...|      Tony Olivier|      Lafayette, La.|\n",
      "|Tue Oct 11 10:44:...|Al paso que vamos...|       Mayte Gómez|M. de Segura (Mur...|\n",
      "|Mon Oct 10 22:20:...|Courage is contag...|         ..So am I|              w.w.wz|\n",
      "|Mon Oct 10 20:52:...|Elizabeth Warren’...|         Ray Waits|                    |\n",
      "|Tue Oct 11 09:55:...|http://t.co/S3cUL...|    AcampadaToledo|              Toledo|\n",
      "|Tue Oct 11 12:08:...|http://t.co/WOSSY...|       Rosa Nyipas|                    |\n",
      "|Tue Oct 11 00:40:...|Los \"indignados\" ...|       AppleDesign|Brasil Porto Aleg...|\n",
      "|Tue Oct 11 07:41:...|Nos vemos este Sa...|   Acampada Cuenca|                    |\n",
      "|Tue Oct 11 11:18:...|#OccupyZagreb #15...|     Secret Zagreb|     Zagreb, Croatia|\n",
      "|Tue Oct 11 16:17:...|Piden que @cayo_l...|          Luitador|                    |\n",
      "|Tue Oct 11 07:41:...|PingdomAlert UP: ...|    Windy Phillips|  Virginia Beach, VA|\n",
      "+--------------------+--------------------+------------------+--------------------+\n",
      "only showing top 20 rows\n",
      "\n"
     ]
    }
   ],
   "source": [
    "df.select(\"created_at\",\"text\",\"user.name\",\"user.location\").show()"
   ]
  },
  {
   "cell_type": "markdown",
   "metadata": {},
   "source": [
    "#### TextFile"
   ]
  },
  {
   "cell_type": "code",
   "execution_count": 9,
   "metadata": {},
   "outputs": [],
   "source": [
    "filename = \"data/quixote.txt\"\n",
    "#filename = '/content/drive/My Drive/Colab Notebooks/data/BigData/quixote.txt' #Google Colab"
   ]
  },
  {
   "cell_type": "code",
   "execution_count": 10,
   "metadata": {},
   "outputs": [
    {
     "name": "stdout",
     "output_type": "stream",
     "text": [
      "+--------------------+\n",
      "|               value|\n",
      "+--------------------+\n",
      "|                    |\n",
      "|The Project Guten...|\n",
      "|                    |\n",
      "|This eBook is for...|\n",
      "|almost no restric...|\n",
      "|re-use it under t...|\n",
      "|with this eBook o...|\n",
      "|                    |\n",
      "|                    |\n",
      "|Title: The Histor...|\n",
      "|                    |\n",
      "|Author: Miguel de...|\n",
      "|                    |\n",
      "|Release Date: Jul...|\n",
      "|Last Updated: Aug...|\n",
      "|                    |\n",
      "|   Language: English|\n",
      "|                    |\n",
      "|Character set enc...|\n",
      "|                    |\n",
      "+--------------------+\n",
      "only showing top 20 rows\n",
      "\n"
     ]
    }
   ],
   "source": [
    "df = spark.read.text(filename)\n",
    "df.show()"
   ]
  },
  {
   "cell_type": "markdown",
   "metadata": {},
   "source": [
    "This will create a DataFrame with a single column named value, which contains the contents of each line in the text file. If you want to split the contents of each line into multiple columns, you can use the split() function to specify the delimiter."
   ]
  },
  {
   "cell_type": "markdown",
   "metadata": {},
   "source": [
    "- `select`: Use this method when you need to apply column expressions and PySpark functions programmatically.\n",
    "- `selectExpr`: Use this method when you prefer to write SQL-like expressions for column transformations, which can sometimes simplify the syntax for complex operations."
   ]
  },
  {
   "cell_type": "code",
   "execution_count": 11,
   "metadata": {},
   "outputs": [
    {
     "name": "stdout",
     "output_type": "stream",
     "text": [
      "+--------------------+------------------+-------+\n",
      "|             column1|           column2|column3|\n",
      "+--------------------+------------------+-------+\n",
      "|                    |              NULL|   NULL|\n",
      "|The Project Guten...|              NULL|   NULL|\n",
      "|                    |              NULL|   NULL|\n",
      "|This eBook is for...|              NULL|   NULL|\n",
      "|almost no restric...|   give it away or|   NULL|\n",
      "|re-use it under t...|              NULL|   NULL|\n",
      "|with this eBook o...|              NULL|   NULL|\n",
      "|                    |              NULL|   NULL|\n",
      "|                    |              NULL|   NULL|\n",
      "|Title: The Histor...|              NULL|   NULL|\n",
      "|                    |              NULL|   NULL|\n",
      "|Author: Miguel de...|              NULL|   NULL|\n",
      "|                    |              NULL|   NULL|\n",
      "|Release Date: Jul...| 2004 [EBook #996]|   NULL|\n",
      "|Last Updated: Aug...|              2019|   NULL|\n",
      "|                    |              NULL|   NULL|\n",
      "|   Language: English|              NULL|   NULL|\n",
      "|                    |              NULL|   NULL|\n",
      "|Character set enc...|              NULL|   NULL|\n",
      "|                    |              NULL|   NULL|\n",
      "+--------------------+------------------+-------+\n",
      "only showing top 20 rows\n",
      "\n"
     ]
    }
   ],
   "source": [
    "from pyspark.sql import functions as F\n",
    "\n",
    "df = df.select(F.split(df.value, ',').alias('columns'))\n",
    "\n",
    "df = df.selectExpr(\"columns[0] as column1\", \"columns[1] as column2\", \"columns[2] as column3\")\n",
    "\n",
    "df.show()"
   ]
  },
  {
   "cell_type": "markdown",
   "metadata": {},
   "source": [
    "### From RDDs"
   ]
  },
  {
   "cell_type": "markdown",
   "metadata": {},
   "source": [
    "Também é possível criar DataFrames a partir de RDDs. No exemplo seguinte começamos por criar um RDD a partir de uma lista de dados. Uma vez criado o RDD podemos criar o DataFrame. Note que, ao contrário de JSON e CSV, onde a operação de leitura cria automaticamente um DataFrame, no caso dos RDDs, a criação de um DataFrame obriga a uma instrução explícitamente definida para tal (`createDataFrame`)."
   ]
  },
  {
   "cell_type": "code",
   "execution_count": 12,
   "metadata": {},
   "outputs": [
    {
     "name": "stdout",
     "output_type": "stream",
     "text": [
      "+------+---+\n",
      "|  name|age|\n",
      "+------+---+\n",
      "|Javier| 35|\n",
      "|Susana| 19|\n",
      "| Mateo| 25|\n",
      "+------+---+\n",
      "\n"
     ]
    }
   ],
   "source": [
    "sc = spark.sparkContext\n",
    "rdd = sc.parallelize([\"Javier 35\", \"Susana 19\", \"Mateo 25\"])\n",
    "people = rdd.map(lambda x: x.split(' '))\n",
    "\n",
    "df = spark.createDataFrame(people, [\"name\", \"age\"])\n",
    "df.show()"
   ]
  },
  {
   "cell_type": "markdown",
   "metadata": {},
   "source": [
    "### API"
   ]
  },
  {
   "cell_type": "code",
   "execution_count": 13,
   "metadata": {},
   "outputs": [
    {
     "data": {
      "text/plain": [
       "{'time': {'updated': 'May 27, 2024 18:06:16 UTC',\n",
       "  'updatedISO': '2024-05-27T18:06:16+00:00',\n",
       "  'updateduk': 'May 27, 2024 at 19:06 BST'},\n",
       " 'disclaimer': 'This data was produced from the CoinDesk Bitcoin Price Index (USD). Non-USD currency data converted using hourly conversion rate from openexchangerates.org',\n",
       " 'chartName': 'Bitcoin',\n",
       " 'bpi': {'USD': {'code': 'USD',\n",
       "   'symbol': '&#36;',\n",
       "   'rate': '70,114.195',\n",
       "   'description': 'United States Dollar',\n",
       "   'rate_float': 70114.195},\n",
       "  'GBP': {'code': 'GBP',\n",
       "   'symbol': '&pound;',\n",
       "   'rate': '54,907.548',\n",
       "   'description': 'British Pound Sterling',\n",
       "   'rate_float': 54907.5479},\n",
       "  'EUR': {'code': 'EUR',\n",
       "   'symbol': '&euro;',\n",
       "   'rate': '64,576.716',\n",
       "   'description': 'Euro',\n",
       "   'rate_float': 64576.7161}}}"
      ]
     },
     "execution_count": 13,
     "metadata": {},
     "output_type": "execute_result"
    }
   ],
   "source": [
    "import requests\n",
    "\n",
    "url_api = \"https://api.coindesk.com/v1/bpi/currentprice.json\"\n",
    "r = requests.get(url_api)\n",
    "content = r.json()\n",
    "content"
   ]
  },
  {
   "cell_type": "code",
   "execution_count": 14,
   "metadata": {},
   "outputs": [
    {
     "name": "stdout",
     "output_type": "stream",
     "text": [
      "root\n",
      " |-- bpi: struct (nullable = true)\n",
      " |    |-- EUR: struct (nullable = true)\n",
      " |    |    |-- code: string (nullable = true)\n",
      " |    |    |-- description: string (nullable = true)\n",
      " |    |    |-- rate: string (nullable = true)\n",
      " |    |    |-- rate_float: double (nullable = true)\n",
      " |    |    |-- symbol: string (nullable = true)\n",
      " |    |-- GBP: struct (nullable = true)\n",
      " |    |    |-- code: string (nullable = true)\n",
      " |    |    |-- description: string (nullable = true)\n",
      " |    |    |-- rate: string (nullable = true)\n",
      " |    |    |-- rate_float: double (nullable = true)\n",
      " |    |    |-- symbol: string (nullable = true)\n",
      " |    |-- USD: struct (nullable = true)\n",
      " |    |    |-- code: string (nullable = true)\n",
      " |    |    |-- description: string (nullable = true)\n",
      " |    |    |-- rate: string (nullable = true)\n",
      " |    |    |-- rate_float: double (nullable = true)\n",
      " |    |    |-- symbol: string (nullable = true)\n",
      " |-- chartName: string (nullable = true)\n",
      " |-- disclaimer: string (nullable = true)\n",
      " |-- time: struct (nullable = true)\n",
      " |    |-- updated: string (nullable = true)\n",
      " |    |-- updatedISO: string (nullable = true)\n",
      " |    |-- updateduk: string (nullable = true)\n",
      "\n"
     ]
    }
   ],
   "source": [
    "payload_rdd = spark.sparkContext.parallelize([content])\n",
    "\n",
    "# Read from JSON\n",
    "df = spark.read.json(payload_rdd)\n",
    "df.printSchema()"
   ]
  },
  {
   "cell_type": "code",
   "execution_count": 15,
   "metadata": {},
   "outputs": [
    {
     "name": "stdout",
     "output_type": "stream",
     "text": [
      "+--------------------+---------+--------------------+--------------------+\n",
      "|                 bpi|chartName|          disclaimer|                time|\n",
      "+--------------------+---------+--------------------+--------------------+\n",
      "|{{EUR, Euro, 64,5...|  Bitcoin|This data was pro...|{May 27, 2024 18:...|\n",
      "+--------------------+---------+--------------------+--------------------+\n",
      "\n"
     ]
    }
   ],
   "source": [
    "df.show()"
   ]
  },
  {
   "cell_type": "code",
   "execution_count": 16,
   "metadata": {},
   "outputs": [
    {
     "name": "stdout",
     "output_type": "stream",
     "text": [
      "root\n",
      " |-- bpi: struct (nullable = true)\n",
      " |    |-- EUR: struct (nullable = true)\n",
      " |    |    |-- code: string (nullable = true)\n",
      " |    |    |-- description: string (nullable = true)\n",
      " |    |    |-- rate: string (nullable = true)\n",
      " |    |    |-- rate_float: double (nullable = true)\n",
      " |    |    |-- symbol: string (nullable = true)\n",
      " |    |-- GBP: struct (nullable = true)\n",
      " |    |    |-- code: string (nullable = true)\n",
      " |    |    |-- description: string (nullable = true)\n",
      " |    |    |-- rate: string (nullable = true)\n",
      " |    |    |-- rate_float: double (nullable = true)\n",
      " |    |    |-- symbol: string (nullable = true)\n",
      " |    |-- USD: struct (nullable = true)\n",
      " |    |    |-- code: string (nullable = true)\n",
      " |    |    |-- description: string (nullable = true)\n",
      " |    |    |-- rate: string (nullable = true)\n",
      " |    |    |-- rate_float: double (nullable = true)\n",
      " |    |    |-- symbol: string (nullable = true)\n",
      "\n"
     ]
    }
   ],
   "source": [
    "df.select(\"bpi\").printSchema()"
   ]
  },
  {
   "cell_type": "code",
   "execution_count": 17,
   "metadata": {},
   "outputs": [
    {
     "name": "stdout",
     "output_type": "stream",
     "text": [
      "+----+--------------------+----------+----------+------+\n",
      "|code|description         |rate      |rate_float|symbol|\n",
      "+----+--------------------+----------+----------+------+\n",
      "|USD |United States Dollar|70,114.195|70114.195 |&#36; |\n",
      "+----+--------------------+----------+----------+------+\n",
      "\n"
     ]
    }
   ],
   "source": [
    "# Expand further elements to read USD data\n",
    "df.select(\"bpi.*\").select(\"USD.*\").show(truncate=False)"
   ]
  },
  {
   "cell_type": "markdown",
   "metadata": {},
   "source": [
    "### Pandas"
   ]
  },
  {
   "cell_type": "code",
   "execution_count": 18,
   "metadata": {},
   "outputs": [
    {
     "name": "stdout",
     "output_type": "stream",
     "text": [
      "+----+---+\n",
      "|name|age|\n",
      "+----+---+\n",
      "|John| 25|\n",
      "|Mary| 30|\n",
      "|Mike| 35|\n",
      "+----+---+\n",
      "\n"
     ]
    }
   ],
   "source": [
    "import pandas as pd\n",
    "pandas_df = pd.DataFrame({\"name\": [\"John\", \"Mary\", \"Mike\"], \"age\": [25, 30, 35]})\n",
    "\n",
    "df = spark.createDataFrame(pandas_df)\n",
    "df.show()"
   ]
  },
  {
   "cell_type": "markdown",
   "metadata": {},
   "source": [
    "You can convert it again to pandas format:"
   ]
  },
  {
   "cell_type": "code",
   "execution_count": 19,
   "metadata": {},
   "outputs": [
    {
     "data": {
      "text/html": [
       "<div>\n",
       "<style scoped>\n",
       "    .dataframe tbody tr th:only-of-type {\n",
       "        vertical-align: middle;\n",
       "    }\n",
       "\n",
       "    .dataframe tbody tr th {\n",
       "        vertical-align: top;\n",
       "    }\n",
       "\n",
       "    .dataframe thead th {\n",
       "        text-align: right;\n",
       "    }\n",
       "</style>\n",
       "<table border=\"1\" class=\"dataframe\">\n",
       "  <thead>\n",
       "    <tr style=\"text-align: right;\">\n",
       "      <th></th>\n",
       "      <th>name</th>\n",
       "      <th>age</th>\n",
       "    </tr>\n",
       "  </thead>\n",
       "  <tbody>\n",
       "    <tr>\n",
       "      <th>0</th>\n",
       "      <td>John</td>\n",
       "      <td>25</td>\n",
       "    </tr>\n",
       "    <tr>\n",
       "      <th>1</th>\n",
       "      <td>Mary</td>\n",
       "      <td>30</td>\n",
       "    </tr>\n",
       "    <tr>\n",
       "      <th>2</th>\n",
       "      <td>Mike</td>\n",
       "      <td>35</td>\n",
       "    </tr>\n",
       "  </tbody>\n",
       "</table>\n",
       "</div>"
      ],
      "text/plain": [
       "   name  age\n",
       "0  John   25\n",
       "1  Mary   30\n",
       "2  Mike   35"
      ]
     },
     "execution_count": 19,
     "metadata": {},
     "output_type": "execute_result"
    }
   ],
   "source": [
    "df = df.toPandas()\n",
    "df"
   ]
  },
  {
   "cell_type": "markdown",
   "metadata": {},
   "source": [
    "### Schema"
   ]
  },
  {
   "cell_type": "markdown",
   "metadata": {},
   "source": [
    "The below code creates a list of tuples, where each tuple contains a name and an age. Then it creates an RDD from the list of tuples and specifies the column names as “name” and “age”. Finally, it converts the RDD to a DataFrame using the createDataFrame() method"
   ]
  },
  {
   "cell_type": "code",
   "execution_count": 20,
   "metadata": {},
   "outputs": [
    {
     "name": "stdout",
     "output_type": "stream",
     "text": [
      "+----+---+\n",
      "|name|age|\n",
      "+----+---+\n",
      "|John| 25|\n",
      "|Mary| 30|\n",
      "|Mike| 35|\n",
      "+----+---+\n",
      "\n"
     ]
    }
   ],
   "source": [
    "from pyspark.sql.types import StructType, StructField, IntegerType, StringType\n",
    "import pandas as pd\n",
    "\n",
    "data = [(\"John\", 25), (\"Mary\", 30), (\"Mike\", 35)]\n",
    "\n",
    "schema = StructType([\n",
    "  StructField(\"name\", StringType()),\n",
    "  StructField(\"age\", IntegerType())\n",
    "])\n",
    "\n",
    "df = spark.createDataFrame(data, schema)\n",
    "\n",
    "df.show()"
   ]
  },
  {
   "cell_type": "markdown",
   "metadata": {},
   "source": [
    "## USStockPrices"
   ]
  },
  {
   "cell_type": "markdown",
   "metadata": {},
   "source": [
    "Tomemos agora como base o ficheiro `stocks_price_final.csv`."
   ]
  },
  {
   "cell_type": "markdown",
   "metadata": {},
   "source": [
    "*** A execução do código seguinte, pressupõe que as intruções do ponto 1 e o setup do ponto 2 foram realizados. *** "
   ]
  },
  {
   "cell_type": "code",
   "execution_count": 21,
   "metadata": {},
   "outputs": [],
   "source": [
    "filename = \"data/USStockPrices/stocks_price_final.csv\"\n",
    "#filename = '/content/drive/My Drive/Colab Notebooks/data/BigData/USStockPrices/stocks_price_final.csv' #Google Colab"
   ]
  },
  {
   "cell_type": "code",
   "execution_count": 22,
   "metadata": {},
   "outputs": [],
   "source": [
    "# Before changing schema\n",
    "df = spark.read.csv(filename, sep = ',', header = True)"
   ]
  },
  {
   "cell_type": "markdown",
   "metadata": {},
   "source": [
    "### Inspect Methods"
   ]
  },
  {
   "cell_type": "markdown",
   "metadata": {},
   "source": [
    "#### PrintSchema"
   ]
  },
  {
   "cell_type": "markdown",
   "metadata": {},
   "source": [
    "Com o código seguinte é possível imprimir o esquema:"
   ]
  },
  {
   "cell_type": "code",
   "execution_count": 23,
   "metadata": {},
   "outputs": [
    {
     "name": "stdout",
     "output_type": "stream",
     "text": [
      "root\n",
      " |-- _c0: string (nullable = true)\n",
      " |-- symbol: string (nullable = true)\n",
      " |-- date: string (nullable = true)\n",
      " |-- open: string (nullable = true)\n",
      " |-- high: string (nullable = true)\n",
      " |-- low: string (nullable = true)\n",
      " |-- close: string (nullable = true)\n",
      " |-- volume: string (nullable = true)\n",
      " |-- adjusted: string (nullable = true)\n",
      " |-- market.cap: string (nullable = true)\n",
      " |-- sector: string (nullable = true)\n",
      " |-- industry: string (nullable = true)\n",
      " |-- exchange: string (nullable = true)\n",
      "\n"
     ]
    }
   ],
   "source": [
    "df.printSchema()"
   ]
  },
  {
   "cell_type": "markdown",
   "metadata": {},
   "source": [
    "#### dtypes"
   ]
  },
  {
   "cell_type": "markdown",
   "metadata": {},
   "source": [
    "Tipos das variáveis:"
   ]
  },
  {
   "cell_type": "code",
   "execution_count": 24,
   "metadata": {},
   "outputs": [
    {
     "data": {
      "text/plain": [
       "[('_c0', 'string'),\n",
       " ('symbol', 'string'),\n",
       " ('date', 'string'),\n",
       " ('open', 'string'),\n",
       " ('high', 'string'),\n",
       " ('low', 'string'),\n",
       " ('close', 'string'),\n",
       " ('volume', 'string'),\n",
       " ('adjusted', 'string'),\n",
       " ('market.cap', 'string'),\n",
       " ('sector', 'string'),\n",
       " ('industry', 'string'),\n",
       " ('exchange', 'string')]"
      ]
     },
     "execution_count": 24,
     "metadata": {},
     "output_type": "execute_result"
    }
   ],
   "source": [
    "df.dtypes"
   ]
  },
  {
   "cell_type": "markdown",
   "metadata": {},
   "source": [
    "#### columns"
   ]
  },
  {
   "cell_type": "markdown",
   "metadata": {},
   "source": [
    " It returns a list that contains the column names of the data."
   ]
  },
  {
   "cell_type": "code",
   "execution_count": 25,
   "metadata": {},
   "outputs": [
    {
     "data": {
      "text/plain": [
       "['_c0',\n",
       " 'symbol',\n",
       " 'date',\n",
       " 'open',\n",
       " 'high',\n",
       " 'low',\n",
       " 'close',\n",
       " 'volume',\n",
       " 'adjusted',\n",
       " 'market.cap',\n",
       " 'sector',\n",
       " 'industry',\n",
       " 'exchange']"
      ]
     },
     "execution_count": 25,
     "metadata": {},
     "output_type": "execute_result"
    }
   ],
   "source": [
    "df.columns"
   ]
  },
  {
   "cell_type": "markdown",
   "metadata": {},
   "source": [
    "#### Count"
   ]
  },
  {
   "cell_type": "markdown",
   "metadata": {},
   "source": [
    "Observe que o DataFrame tem 10.000 registos."
   ]
  },
  {
   "cell_type": "code",
   "execution_count": 26,
   "metadata": {},
   "outputs": [
    {
     "data": {
      "text/plain": [
       "1729034"
      ]
     },
     "execution_count": 26,
     "metadata": {},
     "output_type": "execute_result"
    }
   ],
   "source": [
    "df.count()"
   ]
  },
  {
   "cell_type": "markdown",
   "metadata": {},
   "source": [
    "#### stats: describe"
   ]
  },
  {
   "cell_type": "code",
   "execution_count": 27,
   "metadata": {},
   "outputs": [
    {
     "name": "stdout",
     "output_type": "stream",
     "text": [
      "+-------+------------------+\n",
      "|summary|              high|\n",
      "+-------+------------------+\n",
      "|  count|           1729034|\n",
      "|   mean|15555.067268137087|\n",
      "| stddev|1148247.1953514933|\n",
      "|    min|             0.078|\n",
      "|    max|                NA|\n",
      "+-------+------------------+\n",
      "\n"
     ]
    }
   ],
   "source": [
    "df.describe('high').show()"
   ]
  },
  {
   "cell_type": "markdown",
   "metadata": {},
   "source": [
    "#### Take"
   ]
  },
  {
   "cell_type": "markdown",
   "metadata": {},
   "source": [
    "Obter dados do primeiro registo."
   ]
  },
  {
   "cell_type": "code",
   "execution_count": 28,
   "metadata": {},
   "outputs": [
    {
     "data": {
      "text/plain": [
       "[Row(_c0='1', symbol='TXG', date='2019-09-12', open='54', high='58', low='51', close='52.75', volume='7326300', adjusted='52.75', market.cap='$9.31B', sector='Capital Goods', industry='Biotechnology: Laboratory Analytical Instruments', exchange='NASDAQ')]"
      ]
     },
     "execution_count": 28,
     "metadata": {},
     "output_type": "execute_result"
    }
   ],
   "source": [
    "df.take(1)"
   ]
  },
  {
   "cell_type": "markdown",
   "metadata": {},
   "source": [
    "#### Show"
   ]
  },
  {
   "cell_type": "markdown",
   "metadata": {},
   "source": [
    "Mostrar os primeiros registos da tabela."
   ]
  },
  {
   "cell_type": "code",
   "execution_count": 29,
   "metadata": {},
   "outputs": [
    {
     "name": "stdout",
     "output_type": "stream",
     "text": [
      "+---+------+----------+---------+---------+---------+---------+-------+---------+----------+-------------+--------------------+--------+\n",
      "|_c0|symbol|      date|     open|     high|      low|    close| volume| adjusted|market.cap|       sector|            industry|exchange|\n",
      "+---+------+----------+---------+---------+---------+---------+-------+---------+----------+-------------+--------------------+--------+\n",
      "|  1|   TXG|2019-09-12|       54|       58|       51|    52.75|7326300|    52.75|    $9.31B|Capital Goods|Biotechnology: La...|  NASDAQ|\n",
      "|  2|   TXG|2019-09-13|    52.75|   54.355|49.150002|    52.27|1025200|    52.27|    $9.31B|Capital Goods|Biotechnology: La...|  NASDAQ|\n",
      "|  3|   TXG|2019-09-16|52.450001|       56|52.009998|55.200001| 269900|55.200001|    $9.31B|Capital Goods|Biotechnology: La...|  NASDAQ|\n",
      "|  4|   TXG|2019-09-17|56.209999|60.900002|   55.423|56.779999| 602800|56.779999|    $9.31B|Capital Goods|Biotechnology: La...|  NASDAQ|\n",
      "|  5|   TXG|2019-09-18|56.849998|    62.27|55.650002|       62|1589600|       62|    $9.31B|Capital Goods|Biotechnology: La...|  NASDAQ|\n",
      "|  6|   TXG|2019-09-19|62.810001|   63.375|61.029999|61.119999| 425200|61.119999|    $9.31B|Capital Goods|Biotechnology: La...|  NASDAQ|\n",
      "|  7|   TXG|2019-09-20|61.709999|62.419998|    59.82|     60.5| 392000|     60.5|    $9.31B|Capital Goods|Biotechnology: La...|  NASDAQ|\n",
      "|  8|   TXG|2019-09-23|60.220001|61.485001|59.939999|60.330002| 137200|60.330002|    $9.31B|Capital Goods|Biotechnology: La...|  NASDAQ|\n",
      "|  9|   TXG|2019-09-24|       61|       61|       54|54.299999| 713800|54.299999|    $9.31B|Capital Goods|Biotechnology: La...|  NASDAQ|\n",
      "| 10|   TXG|2019-09-25|54.459999|55.880001|   52.563|52.759998| 261200|52.759998|    $9.31B|Capital Goods|Biotechnology: La...|  NASDAQ|\n",
      "| 11|   TXG|2019-09-26|52.779999|53.689999|46.619999|49.990002| 596300|49.990002|    $9.31B|Capital Goods|Biotechnology: La...|  NASDAQ|\n",
      "| 12|   TXG|2019-09-27|51.130001|       55|50.700001|51.029999| 621300|51.029999|    $9.31B|Capital Goods|Biotechnology: La...|  NASDAQ|\n",
      "| 13|   TXG|2019-09-30|51.049999|       52|    49.25|50.400002| 168900|50.400002|    $9.31B|Capital Goods|Biotechnology: La...|  NASDAQ|\n",
      "| 14|   TXG|2019-10-01|50.509998|51.919998|       46|47.029999| 536300|47.029999|    $9.31B|Capital Goods|Biotechnology: La...|  NASDAQ|\n",
      "| 15|   TXG|2019-10-02|46.779999|    47.23|45.110001|    46.07| 519600|    46.07|    $9.31B|Capital Goods|Biotechnology: La...|  NASDAQ|\n",
      "| 16|   TXG|2019-10-03|    46.77|48.240002|    45.75|48.119999| 703900|48.119999|    $9.31B|Capital Goods|Biotechnology: La...|  NASDAQ|\n",
      "| 17|   TXG|2019-10-04|       48|    53.34|    47.82|51.450001| 322400|51.450001|    $9.31B|Capital Goods|Biotechnology: La...|  NASDAQ|\n",
      "| 18|   TXG|2019-10-07|52.099998|53.220001|49.029999|50.360001| 476600|50.360001|    $9.31B|Capital Goods|Biotechnology: La...|  NASDAQ|\n",
      "| 19|   TXG|2019-10-08|       50|    51.27|       49|49.549999| 284100|49.549999|    $9.31B|Capital Goods|Biotechnology: La...|  NASDAQ|\n",
      "| 20|   TXG|2019-10-09|49.630001|51.525002|49.575001|50.009998| 201100|50.009998|    $9.31B|Capital Goods|Biotechnology: La...|  NASDAQ|\n",
      "+---+------+----------+---------+---------+---------+---------+-------+---------+----------+-------------+--------------------+--------+\n",
      "only showing top 20 rows\n",
      "\n"
     ]
    }
   ],
   "source": [
    "df.show()"
   ]
  },
  {
   "cell_type": "markdown",
   "metadata": {},
   "source": [
    "Pode mostrar mais do que apenas 20 linhas de resultados."
   ]
  },
  {
   "cell_type": "code",
   "execution_count": 30,
   "metadata": {},
   "outputs": [
    {
     "name": "stdout",
     "output_type": "stream",
     "text": [
      "+---+------+----------+---------+---------+---------+---------+-------+---------+----------+-------------+--------------------+--------+\n",
      "|_c0|symbol|      date|     open|     high|      low|    close| volume| adjusted|market.cap|       sector|            industry|exchange|\n",
      "+---+------+----------+---------+---------+---------+---------+-------+---------+----------+-------------+--------------------+--------+\n",
      "|  1|   TXG|2019-09-12|       54|       58|       51|    52.75|7326300|    52.75|    $9.31B|Capital Goods|Biotechnology: La...|  NASDAQ|\n",
      "|  2|   TXG|2019-09-13|    52.75|   54.355|49.150002|    52.27|1025200|    52.27|    $9.31B|Capital Goods|Biotechnology: La...|  NASDAQ|\n",
      "|  3|   TXG|2019-09-16|52.450001|       56|52.009998|55.200001| 269900|55.200001|    $9.31B|Capital Goods|Biotechnology: La...|  NASDAQ|\n",
      "|  4|   TXG|2019-09-17|56.209999|60.900002|   55.423|56.779999| 602800|56.779999|    $9.31B|Capital Goods|Biotechnology: La...|  NASDAQ|\n",
      "|  5|   TXG|2019-09-18|56.849998|    62.27|55.650002|       62|1589600|       62|    $9.31B|Capital Goods|Biotechnology: La...|  NASDAQ|\n",
      "|  6|   TXG|2019-09-19|62.810001|   63.375|61.029999|61.119999| 425200|61.119999|    $9.31B|Capital Goods|Biotechnology: La...|  NASDAQ|\n",
      "|  7|   TXG|2019-09-20|61.709999|62.419998|    59.82|     60.5| 392000|     60.5|    $9.31B|Capital Goods|Biotechnology: La...|  NASDAQ|\n",
      "|  8|   TXG|2019-09-23|60.220001|61.485001|59.939999|60.330002| 137200|60.330002|    $9.31B|Capital Goods|Biotechnology: La...|  NASDAQ|\n",
      "|  9|   TXG|2019-09-24|       61|       61|       54|54.299999| 713800|54.299999|    $9.31B|Capital Goods|Biotechnology: La...|  NASDAQ|\n",
      "| 10|   TXG|2019-09-25|54.459999|55.880001|   52.563|52.759998| 261200|52.759998|    $9.31B|Capital Goods|Biotechnology: La...|  NASDAQ|\n",
      "| 11|   TXG|2019-09-26|52.779999|53.689999|46.619999|49.990002| 596300|49.990002|    $9.31B|Capital Goods|Biotechnology: La...|  NASDAQ|\n",
      "| 12|   TXG|2019-09-27|51.130001|       55|50.700001|51.029999| 621300|51.029999|    $9.31B|Capital Goods|Biotechnology: La...|  NASDAQ|\n",
      "| 13|   TXG|2019-09-30|51.049999|       52|    49.25|50.400002| 168900|50.400002|    $9.31B|Capital Goods|Biotechnology: La...|  NASDAQ|\n",
      "| 14|   TXG|2019-10-01|50.509998|51.919998|       46|47.029999| 536300|47.029999|    $9.31B|Capital Goods|Biotechnology: La...|  NASDAQ|\n",
      "| 15|   TXG|2019-10-02|46.779999|    47.23|45.110001|    46.07| 519600|    46.07|    $9.31B|Capital Goods|Biotechnology: La...|  NASDAQ|\n",
      "| 16|   TXG|2019-10-03|    46.77|48.240002|    45.75|48.119999| 703900|48.119999|    $9.31B|Capital Goods|Biotechnology: La...|  NASDAQ|\n",
      "| 17|   TXG|2019-10-04|       48|    53.34|    47.82|51.450001| 322400|51.450001|    $9.31B|Capital Goods|Biotechnology: La...|  NASDAQ|\n",
      "| 18|   TXG|2019-10-07|52.099998|53.220001|49.029999|50.360001| 476600|50.360001|    $9.31B|Capital Goods|Biotechnology: La...|  NASDAQ|\n",
      "| 19|   TXG|2019-10-08|       50|    51.27|       49|49.549999| 284100|49.549999|    $9.31B|Capital Goods|Biotechnology: La...|  NASDAQ|\n",
      "| 20|   TXG|2019-10-09|49.630001|51.525002|49.575001|50.009998| 201100|50.009998|    $9.31B|Capital Goods|Biotechnology: La...|  NASDAQ|\n",
      "+---+------+----------+---------+---------+---------+---------+-------+---------+----------+-------------+--------------------+--------+\n",
      "only showing top 20 rows\n",
      "\n"
     ]
    }
   ],
   "source": [
    "df.show(20)"
   ]
  },
  {
   "cell_type": "markdown",
   "metadata": {},
   "source": [
    "#### First"
   ]
  },
  {
   "cell_type": "markdown",
   "metadata": {},
   "source": [
    "O método `first` permite devolver informações acerca do primeiro registo"
   ]
  },
  {
   "cell_type": "code",
   "execution_count": 31,
   "metadata": {},
   "outputs": [
    {
     "data": {
      "text/plain": [
       "Row(_c0='1', symbol='TXG', date='2019-09-12', open='54', high='58', low='51', close='52.75', volume='7326300', adjusted='52.75', market.cap='$9.31B', sector='Capital Goods', industry='Biotechnology: Laboratory Analytical Instruments', exchange='NASDAQ')"
      ]
     },
     "execution_count": 31,
     "metadata": {},
     "output_type": "execute_result"
    }
   ],
   "source": [
    "df.first()"
   ]
  },
  {
   "cell_type": "markdown",
   "metadata": {},
   "source": [
    "O exemplo seguinte determina o setor do primeiro registo:"
   ]
  },
  {
   "cell_type": "code",
   "execution_count": 32,
   "metadata": {},
   "outputs": [
    {
     "data": {
      "text/plain": [
       "'Capital Goods'"
      ]
     },
     "execution_count": 32,
     "metadata": {},
     "output_type": "execute_result"
    }
   ],
   "source": [
    "df.first()['sector']"
   ]
  },
  {
   "cell_type": "markdown",
   "metadata": {},
   "source": [
    "#### Distinct"
   ]
  },
  {
   "cell_type": "markdown",
   "metadata": {},
   "source": [
    "Pode usar a transformação Distinct para entender quantas `symbol` distintos há no DataFrame."
   ]
  },
  {
   "cell_type": "code",
   "execution_count": 33,
   "metadata": {},
   "outputs": [
    {
     "data": {
      "text/plain": [
       "4611"
      ]
     },
     "execution_count": 33,
     "metadata": {},
     "output_type": "execute_result"
    }
   ],
   "source": [
    "df.select('symbol').distinct().count()"
   ]
  },
  {
   "cell_type": "markdown",
   "metadata": {},
   "source": [
    "### Operation Methods"
   ]
  },
  {
   "cell_type": "markdown",
   "metadata": {},
   "source": [
    "#### Columns Manipulation"
   ]
  },
  {
   "cell_type": "markdown",
   "metadata": {},
   "source": [
    "##### Add Column"
   ]
  },
  {
   "cell_type": "markdown",
   "metadata": {},
   "source": [
    "In the following we show the result of adding a new column named `year`, based on the values found in the `date` column."
   ]
  },
  {
   "cell_type": "code",
   "execution_count": 34,
   "metadata": {},
   "outputs": [
    {
     "name": "stdout",
     "output_type": "stream",
     "text": [
      "+---+------+----------+---------+---------+---------+---------+-------+---------+----------+-------------+--------------------+--------+----+\n",
      "|_c0|symbol|      date|     open|     high|      low|    close| volume| adjusted|market.cap|       sector|            industry|exchange|year|\n",
      "+---+------+----------+---------+---------+---------+---------+-------+---------+----------+-------------+--------------------+--------+----+\n",
      "|  1|   TXG|2019-09-12|       54|       58|       51|    52.75|7326300|    52.75|    $9.31B|Capital Goods|Biotechnology: La...|  NASDAQ|2019|\n",
      "|  2|   TXG|2019-09-13|    52.75|   54.355|49.150002|    52.27|1025200|    52.27|    $9.31B|Capital Goods|Biotechnology: La...|  NASDAQ|2019|\n",
      "|  3|   TXG|2019-09-16|52.450001|       56|52.009998|55.200001| 269900|55.200001|    $9.31B|Capital Goods|Biotechnology: La...|  NASDAQ|2019|\n",
      "|  4|   TXG|2019-09-17|56.209999|60.900002|   55.423|56.779999| 602800|56.779999|    $9.31B|Capital Goods|Biotechnology: La...|  NASDAQ|2019|\n",
      "|  5|   TXG|2019-09-18|56.849998|    62.27|55.650002|       62|1589600|       62|    $9.31B|Capital Goods|Biotechnology: La...|  NASDAQ|2019|\n",
      "|  6|   TXG|2019-09-19|62.810001|   63.375|61.029999|61.119999| 425200|61.119999|    $9.31B|Capital Goods|Biotechnology: La...|  NASDAQ|2019|\n",
      "|  7|   TXG|2019-09-20|61.709999|62.419998|    59.82|     60.5| 392000|     60.5|    $9.31B|Capital Goods|Biotechnology: La...|  NASDAQ|2019|\n",
      "|  8|   TXG|2019-09-23|60.220001|61.485001|59.939999|60.330002| 137200|60.330002|    $9.31B|Capital Goods|Biotechnology: La...|  NASDAQ|2019|\n",
      "|  9|   TXG|2019-09-24|       61|       61|       54|54.299999| 713800|54.299999|    $9.31B|Capital Goods|Biotechnology: La...|  NASDAQ|2019|\n",
      "| 10|   TXG|2019-09-25|54.459999|55.880001|   52.563|52.759998| 261200|52.759998|    $9.31B|Capital Goods|Biotechnology: La...|  NASDAQ|2019|\n",
      "| 11|   TXG|2019-09-26|52.779999|53.689999|46.619999|49.990002| 596300|49.990002|    $9.31B|Capital Goods|Biotechnology: La...|  NASDAQ|2019|\n",
      "| 12|   TXG|2019-09-27|51.130001|       55|50.700001|51.029999| 621300|51.029999|    $9.31B|Capital Goods|Biotechnology: La...|  NASDAQ|2019|\n",
      "| 13|   TXG|2019-09-30|51.049999|       52|    49.25|50.400002| 168900|50.400002|    $9.31B|Capital Goods|Biotechnology: La...|  NASDAQ|2019|\n",
      "| 14|   TXG|2019-10-01|50.509998|51.919998|       46|47.029999| 536300|47.029999|    $9.31B|Capital Goods|Biotechnology: La...|  NASDAQ|2019|\n",
      "| 15|   TXG|2019-10-02|46.779999|    47.23|45.110001|    46.07| 519600|    46.07|    $9.31B|Capital Goods|Biotechnology: La...|  NASDAQ|2019|\n",
      "| 16|   TXG|2019-10-03|    46.77|48.240002|    45.75|48.119999| 703900|48.119999|    $9.31B|Capital Goods|Biotechnology: La...|  NASDAQ|2019|\n",
      "| 17|   TXG|2019-10-04|       48|    53.34|    47.82|51.450001| 322400|51.450001|    $9.31B|Capital Goods|Biotechnology: La...|  NASDAQ|2019|\n",
      "| 18|   TXG|2019-10-07|52.099998|53.220001|49.029999|50.360001| 476600|50.360001|    $9.31B|Capital Goods|Biotechnology: La...|  NASDAQ|2019|\n",
      "| 19|   TXG|2019-10-08|       50|    51.27|       49|49.549999| 284100|49.549999|    $9.31B|Capital Goods|Biotechnology: La...|  NASDAQ|2019|\n",
      "| 20|   TXG|2019-10-09|49.630001|51.525002|49.575001|50.009998| 201100|50.009998|    $9.31B|Capital Goods|Biotechnology: La...|  NASDAQ|2019|\n",
      "+---+------+----------+---------+---------+---------+---------+-------+---------+----------+-------------+--------------------+--------+----+\n",
      "only showing top 20 rows\n",
      "\n"
     ]
    }
   ],
   "source": [
    "from pyspark.sql.functions import year\n",
    "\n",
    "df.withColumn('year', year(df.date)).show()"
   ]
  },
  {
   "cell_type": "markdown",
   "metadata": {},
   "source": [
    "Note, however, that the result is not embedded into the dataframe."
   ]
  },
  {
   "cell_type": "code",
   "execution_count": 35,
   "metadata": {},
   "outputs": [
    {
     "name": "stdout",
     "output_type": "stream",
     "text": [
      "+---+------+----------+---------+---------+---------+---------+-------+---------+----------+-------------+--------------------+--------+\n",
      "|_c0|symbol|      date|     open|     high|      low|    close| volume| adjusted|market.cap|       sector|            industry|exchange|\n",
      "+---+------+----------+---------+---------+---------+---------+-------+---------+----------+-------------+--------------------+--------+\n",
      "|  1|   TXG|2019-09-12|       54|       58|       51|    52.75|7326300|    52.75|    $9.31B|Capital Goods|Biotechnology: La...|  NASDAQ|\n",
      "|  2|   TXG|2019-09-13|    52.75|   54.355|49.150002|    52.27|1025200|    52.27|    $9.31B|Capital Goods|Biotechnology: La...|  NASDAQ|\n",
      "|  3|   TXG|2019-09-16|52.450001|       56|52.009998|55.200001| 269900|55.200001|    $9.31B|Capital Goods|Biotechnology: La...|  NASDAQ|\n",
      "|  4|   TXG|2019-09-17|56.209999|60.900002|   55.423|56.779999| 602800|56.779999|    $9.31B|Capital Goods|Biotechnology: La...|  NASDAQ|\n",
      "|  5|   TXG|2019-09-18|56.849998|    62.27|55.650002|       62|1589600|       62|    $9.31B|Capital Goods|Biotechnology: La...|  NASDAQ|\n",
      "|  6|   TXG|2019-09-19|62.810001|   63.375|61.029999|61.119999| 425200|61.119999|    $9.31B|Capital Goods|Biotechnology: La...|  NASDAQ|\n",
      "|  7|   TXG|2019-09-20|61.709999|62.419998|    59.82|     60.5| 392000|     60.5|    $9.31B|Capital Goods|Biotechnology: La...|  NASDAQ|\n",
      "|  8|   TXG|2019-09-23|60.220001|61.485001|59.939999|60.330002| 137200|60.330002|    $9.31B|Capital Goods|Biotechnology: La...|  NASDAQ|\n",
      "|  9|   TXG|2019-09-24|       61|       61|       54|54.299999| 713800|54.299999|    $9.31B|Capital Goods|Biotechnology: La...|  NASDAQ|\n",
      "| 10|   TXG|2019-09-25|54.459999|55.880001|   52.563|52.759998| 261200|52.759998|    $9.31B|Capital Goods|Biotechnology: La...|  NASDAQ|\n",
      "| 11|   TXG|2019-09-26|52.779999|53.689999|46.619999|49.990002| 596300|49.990002|    $9.31B|Capital Goods|Biotechnology: La...|  NASDAQ|\n",
      "| 12|   TXG|2019-09-27|51.130001|       55|50.700001|51.029999| 621300|51.029999|    $9.31B|Capital Goods|Biotechnology: La...|  NASDAQ|\n",
      "| 13|   TXG|2019-09-30|51.049999|       52|    49.25|50.400002| 168900|50.400002|    $9.31B|Capital Goods|Biotechnology: La...|  NASDAQ|\n",
      "| 14|   TXG|2019-10-01|50.509998|51.919998|       46|47.029999| 536300|47.029999|    $9.31B|Capital Goods|Biotechnology: La...|  NASDAQ|\n",
      "| 15|   TXG|2019-10-02|46.779999|    47.23|45.110001|    46.07| 519600|    46.07|    $9.31B|Capital Goods|Biotechnology: La...|  NASDAQ|\n",
      "| 16|   TXG|2019-10-03|    46.77|48.240002|    45.75|48.119999| 703900|48.119999|    $9.31B|Capital Goods|Biotechnology: La...|  NASDAQ|\n",
      "| 17|   TXG|2019-10-04|       48|    53.34|    47.82|51.450001| 322400|51.450001|    $9.31B|Capital Goods|Biotechnology: La...|  NASDAQ|\n",
      "| 18|   TXG|2019-10-07|52.099998|53.220001|49.029999|50.360001| 476600|50.360001|    $9.31B|Capital Goods|Biotechnology: La...|  NASDAQ|\n",
      "| 19|   TXG|2019-10-08|       50|    51.27|       49|49.549999| 284100|49.549999|    $9.31B|Capital Goods|Biotechnology: La...|  NASDAQ|\n",
      "| 20|   TXG|2019-10-09|49.630001|51.525002|49.575001|50.009998| 201100|50.009998|    $9.31B|Capital Goods|Biotechnology: La...|  NASDAQ|\n",
      "+---+------+----------+---------+---------+---------+---------+-------+---------+----------+-------------+--------------------+--------+\n",
      "only showing top 20 rows\n",
      "\n"
     ]
    }
   ],
   "source": [
    "df.show()"
   ]
  },
  {
   "cell_type": "markdown",
   "metadata": {},
   "source": [
    "To do so we should execute the following code instead:"
   ]
  },
  {
   "cell_type": "code",
   "execution_count": 36,
   "metadata": {},
   "outputs": [
    {
     "name": "stdout",
     "output_type": "stream",
     "text": [
      "+---+------+----------+---------+---------+---------+---------+-------+---------+----------+-------------+--------------------+--------+----+\n",
      "|_c0|symbol|      date|     open|     high|      low|    close| volume| adjusted|market.cap|       sector|            industry|exchange|year|\n",
      "+---+------+----------+---------+---------+---------+---------+-------+---------+----------+-------------+--------------------+--------+----+\n",
      "|  1|   TXG|2019-09-12|       54|       58|       51|    52.75|7326300|    52.75|    $9.31B|Capital Goods|Biotechnology: La...|  NASDAQ|2019|\n",
      "|  2|   TXG|2019-09-13|    52.75|   54.355|49.150002|    52.27|1025200|    52.27|    $9.31B|Capital Goods|Biotechnology: La...|  NASDAQ|2019|\n",
      "|  3|   TXG|2019-09-16|52.450001|       56|52.009998|55.200001| 269900|55.200001|    $9.31B|Capital Goods|Biotechnology: La...|  NASDAQ|2019|\n",
      "|  4|   TXG|2019-09-17|56.209999|60.900002|   55.423|56.779999| 602800|56.779999|    $9.31B|Capital Goods|Biotechnology: La...|  NASDAQ|2019|\n",
      "|  5|   TXG|2019-09-18|56.849998|    62.27|55.650002|       62|1589600|       62|    $9.31B|Capital Goods|Biotechnology: La...|  NASDAQ|2019|\n",
      "|  6|   TXG|2019-09-19|62.810001|   63.375|61.029999|61.119999| 425200|61.119999|    $9.31B|Capital Goods|Biotechnology: La...|  NASDAQ|2019|\n",
      "|  7|   TXG|2019-09-20|61.709999|62.419998|    59.82|     60.5| 392000|     60.5|    $9.31B|Capital Goods|Biotechnology: La...|  NASDAQ|2019|\n",
      "|  8|   TXG|2019-09-23|60.220001|61.485001|59.939999|60.330002| 137200|60.330002|    $9.31B|Capital Goods|Biotechnology: La...|  NASDAQ|2019|\n",
      "|  9|   TXG|2019-09-24|       61|       61|       54|54.299999| 713800|54.299999|    $9.31B|Capital Goods|Biotechnology: La...|  NASDAQ|2019|\n",
      "| 10|   TXG|2019-09-25|54.459999|55.880001|   52.563|52.759998| 261200|52.759998|    $9.31B|Capital Goods|Biotechnology: La...|  NASDAQ|2019|\n",
      "| 11|   TXG|2019-09-26|52.779999|53.689999|46.619999|49.990002| 596300|49.990002|    $9.31B|Capital Goods|Biotechnology: La...|  NASDAQ|2019|\n",
      "| 12|   TXG|2019-09-27|51.130001|       55|50.700001|51.029999| 621300|51.029999|    $9.31B|Capital Goods|Biotechnology: La...|  NASDAQ|2019|\n",
      "| 13|   TXG|2019-09-30|51.049999|       52|    49.25|50.400002| 168900|50.400002|    $9.31B|Capital Goods|Biotechnology: La...|  NASDAQ|2019|\n",
      "| 14|   TXG|2019-10-01|50.509998|51.919998|       46|47.029999| 536300|47.029999|    $9.31B|Capital Goods|Biotechnology: La...|  NASDAQ|2019|\n",
      "| 15|   TXG|2019-10-02|46.779999|    47.23|45.110001|    46.07| 519600|    46.07|    $9.31B|Capital Goods|Biotechnology: La...|  NASDAQ|2019|\n",
      "| 16|   TXG|2019-10-03|    46.77|48.240002|    45.75|48.119999| 703900|48.119999|    $9.31B|Capital Goods|Biotechnology: La...|  NASDAQ|2019|\n",
      "| 17|   TXG|2019-10-04|       48|    53.34|    47.82|51.450001| 322400|51.450001|    $9.31B|Capital Goods|Biotechnology: La...|  NASDAQ|2019|\n",
      "| 18|   TXG|2019-10-07|52.099998|53.220001|49.029999|50.360001| 476600|50.360001|    $9.31B|Capital Goods|Biotechnology: La...|  NASDAQ|2019|\n",
      "| 19|   TXG|2019-10-08|       50|    51.27|       49|49.549999| 284100|49.549999|    $9.31B|Capital Goods|Biotechnology: La...|  NASDAQ|2019|\n",
      "| 20|   TXG|2019-10-09|49.630001|51.525002|49.575001|50.009998| 201100|50.009998|    $9.31B|Capital Goods|Biotechnology: La...|  NASDAQ|2019|\n",
      "+---+------+----------+---------+---------+---------+---------+-------+---------+----------+-------------+--------------------+--------+----+\n",
      "only showing top 20 rows\n",
      "\n"
     ]
    }
   ],
   "source": [
    "from pyspark.sql.functions import year\n",
    "\n",
    "df = df.withColumn('year', year(df.date))\n",
    "df.show()"
   ]
  },
  {
   "cell_type": "markdown",
   "metadata": {},
   "source": [
    "In the following we show how the column `Excellent` could be added with boolean values (true or false) that depend on the following condition: `df[\"volume\"] > 100000`."
   ]
  },
  {
   "cell_type": "code",
   "execution_count": 37,
   "metadata": {},
   "outputs": [
    {
     "name": "stdout",
     "output_type": "stream",
     "text": [
      "+---------+---------+-------+---------+\n",
      "|     high|      low| volume|Excellent|\n",
      "+---------+---------+-------+---------+\n",
      "|       58|       51|7326300|     true|\n",
      "|   54.355|49.150002|1025200|     true|\n",
      "|       56|52.009998| 269900|     true|\n",
      "|60.900002|   55.423| 602800|     true|\n",
      "|    62.27|55.650002|1589600|     true|\n",
      "|   63.375|61.029999| 425200|     true|\n",
      "|62.419998|    59.82| 392000|     true|\n",
      "|61.485001|59.939999| 137200|     true|\n",
      "|       61|       54| 713800|     true|\n",
      "|55.880001|   52.563| 261200|     true|\n",
      "|53.689999|46.619999| 596300|     true|\n",
      "|       55|50.700001| 621300|     true|\n",
      "|       52|    49.25| 168900|     true|\n",
      "|51.919998|       46| 536300|     true|\n",
      "|    47.23|45.110001| 519600|     true|\n",
      "|48.240002|    45.75| 703900|     true|\n",
      "|    53.34|    47.82| 322400|     true|\n",
      "|53.220001|49.029999| 476600|     true|\n",
      "|    51.27|       49| 284100|     true|\n",
      "|51.525002|49.575001| 201100|     true|\n",
      "+---------+---------+-------+---------+\n",
      "only showing top 20 rows\n",
      "\n"
     ]
    }
   ],
   "source": [
    "df.select(\"high\", \"low\", \"volume\").withColumn('Excellent', df[\"volume\"] > 100000).show()"
   ]
  },
  {
   "cell_type": "markdown",
   "metadata": {},
   "source": [
    "##### Update Column"
   ]
  },
  {
   "cell_type": "markdown",
   "metadata": {},
   "source": [
    "Use `withColumnRenamed` which takes two parameters existing column name and new column name to rename the existing column. See the below example:"
   ]
  },
  {
   "cell_type": "code",
   "execution_count": 38,
   "metadata": {},
   "outputs": [
    {
     "name": "stdout",
     "output_type": "stream",
     "text": [
      "+---+------+----------+---------+---------+---------+---------+-------+---------+----------+-------------+--------------------+--------+----+\n",
      "|_c0|symbol|      date|     open|     high|      low|    close| volume| adjusted|market.cap|       sector|            industry|exchange|Year|\n",
      "+---+------+----------+---------+---------+---------+---------+-------+---------+----------+-------------+--------------------+--------+----+\n",
      "|  1|   TXG|2019-09-12|       54|       58|       51|    52.75|7326300|    52.75|    $9.31B|Capital Goods|Biotechnology: La...|  NASDAQ|2019|\n",
      "|  2|   TXG|2019-09-13|    52.75|   54.355|49.150002|    52.27|1025200|    52.27|    $9.31B|Capital Goods|Biotechnology: La...|  NASDAQ|2019|\n",
      "|  3|   TXG|2019-09-16|52.450001|       56|52.009998|55.200001| 269900|55.200001|    $9.31B|Capital Goods|Biotechnology: La...|  NASDAQ|2019|\n",
      "|  4|   TXG|2019-09-17|56.209999|60.900002|   55.423|56.779999| 602800|56.779999|    $9.31B|Capital Goods|Biotechnology: La...|  NASDAQ|2019|\n",
      "|  5|   TXG|2019-09-18|56.849998|    62.27|55.650002|       62|1589600|       62|    $9.31B|Capital Goods|Biotechnology: La...|  NASDAQ|2019|\n",
      "|  6|   TXG|2019-09-19|62.810001|   63.375|61.029999|61.119999| 425200|61.119999|    $9.31B|Capital Goods|Biotechnology: La...|  NASDAQ|2019|\n",
      "|  7|   TXG|2019-09-20|61.709999|62.419998|    59.82|     60.5| 392000|     60.5|    $9.31B|Capital Goods|Biotechnology: La...|  NASDAQ|2019|\n",
      "|  8|   TXG|2019-09-23|60.220001|61.485001|59.939999|60.330002| 137200|60.330002|    $9.31B|Capital Goods|Biotechnology: La...|  NASDAQ|2019|\n",
      "|  9|   TXG|2019-09-24|       61|       61|       54|54.299999| 713800|54.299999|    $9.31B|Capital Goods|Biotechnology: La...|  NASDAQ|2019|\n",
      "| 10|   TXG|2019-09-25|54.459999|55.880001|   52.563|52.759998| 261200|52.759998|    $9.31B|Capital Goods|Biotechnology: La...|  NASDAQ|2019|\n",
      "| 11|   TXG|2019-09-26|52.779999|53.689999|46.619999|49.990002| 596300|49.990002|    $9.31B|Capital Goods|Biotechnology: La...|  NASDAQ|2019|\n",
      "| 12|   TXG|2019-09-27|51.130001|       55|50.700001|51.029999| 621300|51.029999|    $9.31B|Capital Goods|Biotechnology: La...|  NASDAQ|2019|\n",
      "| 13|   TXG|2019-09-30|51.049999|       52|    49.25|50.400002| 168900|50.400002|    $9.31B|Capital Goods|Biotechnology: La...|  NASDAQ|2019|\n",
      "| 14|   TXG|2019-10-01|50.509998|51.919998|       46|47.029999| 536300|47.029999|    $9.31B|Capital Goods|Biotechnology: La...|  NASDAQ|2019|\n",
      "| 15|   TXG|2019-10-02|46.779999|    47.23|45.110001|    46.07| 519600|    46.07|    $9.31B|Capital Goods|Biotechnology: La...|  NASDAQ|2019|\n",
      "| 16|   TXG|2019-10-03|    46.77|48.240002|    45.75|48.119999| 703900|48.119999|    $9.31B|Capital Goods|Biotechnology: La...|  NASDAQ|2019|\n",
      "| 17|   TXG|2019-10-04|       48|    53.34|    47.82|51.450001| 322400|51.450001|    $9.31B|Capital Goods|Biotechnology: La...|  NASDAQ|2019|\n",
      "| 18|   TXG|2019-10-07|52.099998|53.220001|49.029999|50.360001| 476600|50.360001|    $9.31B|Capital Goods|Biotechnology: La...|  NASDAQ|2019|\n",
      "| 19|   TXG|2019-10-08|       50|    51.27|       49|49.549999| 284100|49.549999|    $9.31B|Capital Goods|Biotechnology: La...|  NASDAQ|2019|\n",
      "| 20|   TXG|2019-10-09|49.630001|51.525002|49.575001|50.009998| 201100|50.009998|    $9.31B|Capital Goods|Biotechnology: La...|  NASDAQ|2019|\n",
      "+---+------+----------+---------+---------+---------+---------+-------+---------+----------+-------------+--------------------+--------+----+\n",
      "only showing top 20 rows\n",
      "\n"
     ]
    }
   ],
   "source": [
    "df = df.withColumnRenamed('year', 'Year')\n",
    "\n",
    "df.show()"
   ]
  },
  {
   "cell_type": "markdown",
   "metadata": {},
   "source": [
    "##### Delete Column"
   ]
  },
  {
   "cell_type": "markdown",
   "metadata": {},
   "source": [
    "Use the `drop` method to delete a column."
   ]
  },
  {
   "cell_type": "code",
   "execution_count": 39,
   "metadata": {},
   "outputs": [
    {
     "name": "stdout",
     "output_type": "stream",
     "text": [
      "+---+------+----------+---------+---------+---------+---------+-------+---------+----------+-------------+--------------------+--------+\n",
      "|_c0|symbol|      date|     open|     high|      low|    close| volume| adjusted|market.cap|       sector|            industry|exchange|\n",
      "+---+------+----------+---------+---------+---------+---------+-------+---------+----------+-------------+--------------------+--------+\n",
      "|  1|   TXG|2019-09-12|       54|       58|       51|    52.75|7326300|    52.75|    $9.31B|Capital Goods|Biotechnology: La...|  NASDAQ|\n",
      "|  2|   TXG|2019-09-13|    52.75|   54.355|49.150002|    52.27|1025200|    52.27|    $9.31B|Capital Goods|Biotechnology: La...|  NASDAQ|\n",
      "|  3|   TXG|2019-09-16|52.450001|       56|52.009998|55.200001| 269900|55.200001|    $9.31B|Capital Goods|Biotechnology: La...|  NASDAQ|\n",
      "|  4|   TXG|2019-09-17|56.209999|60.900002|   55.423|56.779999| 602800|56.779999|    $9.31B|Capital Goods|Biotechnology: La...|  NASDAQ|\n",
      "|  5|   TXG|2019-09-18|56.849998|    62.27|55.650002|       62|1589600|       62|    $9.31B|Capital Goods|Biotechnology: La...|  NASDAQ|\n",
      "|  6|   TXG|2019-09-19|62.810001|   63.375|61.029999|61.119999| 425200|61.119999|    $9.31B|Capital Goods|Biotechnology: La...|  NASDAQ|\n",
      "|  7|   TXG|2019-09-20|61.709999|62.419998|    59.82|     60.5| 392000|     60.5|    $9.31B|Capital Goods|Biotechnology: La...|  NASDAQ|\n",
      "|  8|   TXG|2019-09-23|60.220001|61.485001|59.939999|60.330002| 137200|60.330002|    $9.31B|Capital Goods|Biotechnology: La...|  NASDAQ|\n",
      "|  9|   TXG|2019-09-24|       61|       61|       54|54.299999| 713800|54.299999|    $9.31B|Capital Goods|Biotechnology: La...|  NASDAQ|\n",
      "| 10|   TXG|2019-09-25|54.459999|55.880001|   52.563|52.759998| 261200|52.759998|    $9.31B|Capital Goods|Biotechnology: La...|  NASDAQ|\n",
      "| 11|   TXG|2019-09-26|52.779999|53.689999|46.619999|49.990002| 596300|49.990002|    $9.31B|Capital Goods|Biotechnology: La...|  NASDAQ|\n",
      "| 12|   TXG|2019-09-27|51.130001|       55|50.700001|51.029999| 621300|51.029999|    $9.31B|Capital Goods|Biotechnology: La...|  NASDAQ|\n",
      "| 13|   TXG|2019-09-30|51.049999|       52|    49.25|50.400002| 168900|50.400002|    $9.31B|Capital Goods|Biotechnology: La...|  NASDAQ|\n",
      "| 14|   TXG|2019-10-01|50.509998|51.919998|       46|47.029999| 536300|47.029999|    $9.31B|Capital Goods|Biotechnology: La...|  NASDAQ|\n",
      "| 15|   TXG|2019-10-02|46.779999|    47.23|45.110001|    46.07| 519600|    46.07|    $9.31B|Capital Goods|Biotechnology: La...|  NASDAQ|\n",
      "| 16|   TXG|2019-10-03|    46.77|48.240002|    45.75|48.119999| 703900|48.119999|    $9.31B|Capital Goods|Biotechnology: La...|  NASDAQ|\n",
      "| 17|   TXG|2019-10-04|       48|    53.34|    47.82|51.450001| 322400|51.450001|    $9.31B|Capital Goods|Biotechnology: La...|  NASDAQ|\n",
      "| 18|   TXG|2019-10-07|52.099998|53.220001|49.029999|50.360001| 476600|50.360001|    $9.31B|Capital Goods|Biotechnology: La...|  NASDAQ|\n",
      "| 19|   TXG|2019-10-08|       50|    51.27|       49|49.549999| 284100|49.549999|    $9.31B|Capital Goods|Biotechnology: La...|  NASDAQ|\n",
      "| 20|   TXG|2019-10-09|49.630001|51.525002|49.575001|50.009998| 201100|50.009998|    $9.31B|Capital Goods|Biotechnology: La...|  NASDAQ|\n",
      "+---+------+----------+---------+---------+---------+---------+-------+---------+----------+-------------+--------------------+--------+\n",
      "only showing top 20 rows\n",
      "\n"
     ]
    }
   ],
   "source": [
    "df = df.drop('Year')\n",
    "\n",
    "df.show()"
   ]
  },
  {
   "cell_type": "markdown",
   "metadata": {},
   "source": [
    "#### Querying Data"
   ]
  },
  {
   "cell_type": "markdown",
   "metadata": {},
   "source": [
    "##### Select"
   ]
  },
  {
   "cell_type": "markdown",
   "metadata": {},
   "source": [
    "It is used to select single or multiple columns using the names of the columns. Here is a simple example:"
   ]
  },
  {
   "cell_type": "code",
   "execution_count": 40,
   "metadata": {},
   "outputs": [
    {
     "name": "stdout",
     "output_type": "stream",
     "text": [
      "+---------+\n",
      "|    close|\n",
      "+---------+\n",
      "|    52.75|\n",
      "|    52.27|\n",
      "|55.200001|\n",
      "|56.779999|\n",
      "|       62|\n",
      "|61.119999|\n",
      "|     60.5|\n",
      "|60.330002|\n",
      "|54.299999|\n",
      "|52.759998|\n",
      "|49.990002|\n",
      "|51.029999|\n",
      "|50.400002|\n",
      "|47.029999|\n",
      "|    46.07|\n",
      "|48.119999|\n",
      "|51.450001|\n",
      "|50.360001|\n",
      "|49.549999|\n",
      "|50.009998|\n",
      "+---------+\n",
      "only showing top 20 rows\n",
      "\n"
     ]
    }
   ],
   "source": [
    "df.select(\"close\").show()"
   ]
  },
  {
   "cell_type": "markdown",
   "metadata": {},
   "source": [
    "Mostrar o resultado de um conjunto de colunas."
   ]
  },
  {
   "cell_type": "code",
   "execution_count": 41,
   "metadata": {},
   "outputs": [
    {
     "name": "stdout",
     "output_type": "stream",
     "text": [
      "+---------+---------+---------+\n",
      "|     open|     high|      low|\n",
      "+---------+---------+---------+\n",
      "|       54|       58|       51|\n",
      "|    52.75|   54.355|49.150002|\n",
      "|52.450001|       56|52.009998|\n",
      "|56.209999|60.900002|   55.423|\n",
      "|56.849998|    62.27|55.650002|\n",
      "|62.810001|   63.375|61.029999|\n",
      "|61.709999|62.419998|    59.82|\n",
      "|60.220001|61.485001|59.939999|\n",
      "|       61|       61|       54|\n",
      "|54.459999|55.880001|   52.563|\n",
      "|52.779999|53.689999|46.619999|\n",
      "|51.130001|       55|50.700001|\n",
      "|51.049999|       52|    49.25|\n",
      "|50.509998|51.919998|       46|\n",
      "|46.779999|    47.23|45.110001|\n",
      "|    46.77|48.240002|    45.75|\n",
      "|       48|    53.34|    47.82|\n",
      "|52.099998|53.220001|49.029999|\n",
      "|       50|    51.27|       49|\n",
      "|49.630001|51.525002|49.575001|\n",
      "+---------+---------+---------+\n",
      "only showing top 20 rows\n",
      "\n"
     ]
    }
   ],
   "source": [
    "df.select('open', 'high', 'low').show()"
   ]
  },
  {
   "cell_type": "markdown",
   "metadata": {},
   "source": [
    "O código seguinte permite selecionar um conjunto de colunas e recorrer ao `alias` para alterar os seus nomes:"
   ]
  },
  {
   "cell_type": "code",
   "execution_count": 42,
   "metadata": {},
   "outputs": [
    {
     "name": "stdout",
     "output_type": "stream",
     "text": [
      "+----------+---------+---------+\n",
      "|open_value|     high|      low|\n",
      "+----------+---------+---------+\n",
      "|        54|       58|       51|\n",
      "|     52.75|   54.355|49.150002|\n",
      "| 52.450001|       56|52.009998|\n",
      "| 56.209999|60.900002|   55.423|\n",
      "| 56.849998|    62.27|55.650002|\n",
      "| 62.810001|   63.375|61.029999|\n",
      "| 61.709999|62.419998|    59.82|\n",
      "| 60.220001|61.485001|59.939999|\n",
      "|        61|       61|       54|\n",
      "| 54.459999|55.880001|   52.563|\n",
      "| 52.779999|53.689999|46.619999|\n",
      "| 51.130001|       55|50.700001|\n",
      "| 51.049999|       52|    49.25|\n",
      "| 50.509998|51.919998|       46|\n",
      "| 46.779999|    47.23|45.110001|\n",
      "|     46.77|48.240002|    45.75|\n",
      "|        48|    53.34|    47.82|\n",
      "| 52.099998|53.220001|49.029999|\n",
      "|        50|    51.27|       49|\n",
      "| 49.630001|51.525002|49.575001|\n",
      "+----------+---------+---------+\n",
      "only showing top 20 rows\n",
      "\n"
     ]
    }
   ],
   "source": [
    "df.select(df['open'].alias('open_value'), df['high'], df['low']).show()"
   ]
  },
  {
   "cell_type": "markdown",
   "metadata": {},
   "source": [
    "##### Filter"
   ]
  },
  {
   "cell_type": "markdown",
   "metadata": {},
   "source": [
    "Mostrar um conjunto específico (filtrado) de resultados."
   ]
  },
  {
   "cell_type": "code",
   "execution_count": 43,
   "metadata": {},
   "outputs": [
    {
     "name": "stdout",
     "output_type": "stream",
     "text": [
      "+---+------+----------+---------+---------+---------+---------+------+---------+----------+-------------+--------------------+--------+\n",
      "|_c0|symbol|      date|     open|     high|      low|    close|volume| adjusted|market.cap|       sector|            industry|exchange|\n",
      "+---+------+----------+---------+---------+---------+---------+------+---------+----------+-------------+--------------------+--------+\n",
      "| 78|   TXG|2020-01-02|76.910004|77.989998|71.480003|72.830002|220200|72.830002|    $9.31B|Capital Goods|Biotechnology: La...|  NASDAQ|\n",
      "| 79|   TXG|2020-01-03|71.519997|76.188004|70.580002|75.559998|288300|75.559998|    $9.31B|Capital Goods|Biotechnology: La...|  NASDAQ|\n",
      "| 80|   TXG|2020-01-06|75.269997|77.349998|73.559998|75.550003|220600|75.550003|    $9.31B|Capital Goods|Biotechnology: La...|  NASDAQ|\n",
      "| 81|   TXG|2020-01-07|       76|77.279999|    75.32|75.980003|182400|75.980003|    $9.31B|Capital Goods|Biotechnology: La...|  NASDAQ|\n",
      "| 82|   TXG|2020-01-08|76.089996|76.949997|72.739998|74.839996|172100|74.839996|    $9.31B|Capital Goods|Biotechnology: La...|  NASDAQ|\n",
      "+---+------+----------+---------+---------+---------+---------+------+---------+----------+-------------+--------------------+--------+\n",
      "only showing top 5 rows\n",
      "\n"
     ]
    }
   ],
   "source": [
    "df.filter((df['date'] >= '2020-01-01') & (df['date'] <= '2020-01-31')).show(5)"
   ]
  },
  {
   "cell_type": "markdown",
   "metadata": {},
   "source": [
    "Um outro exemplo."
   ]
  },
  {
   "cell_type": "code",
   "execution_count": 44,
   "metadata": {},
   "outputs": [
    {
     "name": "stdout",
     "output_type": "stream",
     "text": [
      "+---------+---------+---------+\n",
      "|     open|     high|      low|\n",
      "+---------+---------+---------+\n",
      "|62.810001|   63.375|61.029999|\n",
      "|61.709999|62.419998|    59.82|\n",
      "|       61|       61|       54|\n",
      "|63.700001|68.184998|       63|\n",
      "|68.363998|68.363998|60.509998|\n",
      "|61.849998|       65|61.849998|\n",
      "|63.889999|65.879997|62.200001|\n",
      "|64.080002|    64.25|61.040001|\n",
      "|61.990002|64.379997|61.990002|\n",
      "|64.160004|67.489998|64.160004|\n",
      "|    66.25|67.435997|64.040001|\n",
      "|64.239998|       65|    62.32|\n",
      "|62.669998|65.470001|62.529999|\n",
      "|65.940002|65.949997|63.560001|\n",
      "|    63.91|65.489998|63.734001|\n",
      "|65.300003|65.589996|63.310001|\n",
      "|63.669998|    63.82|60.049999|\n",
      "|62.689999|63.900002|61.509998|\n",
      "|63.810001|65.349998|62.919998|\n",
      "|    63.25|66.989998|62.630001|\n",
      "+---------+---------+---------+\n",
      "only showing top 20 rows\n",
      "\n"
     ]
    }
   ],
   "source": [
    "df.select('open', 'high', 'low').filter(df[\"open\"] > 60).show()"
   ]
  },
  {
   "cell_type": "markdown",
   "metadata": {},
   "source": [
    "Filtrado apenas aos registos que não são nulos: `isNotNull`"
   ]
  },
  {
   "cell_type": "code",
   "execution_count": 45,
   "metadata": {},
   "outputs": [
    {
     "name": "stdout",
     "output_type": "stream",
     "text": [
      "+---------+---------+---------+\n",
      "|     open|     high|      low|\n",
      "+---------+---------+---------+\n",
      "|       54|       58|       51|\n",
      "|    52.75|   54.355|49.150002|\n",
      "|52.450001|       56|52.009998|\n",
      "|56.209999|60.900002|   55.423|\n",
      "|56.849998|    62.27|55.650002|\n",
      "|62.810001|   63.375|61.029999|\n",
      "|61.709999|62.419998|    59.82|\n",
      "|60.220001|61.485001|59.939999|\n",
      "|       61|       61|       54|\n",
      "|54.459999|55.880001|   52.563|\n",
      "|52.779999|53.689999|46.619999|\n",
      "|51.130001|       55|50.700001|\n",
      "|51.049999|       52|    49.25|\n",
      "|50.509998|51.919998|       46|\n",
      "|46.779999|    47.23|45.110001|\n",
      "|    46.77|48.240002|    45.75|\n",
      "|       48|    53.34|    47.82|\n",
      "|52.099998|53.220001|49.029999|\n",
      "|       50|    51.27|       49|\n",
      "|49.630001|51.525002|49.575001|\n",
      "+---------+---------+---------+\n",
      "only showing top 20 rows\n",
      "\n"
     ]
    }
   ],
   "source": [
    "df.select('open', 'high', 'low').filter(df.symbol.isNotNull()).show()"
   ]
  },
  {
   "cell_type": "markdown",
   "metadata": {},
   "source": [
    "##### GroupBy"
   ]
  },
  {
   "cell_type": "markdown",
   "metadata": {},
   "source": [
    "The name itself explains that it groups the data by the given column name and it can perform different operations such as sum, mean, min, max, e.t.c. "
   ]
  },
  {
   "cell_type": "markdown",
   "metadata": {},
   "source": [
    "The below example explains how to get the average opening, closing, and adjusted stock price concerning industries."
   ]
  },
  {
   "cell_type": "code",
   "execution_count": 55,
   "metadata": {},
   "outputs": [
    {
     "name": "stdout",
     "output_type": "stream",
     "text": [
      "+--------------------+-----+\n",
      "|            industry|count|\n",
      "+--------------------+-----+\n",
      "|Finance/Investors...| 1568|\n",
      "|Biotechnology: Bi...|44210|\n",
      "|Other Specialty S...|12099|\n",
      "|Other Consumer Se...|25574|\n",
      "|        Water Supply| 7448|\n",
      "|               Banks| 6250|\n",
      "|Farming/Seeds/Mil...| 8491|\n",
      "|Medical/Nursing S...| 6526|\n",
      "|Biotechnology: La...| 7967|\n",
      "| Television Services| 8232|\n",
      "|Automotive Afterm...| 9483|\n",
      "|   Auto Parts:O.E.M.|12767|\n",
      "|Rental/Leasing Co...| 2352|\n",
      "|Medical Specialities|14602|\n",
      "| Specialty Chemicals| 9042|\n",
      "|Computer Software...|18622|\n",
      "|Biotechnology: In...| 7209|\n",
      "|    Power Generation| 7699|\n",
      "|Property-Casualty...|28096|\n",
      "|Real Estate Inves...|75847|\n",
      "+--------------------+-----+\n",
      "only showing top 20 rows\n",
      "\n"
     ]
    }
   ],
   "source": [
    "# df.select(['industry', 'open', 'close', 'adjusted']).groupBy('industry').mean().show()\n",
    "\n",
    "df.select(['industry', 'open', 'close', 'adjusted']).groupBy('industry').count().show()"
   ]
  },
  {
   "cell_type": "markdown",
   "metadata": {},
   "source": [
    "#### OrderBy"
   ]
  },
  {
   "cell_type": "markdown",
   "metadata": {},
   "source": [
    "O código seguinte exemplifica a função de ordenação."
   ]
  },
  {
   "cell_type": "code",
   "execution_count": 47,
   "metadata": {},
   "outputs": [
    {
     "name": "stdout",
     "output_type": "stream",
     "text": [
      "+------+-----+\n",
      "|symbol|count|\n",
      "+------+-----+\n",
      "|  EGHT|  784|\n",
      "|  AMOV|  784|\n",
      "|  AMBC|  784|\n",
      "|  GOLD|  784|\n",
      "|  CNMD|  784|\n",
      "|  INFO|  784|\n",
      "|  NCLH|  784|\n",
      "|  PGTI|  784|\n",
      "|   RRD|  784|\n",
      "|  QGEN|  784|\n",
      "+------+-----+\n",
      "only showing top 10 rows\n",
      "\n"
     ]
    }
   ],
   "source": [
    "from pyspark.sql.functions import desc\n",
    "df.groupby('symbol').count().orderBy(desc('count')).show(10)"
   ]
  },
  {
   "cell_type": "markdown",
   "metadata": {},
   "source": [
    "#### Functions"
   ]
  },
  {
   "cell_type": "markdown",
   "metadata": {},
   "source": [
    "O Spark oferece-nos um conjunto de funções de agregação que podem ser aplicadas aos dados:\n",
    "- mean: média\n",
    "- count: número total de registos\n",
    "- first: primeiro registo\n",
    "- last: primeiro registo\n",
    "- max: valor máximo\n",
    "- min: valor mínimo\n",
    "- sum: soma dos valores"
   ]
  },
  {
   "cell_type": "code",
   "execution_count": 48,
   "metadata": {},
   "outputs": [
    {
     "name": "stdout",
     "output_type": "stream",
     "text": [
      "+---------+---------+------------------+--------------------+\n",
      "|min(high)|max(high)|         avg(high)|           sum(high)|\n",
      "+---------+---------+------------------+--------------------+\n",
      "|    0.078|       NA|15555.067268137087|2.685272818005232...|\n",
      "+---------+---------+------------------+--------------------+\n",
      "\n"
     ]
    }
   ],
   "source": [
    "from pyspark.sql.functions import min, max, mean, sum\n",
    "df.agg(min(\"high\"),max(\"high\"),mean(\"high\"),sum(\"high\")).show()"
   ]
  },
  {
   "cell_type": "code",
   "execution_count": 57,
   "metadata": {},
   "outputs": [
    {
     "name": "stdout",
     "output_type": "stream",
     "text": [
      "+--------------------+---------+\n",
      "|            industry|min(open)|\n",
      "+--------------------+---------+\n",
      "|Accident &Health ...|    10.01|\n",
      "|         Advertising|      0.1|\n",
      "|           Aerospace|     1.75|\n",
      "|Agricultural Chem...|     0.63|\n",
      "|Air Freight/Deliv...|       10|\n",
      "|            Aluminum|    10.02|\n",
      "|             Apparel|     0.12|\n",
      "|  Auto Manufacturing|     0.54|\n",
      "|   Auto Parts:O.E.M.|     0.95|\n",
      "|Automotive Afterm...|     0.47|\n",
      "+--------------------+---------+\n",
      "only showing top 10 rows\n",
      "\n"
     ]
    }
   ],
   "source": [
    "from pyspark.sql.functions import asc, min, mean\n",
    "df.groupBy('industry').agg(min('open')).show(10)"
   ]
  },
  {
   "cell_type": "code",
   "execution_count": 49,
   "metadata": {},
   "outputs": [
    {
     "name": "stdout",
     "output_type": "stream",
     "text": [
      "+------+---------+-------------------+\n",
      "|symbol|min(high)|           avg(low)|\n",
      "+------+---------+-------------------+\n",
      "|    ZN|     0.13|0.33316326530612217|\n",
      "|  SQBG|     0.14| 0.4939795918367349|\n",
      "|   OEG|    0.745|               0.55|\n",
      "|  ONVO|     0.23| 0.5502551020408162|\n",
      "|  NXTD|    0.285| 0.5778749999999997|\n",
      "|  TYHT|      0.4| 0.6152653061224485|\n",
      "|  AXAS|     0.11| 0.6184693877551023|\n",
      "|  RAVE|    0.667|             0.6228|\n",
      "|  IZEA|     0.15| 0.6245459183673472|\n",
      "|  NMTR|     0.51|  0.626741935483871|\n",
      "+------+---------+-------------------+\n",
      "only showing top 10 rows\n",
      "\n"
     ]
    }
   ],
   "source": [
    "from pyspark.sql.functions import asc, min, mean\n",
    "df.groupBy('symbol').agg(min('high'), mean('low')).orderBy(asc('avg(low)')).show(10)"
   ]
  },
  {
   "cell_type": "markdown",
   "metadata": {},
   "source": [
    "Outras funções como o `length` permitem determinar o tamanho de um texto."
   ]
  },
  {
   "cell_type": "code",
   "execution_count": 50,
   "metadata": {},
   "outputs": [
    {
     "name": "stdout",
     "output_type": "stream",
     "text": [
      "+--------------------+------+\n",
      "|            industry|length|\n",
      "+--------------------+------+\n",
      "|Biotechnology: La...|    48|\n",
      "|Biotechnology: La...|    48|\n",
      "|Biotechnology: La...|    48|\n",
      "|Biotechnology: La...|    48|\n",
      "|Biotechnology: La...|    48|\n",
      "|Biotechnology: La...|    48|\n",
      "|Biotechnology: La...|    48|\n",
      "|Biotechnology: La...|    48|\n",
      "|Biotechnology: La...|    48|\n",
      "|Biotechnology: La...|    48|\n",
      "|Biotechnology: La...|    48|\n",
      "|Biotechnology: La...|    48|\n",
      "|Biotechnology: La...|    48|\n",
      "|Biotechnology: La...|    48|\n",
      "|Biotechnology: La...|    48|\n",
      "|Biotechnology: La...|    48|\n",
      "|Biotechnology: La...|    48|\n",
      "|Biotechnology: La...|    48|\n",
      "|Biotechnology: La...|    48|\n",
      "|Biotechnology: La...|    48|\n",
      "+--------------------+------+\n",
      "only showing top 20 rows\n",
      "\n"
     ]
    }
   ],
   "source": [
    "from pyspark.sql.functions import length\n",
    "df.select('industry', length('industry').alias('length')).show(20)"
   ]
  },
  {
   "cell_type": "markdown",
   "metadata": {},
   "source": [
    "A função `to_timestamp` permite converter uma data (em formato string) para um formato de data."
   ]
  },
  {
   "cell_type": "code",
   "execution_count": 51,
   "metadata": {},
   "outputs": [
    {
     "name": "stdout",
     "output_type": "stream",
     "text": [
      "+------------------------------+\n",
      "|to_timestamp(date, yyyy-MM-dd)|\n",
      "+------------------------------+\n",
      "|           2019-09-12 00:00:00|\n",
      "|           2019-09-13 00:00:00|\n",
      "|           2019-09-16 00:00:00|\n",
      "|           2019-09-17 00:00:00|\n",
      "|           2019-09-18 00:00:00|\n",
      "|           2019-09-19 00:00:00|\n",
      "|           2019-09-20 00:00:00|\n",
      "|           2019-09-23 00:00:00|\n",
      "|           2019-09-24 00:00:00|\n",
      "|           2019-09-25 00:00:00|\n",
      "+------------------------------+\n",
      "only showing top 10 rows\n",
      "\n"
     ]
    }
   ],
   "source": [
    "from pyspark.sql.functions import to_timestamp\n",
    "df.select(to_timestamp('date', 'yyyy-MM-dd')).show(10)"
   ]
  },
  {
   "cell_type": "markdown",
   "metadata": {},
   "source": [
    "Posteriormente podemos criar uma nova coluna denominada `timestamp`"
   ]
  },
  {
   "cell_type": "code",
   "execution_count": 52,
   "metadata": {},
   "outputs": [
    {
     "name": "stdout",
     "output_type": "stream",
     "text": [
      "+---+------+----------+---------+---------+---------+---------+-------+---------+----------+-------------+--------------------+--------+-------------------+\n",
      "|_c0|symbol|      date|     open|     high|      low|    close| volume| adjusted|market.cap|       sector|            industry|exchange|          timestamp|\n",
      "+---+------+----------+---------+---------+---------+---------+-------+---------+----------+-------------+--------------------+--------+-------------------+\n",
      "|  1|   TXG|2019-09-12|       54|       58|       51|    52.75|7326300|    52.75|    $9.31B|Capital Goods|Biotechnology: La...|  NASDAQ|2019-09-12 00:00:00|\n",
      "|  2|   TXG|2019-09-13|    52.75|   54.355|49.150002|    52.27|1025200|    52.27|    $9.31B|Capital Goods|Biotechnology: La...|  NASDAQ|2019-09-13 00:00:00|\n",
      "|  3|   TXG|2019-09-16|52.450001|       56|52.009998|55.200001| 269900|55.200001|    $9.31B|Capital Goods|Biotechnology: La...|  NASDAQ|2019-09-16 00:00:00|\n",
      "|  4|   TXG|2019-09-17|56.209999|60.900002|   55.423|56.779999| 602800|56.779999|    $9.31B|Capital Goods|Biotechnology: La...|  NASDAQ|2019-09-17 00:00:00|\n",
      "|  5|   TXG|2019-09-18|56.849998|    62.27|55.650002|       62|1589600|       62|    $9.31B|Capital Goods|Biotechnology: La...|  NASDAQ|2019-09-18 00:00:00|\n",
      "+---+------+----------+---------+---------+---------+---------+-------+---------+----------+-------------+--------------------+--------+-------------------+\n",
      "only showing top 5 rows\n",
      "\n"
     ]
    }
   ],
   "source": [
    "from pyspark.sql.functions import to_timestamp\n",
    "df = df.withColumn('timestamp', to_timestamp('date', 'yyyy-MM-dd'))\n",
    "df.show(5)"
   ]
  },
  {
   "cell_type": "markdown",
   "metadata": {},
   "source": [
    "E a partir dessa coluna determinar qual a data mais antiga:"
   ]
  },
  {
   "cell_type": "code",
   "execution_count": 53,
   "metadata": {},
   "outputs": [
    {
     "name": "stdout",
     "output_type": "stream",
     "text": [
      "+-------------------+\n",
      "|     min(timestamp)|\n",
      "+-------------------+\n",
      "|2019-01-02 00:00:00|\n",
      "+-------------------+\n",
      "\n"
     ]
    }
   ],
   "source": [
    "from pyspark.sql.functions import min\n",
    "df.select('timestamp').agg(min('timestamp')).show()"
   ]
  },
  {
   "cell_type": "markdown",
   "metadata": {},
   "source": [
    "### Save Data to File"
   ]
  },
  {
   "cell_type": "code",
   "execution_count": null,
   "metadata": {},
   "outputs": [],
   "source": []
  },
  {
   "cell_type": "code",
   "execution_count": 59,
   "metadata": {},
   "outputs": [
    {
     "ename": "AnalysisException",
     "evalue": "[PATH_ALREADY_EXISTS] Path file:/c:/Users/jonat/Documents/DEV/MESTRADO/MsC-IPT-Big-Data/CLASSES/MAY/27_05_2024/data/csv already exists. Set mode as \"overwrite\" to overwrite the existing path.",
     "output_type": "error",
     "traceback": [
      "\u001b[1;31m---------------------------------------------------------------------------\u001b[0m",
      "\u001b[1;31mAnalysisException\u001b[0m                         Traceback (most recent call last)",
      "Cell \u001b[1;32mIn[59], line 2\u001b[0m\n\u001b[0;32m      1\u001b[0m \u001b[38;5;66;03m# CSV\u001b[39;00m\n\u001b[1;32m----> 2\u001b[0m \u001b[43mdf\u001b[49m\u001b[38;5;241;43m.\u001b[39;49m\u001b[43mwrite\u001b[49m\u001b[38;5;241;43m.\u001b[39;49m\u001b[43mcsv\u001b[49m\u001b[43m(\u001b[49m\u001b[38;5;124;43m'\u001b[39;49m\u001b[38;5;124;43mdata/csv\u001b[39;49m\u001b[38;5;124;43m'\u001b[39;49m\u001b[43m)\u001b[49m\n",
      "File \u001b[1;32mc:\\Users\\jonat\\Documents\\DEV\\MESTRADO\\MsC-IPT-Big-Data\\.venv\\Lib\\site-packages\\pyspark\\sql\\readwriter.py:1864\u001b[0m, in \u001b[0;36mDataFrameWriter.csv\u001b[1;34m(self, path, mode, compression, sep, quote, escape, header, nullValue, escapeQuotes, quoteAll, dateFormat, timestampFormat, ignoreLeadingWhiteSpace, ignoreTrailingWhiteSpace, charToEscapeQuoteEscaping, encoding, emptyValue, lineSep)\u001b[0m\n\u001b[0;32m   1845\u001b[0m \u001b[38;5;28mself\u001b[39m\u001b[38;5;241m.\u001b[39mmode(mode)\n\u001b[0;32m   1846\u001b[0m \u001b[38;5;28mself\u001b[39m\u001b[38;5;241m.\u001b[39m_set_opts(\n\u001b[0;32m   1847\u001b[0m     compression\u001b[38;5;241m=\u001b[39mcompression,\n\u001b[0;32m   1848\u001b[0m     sep\u001b[38;5;241m=\u001b[39msep,\n\u001b[1;32m   (...)\u001b[0m\n\u001b[0;32m   1862\u001b[0m     lineSep\u001b[38;5;241m=\u001b[39mlineSep,\n\u001b[0;32m   1863\u001b[0m )\n\u001b[1;32m-> 1864\u001b[0m \u001b[38;5;28;43mself\u001b[39;49m\u001b[38;5;241;43m.\u001b[39;49m\u001b[43m_jwrite\u001b[49m\u001b[38;5;241;43m.\u001b[39;49m\u001b[43mcsv\u001b[49m\u001b[43m(\u001b[49m\u001b[43mpath\u001b[49m\u001b[43m)\u001b[49m\n",
      "File \u001b[1;32mc:\\Users\\jonat\\Documents\\DEV\\MESTRADO\\MsC-IPT-Big-Data\\.venv\\Lib\\site-packages\\py4j\\java_gateway.py:1322\u001b[0m, in \u001b[0;36mJavaMember.__call__\u001b[1;34m(self, *args)\u001b[0m\n\u001b[0;32m   1316\u001b[0m command \u001b[38;5;241m=\u001b[39m proto\u001b[38;5;241m.\u001b[39mCALL_COMMAND_NAME \u001b[38;5;241m+\u001b[39m\\\n\u001b[0;32m   1317\u001b[0m     \u001b[38;5;28mself\u001b[39m\u001b[38;5;241m.\u001b[39mcommand_header \u001b[38;5;241m+\u001b[39m\\\n\u001b[0;32m   1318\u001b[0m     args_command \u001b[38;5;241m+\u001b[39m\\\n\u001b[0;32m   1319\u001b[0m     proto\u001b[38;5;241m.\u001b[39mEND_COMMAND_PART\n\u001b[0;32m   1321\u001b[0m answer \u001b[38;5;241m=\u001b[39m \u001b[38;5;28mself\u001b[39m\u001b[38;5;241m.\u001b[39mgateway_client\u001b[38;5;241m.\u001b[39msend_command(command)\n\u001b[1;32m-> 1322\u001b[0m return_value \u001b[38;5;241m=\u001b[39m \u001b[43mget_return_value\u001b[49m\u001b[43m(\u001b[49m\n\u001b[0;32m   1323\u001b[0m \u001b[43m    \u001b[49m\u001b[43manswer\u001b[49m\u001b[43m,\u001b[49m\u001b[43m \u001b[49m\u001b[38;5;28;43mself\u001b[39;49m\u001b[38;5;241;43m.\u001b[39;49m\u001b[43mgateway_client\u001b[49m\u001b[43m,\u001b[49m\u001b[43m \u001b[49m\u001b[38;5;28;43mself\u001b[39;49m\u001b[38;5;241;43m.\u001b[39;49m\u001b[43mtarget_id\u001b[49m\u001b[43m,\u001b[49m\u001b[43m \u001b[49m\u001b[38;5;28;43mself\u001b[39;49m\u001b[38;5;241;43m.\u001b[39;49m\u001b[43mname\u001b[49m\u001b[43m)\u001b[49m\n\u001b[0;32m   1325\u001b[0m \u001b[38;5;28;01mfor\u001b[39;00m temp_arg \u001b[38;5;129;01min\u001b[39;00m temp_args:\n\u001b[0;32m   1326\u001b[0m     \u001b[38;5;28;01mif\u001b[39;00m \u001b[38;5;28mhasattr\u001b[39m(temp_arg, \u001b[38;5;124m\"\u001b[39m\u001b[38;5;124m_detach\u001b[39m\u001b[38;5;124m\"\u001b[39m):\n",
      "File \u001b[1;32mc:\\Users\\jonat\\Documents\\DEV\\MESTRADO\\MsC-IPT-Big-Data\\.venv\\Lib\\site-packages\\pyspark\\errors\\exceptions\\captured.py:185\u001b[0m, in \u001b[0;36mcapture_sql_exception.<locals>.deco\u001b[1;34m(*a, **kw)\u001b[0m\n\u001b[0;32m    181\u001b[0m converted \u001b[38;5;241m=\u001b[39m convert_exception(e\u001b[38;5;241m.\u001b[39mjava_exception)\n\u001b[0;32m    182\u001b[0m \u001b[38;5;28;01mif\u001b[39;00m \u001b[38;5;129;01mnot\u001b[39;00m \u001b[38;5;28misinstance\u001b[39m(converted, UnknownException):\n\u001b[0;32m    183\u001b[0m     \u001b[38;5;66;03m# Hide where the exception came from that shows a non-Pythonic\u001b[39;00m\n\u001b[0;32m    184\u001b[0m     \u001b[38;5;66;03m# JVM exception message.\u001b[39;00m\n\u001b[1;32m--> 185\u001b[0m     \u001b[38;5;28;01mraise\u001b[39;00m converted \u001b[38;5;28;01mfrom\u001b[39;00m \u001b[38;5;28;01mNone\u001b[39;00m\n\u001b[0;32m    186\u001b[0m \u001b[38;5;28;01melse\u001b[39;00m:\n\u001b[0;32m    187\u001b[0m     \u001b[38;5;28;01mraise\u001b[39;00m\n",
      "\u001b[1;31mAnalysisException\u001b[0m: [PATH_ALREADY_EXISTS] Path file:/c:/Users/jonat/Documents/DEV/MESTRADO/MsC-IPT-Big-Data/CLASSES/MAY/27_05_2024/data/csv already exists. Set mode as \"overwrite\" to overwrite the existing path."
     ]
    }
   ],
   "source": [
    "# CSV\n",
    "df.write.csv('data/csv')"
   ]
  },
  {
   "cell_type": "code",
   "execution_count": null,
   "metadata": {},
   "outputs": [],
   "source": [
    "# JSON\n",
    "df.write.save('data/json', format='json')"
   ]
  },
  {
   "cell_type": "markdown",
   "metadata": {},
   "source": [
    "Writing selected data to different file formats"
   ]
  },
  {
   "cell_type": "code",
   "execution_count": null,
   "metadata": {},
   "outputs": [],
   "source": [
    "# CSV\n",
    "df.select(['date', 'open', 'close', 'adjusted'])\\\n",
    "            .write.csv('data/csv')"
   ]
  },
  {
   "cell_type": "code",
   "execution_count": null,
   "metadata": {},
   "outputs": [],
   "source": [
    "# JSON\n",
    "df.select(['date', 'open', 'close', 'adjusted'])\\\n",
    "    .write.save('data/json', format='json')"
   ]
  },
  {
   "cell_type": "markdown",
   "metadata": {},
   "source": [
    "### Spark SQL"
   ]
  },
  {
   "cell_type": "markdown",
   "metadata": {},
   "source": [
    "Ao contrário dos RDDs, em DataFrames é possível correr SQL queries. Para usar queries teremos no entanto que registar o DataFrame como uma view."
   ]
  },
  {
   "cell_type": "code",
   "execution_count": 60,
   "metadata": {},
   "outputs": [],
   "source": [
    "df.createOrReplaceTempView('table')"
   ]
  },
  {
   "cell_type": "markdown",
   "metadata": {},
   "source": [
    "Posteriormente podemos executar código SQL."
   ]
  },
  {
   "cell_type": "code",
   "execution_count": 61,
   "metadata": {},
   "outputs": [
    {
     "name": "stdout",
     "output_type": "stream",
     "text": [
      "+---+------+----------+---------+---------+---------+---------+-------+---------+----------+-------------+--------------------+--------+-------------------+\n",
      "|_c0|symbol|      date|     open|     high|      low|    close| volume| adjusted|market.cap|       sector|            industry|exchange|          timestamp|\n",
      "+---+------+----------+---------+---------+---------+---------+-------+---------+----------+-------------+--------------------+--------+-------------------+\n",
      "|  1|   TXG|2019-09-12|       54|       58|       51|    52.75|7326300|    52.75|    $9.31B|Capital Goods|Biotechnology: La...|  NASDAQ|2019-09-12 00:00:00|\n",
      "|  2|   TXG|2019-09-13|    52.75|   54.355|49.150002|    52.27|1025200|    52.27|    $9.31B|Capital Goods|Biotechnology: La...|  NASDAQ|2019-09-13 00:00:00|\n",
      "|  3|   TXG|2019-09-16|52.450001|       56|52.009998|55.200001| 269900|55.200001|    $9.31B|Capital Goods|Biotechnology: La...|  NASDAQ|2019-09-16 00:00:00|\n",
      "|  4|   TXG|2019-09-17|56.209999|60.900002|   55.423|56.779999| 602800|56.779999|    $9.31B|Capital Goods|Biotechnology: La...|  NASDAQ|2019-09-17 00:00:00|\n",
      "|  5|   TXG|2019-09-18|56.849998|    62.27|55.650002|       62|1589600|       62|    $9.31B|Capital Goods|Biotechnology: La...|  NASDAQ|2019-09-18 00:00:00|\n",
      "+---+------+----------+---------+---------+---------+---------+-------+---------+----------+-------------+--------------------+--------+-------------------+\n",
      "only showing top 5 rows\n",
      "\n"
     ]
    }
   ],
   "source": [
    "spark.sql(\"select * from table\").show(5)"
   ]
  },
  {
   "cell_type": "code",
   "execution_count": 62,
   "metadata": {},
   "outputs": [
    {
     "name": "stdout",
     "output_type": "stream",
     "text": [
      "+------+----------+\n",
      "|symbol|      high|\n",
      "+------+----------+\n",
      "|   GWW| 299.98999|\n",
      "|    MA| 299.98999|\n",
      "|  FICO| 299.98999|\n",
      "|  ANTM| 299.98999|\n",
      "|   FLT| 299.98999|\n",
      "|  AVGO| 299.98999|\n",
      "|   GWW| 299.98999|\n",
      "|   HUM|299.980011|\n",
      "|  REGN|299.980011|\n",
      "|   COO|299.980011|\n",
      "|   TMO|299.980011|\n",
      "|   NOC|299.970001|\n",
      "|   FLT|299.970001|\n",
      "|  ALGN|299.959991|\n",
      "|  INTU|299.959991|\n",
      "|  AAPL|299.959991|\n",
      "|   FLT|299.950012|\n",
      "|  COST|299.950012|\n",
      "|  REGN|299.950012|\n",
      "|   GWW|299.950012|\n",
      "+------+----------+\n",
      "only showing top 20 rows\n",
      "\n"
     ]
    }
   ],
   "source": [
    "spark.sql('select symbol, high from table where high > 200 and high < 300 order by high desc').show()"
   ]
  },
  {
   "cell_type": "code",
   "execution_count": 63,
   "metadata": {},
   "outputs": [
    {
     "name": "stdout",
     "output_type": "stream",
     "text": [
      "+------------------+\n",
      "|        mean(high)|\n",
      "+------------------+\n",
      "|15555.067268137087|\n",
      "+------------------+\n",
      "\n"
     ]
    }
   ],
   "source": [
    "spark.sql('select mean(high) from table').show()"
   ]
  },
  {
   "cell_type": "markdown",
   "metadata": {
    "editable": true,
    "slideshow": {
     "slide_type": ""
    },
    "tags": []
   },
   "source": [
    "## Twitter (Quiz)"
   ]
  },
  {
   "cell_type": "markdown",
   "metadata": {},
   "source": [
    "Exercício baseado no livro [Large-Scale Data Analytics with Python and Spark](https://www.amazon.com/Large-Scale-Data-Analytics-Python-Spark/dp/100931825X) by Isaac Triguero and Mikel Galar."
   ]
  },
  {
   "cell_type": "markdown",
   "metadata": {},
   "source": [
    "Neste exercício vamos analisar parte de um dataset que contém todos os tweets relacionados à campanha presidencial dos EUA de 2012, onde Mitt Romney (Republicano) e Barack Obama (Democrata) se enfrentaram. Para determinar os tweets relacionados às eleições, uma série de termos de pesquisa foi escolhida. Esta eleição foi relevante no campo das redes sociais e análise de Big Data porque parte do sucesso de Barack Obama em vencer a eleição foi atribuída ao uso dessas tecnologias."
   ]
  },
  {
   "cell_type": "markdown",
   "metadata": {},
   "source": [
    " Este grande conjunto de dados foi publicado no [Data Hub](https://datahub.io), não se encontrando mais disponível no seu link original [(quebrado)](https://datahub.io/dataset/twitter-2012-presidential-election). No entanto, graças ao projeto [Internet Archive](https://archive.org/), ainda podemos obtê-lo através deste [link](https://web.archive.org/web/20150831144839/http://datahub.io:80/dataset/twitter-2012-presidential-election). Note que o conjunto de dados é enorme, com mais de 170 milhões de tweets. Neste lab concentramo-nos nos primeiros 1 milhão de tweets, o ficheiro `cache-0-json.gz` (cerca de 400MB comprimidos e 3GB de dados descompactados, ver ponto 1 deste notebook)."
   ]
  },
  {
   "cell_type": "markdown",
   "metadata": {},
   "source": [
    "*** A execução do código seguinte, pressupõe que as intruções do ponto 1 e o setup do ponto 2 foram realizados. ***"
   ]
  },
  {
   "cell_type": "markdown",
   "metadata": {},
   "source": [
    "### Load Dataset"
   ]
  },
  {
   "cell_type": "markdown",
   "metadata": {},
   "source": [
    "Comece por carregar os dados `cache-0-json.gz` em memória (em formato comprimido). Proceda ao `cache` dos dados para não estar constantemente a ler os dados a partir do disco."
   ]
  },
  {
   "cell_type": "code",
   "execution_count": 64,
   "metadata": {},
   "outputs": [],
   "source": [
    "filename = \"data/twitter/cache-0-json.gz\"\n",
    "#filename = '/content/drive/My Drive/Colab Notebooks/data/BigData/twitter/cache-0-json.gz' #Google Colab"
   ]
  },
  {
   "cell_type": "markdown",
   "metadata": {},
   "source": [
    "Observe que a execução do código demora apenas 5 minutos (sensivelmente)."
   ]
  },
  {
   "cell_type": "code",
   "execution_count": 65,
   "metadata": {},
   "outputs": [
    {
     "name": "stdout",
     "output_type": "stream",
     "text": [
      "+------------+-----------+--------------------+--------------------+---------+----+------------------+------------------+-----------------------+---------------------+-------------------------+-------------------+-----------------------+-----+------------------+---------------------------+-------------+---------+--------------------+--------------------+--------------------+---------+--------------------+\n",
      "|contributors|coordinates|          created_at|            entities|favorited| geo|                id|            id_str|in_reply_to_screen_name|in_reply_to_status_id|in_reply_to_status_id_str|in_reply_to_user_id|in_reply_to_user_id_str|place|possibly_sensitive|possibly_sensitive_editable|retweet_count|retweeted|    retweeted_status|              source|                text|truncated|                user|\n",
      "+------------+-----------+--------------------+--------------------+---------+----+------------------+------------------+-----------------------+---------------------+-------------------------+-------------------+-----------------------+-----+------------------+---------------------------+-------------+---------+--------------------+--------------------+--------------------+---------+--------------------+\n",
      "|        NULL|       NULL|Sun Sep 09 21:17:...|{[{[87, 95], flor...|    false|NULL|244907511377965056|244907511377965056|                   NULL|                 NULL|                     NULL|               NULL|                   NULL| NULL|             false|                       true|            0|    false|                NULL|<a href=\"http://t...|Obama vies for he...|    false|{false, Sat Nov 1...|\n",
      "|        NULL|       NULL|Sun Sep 09 21:17:...|{[{[88, 92], USA}...|    false|NULL|244907511310843906|244907511310843906|                   NULL|                 NULL|                     NULL|               NULL|                   NULL| NULL|              NULL|                       NULL|            0|    false|                NULL|<a href=\"http://t...|Just crossed the ...|    false|{false, Thu Feb 0...|\n",
      "|        NULL|       NULL|Sun Sep 09 21:17:...|{[{[104, 112], fl...|    false|NULL|244907512317476864|244907512317476864|                   NULL|                 NULL|                     NULL|               NULL|                   NULL| NULL|             false|                       true|            0|    false|                NULL|<a href=\"http://t...|Obama Blasts Romn...|    false|{false, Sat Nov 1...|\n",
      "|        NULL|       NULL|Sun Sep 09 21:17:...|{[], NULL, [{fb.m...|    false|NULL|244907512887914498|244907512887914498|                   NULL|                 NULL|                     NULL|               NULL|                   NULL| NULL|             false|                       true|            0|    false|                NULL|<a href=\"http://w...|Suddenly the Pres...|    false|{false, Fri Jan 0...|\n",
      "|        NULL|       NULL|Sun Sep 09 21:17:...|{[], NULL, [{goo....|    false|NULL|244907512124538880|244907512124538880|                   NULL|                 NULL|                     NULL|               NULL|                   NULL| NULL|             false|                       true|            0|    false|                NULL|<a href=\"http://t...|Obama maintains p...|    false|{false, Tue May 0...|\n",
      "|        NULL|       NULL|Sun Sep 09 21:17:...|{[{[84, 92], flor...|    false|NULL|244907513085054977|244907513085054977|                   NULL|                 NULL|                     NULL|               NULL|                   NULL| NULL|             false|                       true|            0|    false|                NULL|<a href=\"http://t...|Bear hugs and Med...|    false|{false, Sat Nov 1...|\n",
      "|        NULL|       NULL|Sun Sep 09 21:17:...|{[], NULL, [{Exam...|    false|NULL|244907513106022401|244907513106022401|                   NULL|                 NULL|                     NULL|               NULL|                   NULL| NULL|             false|                       true|            0|    false|                NULL|<a href=\"http://t...|Ryan Blames Obama...|    false|{false, Thu Apr 0...|\n",
      "|        NULL|       NULL|Sun Sep 09 21:17:...|{[], NULL, [{awe....|    false|NULL|244907513517051905|244907513517051905|                   NULL|                 NULL|                     NULL|               NULL|                   NULL| NULL|             false|                       true|            0|    false|                NULL|<a href=\"http://t...|More Bad News for...|    false|{false, Thu May 1...|\n",
      "|        NULL|       NULL|Sun Sep 09 21:17:...|{[], NULL, [{thed...|    false|NULL|244907514053943298|244907514053943298|                   NULL|                 NULL|                     NULL|               NULL|                   NULL| NULL|             false|                       true|            0|    false|                NULL|<a href=\"http://t...|The Daily What ht...|    false|{false, Tue Jul 1...|\n",
      "|        NULL|       NULL|Sun Sep 09 21:17:...|{[], NULL, [], [{...|    false|NULL|244907513651277824|244907513651277824|                   NULL|                 NULL|                     NULL|               NULL|                   NULL| NULL|              NULL|                       NULL|            1|    false|{NULL, NULL, Sun ...|<a href=\"http://t...|RT @fvdlfvdl: Tom...|    false|{false, Wed Nov 1...|\n",
      "|        NULL|       NULL|Sun Sep 09 21:17:...|{[], NULL, [{fb.m...|    false|NULL|244907514804703232|244907514804703232|                   NULL|                 NULL|                     NULL|               NULL|                   NULL| NULL|             false|                       true|            0|    false|                NULL|<a href=\"http://w...|Black Wall Street...|    false|{false, Sat Feb 2...|\n",
      "|        NULL|       NULL|Sun Sep 09 21:17:...|{[], NULL, [{bit....|    false|NULL|244907515194785793|244907515194785793|                   NULL|                 NULL|                     NULL|               NULL|                   NULL| NULL|             false|                       true|            0|    false|                NULL|<a href=\"http://t...|Percentage of Web...|    false|{false, Thu Jul 1...|\n",
      "|        NULL|       NULL|Sun Sep 09 21:17:...|{[], NULL, [], [{...|    false|NULL|244907517321281536|244907517321281536|                   NULL|                 NULL|                     NULL|               NULL|                   NULL| NULL|              NULL|                       NULL|          245|    false|{NULL, NULL, Sat ...|                 web|RT @sheyenne9: Ca...|    false|{false, Fri Jun 0...|\n",
      "|        NULL|       NULL|Sun Sep 09 21:17:...|{[], NULL, [{nyti...|    false|NULL|244907517363253248|244907517363253248|                   NULL|                 NULL|                     NULL|               NULL|                   NULL| NULL|             false|                       true|            0|    false|                NULL|<a href=\"http://t...|The Van Duzer Fou...|    false|{false, Sun Apr 1...|\n",
      "|        NULL|       NULL|Sun Sep 09 21:17:...|{[{[69, 81], idon...|    false|NULL|244907518625722368|244907518625722368|                   NULL|                 NULL|                     NULL|               NULL|                   NULL| NULL|              NULL|                       NULL|            0|    false|                NULL|<a href=\"http://t...|Thank you Obama f...|    false|{false, Thu Aug 3...|\n",
      "|        NULL|       NULL|Sun Sep 09 21:17:...|{[], NULL, [], [{...|    false|NULL|244907518294372353|244907518294372353|                   NULL|                 NULL|                     NULL|               NULL|                   NULL| NULL|              NULL|                       NULL|          113|    false|{NULL, NULL, Sun ...|                 web|RT @AZATHLETICS: ...|    false|{false, Thu Feb 0...|\n",
      "|        NULL|       NULL|Sun Sep 09 21:17:...|{[], NULL, [], [{...|    false|NULL|244907518583779328|244907518583779328|         LerdasDosJonas|   244907197614678017|       244907197614678017|           78989653|               78989653| NULL|              NULL|                       NULL|            0|    false|                NULL|                 web|@LerdasDosJonas c...|    false|{false, Sun Sep 0...|\n",
      "|        NULL|       NULL|Sun Sep 09 21:17:...|{[], NULL, [], [{...|    false|NULL|244907520492191744|244907520492191744|                   NULL|                 NULL|                     NULL|               NULL|                   NULL| NULL|              NULL|                       NULL|            0|    false|                NULL|<a href=\"http://t...|Auburn Neighborho...|    false|{false, Tue Mar 1...|\n",
      "|        NULL|       NULL|Sun Sep 09 21:17:...|  {[], NULL, [], []}|    false|NULL|244907521469476864|244907521469476864|                   NULL|                 NULL|                     NULL|               NULL|                   NULL| NULL|              NULL|                       NULL|            0|    false|                NULL|<a href=\"http://t...|I love my FACES e...|    false|{false, Wed Jun 1...|\n",
      "|        NULL|       NULL|Sun Sep 09 21:17:...|{[], NULL, [], [{...|    false|NULL|244907521553334272|244907521553334272|                   NULL|                 NULL|                     NULL|               NULL|                   NULL| NULL|              NULL|                       NULL|            0|    false|                NULL|<a href=\"http://b...|Yes oh \"@TfcknSAR...|    false|{false, Mon May 1...|\n",
      "+------------+-----------+--------------------+--------------------+---------+----+------------------+------------------+-----------------------+---------------------+-------------------------+-------------------+-----------------------+-----+------------------+---------------------------+-------------+---------+--------------------+--------------------+--------------------+---------+--------------------+\n",
      "only showing top 20 rows\n",
      "\n"
     ]
    }
   ],
   "source": [
    "df = spark.read.json(filename).cache()\n",
    "df.show()"
   ]
  },
  {
   "cell_type": "markdown",
   "metadata": {},
   "source": [
    "### Determine the total number of tweets"
   ]
  },
  {
   "cell_type": "code",
   "execution_count": 66,
   "metadata": {},
   "outputs": [
    {
     "data": {
      "text/plain": [
       "1000000"
      ]
     },
     "execution_count": 66,
     "metadata": {},
     "output_type": "execute_result"
    }
   ],
   "source": [
    "#Introduza o seu código aqui\n",
    "df.count()"
   ]
  },
  {
   "cell_type": "markdown",
   "metadata": {},
   "source": [
    "Clique duas vezes <b>aqui</b> para aceder à solução completa\n",
    "<!--\n",
    "df.count()\n",
    "-->"
   ]
  },
  {
   "cell_type": "markdown",
   "metadata": {},
   "source": [
    "Resultado a obter: `1000000`"
   ]
  },
  {
   "cell_type": "markdown",
   "metadata": {},
   "source": [
    "### Print the Schema"
   ]
  },
  {
   "cell_type": "code",
   "execution_count": 67,
   "metadata": {},
   "outputs": [
    {
     "name": "stdout",
     "output_type": "stream",
     "text": [
      "root\n",
      " |-- contributors: array (nullable = true)\n",
      " |    |-- element: long (containsNull = true)\n",
      " |-- coordinates: struct (nullable = true)\n",
      " |    |-- coordinates: array (nullable = true)\n",
      " |    |    |-- element: double (containsNull = true)\n",
      " |    |-- type: string (nullable = true)\n",
      " |-- created_at: string (nullable = true)\n",
      " |-- entities: struct (nullable = true)\n",
      " |    |-- hashtags: array (nullable = true)\n",
      " |    |    |-- element: struct (containsNull = true)\n",
      " |    |    |    |-- indices: array (nullable = true)\n",
      " |    |    |    |    |-- element: long (containsNull = true)\n",
      " |    |    |    |-- text: string (nullable = true)\n",
      " |    |-- media: array (nullable = true)\n",
      " |    |    |-- element: struct (containsNull = true)\n",
      " |    |    |    |-- display_url: string (nullable = true)\n",
      " |    |    |    |-- expanded_url: string (nullable = true)\n",
      " |    |    |    |-- id: long (nullable = true)\n",
      " |    |    |    |-- id_str: string (nullable = true)\n",
      " |    |    |    |-- indices: array (nullable = true)\n",
      " |    |    |    |    |-- element: long (containsNull = true)\n",
      " |    |    |    |-- media_url: string (nullable = true)\n",
      " |    |    |    |-- media_url_https: string (nullable = true)\n",
      " |    |    |    |-- sizes: struct (nullable = true)\n",
      " |    |    |    |    |-- large: struct (nullable = true)\n",
      " |    |    |    |    |    |-- h: long (nullable = true)\n",
      " |    |    |    |    |    |-- resize: string (nullable = true)\n",
      " |    |    |    |    |    |-- w: long (nullable = true)\n",
      " |    |    |    |    |-- medium: struct (nullable = true)\n",
      " |    |    |    |    |    |-- h: long (nullable = true)\n",
      " |    |    |    |    |    |-- resize: string (nullable = true)\n",
      " |    |    |    |    |    |-- w: long (nullable = true)\n",
      " |    |    |    |    |-- small: struct (nullable = true)\n",
      " |    |    |    |    |    |-- h: long (nullable = true)\n",
      " |    |    |    |    |    |-- resize: string (nullable = true)\n",
      " |    |    |    |    |    |-- w: long (nullable = true)\n",
      " |    |    |    |    |-- thumb: struct (nullable = true)\n",
      " |    |    |    |    |    |-- h: long (nullable = true)\n",
      " |    |    |    |    |    |-- resize: string (nullable = true)\n",
      " |    |    |    |    |    |-- w: long (nullable = true)\n",
      " |    |    |    |-- source_status_id: long (nullable = true)\n",
      " |    |    |    |-- source_status_id_str: string (nullable = true)\n",
      " |    |    |    |-- type: string (nullable = true)\n",
      " |    |    |    |-- url: string (nullable = true)\n",
      " |    |-- urls: array (nullable = true)\n",
      " |    |    |-- element: struct (containsNull = true)\n",
      " |    |    |    |-- display_url: string (nullable = true)\n",
      " |    |    |    |-- expanded_url: string (nullable = true)\n",
      " |    |    |    |-- indices: array (nullable = true)\n",
      " |    |    |    |    |-- element: long (containsNull = true)\n",
      " |    |    |    |-- url: string (nullable = true)\n",
      " |    |-- user_mentions: array (nullable = true)\n",
      " |    |    |-- element: struct (containsNull = true)\n",
      " |    |    |    |-- id: long (nullable = true)\n",
      " |    |    |    |-- id_str: string (nullable = true)\n",
      " |    |    |    |-- indices: array (nullable = true)\n",
      " |    |    |    |    |-- element: long (containsNull = true)\n",
      " |    |    |    |-- name: string (nullable = true)\n",
      " |    |    |    |-- screen_name: string (nullable = true)\n",
      " |-- favorited: boolean (nullable = true)\n",
      " |-- geo: struct (nullable = true)\n",
      " |    |-- coordinates: array (nullable = true)\n",
      " |    |    |-- element: double (containsNull = true)\n",
      " |    |-- type: string (nullable = true)\n",
      " |-- id: long (nullable = true)\n",
      " |-- id_str: string (nullable = true)\n",
      " |-- in_reply_to_screen_name: string (nullable = true)\n",
      " |-- in_reply_to_status_id: long (nullable = true)\n",
      " |-- in_reply_to_status_id_str: string (nullable = true)\n",
      " |-- in_reply_to_user_id: long (nullable = true)\n",
      " |-- in_reply_to_user_id_str: string (nullable = true)\n",
      " |-- place: struct (nullable = true)\n",
      " |    |-- attributes: struct (nullable = true)\n",
      " |    |    |-- locality: string (nullable = true)\n",
      " |    |    |-- street_address: string (nullable = true)\n",
      " |    |-- bounding_box: struct (nullable = true)\n",
      " |    |    |-- coordinates: array (nullable = true)\n",
      " |    |    |    |-- element: array (containsNull = true)\n",
      " |    |    |    |    |-- element: array (containsNull = true)\n",
      " |    |    |    |    |    |-- element: double (containsNull = true)\n",
      " |    |    |-- type: string (nullable = true)\n",
      " |    |-- country: string (nullable = true)\n",
      " |    |-- country_code: string (nullable = true)\n",
      " |    |-- full_name: string (nullable = true)\n",
      " |    |-- id: string (nullable = true)\n",
      " |    |-- name: string (nullable = true)\n",
      " |    |-- place_type: string (nullable = true)\n",
      " |    |-- url: string (nullable = true)\n",
      " |-- possibly_sensitive: boolean (nullable = true)\n",
      " |-- possibly_sensitive_editable: boolean (nullable = true)\n",
      " |-- retweet_count: long (nullable = true)\n",
      " |-- retweeted: boolean (nullable = true)\n",
      " |-- retweeted_status: struct (nullable = true)\n",
      " |    |-- contributors: array (nullable = true)\n",
      " |    |    |-- element: long (containsNull = true)\n",
      " |    |-- coordinates: struct (nullable = true)\n",
      " |    |    |-- coordinates: array (nullable = true)\n",
      " |    |    |    |-- element: double (containsNull = true)\n",
      " |    |    |-- type: string (nullable = true)\n",
      " |    |-- created_at: string (nullable = true)\n",
      " |    |-- entities: struct (nullable = true)\n",
      " |    |    |-- hashtags: array (nullable = true)\n",
      " |    |    |    |-- element: struct (containsNull = true)\n",
      " |    |    |    |    |-- indices: array (nullable = true)\n",
      " |    |    |    |    |    |-- element: long (containsNull = true)\n",
      " |    |    |    |    |-- text: string (nullable = true)\n",
      " |    |    |-- media: array (nullable = true)\n",
      " |    |    |    |-- element: struct (containsNull = true)\n",
      " |    |    |    |    |-- display_url: string (nullable = true)\n",
      " |    |    |    |    |-- expanded_url: string (nullable = true)\n",
      " |    |    |    |    |-- id: long (nullable = true)\n",
      " |    |    |    |    |-- id_str: string (nullable = true)\n",
      " |    |    |    |    |-- indices: array (nullable = true)\n",
      " |    |    |    |    |    |-- element: long (containsNull = true)\n",
      " |    |    |    |    |-- media_url: string (nullable = true)\n",
      " |    |    |    |    |-- media_url_https: string (nullable = true)\n",
      " |    |    |    |    |-- sizes: struct (nullable = true)\n",
      " |    |    |    |    |    |-- large: struct (nullable = true)\n",
      " |    |    |    |    |    |    |-- h: long (nullable = true)\n",
      " |    |    |    |    |    |    |-- resize: string (nullable = true)\n",
      " |    |    |    |    |    |    |-- w: long (nullable = true)\n",
      " |    |    |    |    |    |-- medium: struct (nullable = true)\n",
      " |    |    |    |    |    |    |-- h: long (nullable = true)\n",
      " |    |    |    |    |    |    |-- resize: string (nullable = true)\n",
      " |    |    |    |    |    |    |-- w: long (nullable = true)\n",
      " |    |    |    |    |    |-- small: struct (nullable = true)\n",
      " |    |    |    |    |    |    |-- h: long (nullable = true)\n",
      " |    |    |    |    |    |    |-- resize: string (nullable = true)\n",
      " |    |    |    |    |    |    |-- w: long (nullable = true)\n",
      " |    |    |    |    |    |-- thumb: struct (nullable = true)\n",
      " |    |    |    |    |    |    |-- h: long (nullable = true)\n",
      " |    |    |    |    |    |    |-- resize: string (nullable = true)\n",
      " |    |    |    |    |    |    |-- w: long (nullable = true)\n",
      " |    |    |    |    |-- source_status_id: long (nullable = true)\n",
      " |    |    |    |    |-- source_status_id_str: string (nullable = true)\n",
      " |    |    |    |    |-- type: string (nullable = true)\n",
      " |    |    |    |    |-- url: string (nullable = true)\n",
      " |    |    |-- urls: array (nullable = true)\n",
      " |    |    |    |-- element: struct (containsNull = true)\n",
      " |    |    |    |    |-- display_url: string (nullable = true)\n",
      " |    |    |    |    |-- expanded_url: string (nullable = true)\n",
      " |    |    |    |    |-- indices: array (nullable = true)\n",
      " |    |    |    |    |    |-- element: long (containsNull = true)\n",
      " |    |    |    |    |-- url: string (nullable = true)\n",
      " |    |    |-- user_mentions: array (nullable = true)\n",
      " |    |    |    |-- element: struct (containsNull = true)\n",
      " |    |    |    |    |-- id: long (nullable = true)\n",
      " |    |    |    |    |-- id_str: string (nullable = true)\n",
      " |    |    |    |    |-- indices: array (nullable = true)\n",
      " |    |    |    |    |    |-- element: long (containsNull = true)\n",
      " |    |    |    |    |-- name: string (nullable = true)\n",
      " |    |    |    |    |-- screen_name: string (nullable = true)\n",
      " |    |-- favorited: boolean (nullable = true)\n",
      " |    |-- geo: struct (nullable = true)\n",
      " |    |    |-- coordinates: array (nullable = true)\n",
      " |    |    |    |-- element: double (containsNull = true)\n",
      " |    |    |-- type: string (nullable = true)\n",
      " |    |-- id: long (nullable = true)\n",
      " |    |-- id_str: string (nullable = true)\n",
      " |    |-- in_reply_to_screen_name: string (nullable = true)\n",
      " |    |-- in_reply_to_status_id: long (nullable = true)\n",
      " |    |-- in_reply_to_status_id_str: string (nullable = true)\n",
      " |    |-- in_reply_to_user_id: long (nullable = true)\n",
      " |    |-- in_reply_to_user_id_str: string (nullable = true)\n",
      " |    |-- place: struct (nullable = true)\n",
      " |    |    |-- attributes: struct (nullable = true)\n",
      " |    |    |    |-- street_address: string (nullable = true)\n",
      " |    |    |-- bounding_box: struct (nullable = true)\n",
      " |    |    |    |-- coordinates: array (nullable = true)\n",
      " |    |    |    |    |-- element: array (containsNull = true)\n",
      " |    |    |    |    |    |-- element: array (containsNull = true)\n",
      " |    |    |    |    |    |    |-- element: double (containsNull = true)\n",
      " |    |    |    |-- type: string (nullable = true)\n",
      " |    |    |-- country: string (nullable = true)\n",
      " |    |    |-- country_code: string (nullable = true)\n",
      " |    |    |-- full_name: string (nullable = true)\n",
      " |    |    |-- id: string (nullable = true)\n",
      " |    |    |-- name: string (nullable = true)\n",
      " |    |    |-- place_type: string (nullable = true)\n",
      " |    |    |-- url: string (nullable = true)\n",
      " |    |-- possibly_sensitive: boolean (nullable = true)\n",
      " |    |-- possibly_sensitive_editable: boolean (nullable = true)\n",
      " |    |-- retweet_count: long (nullable = true)\n",
      " |    |-- retweeted: boolean (nullable = true)\n",
      " |    |-- scopes: struct (nullable = true)\n",
      " |    |    |-- followers: boolean (nullable = true)\n",
      " |    |-- source: string (nullable = true)\n",
      " |    |-- text: string (nullable = true)\n",
      " |    |-- truncated: boolean (nullable = true)\n",
      " |    |-- user: struct (nullable = true)\n",
      " |    |    |-- contributors_enabled: boolean (nullable = true)\n",
      " |    |    |-- created_at: string (nullable = true)\n",
      " |    |    |-- default_profile: boolean (nullable = true)\n",
      " |    |    |-- default_profile_image: boolean (nullable = true)\n",
      " |    |    |-- description: string (nullable = true)\n",
      " |    |    |-- favourites_count: long (nullable = true)\n",
      " |    |    |-- follow_request_sent: string (nullable = true)\n",
      " |    |    |-- followers_count: long (nullable = true)\n",
      " |    |    |-- following: string (nullable = true)\n",
      " |    |    |-- friends_count: long (nullable = true)\n",
      " |    |    |-- geo_enabled: boolean (nullable = true)\n",
      " |    |    |-- id: long (nullable = true)\n",
      " |    |    |-- id_str: string (nullable = true)\n",
      " |    |    |-- is_translator: boolean (nullable = true)\n",
      " |    |    |-- lang: string (nullable = true)\n",
      " |    |    |-- listed_count: long (nullable = true)\n",
      " |    |    |-- location: string (nullable = true)\n",
      " |    |    |-- name: string (nullable = true)\n",
      " |    |    |-- notifications: string (nullable = true)\n",
      " |    |    |-- profile_background_color: string (nullable = true)\n",
      " |    |    |-- profile_background_image_url: string (nullable = true)\n",
      " |    |    |-- profile_background_image_url_https: string (nullable = true)\n",
      " |    |    |-- profile_background_tile: boolean (nullable = true)\n",
      " |    |    |-- profile_banner_url: string (nullable = true)\n",
      " |    |    |-- profile_image_url: string (nullable = true)\n",
      " |    |    |-- profile_image_url_https: string (nullable = true)\n",
      " |    |    |-- profile_link_color: string (nullable = true)\n",
      " |    |    |-- profile_sidebar_border_color: string (nullable = true)\n",
      " |    |    |-- profile_sidebar_fill_color: string (nullable = true)\n",
      " |    |    |-- profile_text_color: string (nullable = true)\n",
      " |    |    |-- profile_use_background_image: boolean (nullable = true)\n",
      " |    |    |-- protected: boolean (nullable = true)\n",
      " |    |    |-- screen_name: string (nullable = true)\n",
      " |    |    |-- show_all_inline_media: boolean (nullable = true)\n",
      " |    |    |-- statuses_count: long (nullable = true)\n",
      " |    |    |-- time_zone: string (nullable = true)\n",
      " |    |    |-- url: string (nullable = true)\n",
      " |    |    |-- utc_offset: long (nullable = true)\n",
      " |    |    |-- verified: boolean (nullable = true)\n",
      " |-- source: string (nullable = true)\n",
      " |-- text: string (nullable = true)\n",
      " |-- truncated: boolean (nullable = true)\n",
      " |-- user: struct (nullable = true)\n",
      " |    |-- contributors_enabled: boolean (nullable = true)\n",
      " |    |-- created_at: string (nullable = true)\n",
      " |    |-- default_profile: boolean (nullable = true)\n",
      " |    |-- default_profile_image: boolean (nullable = true)\n",
      " |    |-- description: string (nullable = true)\n",
      " |    |-- favourites_count: long (nullable = true)\n",
      " |    |-- follow_request_sent: string (nullable = true)\n",
      " |    |-- followers_count: long (nullable = true)\n",
      " |    |-- following: string (nullable = true)\n",
      " |    |-- friends_count: long (nullable = true)\n",
      " |    |-- geo_enabled: boolean (nullable = true)\n",
      " |    |-- id: long (nullable = true)\n",
      " |    |-- id_str: string (nullable = true)\n",
      " |    |-- is_translator: boolean (nullable = true)\n",
      " |    |-- lang: string (nullable = true)\n",
      " |    |-- listed_count: long (nullable = true)\n",
      " |    |-- location: string (nullable = true)\n",
      " |    |-- name: string (nullable = true)\n",
      " |    |-- notifications: string (nullable = true)\n",
      " |    |-- profile_background_color: string (nullable = true)\n",
      " |    |-- profile_background_image_url: string (nullable = true)\n",
      " |    |-- profile_background_image_url_https: string (nullable = true)\n",
      " |    |-- profile_background_tile: boolean (nullable = true)\n",
      " |    |-- profile_banner_url: string (nullable = true)\n",
      " |    |-- profile_image_url: string (nullable = true)\n",
      " |    |-- profile_image_url_https: string (nullable = true)\n",
      " |    |-- profile_link_color: string (nullable = true)\n",
      " |    |-- profile_sidebar_border_color: string (nullable = true)\n",
      " |    |-- profile_sidebar_fill_color: string (nullable = true)\n",
      " |    |-- profile_text_color: string (nullable = true)\n",
      " |    |-- profile_use_background_image: boolean (nullable = true)\n",
      " |    |-- protected: boolean (nullable = true)\n",
      " |    |-- screen_name: string (nullable = true)\n",
      " |    |-- show_all_inline_media: boolean (nullable = true)\n",
      " |    |-- statuses_count: long (nullable = true)\n",
      " |    |-- time_zone: string (nullable = true)\n",
      " |    |-- url: string (nullable = true)\n",
      " |    |-- utc_offset: long (nullable = true)\n",
      " |    |-- verified: boolean (nullable = true)\n",
      "\n"
     ]
    }
   ],
   "source": [
    "#Introduza o seu código aqui\n",
    "df.printSchema()"
   ]
  },
  {
   "cell_type": "markdown",
   "metadata": {},
   "source": [
    "Clique duas vezes <b>aqui</b> para aceder à solução completa\n",
    "<!--\n",
    "df.printSchema()\n",
    "-->"
   ]
  },
  {
   "cell_type": "markdown",
   "metadata": {},
   "source": [
    "### List the Columns of the Dataset"
   ]
  },
  {
   "cell_type": "code",
   "execution_count": 68,
   "metadata": {},
   "outputs": [
    {
     "data": {
      "text/plain": [
       "['contributors',\n",
       " 'coordinates',\n",
       " 'created_at',\n",
       " 'entities',\n",
       " 'favorited',\n",
       " 'geo',\n",
       " 'id',\n",
       " 'id_str',\n",
       " 'in_reply_to_screen_name',\n",
       " 'in_reply_to_status_id',\n",
       " 'in_reply_to_status_id_str',\n",
       " 'in_reply_to_user_id',\n",
       " 'in_reply_to_user_id_str',\n",
       " 'place',\n",
       " 'possibly_sensitive',\n",
       " 'possibly_sensitive_editable',\n",
       " 'retweet_count',\n",
       " 'retweeted',\n",
       " 'retweeted_status',\n",
       " 'source',\n",
       " 'text',\n",
       " 'truncated',\n",
       " 'user']"
      ]
     },
     "execution_count": 68,
     "metadata": {},
     "output_type": "execute_result"
    }
   ],
   "source": [
    "#Introduza o seu código aqui\n",
    "df.columns"
   ]
  },
  {
   "cell_type": "markdown",
   "metadata": {},
   "source": [
    "Clique duas vezes <b>aqui</b> para aceder à solução completa\n",
    "<!--\n",
    "df.columns\n",
    "-->"
   ]
  },
  {
   "cell_type": "markdown",
   "metadata": {},
   "source": [
    "### Create New Dataframe"
   ]
  },
  {
   "cell_type": "markdown",
   "metadata": {},
   "source": [
    "Crie um novo dataframe contendo apenas as seguintes informações:\n",
    "- id - unique Tweet id. Rename it as tweet_id.\n",
    "- user.name - user display name shown in the Tweet. Rename it as displayed_username.\n",
    "- user.screen_name - username identifier (the unique id that corresponds to the @ in Twitter). Rename it as username_id.\n",
    "- user.followers_count - number of followers of the user.\n",
    "- text - text of the Tweet.\n",
    "- retweet_count - Number of retweets of the Tweet.\n",
    "- place.country - Country where the Tweet was published.\n",
    "- entities.user_mentions - Mentions to other users in the Tweet (using @user).\n",
    "- entities.hashtags - Hashtags present in the Tweet (using #hashtag).\n",
    "- created_at - When the Tweet was posted."
   ]
  },
  {
   "cell_type": "code",
   "execution_count": 69,
   "metadata": {},
   "outputs": [
    {
     "name": "stdout",
     "output_type": "stream",
     "text": [
      "+------------------+--------------------+---------------+---------------+--------------------+-------------+-------+--------------------+--------------------+--------------------+\n",
      "|          tweet_id|  displayed_username|    username_id|followers_count|                text|retweet_count|country|       user_mentions|            hashtags|          created_at|\n",
      "+------------------+--------------------+---------------+---------------+--------------------+-------------+-------+--------------------+--------------------+--------------------+\n",
      "|244907511377965056|        Florida News|     FLnewswire|           3214|Obama vies for he...|            0|   NULL|                  []|[{[87, 95], flori...|Sun Sep 09 21:17:...|\n",
      "|244907511310843906|      Jessica Rutley|  JessicaRutley|             94|Just crossed the ...|            0|   NULL|                  []|[{[88, 92], USA},...|Sun Sep 09 21:17:...|\n",
      "|244907512317476864|        Florida News|     FLnewswire|           3214|Obama Blasts Romn...|            0|   NULL|                  []|[{[104, 112], flo...|Sun Sep 09 21:17:...|\n",
      "|244907512887914498|      TFAW Beaverton|  beavertonTFAW|            267|Suddenly the Pres...|            0|   NULL|                  []|                  []|Sun Sep 09 21:17:...|\n",
      "|244907512124538880|         Leroy Davis|        100Royd|             10|Obama maintains p...|            0|   NULL|                  []|                  []|Sun Sep 09 21:17:...|\n",
      "|244907513085054977|        Florida News|     FLnewswire|           3214|Bear hugs and Med...|            0|   NULL|                  []|[{[84, 92], flori...|Sun Sep 09 21:17:...|\n",
      "|244907513106022401|          LooknBe_UK|     LooknBe_UK|           1963|Ryan Blames Obama...|            0|   NULL|                  []|                  []|Sun Sep 09 21:17:...|\n",
      "|244907513517051905|AmericanDreamNetwork|     topsponsor|           3769|More Bad News for...|            0|   NULL|                  []|                  []|Sun Sep 09 21:17:...|\n",
      "|244907514053943298|               Ferrd|         Airr_N|            226|The Daily What ht...|            0|   NULL|[{17356086, 17356...|                  []|Sun Sep 09 21:17:...|\n",
      "|244907513651277824|        Jordan Ashby|       JM_Ashby|           1020|RT @fvdlfvdl: Tom...|            1|   NULL|[{65257429, 65257...|                  []|Sun Sep 09 21:17:...|\n",
      "|244907514804703232|     Bryce and Diana|  bryceanddiana|             65|Black Wall Street...|            0|   NULL|                  []|                  []|Sun Sep 09 21:17:...|\n",
      "|244907515194785793|           Bob Bentz|       BobBentz|           3548|Percentage of Web...|            0|   NULL|                  []|                  []|Sun Sep 09 21:17:...|\n",
      "|244907517321281536|        Terri Givens|    TerriGivens|            681|RT @sheyenne9: Ca...|          245|   NULL|[{246605225, 2466...|                  []|Sun Sep 09 21:17:...|\n",
      "|244907517363253248|         Wendy Dwyer|           wld1|            126|The Van Duzer Fou...|            0|   NULL|                  []|                  []|Sun Sep 09 21:17:...|\n",
      "|244907518625722368|     Bitch_Opinions | opinions_bitch|            146|Thank you Obama f...|            0|   NULL|                  []|[{[69, 81], idont...|Sun Sep 09 21:17:...|\n",
      "|244907518294372353|      DarylBernstein|BernsteinBears1|             14|RT @AZATHLETICS: ...|          113|   NULL|[{33601136, 33601...|                  []|Sun Sep 09 21:17:...|\n",
      "|244907518583779328|           SOSJoBros|   ProjetoSOSJB|              2|@LerdasDosJonas c...|            0|   NULL|[{78989653, 78989...|                  []|Sun Sep 09 21:17:...|\n",
      "|244907520492191744|           Ben Cohen|       BCohen87|            252|Auburn Neighborho...|            0|   NULL|[{813286, 813286,...|                  []|Sun Sep 09 21:17:...|\n",
      "|244907521469476864|           The Dream|     SMartinEnt|            710|I love my FACES e...|            0|   NULL|                  []|                  []|Sun Sep 09 21:17:...|\n",
      "|244907521553334272|       Akinpelu Dare|  labyllionaire|            454|Yes oh \"@TfcknSAR...|            0|   NULL|[{118066385, 1180...|                  []|Sun Sep 09 21:17:...|\n",
      "+------------------+--------------------+---------------+---------------+--------------------+-------------+-------+--------------------+--------------------+--------------------+\n",
      "only showing top 20 rows\n",
      "\n"
     ]
    }
   ],
   "source": [
    "#Introduza o seu código aqui\n",
    "df = df.select(\n",
    "    df['id'].alias('tweet_id'), df['user.name'].alias('displayed_username'), df['user.screen_name'].alias('username_id'), 'user.followers_count', 'text', \n",
    "    'retweet_count', 'place.country','entities.user_mentions', 'entities.hashtags', 'created_at'\n",
    "    )\n",
    "df.show()"
   ]
  },
  {
   "cell_type": "markdown",
   "metadata": {},
   "source": [
    "Clique duas vezes <b>aqui</b> para aceder à solução completa\n",
    "<!--\n",
    "df = df.select(df['id'].alias('tweet_id'), df['user.name'].alias('displayed_username'), df['user.screen_name'].alias('username_id'), 'user.followers_count', 'text', \n",
    "                     'retweet_count', 'place.country','entities.user_mentions', 'entities.hashtags', 'created_at')\n",
    "df.show()\n",
    "-->"
   ]
  },
  {
   "cell_type": "markdown",
   "metadata": {},
   "source": [
    "Imprima novamente o schema."
   ]
  },
  {
   "cell_type": "code",
   "execution_count": 70,
   "metadata": {},
   "outputs": [
    {
     "name": "stdout",
     "output_type": "stream",
     "text": [
      "root\n",
      " |-- tweet_id: long (nullable = true)\n",
      " |-- displayed_username: string (nullable = true)\n",
      " |-- username_id: string (nullable = true)\n",
      " |-- followers_count: long (nullable = true)\n",
      " |-- text: string (nullable = true)\n",
      " |-- retweet_count: long (nullable = true)\n",
      " |-- country: string (nullable = true)\n",
      " |-- user_mentions: array (nullable = true)\n",
      " |    |-- element: struct (containsNull = true)\n",
      " |    |    |-- id: long (nullable = true)\n",
      " |    |    |-- id_str: string (nullable = true)\n",
      " |    |    |-- indices: array (nullable = true)\n",
      " |    |    |    |-- element: long (containsNull = true)\n",
      " |    |    |-- name: string (nullable = true)\n",
      " |    |    |-- screen_name: string (nullable = true)\n",
      " |-- hashtags: array (nullable = true)\n",
      " |    |-- element: struct (containsNull = true)\n",
      " |    |    |-- indices: array (nullable = true)\n",
      " |    |    |    |-- element: long (containsNull = true)\n",
      " |    |    |-- text: string (nullable = true)\n",
      " |-- created_at: string (nullable = true)\n",
      "\n"
     ]
    }
   ],
   "source": [
    "df.printSchema()"
   ]
  },
  {
   "cell_type": "markdown",
   "metadata": {},
   "source": [
    "### Total Number of Users"
   ]
  },
  {
   "cell_type": "markdown",
   "metadata": {},
   "source": [
    "Como sabe este dataset é composto por 1M de tweets. Determine o número total de utilizadores responsáveis por gerar esses tweets."
   ]
  },
  {
   "cell_type": "code",
   "execution_count": 71,
   "metadata": {},
   "outputs": [
    {
     "data": {
      "text/plain": [
       "580606"
      ]
     },
     "execution_count": 71,
     "metadata": {},
     "output_type": "execute_result"
    }
   ],
   "source": [
    "#Introduza o seu código aqui\n",
    "df.select('username_id').distinct().count()"
   ]
  },
  {
   "cell_type": "markdown",
   "metadata": {},
   "source": [
    "Resultado a obter: `580606`"
   ]
  },
  {
   "cell_type": "markdown",
   "metadata": {},
   "source": [
    "Clique duas vezes <b>aqui</b> para aceder à solução completa\n",
    "<!--\n",
    "df.select('username_id').distinct().count()\n",
    "-->"
   ]
  },
  {
   "cell_type": "markdown",
   "metadata": {},
   "source": [
    "### Top-10 users who post the most"
   ]
  },
  {
   "cell_type": "markdown",
   "metadata": {},
   "source": [
    "Determine quais os top-10 utilizadores que mais postaram no twitter."
   ]
  },
  {
   "cell_type": "code",
   "execution_count": 72,
   "metadata": {},
   "outputs": [
    {
     "name": "stdout",
     "output_type": "stream",
     "text": [
      "+---------------+-----+\n",
      "|    username_id|count|\n",
      "+---------------+-----+\n",
      "|    National_WX|  993|\n",
      "|TripleXDiamonds|  712|\n",
      "|   MyBridalRing|  711|\n",
      "|    RingDesigns|  710|\n",
      "|     EnvyMyRing|  694|\n",
      "| Bridal_Ringset|  690|\n",
      "| CelebrityRings|  690|\n",
      "|followfriday_us|  637|\n",
      "| Psoriasis_Care|  580|\n",
      "|     PowerDaily|  449|\n",
      "+---------------+-----+\n",
      "only showing top 10 rows\n",
      "\n"
     ]
    }
   ],
   "source": [
    "#Introduza o seu código aqui\n",
    "\n",
    "from pyspark.sql.functions import desc\n",
    "df.groupby('username_id').count().orderBy(desc('count')).show(10)"
   ]
  },
  {
   "cell_type": "markdown",
   "metadata": {},
   "source": [
    "Clique duas vezes <b>aqui</b> para aceder à solução completa\n",
    "<!--\n",
    "from pyspark.sql.functions import desc\n",
    "df.groupby('username_id').count().orderBy(desc('count')).show(10)\n",
    "-->"
   ]
  },
  {
   "cell_type": "markdown",
   "metadata": {},
   "source": [
    "Resultado a obter: "
   ]
  },
  {
   "cell_type": "code",
   "execution_count": null,
   "metadata": {},
   "outputs": [],
   "source": [
    "[('.', 229), ('The Action Group', 211), ('Chris', 131), ('David', 120), ('Alex', 118), ('†', 102),\n",
    "                                  ('Michael', 99), ('∞', 94), ('Matt', 91), ('Sarah', 89)]"
   ]
  },
  {
   "cell_type": "markdown",
   "metadata": {},
   "source": [
    "### Users with the largest Tweets"
   ]
  },
  {
   "cell_type": "markdown",
   "metadata": {},
   "source": [
    "Determine o comprimento médio dos Tweets por utilizador, ordenado do mais longo para o mais curto. Considere apenas as contas do Twitter que tenham postado mais de 100 tweets.\n",
    "\n",
    "Steps to follow:\n",
    "1. Use a `select()` to get the length of the Tweet along with each username (`username_id`).\n",
    "2. Group by username and obtain (by applying aggregation function) the average length of the text and the count of usernames\n",
    "3. Filter by count of usernames (> 100).\n",
    "5. Sort by average length and count of usernames."
   ]
  },
  {
   "cell_type": "code",
   "execution_count": 73,
   "metadata": {},
   "outputs": [
    {
     "name": "stdout",
     "output_type": "stream",
     "text": [
      "+--------------+------------------+------------------+\n",
      "|   username_id|          avg(len)|count(username_id)|\n",
      "+--------------+------------------+------------------+\n",
      "|TheCypressGang|143.73643410852713|               129|\n",
      "|tobreakthenews|      139.53515625|               256|\n",
      "|  incognito912|137.53454545454545|               275|\n",
      "|     WaterWynd|137.33333333333334|               192|\n",
      "|     onevoice2| 136.5148514851485|               101|\n",
      "+--------------+------------------+------------------+\n",
      "only showing top 5 rows\n",
      "\n"
     ]
    }
   ],
   "source": [
    "#Introduza o seu código aqui\n",
    "\n",
    "from pyspark.sql.functions import length, mean, count, desc\n",
    "users_tweet_len_df = df.select('username_id', length('text').alias('len')) \\\n",
    "            .groupBy('username_id').agg(mean('len'), count('username_id')) \\\n",
    "            .filter('count(username_id) > 100') \\\n",
    "            .sort(desc('avg(len)'), desc('count(username_id)'))\n",
    "            \n",
    "users_tweet_len_df.show(5)"
   ]
  },
  {
   "cell_type": "markdown",
   "metadata": {},
   "source": [
    "Clique duas vezes <b>aqui</b> para aceder à solução completa\n",
    "<!--\n",
    "from pyspark.sql.functions import length, mean, count, desc\n",
    "users_tweet_len_df = df.select('username_id', length('text').alias('len')) \\\n",
    "            .groupBy('username_id').agg(mean('len'), count('username_id')) \\\n",
    "            .filter('count(username_id) > 100') \\\n",
    "            .sort(desc('avg(len)'), desc('count(username_id)'))\n",
    "            \n",
    "users_tweet_len_df.show(5)\n",
    "-->"
   ]
  },
  {
   "cell_type": "markdown",
   "metadata": {},
   "source": [
    "Resultado a obter: "
   ]
  },
  {
   "cell_type": "code",
   "execution_count": null,
   "metadata": {},
   "outputs": [],
   "source": [
    "[('TheCypressGang', 143.7364, 129), ('tobreakthenews', 139.5352, 256), ('incognito912', 137.5345, 275),\n",
    "         ('WaterWynd', 137.3333, 192), ('onevoice2', 136.5149, 101), ('USA_Internship', 136.2981, 104),\n",
    "         ('marineagency', 136.2941, 102), ('severewxman', 136.0117, 256), ('chaseboyerSVN', 136.0, 229),\n",
    "         ('FloridaWXalerts', 136.0, 159)]"
   ]
  },
  {
   "cell_type": "markdown",
   "metadata": {},
   "source": [
    "### Name of User with the largest Tweet"
   ]
  },
  {
   "cell_type": "markdown",
   "metadata": {},
   "source": [
    "Utilize a informação anterior para determinar o nome do utilizador com o comprimento médio mais longo."
   ]
  },
  {
   "cell_type": "code",
   "execution_count": 74,
   "metadata": {},
   "outputs": [
    {
     "data": {
      "text/plain": [
       "'TheCypressGang'"
      ]
     },
     "execution_count": 74,
     "metadata": {},
     "output_type": "execute_result"
    }
   ],
   "source": [
    "#Introduza o seu código aqui\n",
    "\n",
    "users_tweet_len_df.first()['username_id']"
   ]
  },
  {
   "cell_type": "markdown",
   "metadata": {},
   "source": [
    "Clique duas vezes <b>aqui</b> para aceder à solução completa\n",
    "<!--\n",
    "users_tweet_len_df.first()['username_id']\n",
    "-->"
   ]
  },
  {
   "cell_type": "markdown",
   "metadata": {},
   "source": [
    "Resultado a obter: `TheCypressGang`"
   ]
  },
  {
   "cell_type": "markdown",
   "metadata": {},
   "source": [
    "### Tweets' origin"
   ]
  },
  {
   "cell_type": "markdown",
   "metadata": {},
   "source": [
    "Ao trabalhar com um conjunto de dados das eleições presidenciais dos EUA, poder-se-ia presumir que a maioria dos Tweets viria dos EUA. Vamos verificar se isso é verdade, obtendo o número de Tweets postados para cada país (apenas possível para aqueles Tweets que têm o país definido)."
   ]
  },
  {
   "cell_type": "code",
   "execution_count": 75,
   "metadata": {},
   "outputs": [
    {
     "name": "stdout",
     "output_type": "stream",
     "text": [
      "+---------------+-----+\n",
      "|        country|count|\n",
      "+---------------+-----+\n",
      "|  United States| 5240|\n",
      "|         Brasil| 1212|\n",
      "| United Kingdom|  386|\n",
      "|        Germany|  223|\n",
      "|      Indonesia|  188|\n",
      "|          Spain|  188|\n",
      "|         Mexico|  174|\n",
      "|          Italy|  150|\n",
      "|         Canada|  121|\n",
      "|         France|   94|\n",
      "|          Chile|   79|\n",
      "|The Netherlands|   62|\n",
      "|       Malaysia|   53|\n",
      "|         Turkey|   52|\n",
      "|   South Africa|   41|\n",
      "|         Sweden|   37|\n",
      "|          Japan|   24|\n",
      "|         Norway|   24|\n",
      "|      Argentina|   19|\n",
      "|        Ireland|   19|\n",
      "+---------------+-----+\n",
      "only showing top 20 rows\n",
      "\n"
     ]
    }
   ],
   "source": [
    "#Introduza o seu código aqui\n",
    "\n",
    "df.select('country') \\\n",
    "                    .filter(df.country.isNotNull()) \\\n",
    "                    .groupBy('country').count() \\\n",
    "                    .sort('count', 'country', ascending=[False, True]).show()"
   ]
  },
  {
   "cell_type": "markdown",
   "metadata": {},
   "source": [
    "Clique duas vezes <b>aqui</b> para aceder à solução completa\n",
    "<!--\n",
    "df.select('country') \\\n",
    "                    .filter(df.country.isNotNull()) \\\n",
    "                    .groupBy('country').count() \\\n",
    "                    .sort('count', 'country', ascending=[False, True]).show()\n",
    "-->"
   ]
  },
  {
   "cell_type": "markdown",
   "metadata": {},
   "source": [
    "Resultado a obter:"
   ]
  },
  {
   "cell_type": "code",
   "execution_count": null,
   "metadata": {},
   "outputs": [],
   "source": [
    "[(u'United States', 5240), (u'Brasil', 1212), (u'United Kingdom', 386), (u'Germany', 223), (u'Indonesia', 188),\n",
    "             (u'Spain', 188), (u'Mexico', 174), (u'Italy', 150), (u'Canada', 121), (u'France', 94)]"
   ]
  },
  {
   "cell_type": "markdown",
   "metadata": {},
   "source": [
    "### About time"
   ]
  },
  {
   "cell_type": "markdown",
   "metadata": {},
   "source": [
    "Vamos agora obter algumas informações sobre quando os Tweets foram postados, mais concretamente, quantos dias cobre este sub-set? Para isso vamos determinar a data do primeiro e do último Tweet no DataFrame.\n",
    "\n",
    "**Nota:** De acordo com o observado anteriormente a coluna `created_at` é do tipo String no esquema, em vez de um tipo TimeStamp ou DateTime. Isso significa que não podemos trabalhar diretamente com datas. Nesse sentido, precisamos primeiro converte-la para o formato correto."
   ]
  },
  {
   "cell_type": "code",
   "execution_count": 76,
   "metadata": {},
   "outputs": [
    {
     "name": "stdout",
     "output_type": "stream",
     "text": [
      "+------------------------------+\n",
      "|created_at                    |\n",
      "+------------------------------+\n",
      "|Sun Sep 09 21:17:55 +0000 2012|\n",
      "|Sun Sep 09 21:17:55 +0000 2012|\n",
      "|Sun Sep 09 21:17:55 +0000 2012|\n",
      "|Sun Sep 09 21:17:55 +0000 2012|\n",
      "|Sun Sep 09 21:17:55 +0000 2012|\n",
      "|Sun Sep 09 21:17:55 +0000 2012|\n",
      "|Sun Sep 09 21:17:55 +0000 2012|\n",
      "|Sun Sep 09 21:17:56 +0000 2012|\n",
      "|Sun Sep 09 21:17:56 +0000 2012|\n",
      "|Sun Sep 09 21:17:56 +0000 2012|\n",
      "+------------------------------+\n",
      "only showing top 10 rows\n",
      "\n"
     ]
    }
   ],
   "source": [
    "df.select('created_at').show(10, truncate=False)"
   ]
  },
  {
   "cell_type": "markdown",
   "metadata": {},
   "source": [
    "Do resultado é possível observar que o timestamp de data e hora vem no froamto: dia da semana, mês, dia do mês, hora, fuso horário e ano. O problema é que, o formato correspondente ao dia da semana ('Dom', por exemplo) é esperado apenas para ser usado na formatação de saída de dados de hora, mas não para ser analisado/parsed. Podemos tentar converter isso usando o padrão `\"EEE MMM dd HH:mm:ss Z yyyy\"`, mas tal código retornará um erro:"
   ]
  },
  {
   "cell_type": "code",
   "execution_count": 77,
   "metadata": {},
   "outputs": [
    {
     "ename": "SparkUpgradeException",
     "evalue": "[INCONSISTENT_BEHAVIOR_CROSS_VERSION.DATETIME_PATTERN_RECOGNITION] You may get a different result due to the upgrading to Spark >= 3.0:\nFail to recognize 'EEE MMM dd HH:mm:ss Z yyyy' pattern in the DateTimeFormatter. 1) You can set \"spark.sql.legacy.timeParserPolicy\" to \"LEGACY\" to restore the behavior before Spark 3.0. 2) You can form a valid datetime pattern with the guide from 'https://spark.apache.org/docs/latest/sql-ref-datetime-pattern.html'.",
     "output_type": "error",
     "traceback": [
      "\u001b[1;31m---------------------------------------------------------------------------\u001b[0m",
      "\u001b[1;31mSparkUpgradeException\u001b[0m                     Traceback (most recent call last)",
      "Cell \u001b[1;32mIn[77], line 2\u001b[0m\n\u001b[0;32m      1\u001b[0m \u001b[38;5;28;01mfrom\u001b[39;00m \u001b[38;5;21;01mpyspark\u001b[39;00m\u001b[38;5;21;01m.\u001b[39;00m\u001b[38;5;21;01msql\u001b[39;00m\u001b[38;5;21;01m.\u001b[39;00m\u001b[38;5;21;01mfunctions\u001b[39;00m \u001b[38;5;28;01mimport\u001b[39;00m to_timestamp\n\u001b[1;32m----> 2\u001b[0m \u001b[43mdf\u001b[49m\u001b[38;5;241;43m.\u001b[39;49m\u001b[43mselect\u001b[49m\u001b[43m(\u001b[49m\u001b[43mto_timestamp\u001b[49m\u001b[43m(\u001b[49m\u001b[38;5;124;43m'\u001b[39;49m\u001b[38;5;124;43mcreated_at\u001b[39;49m\u001b[38;5;124;43m'\u001b[39;49m\u001b[43m,\u001b[49m\u001b[43m \u001b[49m\u001b[38;5;124;43m'\u001b[39;49m\u001b[38;5;124;43mEEE MMM dd HH:mm:ss Z yyyy\u001b[39;49m\u001b[38;5;124;43m'\u001b[39;49m\u001b[43m)\u001b[49m\u001b[43m)\u001b[49m\u001b[38;5;241;43m.\u001b[39;49m\u001b[43mshow\u001b[49m\u001b[43m(\u001b[49m\u001b[38;5;241;43m10\u001b[39;49m\u001b[43m)\u001b[49m\n",
      "File \u001b[1;32mc:\\Users\\jonat\\Documents\\DEV\\MESTRADO\\MsC-IPT-Big-Data\\.venv\\Lib\\site-packages\\pyspark\\sql\\dataframe.py:945\u001b[0m, in \u001b[0;36mDataFrame.show\u001b[1;34m(self, n, truncate, vertical)\u001b[0m\n\u001b[0;32m    885\u001b[0m \u001b[38;5;28;01mdef\u001b[39;00m \u001b[38;5;21mshow\u001b[39m(\u001b[38;5;28mself\u001b[39m, n: \u001b[38;5;28mint\u001b[39m \u001b[38;5;241m=\u001b[39m \u001b[38;5;241m20\u001b[39m, truncate: Union[\u001b[38;5;28mbool\u001b[39m, \u001b[38;5;28mint\u001b[39m] \u001b[38;5;241m=\u001b[39m \u001b[38;5;28;01mTrue\u001b[39;00m, vertical: \u001b[38;5;28mbool\u001b[39m \u001b[38;5;241m=\u001b[39m \u001b[38;5;28;01mFalse\u001b[39;00m) \u001b[38;5;241m-\u001b[39m\u001b[38;5;241m>\u001b[39m \u001b[38;5;28;01mNone\u001b[39;00m:\n\u001b[0;32m    886\u001b[0m \u001b[38;5;250m    \u001b[39m\u001b[38;5;124;03m\"\"\"Prints the first ``n`` rows to the console.\u001b[39;00m\n\u001b[0;32m    887\u001b[0m \n\u001b[0;32m    888\u001b[0m \u001b[38;5;124;03m    .. versionadded:: 1.3.0\u001b[39;00m\n\u001b[1;32m   (...)\u001b[0m\n\u001b[0;32m    943\u001b[0m \u001b[38;5;124;03m    name | Bob\u001b[39;00m\n\u001b[0;32m    944\u001b[0m \u001b[38;5;124;03m    \"\"\"\u001b[39;00m\n\u001b[1;32m--> 945\u001b[0m     \u001b[38;5;28mprint\u001b[39m(\u001b[38;5;28;43mself\u001b[39;49m\u001b[38;5;241;43m.\u001b[39;49m\u001b[43m_show_string\u001b[49m\u001b[43m(\u001b[49m\u001b[43mn\u001b[49m\u001b[43m,\u001b[49m\u001b[43m \u001b[49m\u001b[43mtruncate\u001b[49m\u001b[43m,\u001b[49m\u001b[43m \u001b[49m\u001b[43mvertical\u001b[49m\u001b[43m)\u001b[49m)\n",
      "File \u001b[1;32mc:\\Users\\jonat\\Documents\\DEV\\MESTRADO\\MsC-IPT-Big-Data\\.venv\\Lib\\site-packages\\pyspark\\sql\\dataframe.py:963\u001b[0m, in \u001b[0;36mDataFrame._show_string\u001b[1;34m(self, n, truncate, vertical)\u001b[0m\n\u001b[0;32m    957\u001b[0m     \u001b[38;5;28;01mraise\u001b[39;00m PySparkTypeError(\n\u001b[0;32m    958\u001b[0m         error_class\u001b[38;5;241m=\u001b[39m\u001b[38;5;124m\"\u001b[39m\u001b[38;5;124mNOT_BOOL\u001b[39m\u001b[38;5;124m\"\u001b[39m,\n\u001b[0;32m    959\u001b[0m         message_parameters\u001b[38;5;241m=\u001b[39m{\u001b[38;5;124m\"\u001b[39m\u001b[38;5;124marg_name\u001b[39m\u001b[38;5;124m\"\u001b[39m: \u001b[38;5;124m\"\u001b[39m\u001b[38;5;124mvertical\u001b[39m\u001b[38;5;124m\"\u001b[39m, \u001b[38;5;124m\"\u001b[39m\u001b[38;5;124marg_type\u001b[39m\u001b[38;5;124m\"\u001b[39m: \u001b[38;5;28mtype\u001b[39m(vertical)\u001b[38;5;241m.\u001b[39m\u001b[38;5;18m__name__\u001b[39m},\n\u001b[0;32m    960\u001b[0m     )\n\u001b[0;32m    962\u001b[0m \u001b[38;5;28;01mif\u001b[39;00m \u001b[38;5;28misinstance\u001b[39m(truncate, \u001b[38;5;28mbool\u001b[39m) \u001b[38;5;129;01mand\u001b[39;00m truncate:\n\u001b[1;32m--> 963\u001b[0m     \u001b[38;5;28;01mreturn\u001b[39;00m \u001b[38;5;28;43mself\u001b[39;49m\u001b[38;5;241;43m.\u001b[39;49m\u001b[43m_jdf\u001b[49m\u001b[38;5;241;43m.\u001b[39;49m\u001b[43mshowString\u001b[49m\u001b[43m(\u001b[49m\u001b[43mn\u001b[49m\u001b[43m,\u001b[49m\u001b[43m \u001b[49m\u001b[38;5;241;43m20\u001b[39;49m\u001b[43m,\u001b[49m\u001b[43m \u001b[49m\u001b[43mvertical\u001b[49m\u001b[43m)\u001b[49m\n\u001b[0;32m    964\u001b[0m \u001b[38;5;28;01melse\u001b[39;00m:\n\u001b[0;32m    965\u001b[0m     \u001b[38;5;28;01mtry\u001b[39;00m:\n",
      "File \u001b[1;32mc:\\Users\\jonat\\Documents\\DEV\\MESTRADO\\MsC-IPT-Big-Data\\.venv\\Lib\\site-packages\\py4j\\java_gateway.py:1322\u001b[0m, in \u001b[0;36mJavaMember.__call__\u001b[1;34m(self, *args)\u001b[0m\n\u001b[0;32m   1316\u001b[0m command \u001b[38;5;241m=\u001b[39m proto\u001b[38;5;241m.\u001b[39mCALL_COMMAND_NAME \u001b[38;5;241m+\u001b[39m\\\n\u001b[0;32m   1317\u001b[0m     \u001b[38;5;28mself\u001b[39m\u001b[38;5;241m.\u001b[39mcommand_header \u001b[38;5;241m+\u001b[39m\\\n\u001b[0;32m   1318\u001b[0m     args_command \u001b[38;5;241m+\u001b[39m\\\n\u001b[0;32m   1319\u001b[0m     proto\u001b[38;5;241m.\u001b[39mEND_COMMAND_PART\n\u001b[0;32m   1321\u001b[0m answer \u001b[38;5;241m=\u001b[39m \u001b[38;5;28mself\u001b[39m\u001b[38;5;241m.\u001b[39mgateway_client\u001b[38;5;241m.\u001b[39msend_command(command)\n\u001b[1;32m-> 1322\u001b[0m return_value \u001b[38;5;241m=\u001b[39m \u001b[43mget_return_value\u001b[49m\u001b[43m(\u001b[49m\n\u001b[0;32m   1323\u001b[0m \u001b[43m    \u001b[49m\u001b[43manswer\u001b[49m\u001b[43m,\u001b[49m\u001b[43m \u001b[49m\u001b[38;5;28;43mself\u001b[39;49m\u001b[38;5;241;43m.\u001b[39;49m\u001b[43mgateway_client\u001b[49m\u001b[43m,\u001b[49m\u001b[43m \u001b[49m\u001b[38;5;28;43mself\u001b[39;49m\u001b[38;5;241;43m.\u001b[39;49m\u001b[43mtarget_id\u001b[49m\u001b[43m,\u001b[49m\u001b[43m \u001b[49m\u001b[38;5;28;43mself\u001b[39;49m\u001b[38;5;241;43m.\u001b[39;49m\u001b[43mname\u001b[49m\u001b[43m)\u001b[49m\n\u001b[0;32m   1325\u001b[0m \u001b[38;5;28;01mfor\u001b[39;00m temp_arg \u001b[38;5;129;01min\u001b[39;00m temp_args:\n\u001b[0;32m   1326\u001b[0m     \u001b[38;5;28;01mif\u001b[39;00m \u001b[38;5;28mhasattr\u001b[39m(temp_arg, \u001b[38;5;124m\"\u001b[39m\u001b[38;5;124m_detach\u001b[39m\u001b[38;5;124m\"\u001b[39m):\n",
      "File \u001b[1;32mc:\\Users\\jonat\\Documents\\DEV\\MESTRADO\\MsC-IPT-Big-Data\\.venv\\Lib\\site-packages\\pyspark\\errors\\exceptions\\captured.py:185\u001b[0m, in \u001b[0;36mcapture_sql_exception.<locals>.deco\u001b[1;34m(*a, **kw)\u001b[0m\n\u001b[0;32m    181\u001b[0m converted \u001b[38;5;241m=\u001b[39m convert_exception(e\u001b[38;5;241m.\u001b[39mjava_exception)\n\u001b[0;32m    182\u001b[0m \u001b[38;5;28;01mif\u001b[39;00m \u001b[38;5;129;01mnot\u001b[39;00m \u001b[38;5;28misinstance\u001b[39m(converted, UnknownException):\n\u001b[0;32m    183\u001b[0m     \u001b[38;5;66;03m# Hide where the exception came from that shows a non-Pythonic\u001b[39;00m\n\u001b[0;32m    184\u001b[0m     \u001b[38;5;66;03m# JVM exception message.\u001b[39;00m\n\u001b[1;32m--> 185\u001b[0m     \u001b[38;5;28;01mraise\u001b[39;00m converted \u001b[38;5;28;01mfrom\u001b[39;00m \u001b[38;5;28;01mNone\u001b[39;00m\n\u001b[0;32m    186\u001b[0m \u001b[38;5;28;01melse\u001b[39;00m:\n\u001b[0;32m    187\u001b[0m     \u001b[38;5;28;01mraise\u001b[39;00m\n",
      "\u001b[1;31mSparkUpgradeException\u001b[0m: [INCONSISTENT_BEHAVIOR_CROSS_VERSION.DATETIME_PATTERN_RECOGNITION] You may get a different result due to the upgrading to Spark >= 3.0:\nFail to recognize 'EEE MMM dd HH:mm:ss Z yyyy' pattern in the DateTimeFormatter. 1) You can set \"spark.sql.legacy.timeParserPolicy\" to \"LEGACY\" to restore the behavior before Spark 3.0. 2) You can form a valid datetime pattern with the guide from 'https://spark.apache.org/docs/latest/sql-ref-datetime-pattern.html'."
     ]
    }
   ],
   "source": [
    "from pyspark.sql.functions import to_timestamp\n",
    "df.select(to_timestamp('created_at', 'EEE MMM dd HH:mm:ss Z yyyy')).show(10)"
   ]
  },
  {
   "cell_type": "markdown",
   "metadata": {},
   "source": [
    "Tal tem a ver com uma mudança no Spark 3.0 em relação as strings que podem ser analisadas. Como dito antes,\n",
    "> Símbolos de 'E', 'F', 'q' e 'Q' só podem ser usados para formatação de data e hora, por exemplo, date_format. Não podem ser usados para análise de data e hora, por exemplo, `to_timestamp` ."
   ]
  },
  {
   "cell_type": "code",
   "execution_count": 78,
   "metadata": {},
   "outputs": [],
   "source": [
    "spark.conf.set('spark.sql.legacy.timeParserPolicy', 'LEGACY')"
   ]
  },
  {
   "cell_type": "markdown",
   "metadata": {},
   "source": [
    "Alteramos também outro parâmetro na configuração referente ao fuso horário (para UTC) por forma a garantir que os resultados neste notebook não mudem dependendo de onde o mesmo é executando."
   ]
  },
  {
   "cell_type": "code",
   "execution_count": 79,
   "metadata": {},
   "outputs": [],
   "source": [
    "spark.conf.set(\"spark.sql.session.timeZone\", \"UTC\")"
   ]
  },
  {
   "cell_type": "markdown",
   "metadata": {},
   "source": [
    "Agora sim, estmaos em condições de proceder à conversão:"
   ]
  },
  {
   "cell_type": "code",
   "execution_count": 80,
   "metadata": {},
   "outputs": [
    {
     "name": "stdout",
     "output_type": "stream",
     "text": [
      "+----------------------------------------------------+\n",
      "|to_timestamp(created_at, EEE MMM dd HH:mm:ss Z yyyy)|\n",
      "+----------------------------------------------------+\n",
      "|                                 2012-09-09 21:17:55|\n",
      "|                                 2012-09-09 21:17:55|\n",
      "|                                 2012-09-09 21:17:55|\n",
      "|                                 2012-09-09 21:17:55|\n",
      "|                                 2012-09-09 21:17:55|\n",
      "|                                 2012-09-09 21:17:55|\n",
      "|                                 2012-09-09 21:17:55|\n",
      "|                                 2012-09-09 21:17:56|\n",
      "|                                 2012-09-09 21:17:56|\n",
      "|                                 2012-09-09 21:17:56|\n",
      "+----------------------------------------------------+\n",
      "only showing top 10 rows\n",
      "\n"
     ]
    }
   ],
   "source": [
    "from pyspark.sql.functions import to_timestamp\n",
    "df.select(to_timestamp('created_at', 'EEE MMM dd HH:mm:ss Z yyyy')).show(10)"
   ]
  },
  {
   "cell_type": "markdown",
   "metadata": {},
   "source": [
    "Vamos agora adicionar estes dados ao dataframe numa coluna denominada `timestamp`."
   ]
  },
  {
   "cell_type": "code",
   "execution_count": 81,
   "metadata": {},
   "outputs": [
    {
     "name": "stdout",
     "output_type": "stream",
     "text": [
      "+------------------+------------------+-------------+---------------+--------------------+-------------+-------+-------------+--------------------+--------------------+-------------------+\n",
      "|          tweet_id|displayed_username|  username_id|followers_count|                text|retweet_count|country|user_mentions|            hashtags|          created_at|          timestamp|\n",
      "+------------------+------------------+-------------+---------------+--------------------+-------------+-------+-------------+--------------------+--------------------+-------------------+\n",
      "|244907511377965056|      Florida News|   FLnewswire|           3214|Obama vies for he...|            0|   NULL|           []|[{[87, 95], flori...|Sun Sep 09 21:17:...|2012-09-09 21:17:55|\n",
      "|244907511310843906|    Jessica Rutley|JessicaRutley|             94|Just crossed the ...|            0|   NULL|           []|[{[88, 92], USA},...|Sun Sep 09 21:17:...|2012-09-09 21:17:55|\n",
      "|244907512317476864|      Florida News|   FLnewswire|           3214|Obama Blasts Romn...|            0|   NULL|           []|[{[104, 112], flo...|Sun Sep 09 21:17:...|2012-09-09 21:17:55|\n",
      "+------------------+------------------+-------------+---------------+--------------------+-------------+-------+-------------+--------------------+--------------------+-------------------+\n",
      "only showing top 3 rows\n",
      "\n",
      "root\n",
      " |-- tweet_id: long (nullable = true)\n",
      " |-- displayed_username: string (nullable = true)\n",
      " |-- username_id: string (nullable = true)\n",
      " |-- followers_count: long (nullable = true)\n",
      " |-- text: string (nullable = true)\n",
      " |-- retweet_count: long (nullable = true)\n",
      " |-- country: string (nullable = true)\n",
      " |-- user_mentions: array (nullable = true)\n",
      " |    |-- element: struct (containsNull = true)\n",
      " |    |    |-- id: long (nullable = true)\n",
      " |    |    |-- id_str: string (nullable = true)\n",
      " |    |    |-- indices: array (nullable = true)\n",
      " |    |    |    |-- element: long (containsNull = true)\n",
      " |    |    |-- name: string (nullable = true)\n",
      " |    |    |-- screen_name: string (nullable = true)\n",
      " |-- hashtags: array (nullable = true)\n",
      " |    |-- element: struct (containsNull = true)\n",
      " |    |    |-- indices: array (nullable = true)\n",
      " |    |    |    |-- element: long (containsNull = true)\n",
      " |    |    |-- text: string (nullable = true)\n",
      " |-- created_at: string (nullable = true)\n",
      " |-- timestamp: timestamp (nullable = true)\n",
      "\n"
     ]
    }
   ],
   "source": [
    "df = df.withColumn('timestamp', to_timestamp('created_at', 'EEE MMM dd HH:mm:ss Z yyyy'))\n",
    "df.show(3)\n",
    "df.printSchema()"
   ]
  },
  {
   "cell_type": "markdown",
   "metadata": {},
   "source": [
    "Podemos agora finalmente obter a data do primeiro e do último tweet do sub-set."
   ]
  },
  {
   "cell_type": "code",
   "execution_count": 82,
   "metadata": {},
   "outputs": [
    {
     "name": "stdout",
     "output_type": "stream",
     "text": [
      "+-------------------+-------------------+\n",
      "|first              |last               |\n",
      "+-------------------+-------------------+\n",
      "|2012-09-09 21:17:55|2012-09-13 01:30:22|\n",
      "+-------------------+-------------------+\n",
      "\n"
     ]
    }
   ],
   "source": [
    "#Insira aqui o seu código\n",
    "\n",
    "from pyspark.sql.functions import min, max\n",
    "df.select(df.timestamp)\\\n",
    "               .agg(min('timestamp').alias('first'), max('timestamp').alias('last'))\\\n",
    "               .show(truncate=False)"
   ]
  },
  {
   "cell_type": "markdown",
   "metadata": {},
   "source": [
    "Clique duas vezes <b>aqui</b> para aceder à solução completa\n",
    "<!--\n",
    "from pyspark.sql.functions import min, max\n",
    "df.select(df.timestamp)\\\n",
    "               .agg(min('timestamp').alias('first'), max('timestamp').alias('last'))\\\n",
    "               .show(truncate=False)\n",
    "-->"
   ]
  },
  {
   "cell_type": "markdown",
   "metadata": {},
   "source": [
    "Vamos agora calcular o número de tweets postados por dia."
   ]
  },
  {
   "cell_type": "code",
   "execution_count": 83,
   "metadata": {},
   "outputs": [
    {
     "name": "stdout",
     "output_type": "stream",
     "text": [
      "+----------+------+\n",
      "|       day| count|\n",
      "+----------+------+\n",
      "|2012-09-09| 94047|\n",
      "|2012-09-10|606285|\n",
      "|2012-09-11|272135|\n",
      "|2012-09-13| 27533|\n",
      "+----------+------+\n",
      "\n"
     ]
    }
   ],
   "source": [
    "from pyspark.sql.functions import to_date\n",
    "df.select(to_date('timestamp').alias('day'))\\\n",
    "                 .groupby('day').count().sort('day')\\\n",
    "                 .show()"
   ]
  },
  {
   "cell_type": "markdown",
   "metadata": {},
   "source": [
    "Não sabemos porquê, mas parece que não há Tweets do dia 12 de setembro. Pode haver menos Tweets no dia 9 porque a captura pode ter começado durante o dia (de fato, o primeiro Tweet é das 21h). Da mesma forma, os Tweets do dia 13 provavelmente estariam presentes no próximo bloco de dados que não baixámos.\n",
    "\n",
    "Podemos aprender algo sobre as horas em que a discussão estava mais ativa? Ou seja, vamos pegar nos dois dias em que parece haver dados completos (dia 10 e 11) e obter o número de Tweets publicados em cada hora desses dias."
   ]
  },
  {
   "cell_type": "code",
   "execution_count": 84,
   "metadata": {},
   "outputs": [
    {
     "name": "stdout",
     "output_type": "stream",
     "text": [
      "+----+-----+\n",
      "|hour|count|\n",
      "+----+-----+\n",
      "|   0|79059|\n",
      "|   1|85632|\n",
      "|   2|86143|\n",
      "|   3|67829|\n",
      "|   4|54179|\n",
      "|   5|40552|\n",
      "|   6|29627|\n",
      "|   7|25424|\n",
      "|   8|24358|\n",
      "|   9|24672|\n",
      "|  10|26507|\n",
      "|  11|19047|\n",
      "|  12|22808|\n",
      "|  13|27285|\n",
      "|  14|12330|\n",
      "|  17| 6995|\n",
      "|  18|41703|\n",
      "|  19|38356|\n",
      "|  20|42693|\n",
      "|  21|40230|\n",
      "+----+-----+\n",
      "only showing top 20 rows\n",
      "\n"
     ]
    }
   ],
   "source": [
    "from pyspark.sql.functions import hour\n",
    "hour_count_df = df.filter((df['timestamp'] >= '2012-09-10') & (df['timestamp'] < '2012-09-12'))\\\n",
    "    .select(hour('timestamp').alias('hour'))\\\n",
    "    .groupby('hour').count().sort('hour')\n",
    "\n",
    "hour_count_df.show()"
   ]
  },
  {
   "cell_type": "markdown",
   "metadata": {},
   "source": [
    "Vamos agora plotar esta informação. Repare que `hour_count_df.collect()` é uma lista de tuplos no formato [(hora, número de tweets),...]"
   ]
  },
  {
   "cell_type": "code",
   "execution_count": 85,
   "metadata": {},
   "outputs": [
    {
     "data": {
      "text/plain": [
       "[Row(hour=0, count=79059),\n",
       " Row(hour=1, count=85632),\n",
       " Row(hour=2, count=86143),\n",
       " Row(hour=3, count=67829),\n",
       " Row(hour=4, count=54179),\n",
       " Row(hour=5, count=40552),\n",
       " Row(hour=6, count=29627),\n",
       " Row(hour=7, count=25424),\n",
       " Row(hour=8, count=24358),\n",
       " Row(hour=9, count=24672),\n",
       " Row(hour=10, count=26507),\n",
       " Row(hour=11, count=19047),\n",
       " Row(hour=12, count=22808),\n",
       " Row(hour=13, count=27285),\n",
       " Row(hour=14, count=12330),\n",
       " Row(hour=17, count=6995),\n",
       " Row(hour=18, count=41703),\n",
       " Row(hour=19, count=38356),\n",
       " Row(hour=20, count=42693),\n",
       " Row(hour=21, count=40230),\n",
       " Row(hour=22, count=40990),\n",
       " Row(hour=23, count=42001)]"
      ]
     },
     "execution_count": 85,
     "metadata": {},
     "output_type": "execute_result"
    }
   ],
   "source": [
    "hour_count_df.collect()"
   ]
  },
  {
   "cell_type": "markdown",
   "metadata": {},
   "source": [
    "O código `zip(*hour_count_df.collect())` permite-nos fazer o zip das horas e o zip do número de tweets. Ao adicionar o \"*\" antes de `hour_count_df.collect()` estamos a transformar as tuplas em listas separadas de elementos. "
   ]
  },
  {
   "cell_type": "code",
   "execution_count": 86,
   "metadata": {},
   "outputs": [
    {
     "data": {
      "text/plain": [
       "(0, 1, 2, 3, 4, 5, 6, 7, 8, 9, 10, 11, 12, 13, 14, 17, 18, 19, 20, 21, 22, 23)"
      ]
     },
     "execution_count": 86,
     "metadata": {},
     "output_type": "execute_result"
    }
   ],
   "source": [
    "(x_values, y_values) = zip(*hour_count_df.collect())\n",
    "x_values"
   ]
  },
  {
   "cell_type": "markdown",
   "metadata": {},
   "source": [
    "O código para plotar os dados encontra-se abaixo."
   ]
  },
  {
   "cell_type": "code",
   "execution_count": 87,
   "metadata": {},
   "outputs": [
    {
     "data": {
      "image/png": "[encoded data removed]",
      "text/plain": [
       "<Figure size 640x480 with 1 Axes>"
      ]
     },
     "metadata": {},
     "output_type": "display_data"
    }
   ],
   "source": [
    "%matplotlib inline \n",
    "import matplotlib.pyplot as plt\n",
    "\n",
    "(x_values, y_values) = zip(*hour_count_df.collect())\n",
    "plt.bar(x_values, y_values)\n",
    "plt.title('Twitting activity by hour of day')\n",
    "plt.xlabel('Hour of day')\n",
    "plt.ylabel('Number of Tweets')\n",
    "plt.show()"
   ]
  },
  {
   "cell_type": "markdown",
   "metadata": {},
   "source": [
    "### Most popular mentioned users"
   ]
  },
  {
   "cell_type": "markdown",
   "metadata": {},
   "source": [
    "Neste exercício pretendemos determinar os utilizadores cujo user foi mais mencionado. Utilizadores mencionados aparecem na coluna `user_mentions`, a qual é um array de dicionários. Para desagrupar o array, recorre-se à função `explode`. "
   ]
  },
  {
   "cell_type": "code",
   "execution_count": 88,
   "metadata": {},
   "outputs": [
    {
     "name": "stdout",
     "output_type": "stream",
     "text": [
      "+--------------------+\n",
      "|       user_mentions|\n",
      "+--------------------+\n",
      "|                  []|\n",
      "|                  []|\n",
      "|                  []|\n",
      "|                  []|\n",
      "|                  []|\n",
      "|                  []|\n",
      "|                  []|\n",
      "|                  []|\n",
      "|[{17356086, 17356...|\n",
      "|[{65257429, 65257...|\n",
      "|                  []|\n",
      "|                  []|\n",
      "|[{246605225, 2466...|\n",
      "|                  []|\n",
      "|                  []|\n",
      "|[{33601136, 33601...|\n",
      "|[{78989653, 78989...|\n",
      "|[{813286, 813286,...|\n",
      "|                  []|\n",
      "|[{118066385, 1180...|\n",
      "+--------------------+\n",
      "only showing top 20 rows\n",
      "\n"
     ]
    }
   ],
   "source": [
    "df.select('user_mentions').show()"
   ]
  },
  {
   "cell_type": "code",
   "execution_count": 89,
   "metadata": {},
   "outputs": [
    {
     "name": "stdout",
     "output_type": "stream",
     "text": [
      "+--------------------+\n",
      "|                 col|\n",
      "+--------------------+\n",
      "|{17356086, 173560...|\n",
      "|{65257429, 652574...|\n",
      "|{246605225, 24660...|\n",
      "|{33601136, 336011...|\n",
      "|{78989653, 789896...|\n",
      "|{813286, 813286, ...|\n",
      "|{118066385, 11806...|\n",
      "|{142424645, 14242...|\n",
      "|{63880659, 638806...|\n",
      "|{21426423, 214264...|\n",
      "|{757564158, 75756...|\n",
      "|{45190383, 451903...|\n",
      "|{330744739, 33074...|\n",
      "|{369522634, 36952...|\n",
      "|{144924500, 14492...|\n",
      "|{475300550, 47530...|\n",
      "|{235144505, 23514...|\n",
      "|{16510838, 165108...|\n",
      "|{15012486, 150124...|\n",
      "|{16461545, 164615...|\n",
      "+--------------------+\n",
      "only showing top 20 rows\n",
      "\n"
     ]
    }
   ],
   "source": [
    "from pyspark.sql.functions import explode\n",
    "df.select(explode('user_mentions')).show()"
   ]
  },
  {
   "cell_type": "markdown",
   "metadata": {},
   "source": [
    "Após aplicá-la, fazemos outra seleção para manter apenas o nome do utilizador (lembre-se de que `screen_name` é o nome de utilizador exclusivo)."
   ]
  },
  {
   "cell_type": "code",
   "execution_count": 90,
   "metadata": {},
   "outputs": [
    {
     "name": "stdout",
     "output_type": "stream",
     "text": [
      "+-------------+-----+\n",
      "|  screen_name|count|\n",
      "+-------------+-----+\n",
      "|  BarackObama|13751|\n",
      "|   NICKIMINAJ| 9726|\n",
      "|      YouTube| 5127|\n",
      "|   MittRomney| 3955|\n",
      "|    billmaher| 3906|\n",
      "|    ShareThis| 3876|\n",
      "|2ChainzLyrics| 3862|\n",
      "|KattWillliams| 3059|\n",
      "|     ppppolls| 2776|\n",
      "| HumorOrTruth| 2097|\n",
      "+-------------+-----+\n",
      "only showing top 10 rows\n",
      "\n"
     ]
    }
   ],
   "source": [
    "#Insira o seu código aqui\n",
    "\n",
    "df.select(explode('user_mentions').alias('mentioned')) \\\n",
    "                    .select('mentioned.screen_name') \\\n",
    "                    .groupBy('screen_name').count() \\\n",
    "                    .sort('count', ascending=False) \\\n",
    "                    .show(10)"
   ]
  },
  {
   "cell_type": "markdown",
   "metadata": {},
   "source": [
    "Clique duas vezes <b>aqui</b> para aceder à solução completa\n",
    "<!--\n",
    "df.select(explode('user_mentions').alias('mentioned')) \\\n",
    "                    .select('mentioned.screen_name') \\\n",
    "                    .groupBy('screen_name').count() \\\n",
    "                    .sort('count', ascending=False) \\\n",
    "                    .show(10)\n",
    "-->"
   ]
  },
  {
   "cell_type": "markdown",
   "metadata": {},
   "source": [
    "Resultado a obter:"
   ]
  },
  {
   "cell_type": "code",
   "execution_count": null,
   "metadata": {},
   "outputs": [],
   "source": [
    "[('BarackObama', 13751), ('NICKIMINAJ', 9726), ('YouTube', 5127),\n",
    "                                 ('MittRomney', 3955), ('billmaher', 3906), ('ShareThis', 3876),\n",
    "                                 ('2ChainzLyrics', 3862), ('KattWillliams', 3059), ('ppppolls', 2776),\n",
    "                                 ('HumorOrTruth', 2097)]"
   ]
  },
  {
   "cell_type": "markdown",
   "metadata": {},
   "source": [
    "### Most popular hashtags"
   ]
  },
  {
   "cell_type": "markdown",
   "metadata": {},
   "source": [
    "Podemos fazer o mesmo com as hashtags. Começamos por inspecionar o esquema do DataFrame para entender como pode obter o texto das hashtags e contá-las. Para evitar problemas com maiúsculas e minúsculas, coloque todas em minúsculas."
   ]
  },
  {
   "cell_type": "code",
   "execution_count": 91,
   "metadata": {},
   "outputs": [
    {
     "name": "stdout",
     "output_type": "stream",
     "text": [
      "root\n",
      " |-- tweet_id: long (nullable = true)\n",
      " |-- displayed_username: string (nullable = true)\n",
      " |-- username_id: string (nullable = true)\n",
      " |-- followers_count: long (nullable = true)\n",
      " |-- text: string (nullable = true)\n",
      " |-- retweet_count: long (nullable = true)\n",
      " |-- country: string (nullable = true)\n",
      " |-- user_mentions: array (nullable = true)\n",
      " |    |-- element: struct (containsNull = true)\n",
      " |    |    |-- id: long (nullable = true)\n",
      " |    |    |-- id_str: string (nullable = true)\n",
      " |    |    |-- indices: array (nullable = true)\n",
      " |    |    |    |-- element: long (containsNull = true)\n",
      " |    |    |-- name: string (nullable = true)\n",
      " |    |    |-- screen_name: string (nullable = true)\n",
      " |-- hashtags: array (nullable = true)\n",
      " |    |-- element: struct (containsNull = true)\n",
      " |    |    |-- indices: array (nullable = true)\n",
      " |    |    |    |-- element: long (containsNull = true)\n",
      " |    |    |-- text: string (nullable = true)\n",
      " |-- created_at: string (nullable = true)\n",
      " |-- timestamp: timestamp (nullable = true)\n",
      "\n"
     ]
    }
   ],
   "source": [
    "df.printSchema()"
   ]
  },
  {
   "cell_type": "code",
   "execution_count": 92,
   "metadata": {},
   "outputs": [
    {
     "name": "stdout",
     "output_type": "stream",
     "text": [
      "+--------------+-----+\n",
      "|           tag|count|\n",
      "+--------------+-----+\n",
      "|         obama|30643|\n",
      "|           usa|30405|\n",
      "|          tcot|19116|\n",
      "|            p2| 8608|\n",
      "|        romney| 6171|\n",
      "|          news| 4785|\n",
      "|           gop| 4600|\n",
      "|     obama2012| 4179|\n",
      "|      teaparty| 4057|\n",
      "|       somalia| 3636|\n",
      "|teamfollowback| 3420|\n",
      "|            rt| 2874|\n",
      "|          tlot| 2727|\n",
      "|            uk| 2596|\n",
      "|        amazon| 2238|\n",
      "|           nyc| 2146|\n",
      "|   somalia2012| 2129|\n",
      "|romneyryan2012| 2128|\n",
      "|           dnc| 2086|\n",
      "|   neverforget| 2083|\n",
      "+--------------+-----+\n",
      "only showing top 20 rows\n",
      "\n"
     ]
    }
   ],
   "source": [
    "from pyspark.sql.functions import lower\n",
    "\n",
    "df.select(explode('hashtags').alias('tags')) \\\n",
    "                .select(lower('tags.text').alias('tag')) \\\n",
    "                .groupBy('tag').count() \\\n",
    "                .sort('count', ascending=False).show()"
   ]
  },
  {
   "cell_type": "markdown",
   "metadata": {},
   "source": [
    "### Presence of the candidates in the Tweets"
   ]
  },
  {
   "cell_type": "markdown",
   "metadata": {},
   "source": [
    "Nos exercícios anteriores, focamo-nos apenas nas hashtags e menções do utilizador, mas não prestamos atenção ao texto dos Tweets. No exercício a seguir, vamos tentar descobrir quantos Tweets cada partido/candidato esteve presente. \n",
    "\n",
    "Para simplificar a tarefa, vamos assumir que as palavras relacionadas a cada candidato/partido são:\n",
    "- Obama/Democratas: 'obama' e 'democrata';\n",
    "- Romney/Republicanos: 'romney', 'republicano', 'teaparty' e 'tcot'.\n",
    "\n",
    "O nosso primeiro objetivo é criar um DataFrame no qual tenhamos uma coluna que indique se menciona Obama/democratas e outra se menciona Romney/republicanos.\n",
    "\n",
    "Para realizar essa tarefa, seguimos as etapas abaixo:\n",
    "1. Vamos trabalhar apenas com o texto do Tweet. Portanto, comece por obter um novo DataFrame apenas com essas informações. Nomeie-o como `tweet_text_df`. Coloque todo o texto em minúsculas.\n",
    "2. Adicione uma nova coluna ao dataframe chamada `democrata`, que indicará se alguma das palavras correspondentes a democratas ('obama', 'democrata') foi mencionada nesse tweet. Se alguma delas tiver sido mencionada, a coluna terá o valor 'Democrata', caso contrário, o valor será '-'.\n",
    "3. Verifique o número de Tweets nos quais os democratas aparecem agrupando e contando na nova coluna."
   ]
  },
  {
   "cell_type": "code",
   "execution_count": 93,
   "metadata": {},
   "outputs": [
    {
     "name": "stdout",
     "output_type": "stream",
     "text": [
      "+--------+------+\n",
      "|democrat| count|\n",
      "+--------+------+\n",
      "|Democrat|532483|\n",
      "|       -|467517|\n",
      "+--------+------+\n",
      "\n"
     ]
    }
   ],
   "source": [
    "from pyspark.sql.functions import lower, when\n",
    "\n",
    "tweet_text_df = df.withColumn('democrat', when(lower('text').contains('obama'), 'Democrat')\\\n",
    "                                            .when(lower('text').contains('democrat'), 'Democrat')\\\n",
    "                                            .otherwise('-'))\n",
    "\n",
    "df.groupby('democrat').count().show()"
   ]
  },
  {
   "cell_type": "markdown",
   "metadata": {},
   "source": [
    "4. Repita o passo anterior para adicionar outra coluna para as menções republicanas ('romney', 'republicano', 'teaparty' e 'tcot'). A nova coluna será chamada `Republicano`.\n",
    "5. Verifique o número de Tweets nos quais os republicanos aparecem agrupando e contando."
   ]
  },
  {
   "cell_type": "code",
   "execution_count": 94,
   "metadata": {},
   "outputs": [
    {
     "name": "stdout",
     "output_type": "stream",
     "text": [
      "+----------+------+\n",
      "|republican| count|\n",
      "+----------+------+\n",
      "|Republican|167286|\n",
      "|         -|832714|\n",
      "+----------+------+\n",
      "\n"
     ]
    }
   ],
   "source": [
    "from pyspark.sql.functions import lower, when\n",
    "\n",
    "df = df.withColumn('republican', when(lower('text').contains('romney'), 'Republican')\\\n",
    "                                            .when(lower('text').contains('republican'), 'Republican')\\\n",
    "                                            .when(lower('text').contains('teaparty'), 'Republican')\\\n",
    "                                            .when(lower('text').contains('tcot'), 'Republican')\\\n",
    "                                            .otherwise('-'))\n",
    "\n",
    "df.groupby('republican').count().show()"
   ]
  },
  {
   "cell_type": "markdown",
   "metadata": {},
   "source": [
    "Obtenha a percentagem de Tweets nos quais apenas democratas, apenas republicanos, tanto democratas quanto republicanos e nenhum deles são mencionados. Arredonde as percentagens para 4 casas decimais e armazene o resultado em `party_percentage_df` (as porcentagens devem ser ordenadas por ordem decrescente)."
   ]
  },
  {
   "cell_type": "code",
   "execution_count": 95,
   "metadata": {},
   "outputs": [
    {
     "ename": "NameError",
     "evalue": "name 'ntweets' is not defined",
     "output_type": "error",
     "traceback": [
      "\u001b[1;31m---------------------------------------------------------------------------\u001b[0m",
      "\u001b[1;31mNameError\u001b[0m                                 Traceback (most recent call last)",
      "Cell \u001b[1;32mIn[95], line 4\u001b[0m\n\u001b[0;32m      1\u001b[0m \u001b[38;5;28;01mfrom\u001b[39;00m \u001b[38;5;21;01mpyspark\u001b[39;00m\u001b[38;5;21;01m.\u001b[39;00m\u001b[38;5;21;01msql\u001b[39;00m\u001b[38;5;21;01m.\u001b[39;00m\u001b[38;5;21;01mfunctions\u001b[39;00m \u001b[38;5;28;01mimport\u001b[39;00m \u001b[38;5;28mround\u001b[39m, col\n\u001b[0;32m      3\u001b[0m party_percentage_df \u001b[38;5;241m=\u001b[39m df\u001b[38;5;241m.\u001b[39mgroupby(\u001b[38;5;124m'\u001b[39m\u001b[38;5;124mdemocrat\u001b[39m\u001b[38;5;124m'\u001b[39m, \u001b[38;5;124m'\u001b[39m\u001b[38;5;124mrepublican\u001b[39m\u001b[38;5;124m'\u001b[39m)\u001b[38;5;241m.\u001b[39mcount()\\\n\u001b[1;32m----> 4\u001b[0m                                    \u001b[38;5;241m.\u001b[39mselect(\u001b[38;5;124m'\u001b[39m\u001b[38;5;124mdemocrat\u001b[39m\u001b[38;5;124m'\u001b[39m, \u001b[38;5;124m'\u001b[39m\u001b[38;5;124mrepublican\u001b[39m\u001b[38;5;124m'\u001b[39m, \u001b[38;5;28mround\u001b[39m((col(\u001b[38;5;124m'\u001b[39m\u001b[38;5;124mcount\u001b[39m\u001b[38;5;124m'\u001b[39m) \u001b[38;5;241m/\u001b[39m \u001b[43mntweets\u001b[49m \u001b[38;5;241m*\u001b[39m \u001b[38;5;241m100\u001b[39m), \u001b[38;5;241m4\u001b[39m)\u001b[38;5;241m.\u001b[39malias(\u001b[38;5;124m'\u001b[39m\u001b[38;5;124mpercentage\u001b[39m\u001b[38;5;124m'\u001b[39m))\\\n\u001b[0;32m      5\u001b[0m                                    \u001b[38;5;241m.\u001b[39msort(\u001b[38;5;124m'\u001b[39m\u001b[38;5;124mpercentage\u001b[39m\u001b[38;5;124m'\u001b[39m, ascending\u001b[38;5;241m=\u001b[39m\u001b[38;5;28;01mFalse\u001b[39;00m)\n\u001b[0;32m      7\u001b[0m \u001b[38;5;66;03m### END SOLUTION\u001b[39;00m\n\u001b[0;32m      9\u001b[0m party_percentage_df\u001b[38;5;241m.\u001b[39mshow(\u001b[38;5;241m10\u001b[39m)\n",
      "\u001b[1;31mNameError\u001b[0m: name 'ntweets' is not defined"
     ]
    }
   ],
   "source": [
    "from pyspark.sql.functions import round, col\n",
    "\n",
    "party_percentage_df = df.groupby('democrat', 'republican').count()\\\n",
    "                                   .select('democrat', 'republican', round((col('count') / ntweets * 100), 4).alias('percentage'))\\\n",
    "                                   .sort('percentage', ascending=False)\n",
    "\n",
    "### END SOLUTION\n",
    "\n",
    "party_percentage_df.show(10)"
   ]
  }
 ],
 "metadata": {
  "kernelspec": {
   "display_name": "Python 3 (ipykernel)",
   "language": "python",
   "name": "python3"
  },
  "language_info": {
   "codemirror_mode": {
    "name": "ipython",
    "version": 3
   },
   "file_extension": ".py",
   "mimetype": "text/x-python",
   "name": "python",
   "nbconvert_exporter": "python",
   "pygments_lexer": "ipython3",
   "version": "3.11.9"
  },
  "toc": {
   "base_numbering": 1,
   "nav_menu": {},
   "number_sections": true,
   "sideBar": true,
   "skip_h1_title": true,
   "title_cell": "Table of Contents",
   "title_sidebar": "Contents",
   "toc_cell": true,
   "toc_position": {
    "height": "calc(100% - 180px)",
    "left": "10px",
    "top": "150px",
    "width": "320px"
   },
   "toc_section_display": true,
   "toc_window_display": true
  }
 },
 "nbformat": 4,
 "nbformat_minor": 4
}
