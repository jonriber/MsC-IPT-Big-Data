{
 "cells": [
  {
   "cell_type": "markdown",
   "metadata": {},
   "source": [
    "<div style=\"border: 1px solid black\">\n",
    "<b><center><font size=\"4\">Big Data</font></center></b>\n",
    "\n",
    "<b><center><font size=\"3\">Spark</font></center></b>\n",
    "\n",
    "<b><center><font size=\"2\">1 - Introduction</font></center></b>\n",
    "</div>"
   ]
  },
  {
   "cell_type": "markdown",
   "metadata": {},
   "source": [
    "**Notebook Developed by**: [Ricardo Campos](https://www.di.ubi.pt/~rcampos)<br>\n",
    "**email:**  ricardo.campos@ubi.pt<br>\n",
    "**Affiliation:** *Assistant Professor* @ [University of Beira Interior](http://www.ubi.pt);\n",
    "*Researcher* @ [LIAAD](https://www.inesctec.pt/en/centres/liaad)-[INESC TEC](https://www.inesctec.pt/en)\n",
    "\n",
    "<hr>\n",
    "\n",
    "<p><a href=\"1-Introduction.ipynb\" title=\"Download Notebook\" download><img src=\"https://www.di.ubi.pt/~rcampos/assets/img_tutorials/download.jpg\" align = \"left\" width=\"50\" height=\"50\" alt=\"Download Notebook\"></a></p>\n",
    "<p>&nbsp;</p>\n",
    "<p>&nbsp;</p>\n",
    "\n",
    "<hr>"
   ]
  },
  {
   "cell_type": "markdown",
   "metadata": {
    "toc": true
   },
   "source": [
    "<h1>Table of Contents<span class=\"tocSkip\"></span></h1>\n",
    "<div class=\"toc\"><ul class=\"toc-item\"><li><span><a href=\"#Download-Data\" data-toc-modified-id=\"Download-Data-1\"><span class=\"toc-item-num\">1&nbsp;&nbsp;</span>Download Data</a></span></li><li><span><a href=\"#Setup\" data-toc-modified-id=\"Setup-2\"><span class=\"toc-item-num\">2&nbsp;&nbsp;</span>Setup</a></span><ul class=\"toc-item\"><li><span><a href=\"#Google-Colab\" data-toc-modified-id=\"Google-Colab-2.1\"><span class=\"toc-item-num\">2.1&nbsp;&nbsp;</span>Google Colab</a></span></li><li><span><a href=\"#Windows\" data-toc-modified-id=\"Windows-2.2\"><span class=\"toc-item-num\">2.2&nbsp;&nbsp;</span>Windows</a></span><ul class=\"toc-item\"><li><span><a href=\"#Download-Spark-Image\" data-toc-modified-id=\"Download-Spark-Image-2.2.1\"><span class=\"toc-item-num\">2.2.1&nbsp;&nbsp;</span>Download Spark Image</a></span></li><li><span><a href=\"#Define-a-folder-for-your-notebooks\" data-toc-modified-id=\"Define-a-folder-for-your-notebooks-2.2.2\"><span class=\"toc-item-num\">2.2.2&nbsp;&nbsp;</span>Define a folder for your notebooks</a></span></li><li><span><a href=\"#Running-the-Image\" data-toc-modified-id=\"Running-the-Image-2.2.3\"><span class=\"toc-item-num\">2.2.3&nbsp;&nbsp;</span>Running the Image</a></span></li><li><span><a href=\"#Launch-Jupyter-Notebook\" data-toc-modified-id=\"Launch-Jupyter-Notebook-2.2.4\"><span class=\"toc-item-num\">2.2.4&nbsp;&nbsp;</span>Launch Jupyter Notebook</a></span></li><li><span><a href=\"#How-to-re-launch-Jupyter-Notebook-in-the-future?\" data-toc-modified-id=\"How-to-re-launch-Jupyter-Notebook-in-the-future?-2.2.5\"><span class=\"toc-item-num\">2.2.5&nbsp;&nbsp;</span>How to re-launch Jupyter Notebook in the future?</a></span></li><li><span><a href=\"#What-if-I-didn't-define-a-password-and-have-forgoten-the-token?\" data-toc-modified-id=\"What-if-I-didn't-define-a-password-and-have-forgoten-the-token?-2.2.6\"><span class=\"toc-item-num\">2.2.6&nbsp;&nbsp;</span>What if I didn't define a password and have forgoten the token?</a></span></li></ul></li></ul></li></ul></div>"
   ]
  },
  {
   "cell_type": "markdown",
   "metadata": {},
   "source": [
    "# Introduction to Spark"
   ]
  },
  {
   "cell_type": "markdown",
   "metadata": {},
   "source": [
    "<div class=\"alert alert-success alertsuccess\" style=\"margin-top: 20px\">\n",
    "\n",
    "## Objetivos de aprendizagem  <a class=\"tocSkip\">\n",
    "    \n",
    "No final deste notebook o aluno será introduzido ao Spark.\n",
    "\n",
    "\n",
    "## Learning Objectives  <a class=\"tocSkip\">\n",
    "       \n",
    "When concluding this notebook, the student will be introduced to Spark.</div>"
   ]
  },
  {
   "cell_type": "markdown",
   "metadata": {},
   "source": [
    "<div class=\"alert alert-success alertsuccess\" style=\"margin-top: 20px\">\n",
    "\n",
    "## Sumário  <a class=\"tocSkip\">\n",
    "### Introdução ao Spark<a class=\"tocSkip\">\n",
    "\n",
    "Introdução dos alunos ao Spark\n",
    "- instalação do pyspark no Google Colab\n",
    "- instalação do pyspark em máquina local\n",
    "    \n",
    "## Class Summary  <a class=\"tocSkip\">\n",
    "### Introduction to Spark <a class=\"tocSkip\">\n",
    "Introducing students to Spark\n",
    "- installing pyspark on Google Colab\n",
    "- installing pyspark in local pc\n",
    "\n",
    "</div>"
   ]
  },
  {
   "cell_type": "markdown",
   "metadata": {},
   "source": [
    "## Download Data"
   ]
  },
  {
   "cell_type": "markdown",
   "metadata": {},
   "source": [
    "Comece por fazer download da pasta [data](https://www.di.ubi.pt/~rcampos/assets/files_tutorials/BigData/data.zip). De seguida extraia o conteúdo dessa pasta para uma pasta com o nome `data`. "
   ]
  },
  {
   "cell_type": "markdown",
   "metadata": {},
   "source": [
    "## Setup"
   ]
  },
  {
   "cell_type": "markdown",
   "metadata": {},
   "source": [
    "### Google Colab"
   ]
  },
  {
   "cell_type": "markdown",
   "metadata": {},
   "source": [
    "Entre no Google Drive e crie a pasta `\\Colab Notebooks\\data\\BigData\\`. De seguida, copie os conteúdos da pasta data existentes no seu pc para dentro da pasta `\\Colab Notebooks\\data\\BigData\\`."
   ]
  },
  {
   "cell_type": "markdown",
   "metadata": {},
   "source": [
    "Em notebooks posteriores, ser-lhe-á solicitado que entre no google colab e execute o seguinte comando para ter acesso aos conteúdos da pasta data. Por agora não necessita de fazer mais nada."
   ]
  },
  {
   "cell_type": "markdown",
   "metadata": {},
   "source": [
    "```python\n",
    "from google.colab import drive\n",
    "drive.mount('/content/drive', force_remount=True)\n",
    "```"
   ]
  },
  {
   "cell_type": "markdown",
   "metadata": {},
   "source": [
    "Posteriormente, também lhe será solicitado que proceda à instalação do `pyspark`. Por agora não necessita efetuar nenhuma outra acção."
   ]
  },
  {
   "cell_type": "markdown",
   "metadata": {},
   "source": [
    "To run pyspark on a local machine we need Java and other software. So instead of the heavy installation procedure, we use Google Colaboratory:"
   ]
  },
  {
   "cell_type": "markdown",
   "metadata": {},
   "source": [
    "```python\n",
    "!pip install pyspark\n",
    "```"
   ]
  },
  {
   "cell_type": "markdown",
   "metadata": {},
   "source": [
    "### Windows"
   ]
  },
  {
   "cell_type": "markdown",
   "metadata": {},
   "source": [
    "#### Download Spark Image"
   ]
  },
  {
   "cell_type": "markdown",
   "metadata": {},
   "source": [
    "To play with Spark in your windows machine you will need the pyspark-notebook image ([Docker Hub](https://hub.docker.com/r/jupyter/pyspark-notebook/); [Info](https://github.com/Paperspace/jupyter-docker-stacks/tree/master/pyspark-notebook)) which has the following software already installed:\n",
    "- Python (3.6)\n",
    "- Spark 2.2.0 with Hadoop 2.7 for use in local mode or to connect to a cluster of Spark workers\n",
    "- Jupyter Notebook 5.2.x\n",
    "- pyspark, pandas, matplotlib, scipy, seaborn, scikit-learn pre-installed\n",
    "\n",
    "Open the docker terminal and begin by downloading the image from the docker hub:"
   ]
  },
  {
   "cell_type": "markdown",
   "metadata": {},
   "source": [
    "`docker pull jupyter/pyspark-notebook:python-3.10.11`"
   ]
  },
  {
   "cell_type": "markdown",
   "metadata": {},
   "source": [
    "#### Define a folder for your notebooks"
   ]
  },
  {
   "cell_type": "markdown",
   "metadata": {},
   "source": [
    "No seu computador, crie uma pasta (e.g., `/i/Ricardo/Backup/Research/Programming/JupyterNotebooks/Python/BigData`) para guardar não só os seus notebooks, mas também a pasta [data](https://www.di.ubi.pt/~rcampos/assets/files_tutorials/BigData/data.zip)."
   ]
  },
  {
   "cell_type": "markdown",
   "metadata": {},
   "source": [
    "#### Running the Image"
   ]
  },
  {
   "cell_type": "markdown",
   "metadata": {},
   "source": [
    "Observe que recorremos à porta `8890` uma vez que a porta `8888` já estará muito provavelmente reservada para a instalação nativa do jupyter anaconda."
   ]
  },
  {
   "cell_type": "markdown",
   "metadata": {},
   "source": [
    "`docker run -it -p 8890:8888 --name Spark -v /i/Ricardo/Backup/Research/Programming/JupyterNotebooks/Python/BigData:/home/jovyan/work jupyter/pyspark-notebook:python-3.10.11`"
   ]
  },
  {
   "cell_type": "markdown",
   "metadata": {},
   "source": [
    "- docker `run`, is the command\n",
    "\n",
    "- `-it` means iterative and allocates a pseudo-TTY connected to the container’s stdin; creating an interactive bash shell in the container.\n",
    "\n",
    "- `-p 8890:8888`, sets the ports so that we can access the spark image. (host:container) means that you are exposing container 8888 (spark container is listening on port 8888 by default) to port 8888 on the host system. Docker uses a : to split the host's path from the container path, and the host path always comes first.\n",
    "\n",
    "- `--name Spark`, gives the name Spark to the container so we can refer to it more easily.\n",
    "\n",
    "- `-v /i/Ricardo/Backup/Research/Programming/JupyterNotebooks/Python/BigData:/home/jovyan/work` sets up a bindmount volume that links the /home/jovyan/work directory from inside the spark container to the /i/Ricardo/Backup/Research/Programming/JupyterNotebooks/Python/BigData directory on the host machine (which should be a hard drive with enough space). Docker uses a : to split the host's path from the container path, and the host path always comes first.\n",
    "\n",
    "- `jupyter/pyspark-notebook`, specifies that the container should be built from the jupyter/pyspark-notebook image"
   ]
  },
  {
   "cell_type": "markdown",
   "metadata": {},
   "source": [
    "#### Launch Jupyter Notebook"
   ]
  },
  {
   "cell_type": "markdown",
   "metadata": {},
   "source": [
    "Go to your browser:"
   ]
  },
  {
   "cell_type": "markdown",
   "metadata": {},
   "source": [
    "`docker desktop`: http://localhost:8890"
   ]
  },
  {
   "cell_type": "markdown",
   "metadata": {},
   "source": [
    "You will be shown the following screen:"
   ]
  },
  {
   "cell_type": "markdown",
   "metadata": {},
   "source": [
    "<img src=\"https://www.di.ubi.pt/~rcampos/assets/img_tutorials/BigData/jupyter4.jpg\" width=\"700\" height=\"700\" align=\"center\"/>"
   ]
  },
  {
   "cell_type": "markdown",
   "metadata": {},
   "source": [
    "In order to launch the jupyter notebook you need to copy the token given in Docker (which was created upon the execution of the run command)."
   ]
  },
  {
   "cell_type": "markdown",
   "metadata": {},
   "source": [
    "<img src=\"https://www.di.ubi.pt/~rcampos/assets/img_tutorials/BigData/Docker4.jpg\" width=\"700\" height=\"700\" align=\"center\"/>"
   ]
  },
  {
   "cell_type": "markdown",
   "metadata": {},
   "source": [
    "Now do one of two things:\n",
    "- either you past the token in the browser\n",
    "- or you setup a password (see in the figure - setup password). Enough to say that this is way more safe (as you might run the chances of forgetting the token in the future)."
   ]
  },
  {
   "cell_type": "markdown",
   "metadata": {},
   "source": [
    "This should run the container which should open on /home/jovyan/work."
   ]
  },
  {
   "cell_type": "markdown",
   "metadata": {},
   "source": [
    "<img src=\"https://www.di.ubi.pt/~rcampos/assets/img_tutorials/BigData/jupyter3.jpg\" width=\"700\" height=\"700\" align=\"center\"/>"
   ]
  },
  {
   "cell_type": "markdown",
   "metadata": {},
   "source": [
    "You should now find all the notebooks and the data folder within the `work` folder of your jupyter notebook server."
   ]
  },
  {
   "cell_type": "markdown",
   "metadata": {},
   "source": [
    "<hr>"
   ]
  },
  {
   "cell_type": "markdown",
   "metadata": {},
   "source": [
    "#### How to re-launch Jupyter Notebook in the future?"
   ]
  },
  {
   "cell_type": "markdown",
   "metadata": {},
   "source": [
    "If in the future, you might what to play again with the same instance of Spark. In docker do the following:\n",
    "- `docker start Spark`\n",
    "- `docker attach Spark`"
   ]
  },
  {
   "cell_type": "markdown",
   "metadata": {},
   "source": [
    "After that, go to your browser:\n",
    "- <u>docker desktop</u>: http://localhost:8890"
   ]
  },
  {
   "cell_type": "markdown",
   "metadata": {},
   "source": [
    "#### What if I didn't define a password and have forgoten the token?"
   ]
  },
  {
   "cell_type": "markdown",
   "metadata": {},
   "source": [
    "In that case, you can execute the following command on docker before doing docker start or attach. "
   ]
  },
  {
   "cell_type": "markdown",
   "metadata": {},
   "source": [
    "`\n",
    "docker exec -it <docker_container_name> jupyter notebook list\n",
    "`"
   ]
  },
  {
   "cell_type": "markdown",
   "metadata": {},
   "source": [
    "where the `<docker_container_name>` is the name of the container or the id."
   ]
  }
 ],
 "metadata": {
  "kernelspec": {
   "display_name": "Python 3 (ipykernel)",
   "language": "python",
   "name": "python3"
  },
  "language_info": {
   "codemirror_mode": {
    "name": "ipython",
    "version": 3
   },
   "file_extension": ".py",
   "mimetype": "text/x-python",
   "name": "python",
   "nbconvert_exporter": "python",
   "pygments_lexer": "ipython3",
   "version": "3.11.7"
  },
  "toc": {
   "base_numbering": 1,
   "nav_menu": {},
   "number_sections": true,
   "sideBar": true,
   "skip_h1_title": true,
   "title_cell": "Table of Contents",
   "title_sidebar": "Contents",
   "toc_cell": true,
   "toc_position": {},
   "toc_section_display": true,
   "toc_window_display": true
  }
 },
 "nbformat": 4,
 "nbformat_minor": 4
}
