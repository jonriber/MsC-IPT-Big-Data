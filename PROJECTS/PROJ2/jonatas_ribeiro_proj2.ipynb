{
 "cells": [
  {
   "cell_type": "markdown",
   "metadata": {},
   "source": [
    "# ANÁLISE DE GRANDE VOLUME DE DADOS - MsC - IPT-PT\n",
    "\n",
    "## PROJETO 2\n",
    "\n",
    "### JONATAS RIBEIRO\n",
    "\n",
    "### Estratégias de Processamento de Dados em Larga Escala"
   ]
  },
  {
   "cell_type": "markdown",
   "metadata": {},
   "source": [
    "## TASK 1\n",
    "\n",
    "Leia um chunk de dados à sua escolha. Verifique quais as variáveis que beneficiariam \n",
    "de  uma  alteração  do  tipo  de  dados.  Considere  apenas  as  seguintes  colunas:  id;  year; \n",
    "month; element; value1;...;value31. Considere o valor -9999 como um NaN value"
   ]
  },
  {
   "cell_type": "code",
   "execution_count": null,
   "metadata": {},
   "outputs": [],
   "source": []
  },
  {
   "cell_type": "markdown",
   "metadata": {},
   "source": [
    "## TASK 2 \n",
    "\n",
    "Determine a percentagem de null values em cada uma das variáveis"
   ]
  },
  {
   "cell_type": "markdown",
   "metadata": {},
   "source": [
    "## TASK 3\n",
    "\n",
    "Determine, para cada estação, o ano mais antigo e o mais recente. Hint: recorra a um \n",
    "groupby"
   ]
  },
  {
   "cell_type": "markdown",
   "metadata": {},
   "source": [
    "## TASK 4\n",
    "\n",
    "Determine  a  temperatura  média  para  cada  observação  (estação/ano/mês).  Guarde  os \n",
    "valores  obtidos  numa  nova  coluna  denominada  daily_avg_temp.  Não  se  esqueça  de \n",
    "considerar apenas as colunas cujo nome começa por value"
   ]
  },
  {
   "cell_type": "markdown",
   "metadata": {},
   "source": [
    "## TASK 5\n",
    "\n",
    "Agrupe os dados por nome de estação e ano aplicando a função mean. Mostre apenas \n",
    "os resultados para a coluna daily_avg_temp"
   ]
  },
  {
   "cell_type": "markdown",
   "metadata": {},
   "source": [
    "## TASK 6\n",
    "\n",
    "Selecione os dados 'id', 'year', 'month', 'element', 'value1', 'value2',...,'value31' das cinco \n",
    "estações meterológicas portuguesas  (Horta;  Funchal; Lisboa; Castelo Branco e Faro) \n",
    "que existem no dataset"
   ]
  },
  {
   "cell_type": "markdown",
   "metadata": {},
   "source": [
    "## TASK 7\n",
    "\n",
    "Substitua os ids presentes no dataframe pelo correspondente nome da estação \n",
    "metereológica"
   ]
  }
 ],
 "metadata": {
  "language_info": {
   "name": "python"
  }
 },
 "nbformat": 4,
 "nbformat_minor": 2
}
