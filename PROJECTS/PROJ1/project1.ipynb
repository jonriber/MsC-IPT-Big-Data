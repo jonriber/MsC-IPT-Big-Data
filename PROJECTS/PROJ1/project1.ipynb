{
 "cells": [
  {
   "cell_type": "code",
   "execution_count": null,
   "metadata": {},
   "outputs": [],
   "source": []
  },
  {
   "cell_type": "markdown",
   "metadata": {},
   "source": [
    "# ANÁLISE DE GRANDE VOLUME DE DADOS - MsC - IPT-PT\n",
    "\n",
    "## PROJETO 1\n",
    "\n",
    "## JONATAS RIBEIRO\n",
    "\n",
    "## AQUISIÇÃO, ARMAZENAMENTO E RECUPERAÇÃO DE DADOS EM LARGA ESCALA\n",
    "\n"
   ]
  },
  {
   "cell_type": "markdown",
   "metadata": {},
   "source": [
    "# TAREFA 1 - FAMILIARIZAÇÃO COM A OBTENÇÃO DE DADOS A PARTIR DE FICHEIROS PDF\n",
    "\n",
    "- Conjunto aproximado de 100 ficheiros em PDF na pasta \"PDF_DATA_SOURCE\"\n",
    "- Tema: Politica internacional\n",
    "- Modo de obtenção: web scrapping\n",
    "\n"
   ]
  }
 ],
 "metadata": {
  "language_info": {
   "name": "python"
  }
 },
 "nbformat": 4,
 "nbformat_minor": 2
}
